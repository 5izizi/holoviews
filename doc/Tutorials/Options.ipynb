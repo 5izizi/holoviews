{
 "metadata": {
  "name": "",
  "signature": "sha256:e6f803ce81d4b24f2845d18427e5e60b87053745764e4088122976f576931de2"
 },
 "nbformat": 3,
 "nbformat_minor": 0,
 "worksheets": [
  {
   "cells": [
    {
     "cell_type": "markdown",
     "metadata": {},
     "source": [
      "HoloViews is designed to be both highly customizable, allowing you to control how your visualizations appear, but also to enforce a strong separation between your data (with semantically associated metadata, like type and label information) and any options related purely to visualization.  This separation allows HoloViews objects to be generated easily by external programs, without giving them a dependency on any plotting or windowing libraries.  It also helps make it completely clear which parts of your code deal with the actual data, and which are just about displaying it nicely.\n",
      "\n",
      "To achieve this separation, HoloViews stores options independently from your data, and applies the options only when rendering the data to a file on disk or when displaying it in an IPython notebook cell.\n",
      "\n",
      "This tutorial shows how to control these options, and gives an overview of the different types of options available.  It also shows how to use HoloViews in regular (non-IPython) Python, where there are different mechanisms for setting options than the IPython magics used in the other tutorials."
     ]
    },
    {
     "cell_type": "heading",
     "level": 2,
     "metadata": {},
     "source": [
      "Example objects"
     ]
    },
    {
     "cell_type": "markdown",
     "metadata": {},
     "source": [
      " First, we'll create some HoloViews data objects ready to visualize:"
     ]
    },
    {
     "cell_type": "code",
     "collapsed": false,
     "input": [
      "import numpy as np\n",
      "from holoviews import Image, Curve, HoloMap, Store, StoreOptions\n",
      "\n",
      "x,y = np.mgrid[-50:51, -50:51] * 0.1\n",
      "image = Image(np.sin(x**2+y**2), group=\"Function\", label=\"Sine\") \n",
      "\n",
      "coords = [(0.1*i, np.sin(0.1*i)) for i in range(100)]\n",
      "curve = Curve(coords)\n",
      "\n",
      "curves = {phase:Curve([(0.1*i, np.sin(phase+0.1*i)) for i in range(100)])\n",
      "             for phase in [0, np.pi/2, np.pi, np.pi*3/2]}\n",
      "\n",
      "waves = HoloMap(curves)\n",
      "\n",
      "layout = image + curve"
     ],
     "language": "python",
     "metadata": {},
     "outputs": []
    },
    {
     "cell_type": "heading",
     "level": 2,
     "metadata": {},
     "source": [
      "Saving objects from Python"
     ]
    },
    {
     "cell_type": "markdown",
     "metadata": {},
     "source": [
      "To illustrate how to do plotting independently of IPython, we'll generate and save a plot directly to disk.  First, let's create a ``renderer`` object that will render our files to SVG (for static figures) or GIF (for animations):"
     ]
    },
    {
     "cell_type": "code",
     "collapsed": false,
     "input": [
      "renderer = Store.renderer.instance(fig='svg', holomap='gif')"
     ],
     "language": "python",
     "metadata": {},
     "outputs": []
    },
    {
     "cell_type": "markdown",
     "metadata": {},
     "source": [
      "We could instead have used the default ``Store.renderer``, but that would have been PNG format.  Using this renderer, we can save any HoloViews object as SVG or GIF:"
     ]
    },
    {
     "cell_type": "code",
     "collapsed": false,
     "input": [
      "renderer.save(layout, 'example_I')"
     ],
     "language": "python",
     "metadata": {},
     "outputs": []
    },
    {
     "cell_type": "markdown",
     "metadata": {},
     "source": [
      "That's it!  The renderer builds the figure in matplotlib, renders it to SVG, and saves that to \"example_I.svg\" on disk.  Everything up to this point would have worked the same in regular Python, even with no display available.  But since we're in IPython at the moment, we can check whether the exporting worked:"
     ]
    },
    {
     "cell_type": "code",
     "collapsed": false,
     "input": [
      "from IPython.display import SVG\n",
      "SVG(filename='example_I.svg')"
     ],
     "language": "python",
     "metadata": {},
     "outputs": []
    },
    {
     "cell_type": "markdown",
     "metadata": {},
     "source": [
      "You can use this workflow for generating HoloViews visualizations directly from Python, e.g. to put your results up on a web server as soon as data is generated, or as part of a set of scripts that you run automatically.  But so far, this plot just uses all the default options, with no customization.  How can we change how the plot appears?"
     ]
    },
    {
     "cell_type": "heading",
     "level": 2,
     "metadata": {},
     "source": [
      "HoloViews visualization options"
     ]
    },
    {
     "cell_type": "markdown",
     "metadata": {},
     "source": [
      "HoloViews provides three categories of options that can be set by the user."
     ]
    },
    {
     "cell_type": "heading",
     "level": 4,
     "metadata": {},
     "source": [
      "``style`` options:"
     ]
    },
    {
     "cell_type": "markdown",
     "metadata": {},
     "source": [
      "The default ``renderer`` in HoloViews is based on matplotlib.  It's currently the *only* renderer, but HoloViews has been designed to be easily extensible to additional renderers for different backends in the future, such as Cairo or VTK.\n",
      "\n",
      "``style`` options are passed directly to the underlying backend, allowing you to control it directly.  For the current matplotlib backend, the keywords supported here are listed in the ``style_opts`` class attribute for the given plotting class in the source code, and are also listable using ``<TAB>`` completion in IPython (below)."
     ]
    },
    {
     "cell_type": "heading",
     "level": 4,
     "metadata": {},
     "source": [
      "``plot`` options:"
     ]
    },
    {
     "cell_type": "markdown",
     "metadata": {},
     "source": [
      "Each of the various HoloViews object types declares various [Parameters](http://ioam.github.io/param) that control how HoloViews builds the visualization for that type of object, such as plot sizes and labels.  HoloViews uses these options; they are not passed to the matplotlib backend.  These parameters can each be set using class attributes, as in:\n",
      "\n",
      "```python\n",
      "from holoviews.plotting import RasterGridPlot\n",
      "RasterGridPlot.border=5\n",
      "RasterGridPlot.set_param(show_title=False,show_frame=True)\n",
      "```\n",
      "\n",
      "Here ``.set_param()`` allows you to set multiple parameters conveniently, but it works the same as for the single-parameter ``.border`` example.  Setting these values at the class level affects all previously created and to-be-created plotting objects of this type.  \n",
      "\n",
      "Note that if you look at the source code for a particular class, you will only see *some* of the parameters it supports.  The rest, such as ``show_frame`` above, are defined in a superclass of the given object.  The [Reference Manual](http://ioam.github.io/holoviews/Reference_Manual/) shows the complete list of options available for any given class (those labeled ``param`` in the manual), but it can be an overwhelming list since it includes all superclasses!\n",
      "\n",
      "The ``plot`` options can also be set using the ``OptionTree`` mechanisms described below, which can override these class defaults according to the HoloViews object type, ``group``, and ``label``."
     ]
    },
    {
     "cell_type": "heading",
     "level": 4,
     "metadata": {},
     "source": [
      "``norm`` options:"
     ]
    },
    {
     "cell_type": "markdown",
     "metadata": {},
     "source": [
      "``norm`` options are a special type of HoloViews option that are applied orthogonally to the above two types, to control normalization.  Normalization refers to adjusting the properties of one plot relative to those of another.  For instance, two images normalized together would appear with relative brightness levels, with the brightest image using the full range black to white, while the other image is scaled proportionally.  Two images normalized independently would both cover the full range from black to white.  Similarly, two axis ranges normalized together will expand to fit the largest range of either axis, while those normalized separately would cover different ranges.\n",
      "\n",
      "There are currently only two ``norm`` options supported, ``axiswise`` and ``framewise``, but they can be applied to any of the various object types in HoloViews to specify a huge range of different normalization configurations.\n",
      "\n",
      "For a given type, ``group``, or ``label``, if ``framewise`` is True, normalization of any ``HoloMap`` objects is done independently per frame rendered -- each frame will appear as it would if it were extracted from the ``HoloMap`` and plotted separately.  If ``framewise`` is False (the default), all frames in a given ``HoloMap`` are normalized together, so that you can see strength differences over the course of the animation.\n",
      "\n",
      "For a given type, ``group``, or ``label``, if ``axiswise`` is True, normalization will be computed independently for all items in that category that have their own axes, such as different ``Image`` plots or ``Curve`` plots. If ``axiswise`` is False, all such objects are normalized together.\n",
      "\n",
      "These options can be controlled precisely and in any combination to make sure that HoloViews displays the data of most interest, ignoring irrelevant differences and highlighting important ones."
     ]
    },
    {
     "cell_type": "heading",
     "level": 2,
     "metadata": {},
     "source": [
      "Controlling options from Python"
     ]
    },
    {
     "cell_type": "markdown",
     "metadata": {},
     "source": [
      "Once you know the name of the option you want to change, and the value you want to change it to, there are a number of ways to customize your plot.  \n",
      "\n",
      "For the Python output to SVG example above, you can specify the options of each type using keywords supplying a dictionary for any of the above option categories. You can see that the colormap changes when we supply that option and render a new SVG:"
     ]
    },
    {
     "cell_type": "code",
     "collapsed": false,
     "input": [
      "renderer.save(layout, 'example_II', style=dict(Image={'cmap':'Blues'}),\n",
      "                                    plot= dict(Image={'figure_size':150}))\n",
      "SVG(filename='example_II.svg')"
     ],
     "language": "python",
     "metadata": {},
     "outputs": []
    },
    {
     "cell_type": "markdown",
     "metadata": {},
     "source": [
      "As before, the SVG call is simply to display it here in the notebook; the actual image is saved on disk. You can also create a set of options separately, perhaps holding a large collection of preferred values, and apply it whenever you wish to save:"
     ]
    },
    {
     "cell_type": "code",
     "collapsed": false,
     "input": [
      "options={'Image.Function.Sine': {'plot':dict(figure_size=50), 'style':dict(cmap='jet')}}\n",
      "renderer.save(layout, 'example_III',options=options)\n",
      "SVG(filename='example_III.svg')"
     ],
     "language": "python",
     "metadata": {},
     "outputs": []
    },
    {
     "cell_type": "markdown",
     "metadata": {},
     "source": [
      "Note that for the ``options`` dictionary, the nesting is inverted compared to the keyword approach: the outermost dictionary is by key (``Image``, or ``Image.Function.Sines``), with the option categories underneath. \n",
      "\n",
      "There's also another way to customize in Python, which is to associate a particular set of options with a particular object.  Here a new copy of the object is created, with the given set of options (using either the keyword or ``options=`` format above) bound to it:"
     ]
    },
    {
     "cell_type": "code",
     "collapsed": false,
     "input": [
      "green_sine = image(style={'cmap':'Greens'})"
     ],
     "language": "python",
     "metadata": {},
     "outputs": []
    },
    {
     "cell_type": "markdown",
     "metadata": {},
     "source": [
      "Here we could save the object to SVG just as before, but in this case we can skip a step and simply view it directly in the notebook:"
     ]
    },
    {
     "cell_type": "code",
     "collapsed": false,
     "input": [
      "green_sine"
     ],
     "language": "python",
     "metadata": {},
     "outputs": []
    },
    {
     "cell_type": "markdown",
     "metadata": {},
     "source": [
      "Both IPython notebook and the file saving use the same mechanisms for keeping track of the options, so they will give the same results.  Specifically, what happens when you \"bind\" a set of options to an object is that there is an integer ID stored in the object (``green_grid``) in this case, and a corresponding entry with that ID is stored in a database of options called an ``OptionTree``  The object itself is otherwise unchanged, but then if that object is later used in another container, etc. it will retain its id and therefore its customization.  Any customization stored in an ``OptionTree`` will override any class attribute defaults set like ``RasterGridPlot.border=5`` above. This lets HoloViews keep track of any customizations you want to make, without ever affecting your actual data objects.\n",
      "\n",
      "If the same object is later customized again (i.e., copied again, as above), the old customizations will be copied, and then the new customizations applied.  The new customizations will thus override the old, while retaining any previous customizations not specified in the new step.  \n",
      "\n",
      "In this way, it is possible to build complex objects with arbitrary customization, step by step.  It is also possible to customize objects already combined into a complex container, just by specifying an option for that object's type, group, and label (e.g. ``'Image.Function.Sine'`` above).  This flexible system should allow for any level of customization that is needed.\n",
      "\n",
      "Finally, there is one more way to apply options that is a mix of the above approaches -- temporarily assign a new ID to the object and apply a set of customizations during a specific portion of the code:"
     ]
    },
    {
     "cell_type": "code",
     "collapsed": false,
     "input": [
      "with StoreOptions.options(green_sine, options={'Image':{'style':{'cmap':'Reds'}}}):\n",
      "    data, info = renderer(green_sine)\n",
      "print(info)\n",
      "SVG(data)"
     ],
     "language": "python",
     "metadata": {},
     "outputs": []
    },
    {
     "cell_type": "markdown",
     "metadata": {},
     "source": [
      "Here the result is red, because it was rendered within the options context above, but were we to render the green_grid it would still be green; the options are applied only within the scope of the ``with`` statement."
     ]
    },
    {
     "cell_type": "heading",
     "level": 2,
     "metadata": {},
     "source": [
      "Controlling options in IPython using ``%%opts`` and ``%opts``"
     ]
    },
    {
     "cell_type": "markdown",
     "metadata": {},
     "source": [
      "Similar functionality is provided in IPython, but with a more convenient syntax:"
     ]
    },
    {
     "cell_type": "code",
     "collapsed": false,
     "input": [
      "%%opts Curve style(linewidth=8) Image style(interpolation='bilinear')\n",
      "layout"
     ],
     "language": "python",
     "metadata": {},
     "outputs": []
    },
    {
     "cell_type": "markdown",
     "metadata": {},
     "source": [
      "The ``%%opts`` magic works like the pure-Python option for associating options with an object, except that it works on the item in the IPython cell, and it affects the item directly rather than making a copy or applying only in scope.  Specifically, it assigns a new ID number to the object returned from this cell, and makes a new ``OptionTree`` containing the options for that ID number.\n",
      "\n",
      "If the same ``layout`` object is used later in the notebook, even within a complicated container object, it will retain the options set on it.\n",
      "\n",
      "The options accepted are just the same as for the Python version, but specified more succinctly:\n",
      "\n",
      "```python\n",
      "%%opts <key>  style(stylekey=val) plot(plotkey=val) norm(normkey=val)\n",
      "```\n",
      "\n",
      "Here ``<key>`` lets you specify the object type (e.g. ``Image``), and optionally its ``group`` (e.g. ``Image.Function``) or even both ``group`` and ``label`` (e.g. ``Image.Function.Sine``), if you want to control options very precisely. There is also an even further abbreviated syntax, with special bracket types indicating which category of option is specified:\n",
      "\n",
      "\n",
      "```python\n",
      "%%opts <key>  (stylekey=val) [plotkey=val] {+normkey}\n",
      "```\n",
      "\n",
      "Here parentheses indicate style options, square brackets indicate plot options, and curly brackets indicate norm options (with ``+axiswise`` and ``+framewise`` indicating True for those values, and ``-`` indicating False.  Additional keys and associated options can be supplied at the end of this line.\n",
      "\n",
      "The ``%opts`` \"line\" magic (with one ``%``) works the same as the ``%%opts`` \"cell\" magic, but it changes the global default options for all future cells, allowing you to choose a new default colormap, line width, etc.\n",
      "\n",
      "Apart from its brevity, a big benefit of using the IPython magic syntax is that it is tab-completable.  Each of the options that is currently available will be listed if you press ``<TAB>`` when you are ready to write it, which makes it much easier to find the right parameter.  Once you find it, you can easily convert this code into a pure-Python version.\n",
      "\n",
      "In fact, you can use the IPython-style specification directly in your Python code if you wish (requires the pyparsing library):"
     ]
    },
    {
     "cell_type": "code",
     "collapsed": false,
     "input": [
      "from holoviews.ipython.parser import OptsSpec\n",
      "renderer.save(image + waves, 'example_V', \n",
      "              options=OptsSpec.parse(\"Image (cmap='gray')\"))"
     ],
     "language": "python",
     "metadata": {},
     "outputs": []
    },
    {
     "cell_type": "heading",
     "level": 2,
     "metadata": {},
     "source": [
      "Separating data and styling"
     ]
    },
    {
     "cell_type": "markdown",
     "metadata": {},
     "source": [
      "Hopefully you see from this tutorial how HoloViews enforces a strict separation between your data, stored in HoloViews ``Element`` and container objects, and your plotting options, stored in dictionaries or ``OptionTree``s.  Finding the right options is easiest in IPython, because of ``<TAB>`` completion, but the same options are availble in pure Python as well, with or without a display, allowing you to automate any part of the process of visualization and analysis."
     ]
    }
   ],
   "metadata": {}
  }
 ]
}