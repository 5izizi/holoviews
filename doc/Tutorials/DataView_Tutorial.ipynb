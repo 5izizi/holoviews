{
 "metadata": {
  "name": "",
  "signature": "sha256:f29374284bb50564a39e3a8878fdc22b683b9e4a330657ba1faa4fc1fed8e69e"
 },
 "nbformat": 3,
 "nbformat_minor": 0,
 "worksheets": [
  {
   "cells": [
    {
     "cell_type": "heading",
     "level": 1,
     "metadata": {},
     "source": [
      "Dataview Tutorial"
     ]
    },
    {
     "cell_type": "markdown",
     "metadata": {},
     "source": [
      "**holoviews wrap your data to allow you to build complex visualizations quickly.**\n",
      "\n",
      "* Focus on *what* your data is and not *how* it should be plotted.\n",
      "* A handle on what you see is also a handle on the data.\n",
      "* Pickling a dataview is just another way to save raw data.\n",
      "* Refine the style of your visualizations interactively\n",
      "* Anything that can be plotted can be easily animated.\n",
      "* Anything that can be plotted can be easily group together.\n",
      "\n",
      "This tutorial introduces the basic objects of holoviews. The contents of this notebook form part of the test suite so all functionality shown is both  stable and tested."
     ]
    },
    {
     "cell_type": "code",
     "collapsed": false,
     "input": [
      "import itertools\n",
      "from collections import OrderedDict\n",
      "import numpy as np\n",
      "\n",
      "from holoviews.core import BoundingBox, operation\n",
      "from holoviews import SheetMatrix, Curve, Histogram, Contours, Points, Annotation, ItemTable, Grid, VectorField"
     ],
     "language": "python",
     "metadata": {},
     "outputs": []
    },
    {
     "cell_type": "code",
     "collapsed": false,
     "input": [
      "%load_ext holoviews.ipython"
     ],
     "language": "python",
     "metadata": {},
     "outputs": []
    },
    {
     "cell_type": "heading",
     "level": 2,
     "metadata": {},
     "source": [
      "SheetViews"
     ]
    },
    {
     "cell_type": "markdown",
     "metadata": {},
     "source": [
      "The SheetMatrix allows you to view 2D arrays of values. They are useful for visualizing photographs, mathematical functions or any arbitrary image or 2D array. To start this tutorial, we will first need some 2D numpy arrays to  look at:"
     ]
    },
    {
     "cell_type": "code",
     "collapsed": false,
     "input": [
      "steps = np.linspace(-5,5,101)\n",
      "\n",
      "x,y = np.meshgrid(steps, steps)\n",
      "sine_rings  = np.sin(x**2+y**2)\n",
      "exp_falloff = np.exp((x**2+y**2)/1000)"
     ],
     "language": "python",
     "metadata": {},
     "outputs": []
    },
    {
     "cell_type": "markdown",
     "metadata": {},
     "source": [
      "Now we can immediately visualize the sinusoidal rings as follows:"
     ]
    },
    {
     "cell_type": "code",
     "collapsed": false,
     "input": [
      "rings = SheetMatrix(sine_rings, label='Sinusoid Ring', value='Amplitude')\n",
      "rings"
     ],
     "language": "python",
     "metadata": {},
     "outputs": []
    },
    {
     "cell_type": "markdown",
     "metadata": {},
     "source": [
      "The SheetMatrix automatically displays the data that it contains. We can easily access the data using the ``.data`` attribute:"
     ]
    },
    {
     "cell_type": "code",
     "collapsed": false,
     "input": [
      "rings.data is sine_rings"
     ],
     "language": "python",
     "metadata": {},
     "outputs": []
    },
    {
     "cell_type": "heading",
     "level": 3,
     "metadata": {},
     "source": [
      "SheetMatrix bounds"
     ]
    },
    {
     "cell_type": "markdown",
     "metadata": {},
     "source": [
      "You may have noticed the introduction of an ``x`` and ``y`` axis in the visualization above. This is the sheet coordinate system which specifies how the sampled two-dimensional array data maps to a spatial extent. We can look at the specification via the ``.bounds`` attribute:"
     ]
    },
    {
     "cell_type": "code",
     "collapsed": false,
     "input": [
      "rings.bounds"
     ],
     "language": "python",
     "metadata": {},
     "outputs": []
    },
    {
     "cell_type": "markdown",
     "metadata": {},
     "source": [
      "This corresponds to an extent of one unit from -0.5 to 0.5 as seen in the plot above. Another way to look at the spatial extent is with the ``.xlim`` and ``.ylim`` properties (which in this example are the same):"
     ]
    },
    {
     "cell_type": "code",
     "collapsed": false,
     "input": [
      "rings.xlim"
     ],
     "language": "python",
     "metadata": {},
     "outputs": []
    },
    {
     "cell_type": "markdown",
     "metadata": {},
     "source": [
      " We shall now create a new SheetMatrix with different bounds:"
     ]
    },
    {
     "cell_type": "code",
     "collapsed": false,
     "input": [
      "falloff= SheetMatrix(exp_falloff, BoundingBox(radius=1.0), label='Exponential Falloff')\n",
      "falloff"
     ],
     "language": "python",
     "metadata": {},
     "outputs": []
    },
    {
     "cell_type": "heading",
     "level": 3,
     "metadata": {},
     "source": [
      "Simple styling examples"
     ]
    },
    {
     "cell_type": "markdown",
     "metadata": {},
     "source": [
      "For more information on bounds, regions of interest (ROIs) and coordinate systems, please see THIS TUTORIAL. We will now briefly have a look at an example of how you can style holoviews:"
     ]
    },
    {
     "cell_type": "code",
     "collapsed": false,
     "input": [
      "%%opts SheetMatrix cmap='hot'\n",
      "rings"
     ],
     "language": "python",
     "metadata": {},
     "outputs": []
    },
    {
     "cell_type": "code",
     "collapsed": false,
     "input": [
      "%%opts SheetMatrix cmap='jet'\n",
      "falloff"
     ],
     "language": "python",
     "metadata": {},
     "outputs": []
    },
    {
     "cell_type": "markdown",
     "metadata": {},
     "source": [
      "For more information on styles, please see THIS TUTORIAL. Note that this method of setting styles applies to most dataview objects (Curves, Histograms etc) and that the styles we have selected are now associated with these particular dataview objects:"
     ]
    },
    {
     "cell_type": "code",
     "collapsed": false,
     "input": [
      "rings + falloff"
     ],
     "language": "python",
     "metadata": {},
     "outputs": []
    },
    {
     "cell_type": "markdown",
     "metadata": {},
     "source": [
      "You have just seen an example of how easy it is to layout holoviews side-by-side using the ``+`` operator. The result is a ``GridLayout`` object which we will be seeing frequently."
     ]
    },
    {
     "cell_type": "heading",
     "level": 2,
     "metadata": {},
     "source": [
      "Curves"
     ]
    },
    {
     "cell_type": "markdown",
     "metadata": {},
     "source": [
      "Once again we need some data to look at. Let's take the cross-section of our sinusoidal rings along the x-axis:"
     ]
    },
    {
     "cell_type": "code",
     "collapsed": false,
     "input": [
      "ys = np.sin(steps**2)\n",
      "cross_section = list(zip(steps,ys))"
     ],
     "language": "python",
     "metadata": {},
     "outputs": []
    },
    {
     "cell_type": "markdown",
     "metadata": {},
     "source": [
      "Again, the ``Curve`` dataview is a very thin wrapper around or data:"
     ]
    },
    {
     "cell_type": "code",
     "collapsed": false,
     "input": [
      "sinusoid = Curve(cross_section, label='Sinusoid Ring Cross-Section', value='Amplitude')\n",
      "sinusoid"
     ],
     "language": "python",
     "metadata": {},
     "outputs": []
    },
    {
     "cell_type": "markdown",
     "metadata": {},
     "source": [
      "Data and visualization remain coupled, allowing you to get back the data via the ``.data`` attribute:"
     ]
    },
    {
     "cell_type": "code",
     "collapsed": false,
     "input": [
      "np.all(sinusoid.data == cross_section)"
     ],
     "language": "python",
     "metadata": {},
     "outputs": []
    },
    {
     "cell_type": "markdown",
     "metadata": {},
     "source": [
      "And the ``+`` operator allows us to lay our cross section next to the sinusoidal rings:"
     ]
    },
    {
     "cell_type": "code",
     "collapsed": false,
     "input": [
      "sinusoid + rings"
     ],
     "language": "python",
     "metadata": {},
     "outputs": []
    },
    {
     "cell_type": "markdown",
     "metadata": {},
     "source": [
      "And to show how easy it is to style holoviews, even as part of a grid:"
     ]
    },
    {
     "cell_type": "code",
     "collapsed": false,
     "input": [
      "%%opts Curve color='r' SheetMatrix cmap='Blues'\n",
      "sinusoid + rings"
     ],
     "language": "python",
     "metadata": {},
     "outputs": []
    },
    {
     "cell_type": "markdown",
     "metadata": {},
     "source": [
      "Once again, for an in-depth tutorial on Styles please see the [Styles and Channels](Styles_and_Channels.ipynb) tutorial."
     ]
    },
    {
     "cell_type": "heading",
     "level": 2,
     "metadata": {},
     "source": [
      "Histograms"
     ]
    },
    {
     "cell_type": "markdown",
     "metadata": {},
     "source": [
      "Another common type of visualization is the histogram. Let's generate some values with a Gaussian distribution:"
     ]
    },
    {
     "cell_type": "code",
     "collapsed": false,
     "input": [
      "np.random.seed(42)\n",
      "data = [np.random.normal() for i in range(10000)]"
     ],
     "language": "python",
     "metadata": {},
     "outputs": []
    },
    {
     "cell_type": "markdown",
     "metadata": {},
     "source": [
      "``Histogram`` then takes the bin edges as the first argument and the heights as the second:"
     ]
    },
    {
     "cell_type": "code",
     "collapsed": false,
     "input": [
      "frequencies, edges = np.histogram(data, 50)\n",
      "gauss_hist = Histogram(frequencies, edges, label='Gaussian')\n",
      "gauss_hist"
     ],
     "language": "python",
     "metadata": {},
     "outputs": []
    },
    {
     "cell_type": "markdown",
     "metadata": {},
     "source": [
      "The bin edges are accessible via the ``.edges`` attribute and the frequency values via the ``.values`` attribute:"
     ]
    },
    {
     "cell_type": "code",
     "collapsed": false,
     "input": [
      "np.all(gauss_hist.edges == edges), np.all(gauss_hist.values == frequencies)"
     ],
     "language": "python",
     "metadata": {},
     "outputs": []
    },
    {
     "cell_type": "markdown",
     "metadata": {},
     "source": [
      "Often it is useful to see the histogram of the data in a ``SheetMatrix``. This is where the ``.hist`` method of SheetViews are useful:"
     ]
    },
    {
     "cell_type": "code",
     "collapsed": false,
     "input": [
      "rings.hist()"
     ],
     "language": "python",
     "metadata": {},
     "outputs": []
    },
    {
     "cell_type": "heading",
     "level": 2,
     "metadata": {},
     "source": [
      "VectorFields"
     ]
    },
    {
     "cell_type": "markdown",
     "metadata": {},
     "source": [
      "The VectorField View type allows you to visualize the angle and magnitude of a polar vector using a quiver plot.\n",
      "\n",
      "VectorField accepts data as a three or four dimensional array, supplying the x/y coordinates, the angle and optionally the magnitude. Here we generate some even sampled data using the sine ring and exponential falloff functions from before:"
     ]
    },
    {
     "cell_type": "code",
     "collapsed": false,
     "input": [
      "steps = np.linspace(-2.5,2.5,41)\n",
      "x,y = np.meshgrid(steps, steps)\n",
      "sine_rings  = np.sin(x**2+y**2)*np.pi+np.pi\n",
      "exp_falloff = 1/np.exp((x**2+y**2)/15)\n",
      "vector_data = np.array([x.flatten()/5., y.flatten()/5., sine_rings.flatten(), exp_falloff.flatten()]).T\n",
      "vectors = VectorField(vector_data, label='Sine Ring', title='{label} {type}')"
     ],
     "language": "python",
     "metadata": {},
     "outputs": []
    },
    {
     "cell_type": "markdown",
     "metadata": {},
     "source": [
      "Additionally we can control whether color is mapped to the angle or the magnitude using the ``color_dim`` plot option, emphasizing a particular aspect of your data."
     ]
    },
    {
     "cell_type": "code",
     "collapsed": false,
     "input": [
      "%%opts VectorField [color_dim='angle'] cmap='hsv'\n",
      "vectors"
     ],
     "language": "python",
     "metadata": {},
     "outputs": []
    },
    {
     "cell_type": "code",
     "collapsed": false,
     "input": [
      "%%opts VectorField [color_dim='magnitude'] cmap='jet'\n",
      "vectors"
     ],
     "language": "python",
     "metadata": {},
     "outputs": []
    },
    {
     "cell_type": "heading",
     "level": 2,
     "metadata": {},
     "source": [
      "Overlays, Contours, Points and Annotations"
     ]
    },
    {
     "cell_type": "markdown",
     "metadata": {},
     "source": [
      "After the ``Curves`` section, you may be wondering how to present multiple curve lines on the same plot. Alternatively, you may be wondering if it is possible to overlay vector elements on top of a ``SheetMatrix``. In this section we will show how ``Overlay`` allow multiple curves to be added to a plot and how ``Contours``, ``Points`` and ``Annotations`` may be to convery additional information on top of a ``SheetMatrix``.\n",
      "\n",
      "First let's define a new curve which is like our previous ``sinusoidal`` but uses the ``cos`` function instead of ``sin``:"
     ]
    },
    {
     "cell_type": "code",
     "collapsed": false,
     "input": [
      "sinusoid_cos = Curve(zip(steps, np.cos(steps**2)), label='Cosine Ring Cross-Section')\n",
      "sinusoid_cos"
     ],
     "language": "python",
     "metadata": {},
     "outputs": []
    },
    {
     "cell_type": "markdown",
     "metadata": {},
     "source": [
      "We may now overlay this on top of our sinusoid:"
     ]
    },
    {
     "cell_type": "code",
     "collapsed": false,
     "input": [
      "overlay=(sinusoid * sinusoid_cos)\n",
      "overlay"
     ],
     "language": "python",
     "metadata": {},
     "outputs": []
    },
    {
     "cell_type": "markdown",
     "metadata": {},
     "source": [
      "As you see, the curves are automatically assigned different colors. This issue is discussed in more detail in THIS TUTORIAL on styles.\n",
      "\n",
      "Now we come to the first type of overlay for ``SheetViews``, the ``Contour``. Let us generate data for an elliptical contour:"
     ]
    },
    {
     "cell_type": "code",
     "collapsed": false,
     "input": [
      "angle = np.linspace(0, 2*np.pi, 100)\n",
      "contour_data = np.array(list(zip(0.375*np.sin(angle), 0.25*np.cos(angle))))"
     ],
     "language": "python",
     "metadata": {},
     "outputs": []
    },
    {
     "cell_type": "markdown",
     "metadata": {},
     "source": [
      "Like a SheetMatrix, a Countour takes a bounding box to define the relevant spatial coordinate system:"
     ]
    },
    {
     "cell_type": "code",
     "collapsed": false,
     "input": [
      "circle_contour = Contours([contour_data], label='Ellipse')\n",
      "circle_contour"
     ],
     "language": "python",
     "metadata": {},
     "outputs": []
    },
    {
     "cell_type": "markdown",
     "metadata": {},
     "source": [
      "Such a contour by itself isn't very useful withou being able to present it over some data. This is the purpose of the ``*`` operator: ``a * b`` overlays view ``b`` over view ``a``. To illustrate using our previously defined ``falloff SheetMatrix``:"
     ]
    },
    {
     "cell_type": "code",
     "collapsed": false,
     "input": [
      "falloff * circle_contour"
     ],
     "language": "python",
     "metadata": {},
     "outputs": []
    },
    {
     "cell_type": "markdown",
     "metadata": {},
     "source": [
      "In addition to ``Contours`` we may also wish to mark points over a ``SheetMatrix``. Here are a hundred points sampled uniform-randomly in the central area of extent ``0.25``:"
     ]
    },
    {
     "cell_type": "code",
     "collapsed": false,
     "input": [
      "point_samples = np.array([(np.random.random() * 1.0, np.random.random()*1.0) for i in range(100)]) - (0.5, 0.5)"
     ],
     "language": "python",
     "metadata": {},
     "outputs": []
    },
    {
     "cell_type": "code",
     "collapsed": false,
     "input": [
      "points = Points(point_samples)\n",
      "overlay = falloff * circle_contour * points\n",
      "overlay"
     ],
     "language": "python",
     "metadata": {},
     "outputs": []
    },
    {
     "cell_type": "markdown",
     "metadata": {},
     "source": [
      "It is a little hard to see the points so let's customize the styles in the ``Overlay``:"
     ]
    },
    {
     "cell_type": "code",
     "collapsed": false,
     "input": [
      "%%opts Contours color='r' linestyle='--' Points color='w' marker='*'\n",
      "overlay"
     ],
     "language": "python",
     "metadata": {},
     "outputs": []
    },
    {
     "cell_type": "markdown",
     "metadata": {},
     "source": [
      "To top it off, let us label our favourite point:"
     ]
    },
    {
     "cell_type": "code",
     "collapsed": false,
     "input": [
      "favorite_point = (point_samples[20,0], point_samples[20,1])\n",
      "annotation = Annotation(arrows=[(favorite_point, dict(direction='^', text='My favorite point'))])\n",
      "falloff * points * circle_contour * annotation"
     ],
     "language": "python",
     "metadata": {},
     "outputs": []
    },
    {
     "cell_type": "heading",
     "level": 2,
     "metadata": {},
     "source": [
      "Tables"
     ]
    },
    {
     "cell_type": "markdown",
     "metadata": {},
     "source": [
      "In a complex figure, it isn't always possible to show all the data you want visually. If you have some values you want to present with your figure, you can use a table:"
     ]
    },
    {
     "cell_type": "code",
     "collapsed": false,
     "input": [
      "info = OrderedDict([('std',rings.data.std()),    # If you don't use an OrderedDict you cannot control the ordering\n",
      "                    ('mean',rings.data.mean()),\n",
      "                    ('min',rings.data.min()),\n",
      "                    ('max',rings.data.max())])\n",
      "sinusoid_table = ItemTable(info, label='Sinusoid Ring Statistics')\n",
      "rings + sinusoid_table"
     ],
     "language": "python",
     "metadata": {},
     "outputs": []
    },
    {
     "cell_type": "heading",
     "level": 2,
     "metadata": {},
     "source": [
      "Grids (visualizing parameter spaces)"
     ]
    },
    {
     "cell_type": "markdown",
     "metadata": {},
     "source": [
      "Grids are distinct from GridLayouts as they must contain elements of a single type. Like GridLayouts, Grids display dataview objects in a two-dimensional grid but unlike GridLayout, the x- and y- axis corresponds to specified (numeric) dimensions, either as string labels or as Dimension objects. Grids are useful for exploring parameter spaces as the parameter values are shown on the x- and y-axes."
     ]
    },
    {
     "cell_type": "code",
     "collapsed": false,
     "input": [
      "%%opts SheetMatrix cmap='hot'\n",
      "frequencies =  np.linspace(0.5,2.0,5)\n",
      "phases = np.linspace(0, np.pi*2, 6)\n",
      "\n",
      "x,y = np.meshgrid(steps, steps)\n",
      "\n",
      "# Collect a family of sinusoidal rings with different frequencies and phases.\n",
      "phase_space = {}\n",
      "for (phase, f) in itertools.product(phases, frequencies):\n",
      "     data = np.sin(phase + (f*x**2+f*y**2))\n",
      "     phase_space[(phase, f)] = SheetMatrix(data, label='Sinusoid Ring', value='Amplitude')\n",
      "    \n",
      "# Display the phase space in a Grid\n",
      "Grid(phase_space, dimensions=['phase', 'frequency'])"
     ],
     "language": "python",
     "metadata": {},
     "outputs": []
    },
    {
     "cell_type": "markdown",
     "metadata": {},
     "source": [
      "**Note:** Grids cannot be put into a GridLayout although a specialized, optimized subclass, the ``CoordinateGrid`` can be. A ``CoordinateGrid`` is a grid of SheetViews where the two-dimensional parameter space is spatial."
     ]
    },
    {
     "cell_type": "heading",
     "level": 1,
     "metadata": {},
     "source": [
      "Finale"
     ]
    },
    {
     "cell_type": "markdown",
     "metadata": {},
     "source": [
      "Here is a collage of most of the different features we have looked at. The only new feature here is the ``.cols`` method on ``GridLayout`` which allows us to create a 2x2 layout:"
     ]
    },
    {
     "cell_type": "code",
     "collapsed": false,
     "input": [
      "(sinusoid + rings.hist() + (falloff * annotation * points * circle_contour) + sinusoid_table).cols(2)"
     ],
     "language": "python",
     "metadata": {},
     "outputs": []
    },
    {
     "cell_type": "heading",
     "level": 1,
     "metadata": {},
     "source": [
      "And a lot, lot more..."
     ]
    },
    {
     "cell_type": "markdown",
     "metadata": {},
     "source": [
      "Hopefully we have convinced you why holoviews make data visualization easier and more flexible. If you aren't impressed yet, try THIS NOTEBOOK where we show how *everything* introduced in this notebook can be animated. Other wonderful features include:\n",
      "\n",
      "* Indexing: We have only scratched the surface of how holoviews may index. Pull apart existing composite structures (Overlays, GridLayouts) and recompose them into new visualizations.\n",
      "* Channels: Define how overlays of multiple SheetViews should be visualized. Overlay individual color channels and see the results.\n",
      "* Sampling:  Sample SheetMatrix or Table values over any dimension (typically time).\n",
      "* Styles:  This notebook only scratches the surfaces of the Style system.\n",
      "* Titles: Set approrpiate titles on holoviews.\n",
      "* Other holoviews: CoordinateGrid, DataGrid.\n",
      "* Imagen: The imagen library is based on holoviews and allows easy, parameteric generation of visual patterns. Generate Gaussians, Sinusoids, Disks, Gabors and many, many more visual stimuli with ease. Imagen is designed to be useful for anyone needing mathematically defined patterns and should be useful for researchers working in the visual sciences.\n"
     ]
    }
   ],
   "metadata": {}
  }
 ]
}