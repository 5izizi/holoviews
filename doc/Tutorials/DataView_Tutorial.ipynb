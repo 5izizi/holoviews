{
 "metadata": {
  "name": "",
  "signature": "sha256:2a00bfb7c7ce39d9ade916f9474c7906ca78d5cf8f229c5c2c8f619d5668f933"
 },
 "nbformat": 3,
 "nbformat_minor": 0,
 "worksheets": [
  {
   "cells": [
    {
     "cell_type": "heading",
     "level": 1,
     "metadata": {},
     "source": [
      "Dataview Tutorial"
     ]
    },
    {
     "cell_type": "markdown",
     "metadata": {},
     "source": [
      "**Dataviews wrap your data to allow you to build complex visualizations quickly.**\n",
      "\n",
      "* Focus on *what* your data is and not *how* it should be plotted.\n",
      "* A handle on what you see is also a handle on the data.\n",
      "* Pickling a dataview is just another way to save raw data.\n",
      "* Refine the style of your visualizations interactively\n",
      "* Anything that can be plotted can be easily animated.\n",
      "* Anything that can be plotted can be easily group together.\n",
      "\n",
      "This tutorial introduces the basic objects of dataviews. The contents of this notebook form part of the test suite so all functionality shown is both  stable and tested."
     ]
    },
    {
     "cell_type": "code",
     "collapsed": false,
     "input": [
      "import numpy as np\n",
      "from collections import OrderedDict\n",
      "from dataviews import SheetView, Curve, Histogram, Contours, Points, Annotation, Table\n",
      "from dataviews.boundingregion import BoundingBox"
     ],
     "language": "python",
     "metadata": {},
     "outputs": []
    },
    {
     "cell_type": "code",
     "collapsed": false,
     "input": [
      "%load_ext dataviews.ipython"
     ],
     "language": "python",
     "metadata": {},
     "outputs": []
    },
    {
     "cell_type": "heading",
     "level": 2,
     "metadata": {},
     "source": [
      "SheetViews"
     ]
    },
    {
     "cell_type": "markdown",
     "metadata": {},
     "source": [
      "The SheetView allows you to view 2D arrays of values. They are useful for visualizing photographs, mathematical functions or any arbitrary image or 2D array. To start this tutorial, we will first need some 2D numpy arrays to  look at:"
     ]
    },
    {
     "cell_type": "code",
     "collapsed": false,
     "input": [
      "xs = np.linspace(-5,5,101)\n",
      "ys = xs\n",
      "\n",
      "x,y = np.meshgrid(xs, ys)\n",
      "sine_rings  = np.sin(x**2+y**2)\n",
      "exp_falloff = np.exp((x**2+y**2)/1000)"
     ],
     "language": "python",
     "metadata": {},
     "outputs": []
    },
    {
     "cell_type": "markdown",
     "metadata": {},
     "source": [
      "Now we can immediately visualize the sinusoidal rings as follows:"
     ]
    },
    {
     "cell_type": "code",
     "collapsed": false,
     "input": [
      "rings = SheetView(sine_rings)\n",
      "rings"
     ],
     "language": "python",
     "metadata": {},
     "outputs": []
    },
    {
     "cell_type": "markdown",
     "metadata": {},
     "source": [
      "The SheetView automatically displays the data that it contains. We can easily access the data using the ``.data`` attribute:"
     ]
    },
    {
     "cell_type": "code",
     "collapsed": false,
     "input": [
      "rings.data is sine_rings"
     ],
     "language": "python",
     "metadata": {},
     "outputs": []
    },
    {
     "cell_type": "heading",
     "level": 3,
     "metadata": {},
     "source": [
      "SheetView bounds"
     ]
    },
    {
     "cell_type": "markdown",
     "metadata": {},
     "source": [
      "You may have noticed the introduction of an ``x`` and ``y`` axis in the visualization above. This is the sheet coordinate system which specifies how the sampled two-dimensional array data maps to a spatial extent. We can look at the specification via the ``.bounds`` attribute:"
     ]
    },
    {
     "cell_type": "code",
     "collapsed": false,
     "input": [
      "rings.bounds"
     ],
     "language": "python",
     "metadata": {},
     "outputs": []
    },
    {
     "cell_type": "markdown",
     "metadata": {},
     "source": [
      "This corresponds to an extent of one unit from -0.5 to 0.5 as seen in the plot above. Another way to look at the spatial extent is with the ``.xlim`` and ``.ylim`` properties (which in this example are the same):"
     ]
    },
    {
     "cell_type": "code",
     "collapsed": false,
     "input": [
      "rings.xlim"
     ],
     "language": "python",
     "metadata": {},
     "outputs": []
    },
    {
     "cell_type": "markdown",
     "metadata": {},
     "source": [
      " We shall now create a new SheetView with different bounds:"
     ]
    },
    {
     "cell_type": "code",
     "collapsed": false,
     "input": [
      "falloff= SheetView(exp_falloff, BoundingBox(radius=1.0))\n",
      "falloff"
     ],
     "language": "python",
     "metadata": {},
     "outputs": []
    },
    {
     "cell_type": "heading",
     "level": 3,
     "metadata": {},
     "source": [
      "Simple styling examples"
     ]
    },
    {
     "cell_type": "markdown",
     "metadata": {},
     "source": [
      "For more information on bounds, regions of interest (ROIs) and coordinate systems, please see THIS TUTORIAL. We will now briefly have a look at an example of how you can style dataviews:"
     ]
    },
    {
     "cell_type": "code",
     "collapsed": false,
     "input": [
      "%%opts SheetView cmap='hot'\n",
      "rings"
     ],
     "language": "python",
     "metadata": {},
     "outputs": []
    },
    {
     "cell_type": "code",
     "collapsed": false,
     "input": [
      "%%opts SheetView cmap='jet'\n",
      "falloff"
     ],
     "language": "python",
     "metadata": {},
     "outputs": []
    },
    {
     "cell_type": "markdown",
     "metadata": {},
     "source": [
      "For more information on styles, please see THIS TUTORIAL. Note that this method of setting styles applies to most dataview objects (Curves, Histograms etc) and that the styles we have selected are now associated with these particular dataview objects:"
     ]
    },
    {
     "cell_type": "code",
     "collapsed": false,
     "input": [
      "rings + falloff"
     ],
     "language": "python",
     "metadata": {},
     "outputs": []
    },
    {
     "cell_type": "markdown",
     "metadata": {},
     "source": [
      "You have just seen an example of how easy it is to layout dataviews side-by-side using the ``+`` operator. The result is a ``GridLayout`` object which we will be seeing frequently."
     ]
    },
    {
     "cell_type": "heading",
     "level": 2,
     "metadata": {},
     "source": [
      "Curves"
     ]
    },
    {
     "cell_type": "markdown",
     "metadata": {},
     "source": [
      "Once again we need some data to look at. Let's take the cross-section of our sinusoidal rings along the x-axis:"
     ]
    },
    {
     "cell_type": "code",
     "collapsed": false,
     "input": [
      "ys = np.sin(xs**2)\n",
      "points = zip(xs,ys)"
     ],
     "language": "python",
     "metadata": {},
     "outputs": []
    },
    {
     "cell_type": "markdown",
     "metadata": {},
     "source": [
      "Again, the ``Curve`` dataview is a very thin wrapper around or data:"
     ]
    },
    {
     "cell_type": "code",
     "collapsed": false,
     "input": [
      "sinusoid = Curve(points)\n",
      "sinusoid"
     ],
     "language": "python",
     "metadata": {},
     "outputs": []
    },
    {
     "cell_type": "markdown",
     "metadata": {},
     "source": [
      "Data and visualization remain coupled, allowing you to get back the data via the ``.data`` attirbute:"
     ]
    },
    {
     "cell_type": "code",
     "collapsed": false,
     "input": [
      "np.all(sinusoid.data == points)"
     ],
     "language": "python",
     "metadata": {},
     "outputs": []
    },
    {
     "cell_type": "markdown",
     "metadata": {},
     "source": [
      "And the ``+`` operator allows us to lay our cross section next to the sinusoidal rings:"
     ]
    },
    {
     "cell_type": "code",
     "collapsed": false,
     "input": [
      "sinusoid + rings"
     ],
     "language": "python",
     "metadata": {},
     "outputs": []
    },
    {
     "cell_type": "markdown",
     "metadata": {},
     "source": [
      "And to show how easy it is to style dataviews, even as part of a grid:"
     ]
    },
    {
     "cell_type": "code",
     "collapsed": false,
     "input": [
      "%%opts Curve color='r' SheetView cmap='Blues'\n",
      "sinusoid + rings"
     ],
     "language": "python",
     "metadata": {},
     "outputs": []
    },
    {
     "cell_type": "markdown",
     "metadata": {},
     "source": [
      "Once again, for an in-depth tutorial on Styles please see THIS TUTORIAL."
     ]
    },
    {
     "cell_type": "heading",
     "level": 2,
     "metadata": {},
     "source": [
      "Histograms"
     ]
    },
    {
     "cell_type": "markdown",
     "metadata": {},
     "source": [
      "Another common type of visualization is the histogram. Let's generate some values with a Gaussian distribution:"
     ]
    },
    {
     "cell_type": "code",
     "collapsed": false,
     "input": [
      "np.random.seed(42)\n",
      "data = [np.random.normal() for i in range(10000)]"
     ],
     "language": "python",
     "metadata": {},
     "outputs": []
    },
    {
     "cell_type": "markdown",
     "metadata": {},
     "source": [
      "``Histogram`` then takes the bin edges as the first argument and the heights as the second:"
     ]
    },
    {
     "cell_type": "code",
     "collapsed": false,
     "input": [
      "frequencies, edges = np.histogram(data, 50)\n",
      "gauss_hist = Histogram(frequencies, edges)\n",
      "gauss_hist"
     ],
     "language": "python",
     "metadata": {},
     "outputs": []
    },
    {
     "cell_type": "markdown",
     "metadata": {},
     "source": [
      "The bin edges are accessible via the ``.edges`` attribute and the frequency values via the ``.values`` attribute:"
     ]
    },
    {
     "cell_type": "code",
     "collapsed": false,
     "input": [
      "np.all(gauss_hist.edges == edges), np.all(gauss_hist.values == frequencies)"
     ],
     "language": "python",
     "metadata": {},
     "outputs": []
    },
    {
     "cell_type": "markdown",
     "metadata": {},
     "source": [
      "Often it is useful to see the histogram of the data in a ``SheetView``. This is where the ``.hist`` method of SheetViews are useful:"
     ]
    },
    {
     "cell_type": "code",
     "collapsed": false,
     "input": [
      "rings.hist()"
     ],
     "language": "python",
     "metadata": {},
     "outputs": []
    },
    {
     "cell_type": "markdown",
     "metadata": {},
     "source": [
      "In fact, looking at a histogram of a SheetView is so useful that the histogram may be attached as an adjoint plot to a SheetView as follows, using the adjoining operator (``<<``):"
     ]
    },
    {
     "cell_type": "code",
     "collapsed": false,
     "input": [
      "rings << rings.hist()"
     ],
     "language": "python",
     "metadata": {},
     "outputs": []
    },
    {
     "cell_type": "heading",
     "level": 2,
     "metadata": {},
     "source": [
      "Overlays, Contours, Points and Annotations"
     ]
    },
    {
     "cell_type": "markdown",
     "metadata": {},
     "source": [
      "After the ``Curves`` section, you may be wondering how to present multiple curve lines on the same plot. Alternatively, you may be wondering if it is possible to overlay vector elements on top of a ``SheetView``. In this section we will show how ``Overlay`` allow multiple curves to be added to a plot and how ``Contours``, ``Points`` and ``Annotations`` may be to convery additional information on top of a ``SheetView``.\n",
      "\n",
      "First let's define a new curve which is like our previous ``sinusoidal`` but uses the ``cos`` function instead of ``sin``:"
     ]
    },
    {
     "cell_type": "code",
     "collapsed": false,
     "input": [
      "sinusoid_cos = Curve(zip(xs,np.cos(xs**2)))\n",
      "sinusoid_cos"
     ],
     "language": "python",
     "metadata": {},
     "outputs": []
    },
    {
     "cell_type": "markdown",
     "metadata": {},
     "source": [
      "We may now overlay this on top of our sinusoid:"
     ]
    },
    {
     "cell_type": "code",
     "collapsed": false,
     "input": [
      "sinusoid_cos"
     ],
     "language": "python",
     "metadata": {},
     "outputs": []
    },
    {
     "cell_type": "code",
     "collapsed": false,
     "input": [
      "sinusoid * sinusoid_cos"
     ],
     "language": "python",
     "metadata": {},
     "outputs": []
    },
    {
     "cell_type": "markdown",
     "metadata": {},
     "source": [
      "As you see, the curves are automatically assigned different colors. This issue is discussed in more detail in THIS TUTORIAL on styles.\n",
      "\n",
      "Now we come to the first type of overlay for ``SheetViews``, the ``Contour``. Let us generate data for an elliptical contour:"
     ]
    },
    {
     "cell_type": "code",
     "collapsed": false,
     "input": [
      "angle = np.linspace(0, 2*np.pi, 100)\n",
      "circle_contour = np.array(list(zip(0.75*np.sin(angle), 0.5*np.cos(angle))))"
     ],
     "language": "python",
     "metadata": {},
     "outputs": []
    },
    {
     "cell_type": "markdown",
     "metadata": {},
     "source": [
      "Like a SheetView, a Countour takes a bounding box to define the relevant spatial coordinate system:"
     ]
    },
    {
     "cell_type": "code",
     "collapsed": false,
     "input": [
      "circle_contour = Contours([circle_contour], BoundingBox(radius=1.0))\n",
      "circle_contour"
     ],
     "language": "python",
     "metadata": {},
     "outputs": []
    },
    {
     "cell_type": "markdown",
     "metadata": {},
     "source": [
      "Such a contour by itself isn't very useful withou being able to present it over some data. This is the purpose of the ``*`` operator: ``a * b`` overlays view ``b`` over view ``a``. To illustrate using our previously defined ``falloff SheetView``:"
     ]
    },
    {
     "cell_type": "code",
     "collapsed": false,
     "input": [
      "falloff * circle_contour"
     ],
     "language": "python",
     "metadata": {},
     "outputs": []
    },
    {
     "cell_type": "markdown",
     "metadata": {},
     "source": [
      "In addition to ``Contours`` we may also wish to mark points over a ``SheetView``. Here are a hundred points sampled uniform-randomly in the central area of extent ``0.25``:"
     ]
    },
    {
     "cell_type": "code",
     "collapsed": false,
     "input": [
      "point_samples = np.array([(np.random.random() * 1.0, np.random.random()*1.0) for i in range(100)]) - (0.5, 0.5)"
     ],
     "language": "python",
     "metadata": {},
     "outputs": []
    },
    {
     "cell_type": "code",
     "collapsed": false,
     "input": [
      "points = Points(point_samples, BoundingBox(radius=1.0))\n",
      "overlay = falloff * circle_contour * points\n",
      "overlay"
     ],
     "language": "python",
     "metadata": {},
     "outputs": []
    },
    {
     "cell_type": "markdown",
     "metadata": {},
     "source": [
      "It is a little hard to see the points so let's customize the styles in the ``Overlay``:"
     ]
    },
    {
     "cell_type": "code",
     "collapsed": false,
     "input": [
      "%%opts Contours color='r' linestyle='--' Points color='w' marker='*'\n",
      "overlay"
     ],
     "language": "python",
     "metadata": {},
     "outputs": []
    },
    {
     "cell_type": "markdown",
     "metadata": {},
     "source": [
      "To top it off, let us label our favourite point:"
     ]
    },
    {
     "cell_type": "code",
     "collapsed": false,
     "input": [
      "%%opts Annotation fontsize=14\n",
      "first_point = (point_samples[0,0], point_samples[0,1])\n",
      "annotation = Annotation(arrows=[(first_point, dict(direction='^', text='My favorite point'))])\n",
      "falloff * annotation * points * circle_contour"
     ],
     "language": "python",
     "metadata": {},
     "outputs": []
    },
    {
     "cell_type": "heading",
     "level": 2,
     "metadata": {},
     "source": [
      "Tables"
     ]
    },
    {
     "cell_type": "markdown",
     "metadata": {},
     "source": [
      "In a complex figure, it isn't always possible to show all the data you want visually. If you have some values you want to present with your figure, you can use a table:"
     ]
    },
    {
     "cell_type": "code",
     "collapsed": false,
     "input": [
      "info = OrderedDict([('std',rings.data.std()),    # If you don't use an OrderedDict you cannot control the ordering\n",
      "                    ('mean',rings.data.mean()),\n",
      "                    ('min',rings.data.min()),\n",
      "                    ('max',rings.data.max())])\n",
      "rings + Table(info)"
     ],
     "language": "python",
     "metadata": {},
     "outputs": []
    },
    {
     "cell_type": "heading",
     "level": 1,
     "metadata": {},
     "source": [
      "Finale"
     ]
    },
    {
     "cell_type": "markdown",
     "metadata": {},
     "source": [
      "Here is a collage of all the different features we have looked at. The only new feature here is the ``.cols`` method on ``GridLayout`` which allows us to create a 2x2 layout:"
     ]
    },
    {
     "cell_type": "code",
     "collapsed": false,
     "input": [
      "(sinusoid + (rings << rings.hist()) + Table(info) + (falloff * annotation * points * circle_contour)).cols(2)"
     ],
     "language": "python",
     "metadata": {},
     "outputs": []
    },
    {
     "cell_type": "heading",
     "level": 1,
     "metadata": {},
     "source": [
      "And a lot, lot more..."
     ]
    },
    {
     "cell_type": "markdown",
     "metadata": {},
     "source": [
      "Hopefully we have convinced you why dataviews make data visualization easier and more flexible. If you aren't impressed yet, try THIS NOTEBOOK where we show how *everything* introduced in this notebook can be animated. Other wonderful features include:\n",
      "\n",
      "* Indexing: We have only scratched the surface of how dataviews may index. Pull apart existing composite structures (Overlays, GridLayouts) and recompose them into new visualizations.\n",
      "* Channels: Define how overlays of multiple SheetViews should be visualized. Overlay individual color channels and see the results.\n",
      "* Sampling:  Sample SheetView or Table values over any dimension (typically time).\n",
      "* Styles:  This notebook only scratches the surfaces of the Style system.\n",
      "* Titles: Set approrpiate titles on dataviews.\n",
      "* Other dataviews: CoordinateGrid, DataGrid.\n",
      "* Imagen: The imagen library is based on dataviews and allows easy, parameteric generation of visual patterns. Generate Gaussians, Sinusoids, Disks, Gabors and many, many more visual stimuli with ease. Imagen is designed to be useful for anyone needing mathematically defined patterns and should be useful for researchers working in the visual sciences.\n"
     ]
    }
   ],
   "metadata": {}
  }
 ]
}