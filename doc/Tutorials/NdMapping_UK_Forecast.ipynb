{
 "metadata": {
  "name": "",
  "signature": "sha256:f9b70502742cc60be2b77d3ca550baccdc4fcfd16b6c0c629eca5d8fdaede865"
 },
 "nbformat": 3,
 "nbformat_minor": 0,
 "worksheets": [
  {
   "cells": [
    {
     "cell_type": "heading",
     "level": 1,
     "metadata": {
      "forecast": {
       "Birmingham": {
        "city": {
         "coord": {
          "lat": 52.481419,
          "lon": -1.89983
         },
         "country": "GB",
         "id": 2655603,
         "name": "Birmingham",
         "population": 0,
         "sys": {
          "population": 0
         }
        },
        "cnt": 5,
        "cod": "200",
        "list": [
         {
          "clouds": 12,
          "deg": 336,
          "dt": 1400068800,
          "humidity": 77,
          "pressure": 1033.66,
          "speed": 3.11,
          "temp": {
           "day": 291.78,
           "eve": 290.98,
           "max": 291.78,
           "min": 283.24,
           "morn": 291.78,
           "night": 283.24
          },
          "weather": [
           {
            "description": "few clouds",
            "icon": "02d",
            "id": 801,
            "main": "Clouds"
           }
          ]
         },
         {
          "clouds": 0,
          "deg": 258,
          "dt": 1400155200,
          "humidity": 90,
          "pressure": 1037.82,
          "speed": 2.01,
          "temp": {
           "day": 291.98,
           "eve": 293,
           "max": 293.21,
           "min": 283.08,
           "morn": 283.08,
           "night": 286.96
          },
          "weather": [
           {
            "description": "sky is clear",
            "icon": "01d",
            "id": 800,
            "main": "Clear"
           }
          ]
         },
         {
          "clouds": 32,
          "deg": 256,
          "dt": 1400241600,
          "humidity": 88,
          "pressure": 1034.23,
          "speed": 2.18,
          "temp": {
           "day": 293.68,
           "eve": 293.05,
           "max": 293.68,
           "min": 285.28,
           "morn": 286.26,
           "night": 285.28
          },
          "weather": [
           {
            "description": "scattered clouds",
            "icon": "03d",
            "id": 802,
            "main": "Clouds"
           }
          ]
         },
         {
          "clouds": 36,
          "deg": 218,
          "dt": 1400328000,
          "humidity": 80,
          "pressure": 1027.47,
          "speed": 2.31,
          "temp": {
           "day": 292.02,
           "eve": 293.49,
           "max": 293.65,
           "min": 284.55,
           "morn": 284.55,
           "night": 287.78
          },
          "weather": [
           {
            "description": "scattered clouds",
            "icon": "03d",
            "id": 802,
            "main": "Clouds"
           }
          ]
         },
         {
          "clouds": 0,
          "deg": 180,
          "dt": 1400414400,
          "humidity": 74,
          "pressure": 1017.67,
          "speed": 5.81,
          "temp": {
           "day": 294.72,
           "eve": 293.96,
           "max": 295.08,
           "min": 285.95,
           "morn": 285.95,
           "night": 288.07
          },
          "weather": [
           {
            "description": "sky is clear",
            "icon": "01d",
            "id": 800,
            "main": "Clear"
           }
          ]
         }
        ],
        "message": 0.049
       },
       "Bristol": {
        "city": {
         "coord": {
          "lat": 51.455231,
          "lon": -2.59665
         },
         "country": "GB",
         "id": 2654675,
         "name": "Bristol",
         "population": 0,
         "sys": {
          "population": 0
         }
        },
        "cnt": 5,
        "cod": "200",
        "list": [
         {
          "clouds": 8,
          "deg": 325,
          "dt": 1400068800,
          "humidity": 69,
          "pressure": 1036.41,
          "speed": 4.36,
          "temp": {
           "day": 290.98,
           "eve": 290.03,
           "max": 290.98,
           "min": 283.28,
           "morn": 290.98,
           "night": 283.28
          },
          "weather": [
           {
            "description": "sky is clear",
            "icon": "02d",
            "id": 800,
            "main": "Clear"
           }
          ]
         },
         {
          "clouds": 12,
          "deg": 172,
          "dt": 1400155200,
          "humidity": 80,
          "pressure": 1040.25,
          "speed": 1.91,
          "temp": {
           "day": 291.96,
           "eve": 291.88,
           "max": 292.29,
           "min": 282.47,
           "morn": 282.47,
           "night": 283.89
          },
          "weather": [
           {
            "description": "few clouds",
            "icon": "02d",
            "id": 801,
            "main": "Clouds"
           }
          ]
         },
         {
          "clouds": 0,
          "deg": 350,
          "dt": 1400241600,
          "humidity": 78,
          "pressure": 1037.07,
          "speed": 1.78,
          "temp": {
           "day": 293.19,
           "eve": 292.91,
           "max": 293.68,
           "min": 283.62,
           "morn": 283.62,
           "night": 285.93
          },
          "weather": [
           {
            "description": "sky is clear",
            "icon": "01d",
            "id": 800,
            "main": "Clear"
           }
          ]
         },
         {
          "clouds": 36,
          "deg": 136,
          "dt": 1400328000,
          "humidity": 73,
          "pressure": 1029.65,
          "speed": 1.86,
          "temp": {
           "day": 293.27,
           "eve": 293.24,
           "max": 294.05,
           "min": 284.68,
           "morn": 285.1,
           "night": 284.68
          },
          "weather": [
           {
            "description": "scattered clouds",
            "icon": "03d",
            "id": 802,
            "main": "Clouds"
           }
          ]
         },
         {
          "clouds": 0,
          "deg": 177,
          "dt": 1400414400,
          "humidity": 66,
          "pressure": 1019.69,
          "speed": 5.46,
          "temp": {
           "day": 293.72,
           "eve": 292.86,
           "max": 294.33,
           "min": 284.55,
           "morn": 284.55,
           "night": 287.47
          },
          "weather": [
           {
            "description": "sky is clear",
            "icon": "01d",
            "id": 800,
            "main": "Clear"
           }
          ]
         }
        ],
        "message": 0.0303
       },
       "Cardiff": {
        "city": {
         "coord": {
          "lat": 51.48,
          "lon": -3.18
         },
         "country": "GB",
         "id": 2653822,
         "name": "Cardiff",
         "population": 0,
         "sys": {
          "population": 0
         }
        },
        "cnt": 5,
        "cod": "200",
        "list": [
         {
          "clouds": 8,
          "deg": 325,
          "dt": 1400068800,
          "humidity": 69,
          "pressure": 1036.41,
          "speed": 4.36,
          "temp": {
           "day": 290.98,
           "eve": 290.03,
           "max": 290.98,
           "min": 283.28,
           "morn": 290.98,
           "night": 283.28
          },
          "weather": [
           {
            "description": "sky is clear",
            "icon": "02d",
            "id": 800,
            "main": "Clear"
           }
          ]
         },
         {
          "clouds": 12,
          "deg": 172,
          "dt": 1400155200,
          "humidity": 80,
          "pressure": 1040.25,
          "speed": 1.91,
          "temp": {
           "day": 291.96,
           "eve": 291.88,
           "max": 292.29,
           "min": 282.47,
           "morn": 282.47,
           "night": 283.89
          },
          "weather": [
           {
            "description": "few clouds",
            "icon": "02d",
            "id": 801,
            "main": "Clouds"
           }
          ]
         },
         {
          "clouds": 0,
          "deg": 350,
          "dt": 1400241600,
          "humidity": 78,
          "pressure": 1037.07,
          "speed": 1.78,
          "temp": {
           "day": 293.19,
           "eve": 292.91,
           "max": 293.68,
           "min": 283.62,
           "morn": 283.62,
           "night": 285.93
          },
          "weather": [
           {
            "description": "sky is clear",
            "icon": "01d",
            "id": 800,
            "main": "Clear"
           }
          ]
         },
         {
          "clouds": 36,
          "deg": 136,
          "dt": 1400328000,
          "humidity": 73,
          "pressure": 1029.65,
          "speed": 1.86,
          "temp": {
           "day": 293.27,
           "eve": 293.24,
           "max": 294.05,
           "min": 284.68,
           "morn": 285.1,
           "night": 284.68
          },
          "weather": [
           {
            "description": "scattered clouds",
            "icon": "03d",
            "id": 802,
            "main": "Clouds"
           }
          ]
         },
         {
          "clouds": 0,
          "deg": 177,
          "dt": 1400414400,
          "humidity": 66,
          "pressure": 1019.69,
          "speed": 5.46,
          "temp": {
           "day": 293.72,
           "eve": 292.86,
           "max": 294.33,
           "min": 284.55,
           "morn": 284.55,
           "night": 287.47
          },
          "weather": [
           {
            "description": "sky is clear",
            "icon": "01d",
            "id": 800,
            "main": "Clear"
           }
          ]
         }
        ],
        "message": 0.034
       },
       "Edinburgh": {
        "city": {
         "coord": {
          "lat": 55.952061,
          "lon": -3.19648
         },
         "country": "GB",
         "id": 2650225,
         "name": "Edinburgh",
         "population": 0,
         "sys": {
          "population": 0
         }
        },
        "cnt": 5,
        "cod": "200",
        "list": [
         {
          "clouds": 68,
          "deg": 226,
          "dt": 1400068800,
          "humidity": 76,
          "pressure": 1034.39,
          "speed": 3.51,
          "temp": {
           "day": 289.66,
           "eve": 289.11,
           "max": 289.66,
           "min": 285.97,
           "morn": 289.66,
           "night": 285.97
          },
          "weather": [
           {
            "description": "broken clouds",
            "icon": "04d",
            "id": 803,
            "main": "Clouds"
           }
          ]
         },
         {
          "clouds": 64,
          "deg": 248,
          "dt": 1400155200,
          "humidity": 75,
          "pressure": 1036.85,
          "speed": 6.34,
          "temp": {
           "day": 290.6,
           "eve": 289.82,
           "max": 291.13,
           "min": 285.53,
           "morn": 285.65,
           "night": 285.53
          },
          "weather": [
           {
            "description": "broken clouds",
            "icon": "04d",
            "id": 803,
            "main": "Clouds"
           }
          ]
         },
         {
          "clouds": 64,
          "deg": 237,
          "dt": 1400241600,
          "humidity": 71,
          "pressure": 1031.48,
          "speed": 8.28,
          "temp": {
           "day": 288.39,
           "eve": 287.65,
           "max": 288.78,
           "min": 284.33,
           "morn": 285.72,
           "night": 284.33
          },
          "weather": [
           {
            "description": "broken clouds",
            "icon": "04d",
            "id": 803,
            "main": "Clouds"
           }
          ]
         },
         {
          "clouds": 0,
          "deg": 222,
          "dt": 1400328000,
          "humidity": 73,
          "pressure": 1025.12,
          "speed": 6.36,
          "temp": {
           "day": 288.17,
           "eve": 288.89,
           "max": 289.05,
           "min": 283.8,
           "morn": 283.8,
           "night": 285.53
          },
          "weather": [
           {
            "description": "sky is clear",
            "icon": "01d",
            "id": 800,
            "main": "Clear"
           }
          ]
         },
         {
          "clouds": 68,
          "deg": 200,
          "dt": 1400414400,
          "humidity": 69,
          "pressure": 1015.64,
          "speed": 7.96,
          "temp": {
           "day": 288.77,
           "eve": 288.51,
           "max": 289.18,
           "min": 285.45,
           "morn": 285.45,
           "night": 286.17
          },
          "weather": [
           {
            "description": "broken clouds",
            "icon": "04d",
            "id": 803,
            "main": "Clouds"
           }
          ]
         }
        ],
        "message": 2.494
       },
       "London": {
        "city": {
         "coord": {
          "lat": 51.50853,
          "lon": -0.12574
         },
         "country": "GB",
         "id": 2643743,
         "name": "London",
         "population": 0,
         "sys": {
          "population": 0
         }
        },
        "cnt": 5,
        "cod": "200",
        "list": [
         {
          "clouds": 8,
          "deg": 18,
          "dt": 1400065200,
          "humidity": 80,
          "pressure": 1039.57,
          "speed": 3.51,
          "temp": {
           "day": 288.62,
           "eve": 287.93,
           "max": 288.62,
           "min": 280.23,
           "morn": 288.62,
           "night": 280.23
          },
          "weather": [
           {
            "description": "sky is clear",
            "icon": "02d",
            "id": 800,
            "main": "Clear"
           }
          ]
         },
         {
          "clouds": 0,
          "deg": 316,
          "dt": 1400151600,
          "humidity": 82,
          "pressure": 1043.9,
          "speed": 2.11,
          "temp": {
           "day": 290.72,
           "eve": 291.83,
           "max": 292.13,
           "min": 281.35,
           "morn": 281.35,
           "night": 283.92
          },
          "weather": [
           {
            "description": "sky is clear",
            "icon": "01d",
            "id": 800,
            "main": "Clear"
           }
          ]
         },
         {
          "clouds": 12,
          "deg": 239,
          "dt": 1400238000,
          "humidity": 76,
          "pressure": 1040.23,
          "speed": 1.96,
          "temp": {
           "day": 293.8,
           "eve": 294.1,
           "max": 294.86,
           "min": 284.05,
           "morn": 284.05,
           "night": 289.86
          },
          "weather": [
           {
            "description": "few clouds",
            "icon": "02d",
            "id": 801,
            "main": "Clouds"
           }
          ]
         },
         {
          "clouds": 64,
          "deg": 208,
          "dt": 1400324400,
          "humidity": 75,
          "pressure": 1033.22,
          "speed": 1.76,
          "temp": {
           "day": 294.62,
           "eve": 294.29,
           "max": 294.62,
           "min": 288.55,
           "morn": 288.55,
           "night": 290.78
          },
          "weather": [
           {
            "description": "broken clouds",
            "icon": "04d",
            "id": 803,
            "main": "Clouds"
           }
          ]
         },
         {
          "clouds": 0,
          "deg": 161,
          "dt": 1400410800,
          "humidity": 61,
          "pressure": 1024.72,
          "speed": 5.51,
          "temp": {
           "day": 296.02,
           "eve": 296.11,
           "max": 297.28,
           "min": 287.2,
           "morn": 287.2,
           "night": 289.12
          },
          "weather": [
           {
            "description": "sky is clear",
            "icon": "01d",
            "id": 800,
            "main": "Clear"
           }
          ]
         }
        ],
        "message": 0.0024
       },
       "Newport": {
        "city": {
         "coord": {
          "lat": 51.587742,
          "lon": -2.99835
         },
         "country": "GB",
         "id": 2641598,
         "name": "Newport",
         "population": 0,
         "sys": {
          "population": 0
         }
        },
        "cnt": 5,
        "cod": "200",
        "list": [
         {
          "clouds": 64,
          "deg": 318,
          "dt": 1400068800,
          "humidity": 74,
          "pressure": 1020.85,
          "speed": 2.51,
          "temp": {
           "day": 291.91,
           "eve": 291.57,
           "max": 291.91,
           "min": 283.66,
           "morn": 291.91,
           "night": 283.66
          },
          "weather": [
           {
            "description": "broken clouds",
            "icon": "04d",
            "id": 803,
            "main": "Clouds"
           }
          ]
         },
         {
          "clouds": 0,
          "deg": 209,
          "dt": 1400155200,
          "humidity": 81,
          "pressure": 1024.53,
          "speed": 1.94,
          "temp": {
           "day": 293.1,
           "eve": 293.15,
           "max": 294.15,
           "min": 283.18,
           "morn": 283.18,
           "night": 286.64
          },
          "weather": [
           {
            "description": "sky is clear",
            "icon": "01d",
            "id": 800,
            "main": "Clear"
           }
          ]
         },
         {
          "clouds": 0,
          "deg": 281,
          "dt": 1400241600,
          "humidity": 77,
          "pressure": 1021.59,
          "speed": 2.63,
          "temp": {
           "day": 292.81,
           "eve": 291.16,
           "max": 292.82,
           "min": 283.01,
           "morn": 284.76,
           "night": 283.01
          },
          "weather": [
           {
            "description": "sky is clear",
            "icon": "01d",
            "id": 800,
            "main": "Clear"
           }
          ]
         },
         {
          "clouds": 0,
          "deg": 207,
          "dt": 1400328000,
          "humidity": 75,
          "pressure": 1014.33,
          "speed": 2.66,
          "temp": {
           "day": 291.57,
           "eve": 292.04,
           "max": 292.75,
           "min": 282.5,
           "morn": 282.5,
           "night": 285.78
          },
          "weather": [
           {
            "description": "sky is clear",
            "icon": "01d",
            "id": 800,
            "main": "Clear"
           }
          ]
         },
         {
          "clouds": 8,
          "deg": 184,
          "dt": 1400414400,
          "humidity": 72,
          "pressure": 1004.21,
          "speed": 5.56,
          "temp": {
           "day": 293.02,
           "eve": 292.46,
           "max": 293.68,
           "min": 285.2,
           "morn": 285.2,
           "night": 287.57
          },
          "weather": [
           {
            "description": "sky is clear",
            "icon": "02d",
            "id": 800,
            "main": "Clear"
           }
          ]
         }
        ],
        "message": 0.0399
       }
      }
     },
     "source": [
      "Exploring high-dimensional data (UK weather)"
     ]
    },
    {
     "cell_type": "markdown",
     "metadata": {},
     "source": [
      "In the [Introductory Tutorial](HoloViews_Tutorial.ipynb), we see how holoviews allow quick and convenient visualization of data. In this tutorial, we will show how high-dimensional data can be manipulated, focusing on the NdMapping object, a generic dictionary type suitable for working with high dimensional data.\n",
      "\n",
      "The emphasis of the tutorial is on the general concepts needed to manipulate the data held within holoviews. For animated visualizations and more examples of how the concepts introduced in this notebook are useful, please see [this tutorial](Stacks_and_Animations.ipynb)."
     ]
    },
    {
     "cell_type": "code",
     "collapsed": false,
     "input": [
      "%load_ext holoviews.ipython"
     ],
     "language": "python",
     "metadata": {},
     "outputs": []
    },
    {
     "cell_type": "markdown",
     "metadata": {},
     "source": [
      "To start, here are some general imports we will be using:"
     ]
    },
    {
     "cell_type": "code",
     "collapsed": false,
     "input": [
      "import json\n",
      "try:   import urllib2 as urllib\n",
      "except:import urllib\n",
      "    \n",
      "from IPython.display import Image, HTML\n",
      "from IPython.nbformat import current"
     ],
     "language": "python",
     "metadata": {},
     "outputs": []
    },
    {
     "cell_type": "heading",
     "level": 2,
     "metadata": {},
     "source": [
      "NdMapping introduction"
     ]
    },
    {
     "cell_type": "markdown",
     "metadata": {},
     "source": [
      "Python users will be familiar with dictionaries as as way to collect data together in a conveniently accessible manner. Unlike arrays, dictionaries are sparse and heterogeneous and do not have to be declared with a fixed size.\n",
      "\n",
      "NdMappings are a core part of holoviews and are essential for generating animated visualizations. They are also useful data structures in their own right because of the following properties:\n",
      "\n",
      "* NdMappings are ordered (internally they use ``collections.OrderedDict``)\n",
      "* NdMappings let you index your data with an arbitrary number of dimensions.\n",
      "* The dimensions used may be simple strings or objects recording the name, type and physical units of the dimension.\n",
      "* NdMappings let you select portions of your data by slicing each available dimension independently.\n",
      "\n",
      "In this tutorial we will use NdMappings to analyse a weather forecast across several UK cities"
     ]
    },
    {
     "cell_type": "code",
     "collapsed": false,
     "input": [
      "from holoviews import NdMapping, Dimension, ViewMap, ItemTable, operation"
     ],
     "language": "python",
     "metadata": {},
     "outputs": []
    },
    {
     "cell_type": "heading",
     "level": 2,
     "metadata": {},
     "source": [
      "Analysing the UK Weather forecast"
     ]
    },
    {
     "cell_type": "markdown",
     "metadata": {},
     "source": [
      "We will use some real example data in this tutorial.  By default, it uses the forecast from the 14th of May to the 19th of May 2014, but if you change LIVE to True, it will fetch the most recent live data from [openweathermap.org](http://www.openweathermap.org).\n",
      "\n",
      "Arguably humidity levels in the UK does not constitute high-dimensional data (as it is probably raining)."
     ]
    },
    {
     "cell_type": "code",
     "collapsed": false,
     "input": [
      "LIVE = False # Set to True to get the current forecast!\n",
      "forecast_url ='http://api.openweathermap.org/data/2.5/forecast/daily?q=%s,uk&cnt=5' if LIVE else None"
     ],
     "language": "python",
     "metadata": {},
     "outputs": []
    },
    {
     "cell_type": "markdown",
     "metadata": {},
     "source": [
      "Here are the cities we will be collecting forecasts for:"
     ]
    },
    {
     "cell_type": "code",
     "collapsed": false,
     "input": [
      "cities = ['Edinburgh', 'London', 'Birmingham', 'Bristol', 'Cardiff', 'Newport']"
     ],
     "language": "python",
     "metadata": {},
     "outputs": []
    },
    {
     "cell_type": "heading",
     "level": 3,
     "metadata": {},
     "source": [
      "Accessing the 5-day weather forecast"
     ]
    },
    {
     "cell_type": "markdown",
     "metadata": {},
     "source": [
      " Here we define a function that will give us forecast weather recordings for a given city on a given day.\n",
      " \n",
      " <!-- Code to regenerate JSON\n",
      " ```\n",
      "import urllib2\n",
      "def save_current_json(fname='forecast.json'):\n",
      "    data = {}\n",
      "    for city in cities:\n",
      "        fetched_data = urllib2.urlopen(forecast_url % city)\n",
      "        data[city] = json.load(fetched_data)\n",
      "    json.dump({'forecast':data}, open(fname, 'w'))\n",
      "\n",
      "save_current_json()\n",
      "```\n",
      "!-->"
     ]
    },
    {
     "cell_type": "code",
     "collapsed": false,
     "input": [
      "# You can ignore this for the tutorial\n",
      "\n",
      "notebook_name = 'NdMapping_UK_Forecast.ipynb'\n",
      "local_data = current.read(open(notebook_name, 'r'), 'json').worksheets[0].cells[0].metadata.forecast\n",
      "\n",
      "# The latitude of our list of cities\n",
      "city_latitudes = dict((city, local_data[city]['city']['coord']['lat']) for city in cities)\n",
      "\n",
      "def forecast(day, city, labels, city_cache = {}):\n",
      "    \"Labels may be 'pressure', 'humidity', 'deg', 'speed' (wind direction and speed)\" \n",
      "    if city in city_cache:\n",
      "        city_data = city_cache[city]\n",
      "    else:\n",
      "        city_data = json.load(urllib.urlopen(forecast_url % city)) if forecast_url else local_data[city]\n",
      "        city_cache[city] = city_data\n",
      "    return dict((label, city_data['list'][day][label]) for label in labels)"
     ],
     "language": "python",
     "metadata": {},
     "outputs": []
    },
    {
     "cell_type": "markdown",
     "metadata": {},
     "source": [
      "\n",
      "<center>\n",
      "<b>It is probably raining somewhere</b><br>\n",
      "<img src='http://upload.wikimedia.org/wikipedia/commons/a/a2/Uk_topo_en.jpg', width='50%'>\n",
      "</center>"
     ]
    },
    {
     "cell_type": "markdown",
     "metadata": {},
     "source": [
      "Let us try it out using the ``Table`` views introduced at the end of the [introductory Tutorial](HoloViews_Tutorial.ipynb), we can look at the forecast in London on the third day"
     ]
    },
    {
     "cell_type": "code",
     "collapsed": false,
     "input": [
      "ItemTable(forecast(day=3, city='London', labels=['humidity', 'pressure', 'deg', 'speed', 'clouds']), \n",
      "      label='Forecast for London day 3')"
     ],
     "language": "python",
     "metadata": {},
     "outputs": []
    },
    {
     "cell_type": "markdown",
     "metadata": {},
     "source": [
      "<center>\n",
      "**clouds**: Percentage cloud cover. **deg**: Wind direction in degrees.  **humidity**: Humidity in percent. **pressure**: Pressure in hpa (hectopascals). **speed**: Wind speed in m/s\n",
      "</center>"
     ]
    },
    {
     "cell_type": "heading",
     "level": 3,
     "metadata": {},
     "source": [
      "Saving data into an NdMapping"
     ]
    },
    {
     "cell_type": "markdown",
     "metadata": {},
     "source": [
      "For basic usage, NdMapping acts just like a normal Python dictionary:"
     ]
    },
    {
     "cell_type": "code",
     "collapsed": false,
     "input": [
      "london_forecast = NdMapping()"
     ],
     "language": "python",
     "metadata": {},
     "outputs": []
    },
    {
     "cell_type": "markdown",
     "metadata": {},
     "source": [
      "Let's save our five day forecast for London (pressure only for the time being) into the ``NdMapping london_forecast`` (by day number) just as we would with an ordinary dictionary:"
     ]
    },
    {
     "cell_type": "code",
     "collapsed": false,
     "input": [
      "london_forecast[0] = forecast(0, 'London', ['pressure']) # Forecast for day 0\n",
      "london_forecast[1] = forecast(1, 'London', ['pressure']) # Forecast for day 1\n",
      "\n",
      "for i in [2,3,4]:  # Forecast for the rest of the week\n",
      "    london_forecast[i] = forecast(i, 'London', ['pressure']) "
     ],
     "language": "python",
     "metadata": {},
     "outputs": []
    },
    {
     "cell_type": "markdown",
     "metadata": {},
     "source": [
      "Access is dictionary-like:"
     ]
    },
    {
     "cell_type": "code",
     "collapsed": false,
     "input": [
      "\"London forecast, day %d: %s\" % (4, london_forecast[4])"
     ],
     "language": "python",
     "metadata": {},
     "outputs": []
    },
    {
     "cell_type": "markdown",
     "metadata": {},
     "source": [
      "Unlike normal dictionaries, NdMappings iterate over data instead of keys. Let use this property to quickly view the pressure forecast for the whole week:"
     ]
    },
    {
     "cell_type": "code",
     "collapsed": false,
     "input": [
      "[pressure for pressure in london_forecast]  # The values method returns the same thing"
     ],
     "language": "python",
     "metadata": {},
     "outputs": []
    },
    {
     "cell_type": "markdown",
     "metadata": {},
     "source": [
      "***Note that you could not do this with an ordinary dictionary!*** NdMappings are ordered by their keys (the forecast day in this instance) whereas there is no defined ordering for normal Python dictionaries."
     ]
    },
    {
     "cell_type": "markdown",
     "metadata": {},
     "source": [
      "Here are some other dictionary-like methods of NdMapping:"
     ]
    },
    {
     "cell_type": "code",
     "collapsed": false,
     "input": [
      "print('Forecast days available: %s' % london_forecast.keys())\n",
      "print('Is a forecast available for day 0?: %s' % ((0,) in london_forecast))\n",
      "print('Is a forecast available for day 8?: %s' % ((8,) in london_forecast))"
     ],
     "language": "python",
     "metadata": {},
     "outputs": []
    },
    {
     "cell_type": "markdown",
     "metadata": {},
     "source": [
      "To emphasis that the keys determine ordering, let's say we wish to add yesterday's pressure to the forecast:"
     ]
    },
    {
     "cell_type": "code",
     "collapsed": false,
     "input": [
      "london_forecast[-1] = {'pressure':987.1}"
     ],
     "language": "python",
     "metadata": {},
     "outputs": []
    },
    {
     "cell_type": "code",
     "collapsed": false,
     "input": [
      "print(\"\\n\".join(\"Day {0}: {1} hpa\".format(day, el['pressure']) for day, el in london_forecast.items()))"
     ],
     "language": "python",
     "metadata": {},
     "outputs": []
    },
    {
     "cell_type": "markdown",
     "metadata": {},
     "source": [
      "Yesterday's pressure (day -1) is first in the list even though this item was added last."
     ]
    },
    {
     "cell_type": "heading",
     "level": 2,
     "metadata": {},
     "source": [
      "Dimensions"
     ]
    },
    {
     "cell_type": "markdown",
     "metadata": {},
     "source": [
      "Each keys correspond to the day of the forecast and this corresponds to an indexing dimension for our data. ``NdMappings`` can be made aware about these indexing dimensions. Let us look at the default dimension of ``london_pressure_forecast``:"
     ]
    },
    {
     "cell_type": "code",
     "collapsed": false,
     "input": [
      "london_forecast.dimension_labels"
     ],
     "language": "python",
     "metadata": {},
     "outputs": []
    },
    {
     "cell_type": "markdown",
     "metadata": {},
     "source": [
      "This is incorrect as an appropriate dimension label should be 'Day' (or something similar). One restriction imposed by ``NdMappings`` is that the dimensions are fixed after the ``NdMapping`` is declared. Let's fix this problem by creating a new NdMapping containing the right dimension label and the old items:"
     ]
    },
    {
     "cell_type": "code",
     "collapsed": false,
     "input": [
      "london_forecast = NdMapping(initial_items = london_forecast.items(), dimensions=['day'])\n",
      "\"New dimension label: %s\" % london_forecast.dimension_labels"
     ],
     "language": "python",
     "metadata": {},
     "outputs": []
    },
    {
     "cell_type": "markdown",
     "metadata": {},
     "source": [
      "That is better!\n",
      "\n",
      "Now you may be wondering why dimension labels is a list - the reason is that you are allowed as many different dimensions as you like. Let's save a more complete forecast across all 20 UK cities. Let's also say our variable of interest is now the forecast humidity in each city and we think the latitude and longitude of each city might be relevant:"
     ]
    },
    {
     "cell_type": "code",
     "collapsed": false,
     "input": [
      "humidity_forecast = NdMapping(dimensions=['city', 'day', 'latitude'])"
     ],
     "language": "python",
     "metadata": {},
     "outputs": []
    },
    {
     "cell_type": "markdown",
     "metadata": {},
     "source": [
      "Now for every humidity value, we want to keep track of the city, the day and the latitude of the city:"
     ]
    },
    {
     "cell_type": "code",
     "collapsed": false,
     "input": [
      "london_latitude = city_latitudes['London']\n",
      "humidity_forecast['London', 0, london_latitude] = forecast(0, 'London', ['humidity'])\n",
      "humidity_forecast['London', 1, london_latitude] = forecast(1, 'London', ['humidity'])"
     ],
     "language": "python",
     "metadata": {},
     "outputs": []
    },
    {
     "cell_type": "markdown",
     "metadata": {},
     "source": [
      "**Note:** You can set Ndimensional keys as tuples but this style is discouraged. As a side-effect using tuple keys in  NdMappings is also discouraged but they may be used if nested appropriately."
     ]
    },
    {
     "cell_type": "markdown",
     "metadata": {},
     "source": [
      "As would be expected, the order of information used in the keys, matches the order of the declared dimensions:"
     ]
    },
    {
     "cell_type": "code",
     "collapsed": false,
     "input": [
      "humidity_forecast.dimension_labels"
     ],
     "language": "python",
     "metadata": {},
     "outputs": []
    },
    {
     "cell_type": "markdown",
     "metadata": {},
     "source": [
      "Here are some other basic functionality relating to dimensions:"
     ]
    },
    {
     "cell_type": "code",
     "collapsed": false,
     "input": [
      "humidity_forecast.dim_range('day')"
     ],
     "language": "python",
     "metadata": {},
     "outputs": []
    },
    {
     "cell_type": "code",
     "collapsed": false,
     "input": [
      "city_latitudes"
     ],
     "language": "python",
     "metadata": {},
     "outputs": []
    },
    {
     "cell_type": "code",
     "collapsed": false,
     "input": [
      "print(\"The keys of humidity_forecast are %d dimensional\" %  humidity_forecast.ndims)\n",
      "print(\"The key position of dimension 'latitude' is %d\" %   humidity_forecast.dim_index('latitude'))"
     ],
     "language": "python",
     "metadata": {},
     "outputs": []
    },
    {
     "cell_type": "markdown",
     "metadata": {},
     "source": [
      "<h3>And now for something completely different...</h3> <br><br>\n",
      "<center>\n",
      "<b>Shetland ponies secretly hate rain</b><br>\n",
      "<img src='http://upload.wikimedia.org/wikipedia/commons/b/b1/Papilponies.jpg', width='40%'>\n",
      "</center>"
     ]
    },
    {
     "cell_type": "heading",
     "level": 3,
     "metadata": {},
     "source": [
      "Dimension units and other properties"
     ]
    },
    {
     "cell_type": "markdown",
     "metadata": {},
     "source": [
      "In the above section, we specified dimensions as strings but this is not always sufficient. Wouldn't it be nice to give the 'latitude' dimension the proper units of degrees?\n",
      "\n",
      "We can declare some information about the units of 'day' and 'latitude' using a ``Dimension`` object:"
     ]
    },
    {
     "cell_type": "code",
     "collapsed": false,
     "input": [
      "latitude_dimension = Dimension('latitude', unit='deg', type=float)\n",
      "day_dimension =      Dimension('day', unit='day', type=int)"
     ],
     "language": "python",
     "metadata": {},
     "outputs": []
    },
    {
     "cell_type": "markdown",
     "metadata": {},
     "source": [
      "We declared the names of our dimensions, that latitude is of type ``float`` (units of 'degrees') and that day is of type ``int`` (units of 'days'). The city name does not have units. With now define out improved version of ``humidity_forecast``:"
     ]
    },
    {
     "cell_type": "code",
     "collapsed": false,
     "input": [
      "humidity_forecast = NdMapping(dimensions=['city', day_dimension, latitude_dimension])"
     ],
     "language": "python",
     "metadata": {},
     "outputs": []
    },
    {
     "cell_type": "markdown",
     "metadata": {},
     "source": [
      "We can check our dimension definitions via the ``dim_dict`` attribute. Note that the city dimension (supplied as a string) has been promoted to a dimension object internally:"
     ]
    },
    {
     "cell_type": "code",
     "collapsed": false,
     "input": [
      "for key, dim in humidity_forecast.dim_dict.items():\n",
      "    print(\"Dimension '%s' has declared unit of type '%s'\"  % (dim.name, dim.unit))"
     ],
     "language": "python",
     "metadata": {},
     "outputs": []
    },
    {
     "cell_type": "markdown",
     "metadata": {},
     "source": [
      "Note that because we declared the day value to be an int, any day value we supply as a float will be corrected accordingly:"
     ]
    },
    {
     "cell_type": "code",
     "collapsed": false,
     "input": [
      "humidity_forecast['London', 0.23, london_latitude] = forecast(0, 'London', ['humidity'])\n",
      "humidity_forecast.keys()[0]"
     ],
     "language": "python",
     "metadata": {},
     "outputs": []
    },
    {
     "cell_type": "heading",
     "level": 2,
     "metadata": {},
     "source": [
      "Multi-dimensional indexing"
     ]
    },
    {
     "cell_type": "markdown",
     "metadata": {},
     "source": [
      "Let's populate the ``humidity_forecast`` properly:"
     ]
    },
    {
     "cell_type": "code",
     "collapsed": false,
     "input": [
      "for city in cities:\n",
      "    for day in range(5):\n",
      "        humidity_forecast[city, day, city_latitudes[city]] = forecast(day, city, ['humidity'])"
     ],
     "language": "python",
     "metadata": {},
     "outputs": []
    },
    {
     "cell_type": "code",
     "collapsed": false,
     "input": [
      "print(\"The minimum and maximum recorded latitude is (%s, %s)\" %  humidity_forecast.dim_range('latitude'))"
     ],
     "language": "python",
     "metadata": {},
     "outputs": []
    },
    {
     "cell_type": "markdown",
     "metadata": {},
     "source": [
      "We should now have 30 records of humidity:"
     ]
    },
    {
     "cell_type": "code",
     "collapsed": false,
     "input": [
      "len(humidity_forecast)"
     ],
     "language": "python",
     "metadata": {},
     "outputs": []
    },
    {
     "cell_type": "markdown",
     "metadata": {},
     "source": [
      "As you would expected, the keys are all nicely sorted:"
     ]
    },
    {
     "cell_type": "code",
     "collapsed": false,
     "input": [
      "sorted(humidity_forecast.keys()) == humidity_forecast.keys()"
     ],
     "language": "python",
     "metadata": {},
     "outputs": []
    },
    {
     "cell_type": "markdown",
     "metadata": {},
     "source": [
      "We can quickly get the humidity value of last key (the last forecast for the last city by alphabetical order) using the ``.last`` property. Correspondingly, the last available key can be accessed via ``.last_key``. For instance, these properties are useful for for getting the most-recent key and value from a time series:"
     ]
    },
    {
     "cell_type": "code",
     "collapsed": false,
     "input": [
      "humidity_forecast[humidity_forecast.last_key] == humidity_forecast.last"
     ],
     "language": "python",
     "metadata": {},
     "outputs": []
    },
    {
     "cell_type": "markdown",
     "metadata": {},
     "source": [
      "What if we want to look at the humidity forecast just for Bristol. Unfortunately, we don't immediately know off-hand the appropriate latitude for Bristol. Thankfully, we can slice NdMappings so that this isn't a problem by slicing the dimension keys as follows:"
     ]
    },
    {
     "cell_type": "code",
     "collapsed": false,
     "input": [
      "bristol_humidity = humidity_forecast['Bristol', :, :]\n",
      "for (city, day, pressure), humidity in bristol_humidity.items():\n",
      "    print(\"On day {day} it is forecast {humidity} % humidity in Bristol\".format(day=day, **humidity))"
     ],
     "language": "python",
     "metadata": {},
     "outputs": []
    },
    {
     "cell_type": "markdown",
     "metadata": {},
     "source": [
      "As an example of slicing our forecast data day:"
     ]
    },
    {
     "cell_type": "code",
     "collapsed": false,
     "input": [
      "city_humidity_today = humidity_forecast[:, 0, :]\n",
      "for (city, day, pressure), humidity in city_humidity_today.items():\n",
      "    print(\"It is forecast {humidity}% humidity in {city}\".format(city=city, **humidity))"
     ],
     "language": "python",
     "metadata": {},
     "outputs": []
    },
    {
     "cell_type": "markdown",
     "metadata": {},
     "source": [
      "Of course we can do more complex slices. Here are the humidities for all our cities in Bristol for days 1-4 where the city is between latitudes 51.5 and 53.0:"
     ]
    },
    {
     "cell_type": "code",
     "collapsed": false,
     "input": [
      "for (city, day, latitude), humidity in humidity_forecast[:,1:4, 51.5:53].items():\n",
      "    print(\"On day %d the forecast is %s %% humidity in %s (latitude %s)\" \n",
      "          % (day, humidity['humidity'], city, latitude))"
     ],
     "language": "python",
     "metadata": {},
     "outputs": []
    },
    {
     "cell_type": "markdown",
     "metadata": {},
     "source": [
      "Slicing multiple dimensions at once corresponds to taking an intersection (the intersection of slicing each dimension independently)."
     ]
    },
    {
     "cell_type": "heading",
     "level": 3,
     "metadata": {},
     "source": [
      "A simple (animated) visualization"
     ]
    },
    {
     "cell_type": "markdown",
     "metadata": {},
     "source": [
      "Hopefully you are now convinced that NdMapping are useful for many tasks not related to visualization. We will finally show how they relate to holoviews and visualization.\n",
      "\n",
      "A ``ViewMap`` (and ``HoloMap`` objects) are subclasses of ``NdMapping``:"
     ]
    },
    {
     "cell_type": "code",
     "collapsed": false,
     "input": [
      "\"A ViewMap is an NdMapping: %s\" % issubclass(ViewMap, NdMapping)"
     ],
     "language": "python",
     "metadata": {},
     "outputs": []
    },
    {
     "cell_type": "markdown",
     "metadata": {},
     "source": [
      "A TableStack is simply an NdMapping that adds a few new methods and restricts the values to be Tables as [introduced here](HoloViews_Tutorial.ipynb). We can declare a TableStack in exactly the way we have already seen:"
     ]
    },
    {
     "cell_type": "code",
     "collapsed": false,
     "input": [
      "animated_table = ViewMap(dimensions=['city', day_dimension, latitude_dimension])"
     ],
     "language": "python",
     "metadata": {},
     "outputs": []
    },
    {
     "cell_type": "markdown",
     "metadata": {},
     "source": [
      "And now we can populate ``animated_table`` with our humidity data by creating Table View objects as values instead of simply humidity readings:"
     ]
    },
    {
     "cell_type": "code",
     "collapsed": false,
     "input": [
      "for city in cities:\n",
      "    for day in range(5):\n",
      "        weather = forecast(day, city, ['humidity', 'pressure', 'deg', 'speed', 'clouds'])\n",
      "        animated_table[city, day,  city_latitudes[city]] = ItemTable(weather, label='Weather')"
     ],
     "language": "python",
     "metadata": {},
     "outputs": []
    },
    {
     "cell_type": "markdown",
     "metadata": {},
     "source": [
      "A summary of the animated_table can be viewed via the .info attribute:"
     ]
    },
    {
     "cell_type": "code",
     "collapsed": false,
     "input": [
      "animated_table.info"
     ],
     "language": "python",
     "metadata": {},
     "outputs": []
    },
    {
     "cell_type": "markdown",
     "metadata": {},
     "source": [
      "We can do the exact same sort of slicing we learned about in the previous section. Let's use slices and the ``+`` operator (described in the [introductory tutorial](HoloViews_Tutorial.ipynb)) to compare the humidity in Bristol and Edinburgh over the five days:"
     ]
    },
    {
     "cell_type": "code",
     "collapsed": false,
     "input": [
      "animated_table['Bristol',:, :] + animated_table['Edinburgh',:, :]"
     ],
     "language": "python",
     "metadata": {},
     "outputs": []
    },
    {
     "cell_type": "markdown",
     "metadata": {},
     "source": [
      "Note that you can grab the video scrubber to view the data for a particular day. We can plot our humidity and pressure values over the week for all our cities as follows:\n"
     ]
    },
    {
     "cell_type": "code",
     "collapsed": false,
     "input": [
      "%%opts Curve [num_ticks=4] color='r'\n",
      "animated_table.sample(samples=['humidity', 'pressure']).collate('day')"
     ],
     "language": "python",
     "metadata": {},
     "outputs": []
    },
    {
     "cell_type": "heading",
     "level": 2,
     "metadata": {},
     "source": [
      "Re-indexing and adding dimensions"
     ]
    },
    {
     "cell_type": "markdown",
     "metadata": {},
     "source": [
      "Once you have an NdMapping, it may be useful to reorder or reduce the set of dimensions. Let's say we would prefer the items in our humidity forecast to be sorted by day first instead of by city first. This can be done with the reindex method:"
     ]
    },
    {
     "cell_type": "code",
     "collapsed": false,
     "input": [
      "humidity_by_day = humidity_forecast.reindex(['day', 'city', 'latitude'])\n",
      "\"Dimensions now in the order %s\" % humidity_by_day.dimension_labels"
     ],
     "language": "python",
     "metadata": {},
     "outputs": []
    },
    {
     "cell_type": "markdown",
     "metadata": {},
     "source": [
      "Suppose you decide that adding ``\"latitude\"`` wasn't useful after all. Using reindex can also reduce the set of dimension labels (discarding dimensions):"
     ]
    },
    {
     "cell_type": "code",
     "collapsed": false,
     "input": [
      "humidity_no_latitude = humidity_forecast.reindex(['day', 'city'])"
     ],
     "language": "python",
     "metadata": {},
     "outputs": []
    },
    {
     "cell_type": "markdown",
     "metadata": {},
     "source": [
      "Note that all latitude values for the recordings have been lost but this operation guarantees to keep all the humidity recordings. Ensuring the latter property (not discarding values) may not be possible in certain cases and is therefore reindexing may not always be allowed.\n",
      "\n",
      "You can also introduce a new dimension using the ``add_dimension`` method. All the expanded keys will be given a constant value so this is useful for adding information that is constant across the ``NdMapping``. For instance to add a 'country' dimension at position 1:"
     ]
    },
    {
     "cell_type": "code",
     "collapsed": false,
     "input": [
      "country_humidity = humidity_no_latitude.add_dimension('country', dim_pos=1, dim_val='United Kingdom')"
     ],
     "language": "python",
     "metadata": {},
     "outputs": []
    },
    {
     "cell_type": "code",
     "collapsed": false,
     "input": [
      "country_humidity.dimension_labels"
     ],
     "language": "python",
     "metadata": {},
     "outputs": []
    },
    {
     "cell_type": "heading",
     "level": 2,
     "metadata": {},
     "source": [
      "Other mapping methods and features"
     ]
    },
    {
     "cell_type": "markdown",
     "metadata": {},
     "source": [
      "Like other dictionaries, it is possible to update one NdMapping with the contents of another NdMapping:"
     ]
    },
    {
     "cell_type": "code",
     "collapsed": false,
     "input": [
      "welsh_humidity = humidity_forecast['Cardiff',:,:]"
     ],
     "language": "python",
     "metadata": {},
     "outputs": []
    },
    {
     "cell_type": "code",
     "collapsed": false,
     "input": [
      "welsh_humidity.update(humidity_forecast['Newport',:,:])"
     ],
     "language": "python",
     "metadata": {},
     "outputs": []
    },
    {
     "cell_type": "markdown",
     "metadata": {},
     "source": [
      "Dictionary style ``.get`` and ``.pop`` methods work as expected:"
     ]
    },
    {
     "cell_type": "code",
     "collapsed": false,
     "input": [
      "print(\"Available key: %s\" % welsh_humidity.get(('Newport', 4, 51.587742), None))\n",
      "print(\"Data for day 7: %s\" % welsh_humidity.get(('Newport', 7, 51.587742), None))"
     ],
     "language": "python",
     "metadata": {},
     "outputs": []
    },
    {
     "cell_type": "code",
     "collapsed": false,
     "input": [
      "welsh_humidity.pop(('Newport', 4, 51.587742))"
     ],
     "language": "python",
     "metadata": {},
     "outputs": []
    },
    {
     "cell_type": "heading",
     "level": 1,
     "metadata": {},
     "source": [
      "NdMappings and visualization"
     ]
    },
    {
     "cell_type": "markdown",
     "metadata": {},
     "source": [
      "What do NdMappings have to do with visualizing data? In holoviews, they are the basis for all animations because of these three properties:\n",
      "\n",
      "* They have a fixed, linear ordering determined by the sorted keys.\n",
      "* The keys may be N-dimensional but a clear linear ordering remains defined.\n",
      "* They are easily sliced and indexed.\n",
      "\n",
      "In [this tutorial](Stacks_and_Animations.ipynb) we see how the various holoviews [introduced here](HoloViews_Tutorial.ipynb) may be introduced to NdMappings (known as ViewMap) to animate any type of data supported by HoloViews."
     ]
    }
   ],
   "metadata": {}
  }
 ]
}