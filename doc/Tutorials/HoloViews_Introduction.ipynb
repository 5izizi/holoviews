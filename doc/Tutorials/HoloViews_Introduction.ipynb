{
 "metadata": {
  "name": "",
  "signature": "sha256:38e6fc7a26df4425e5b320504850637d6d2fb89b0f648e610d3f46da147a78b0"
 },
 "nbformat": 3,
 "nbformat_minor": 0,
 "worksheets": [
  {
   "cells": [
    {
     "cell_type": "heading",
     "level": 1,
     "metadata": {},
     "source": [
      "Introduction"
     ]
    },
    {
     "cell_type": "markdown",
     "metadata": {},
     "source": [
      "Welcome to HoloViews!\n",
      "\n",
      "If this is your first contact with HoloViews, you may want to start by looking at our [showcase](./HoloViews_Showcase.ipynb) to get an idea of what can be achieved with HoloViews.\n",
      "\n",
      "Alternatively, if you wish to check if a particular type of element is available in HoloViews, please consult the [components reference](./HoloViews_Components.ipynb)."
     ]
    },
    {
     "cell_type": "heading",
     "level": 2,
     "metadata": {},
     "source": [
      "What is HoloViews?"
     ]
    },
    {
     "cell_type": "markdown",
     "metadata": {},
     "source": [
      "HoloViews is not a plotting library. Neither is it isn't centered around storage or any particular type of processing. Instead, HoloViews is a means of composing your data in such a way as to describe what your data actually *is*.\n",
      "\n",
      "By supplying just enough additional information to the data of interest when necessary, HoloViews allows you to stored,index, sliced, analyse, reduce, compose and display your data as naturally as possible. \n",
      "\n",
      "Here are a few of the things HoloViews associates with your data:\n",
      "\n",
      "* **The [``Component``](./HoloViews_Components.ipynb) type**. This encapsulates your data is the most fundamental indicator as to how your data can be analysed and displayed. For instance, if you wrap a 2D numpy array in a ``Matrix`` it will be displayed with a colormap, a color image in an ``RGB`` component will be suitably presented in color, a ``Curve`` will be presented a curve on an axis and so on.\n",
      "\n",
      "\n",
      "* ***Dimensions of your data***. The key dimension(s) describe what dimensions your data can be indexed by. The value dimension(s) describe what the resulting indexed data represents. A ``Dimension`` have names, types, ranges and units. This information allows HoloViews to rescale and label axes and allows HoloViews be smart in how it processes your data.\n",
      "\n",
      "\n",
      "* ***The multi-dimensional space in which your data resides***. This may be space as we normally think of it (in X, Y and Z coordinates). It may be the spatial position of one component relative to another. Or it may be an entirely abstract space such as a parameter space.\n",
      "\n",
      "\n",
      "* ***How your data relates to other data***. In short how your data is organized. If you have a collection of points that was computed from an image, you can overlay your points over the image. As a result you have something that both displays sensibly and is grouped together in a semantically meaningful way.\n",
      "\n",
      "By requiring little or no additional information ([``Component``](./HoloViews_Components.ipynb) type) HoloViews stays out your way when initially exploring your data, offering immediate feedback with with reasonable default visualizations. As your data becomes more complex and your research progresses, you may offer more useful metadata so that HoloViews which will automatically improve your displayed figures accordingly.\n",
      "\n",
      "Although HoloViews is certainly very useful without IPython, extensive integration with the IPython Notebook makes the notebook environment the recommended way of building reproducible, yet interactive workflows."
     ]
    },
    {
     "cell_type": "heading",
     "level": 2,
     "metadata": {},
     "source": [
      "Getting Started"
     ]
    },
    {
     "cell_type": "markdown",
     "metadata": {},
     "source": [
      "To enable IPython integration, you need to load the IPython extension as follows:"
     ]
    },
    {
     "cell_type": "code",
     "collapsed": false,
     "input": [
      "%load_ext holoviews.ipython"
     ],
     "language": "python",
     "metadata": {},
     "outputs": []
    },
    {
     "cell_type": "markdown",
     "metadata": {},
     "source": [
      "As HoloViews makes extensive use of numpy to hold raw data, a qualified numpy import is recommended:"
     ]
    },
    {
     "cell_type": "code",
     "collapsed": false,
     "input": [
      "import numpy as np"
     ],
     "language": "python",
     "metadata": {},
     "outputs": []
    },
    {
     "cell_type": "heading",
     "level": 2,
     "metadata": {},
     "source": [
      "Interactive Documentation <a id='ParamDoc'/>"
     ]
    },
    {
     "cell_type": "markdown",
     "metadata": {},
     "source": [
      "Holoviews has extremely well-documented constructors for every class (due to the use of [parameters](https://ioam.github.io/param/)). We have made sure to provide a number of convenient ways to access this information interactively. Say you have imported ``Element``:\n",
      "\n",
      "```python\n",
      "from holoviews import Element\n",
      "```\n",
      "You can now access class and parameter documentation in the following ways:\n",
      "\n",
      "* The IPython's help syntax: ``Element?``\n",
      "* Cycling``<Shift+TAB>`` to get more information after opening the constructor: ```Element(<Shift+TAB>```\n",
      "* The ``%params`` magic to view information in the pager for an object in the namespace: ``%params Element``\n",
      "\n",
      "Lastly, you can tab-complete arguments to HoloViews classes so if you try ```Element(va<TAB>``, \n",
      "you will see the available keyword arguments (``value``  and ``value_dimensions``)."
     ]
    },
    {
     "cell_type": "heading",
     "level": 2,
     "metadata": {},
     "source": [
      "A simple visualization"
     ]
    },
    {
     "cell_type": "markdown",
     "metadata": {},
     "source": [
      "To begin, let's see how HoloViews stays out your way when initially exploring some data. Let's view an image, selecting the appropriate [RGB Element](./HoloViews_Elements.ipynb#RGB) to do so:"
     ]
    },
    {
     "cell_type": "code",
     "collapsed": false,
     "input": [
      "from holoviews import RGB"
     ],
     "language": "python",
     "metadata": {},
     "outputs": []
    },
    {
     "cell_type": "markdown",
     "metadata": {},
     "source": [
      "Now, although we could immediately load our image into the ``RGB`` object, we will first have a look at the raw numpy array:"
     ]
    },
    {
     "cell_type": "code",
     "collapsed": false,
     "input": [
      "parrot = RGB.load_image('../assets/macaw.png', array=True)\n",
      "print \"Array 'parrot' has shape (%s,%s,%s)\" % parrot.shape"
     ],
     "language": "python",
     "metadata": {},
     "outputs": []
    },
    {
     "cell_type": "markdown",
     "metadata": {},
     "source": [
      "As we can see this data has four channels (the fourth being an unused alpha channel). Now our ``RGB`` element wraps our numpy array:"
     ]
    },
    {
     "cell_type": "code",
     "collapsed": false,
     "input": [
      "rgb_parrot = RGB(parrot, label='Macaw')\n",
      "rgb_parrot"
     ],
     "language": "python",
     "metadata": {},
     "outputs": []
    },
    {
     "cell_type": "markdown",
     "metadata": {},
     "source": [
      "We gave this image an optional label that has automatically been presented as a title.\n",
      "\n",
      "What you are seeing above is not a plot but a representation of the ``RGB`` object wrapping our data. This object can be composed with other objects, pickled and includes many methods for analysis. Our object also knows how to display itself in a useful, menaingful way.\n",
      "\n",
      "To demonstrate that this isn't a plot but our actual data, we can check the identity of the ``.data`` attribute:"
     ]
    },
    {
     "cell_type": "code",
     "collapsed": false,
     "input": [
      "rgb_parrot.data is parrot"
     ],
     "language": "python",
     "metadata": {},
     "outputs": []
    },
    {
     "cell_type": "markdown",
     "metadata": {},
     "source": [
      "As you compose these objects together, you will see that a complex visualization is not simply a visual display but a rich data structure containing all the raw data or analysed data."
     ]
    },
    {
     "cell_type": "heading",
     "level": 3,
     "metadata": {},
     "source": [
      "Viewing individual color channels"
     ]
    },
    {
     "cell_type": "markdown",
     "metadata": {},
     "source": [
      "For many analysis purposes, working in RGB colour space is rather limiting: it is often more flexible to work with a single $NxM$ array at a time and visualize the data using a colormap. To do this we need the [Matrix Element](./HoloViews_Elements.ipynb#Matrix) object instead of the ``RGB`` object:\n",
      "\n",
      "To illustrate, let's visualize the individual color channels of our penguins image as well as the total luminance across all the channels:"
     ]
    },
    {
     "cell_type": "code",
     "collapsed": false,
     "input": [
      "from holoviews import Matrix\n",
      "luminance = Matrix(parrot.sum(axis=2), label='Summed Luminance')"
     ],
     "language": "python",
     "metadata": {},
     "outputs": []
    },
    {
     "cell_type": "markdown",
     "metadata": {},
     "source": [
      "We will start with the latter, by examining the total luminance across channels using the ``%%opts`` cell magic with a 'jet' color map."
     ]
    },
    {
     "cell_type": "code",
     "collapsed": false,
     "input": [
      "%%opts Matrix style(cmap='jet')\n",
      "luminance"
     ],
     "language": "python",
     "metadata": {},
     "outputs": []
    },
    {
     "cell_type": "markdown",
     "metadata": {},
     "source": [
      "This result is what we would expect: dark areas are shown in blue and bright areas are shown in red. We will be now using the default colormaps be we will come back to the ``%%opts`` magic in more detail later in the tutorial.\n",
      "\n",
      "We will now look at a single color channel using the appropriate ``Matrix`` element:"
     ]
    },
    {
     "cell_type": "code",
     "collapsed": false,
     "input": [
      "red = Matrix(parrot[:,:,0], label='Red')\n",
      "red"
     ],
     "language": "python",
     "metadata": {},
     "outputs": []
    },
    {
     "cell_type": "markdown",
     "metadata": {},
     "source": [
      "Although we created the ``Matrix`` above directly from a numpy array, ``HoloViews`` offers slicing. When you slice an ``RGB`` element into the channels, you immediately get the appropriate ``Matrix``.\n",
      "\n",
      "Here we look at all three of these channels using the first compositional operator ``+`` and two slices:"
     ]
    },
    {
     "cell_type": "code",
     "collapsed": false,
     "input": [
      "channels = red + rgb_parrot[:,:,'G'].relabel('Green') + rgb_parrot[:,:,'B'].relabel('Blue')\n",
      "channels"
     ],
     "language": "python",
     "metadata": {},
     "outputs": []
    },
    {
     "cell_type": "markdown",
     "metadata": {},
     "source": [
      "We have now slices our three channels and presented the side by side. Note how the parrot looks quite distictly different in the red channel than the green and blue channel.\n",
      "\n",
      "\n",
      "This isn't merely a **display** of three elements side-by-side but a new composite object containing our three ``Matrix`` objects:"
     ]
    },
    {
     "cell_type": "code",
     "collapsed": false,
     "input": [
      "print repr(channels)"
     ],
     "language": "python",
     "metadata": {},
     "outputs": []
    },
    {
     "cell_type": "markdown",
     "metadata": {},
     "source": [
      "This object offer very convenient attribute (tab-completable) access to the components using the semantically meaninful labels we have assigned:"
     ]
    },
    {
     "cell_type": "code",
     "collapsed": false,
     "input": [
      "channels.Matrix.Blue"
     ],
     "language": "python",
     "metadata": {},
     "outputs": []
    },
    {
     "cell_type": "markdown",
     "metadata": {},
     "source": [
      "This allows us to recompose our data, here to compare the Red and Blue channels together more directly:"
     ]
    },
    {
     "cell_type": "code",
     "collapsed": false,
     "input": [
      "channels.Matrix.Red + channels.Matrix.Blue"
     ],
     "language": "python",
     "metadata": {},
     "outputs": []
    },
    {
     "cell_type": "markdown",
     "metadata": {},
     "source": [
      "Note how the labels we have set are useful for both the titles and the indexing.\n"
     ]
    },
    {
     "cell_type": "heading",
     "level": 2,
     "metadata": {},
     "source": [
      "Grouping into ``Layouts``"
     ]
    },
    {
     "cell_type": "markdown",
     "metadata": {},
     "source": [
      "You may wonder what the ``.Matrix.`` is doing in the middle of the indexing above. This is the ***value*** which although we haven't set is as important a concept as the label.\n",
      "\n",
      "By default, the value is the same as the name of the HoloViews element type as as we used ``Matrix`` the value if ``\"Matrix\"``:"
     ]
    },
    {
     "cell_type": "code",
     "collapsed": false,
     "input": [
      "channels.Matrix.Blue.value"
     ],
     "language": "python",
     "metadata": {},
     "outputs": []
    },
    {
     "cell_type": "markdown",
     "metadata": {},
     "source": [
      "The value is an extremely useful grouping mechanism. As we noted above, the red channel is the most clearly different from the other two so let's group it as such using the value:"
     ]
    },
    {
     "cell_type": "code",
     "collapsed": false,
     "input": [
      "channels = ( Matrix(parrot[:,:,0], value='RedChannel', label='Macaw')\n",
      "           + Matrix(parrot[:,:,1], value='Channels', label='Green') \n",
      "           + Matrix(parrot[:,:,2], value='Channels',  label='Blue'))"
     ],
     "language": "python",
     "metadata": {},
     "outputs": []
    },
    {
     "cell_type": "markdown",
     "metadata": {},
     "source": [
      "The red channel is given it's own special value ``'RedChannel'`` while the other two channels are grouped under ``Channels``. Here is our group of the two channels under ``Channels``:"
     ]
    },
    {
     "cell_type": "code",
     "collapsed": false,
     "input": [
      "channels.Channels"
     ],
     "language": "python",
     "metadata": {},
     "outputs": []
    },
    {
     "cell_type": "markdown",
     "metadata": {},
     "source": [
      "And now we can access the interesting red channel:"
     ]
    },
    {
     "cell_type": "code",
     "collapsed": false,
     "input": [
      "channels.RedChannel.Macaw"
     ],
     "language": "python",
     "metadata": {},
     "outputs": []
    },
    {
     "cell_type": "markdown",
     "metadata": {},
     "source": [
      "Of course, you could also access the other two channels individually using ``channels.Channels.Green`` and ``channels.Channels.Blue`` respectively. We choose how much indexing we need to get at our elements and what groups are meaningful.\n",
      "\n",
      "Now let's look at the whole lot together:"
     ]
    },
    {
     "cell_type": "code",
     "collapsed": false,
     "input": [
      "channels"
     ],
     "language": "python",
     "metadata": {},
     "outputs": []
    },
    {
     "cell_type": "markdown",
     "metadata": {},
     "source": [
      "Although visually very similar to what we had in ``Out [10]``, we now have a nested data-structure (a tree data-structure called a ``Layout``) with a different organization:"
     ]
    },
    {
     "cell_type": "heading",
     "level": 3,
     "metadata": {},
     "source": [
      "The ``Layout`` datastructure"
     ]
    },
    {
     "cell_type": "markdown",
     "metadata": {},
     "source": [
      "Here is the datastructure we built using the ``+`` operator:"
     ]
    },
    {
     "cell_type": "code",
     "collapsed": false,
     "input": [
      "print repr(channels)"
     ],
     "language": "python",
     "metadata": {},
     "outputs": []
    },
    {
     "cell_type": "markdown",
     "metadata": {},
     "source": [
      "All the raw data we have used is stored inside the ``Matrix`` objects that are easily accessible in this tree. We index the tree by value and label e.g. ``RedChannel.Parrot``. or ``Channels.Green``.\n",
      "\n",
      "The elements themselves are identified according to the scheme ``{type}.{value}.{label}``. Note that the indexing of the tree follows the value and label of the contained elements. This is the default behaviour and almost always true unless explicitly set otherwise.\n",
      "\n",
      "You may wonder what he string in the brackets ``(Luminance)`` means. This the name of the default value dimension for our ``Matrix`` objects. Again, this can be set to whatever value is appropriate to describe the elements of the two-dimensional array."
     ]
    },
    {
     "cell_type": "code",
     "collapsed": false,
     "input": [
      "channels.RedChannel.Macaw.value_dimensions[0]"
     ],
     "language": "python",
     "metadata": {},
     "outputs": []
    },
    {
     "cell_type": "markdown",
     "metadata": {},
     "source": [
      "The ``Layout`` is an incredibly convenient and versatile way of collecting data together both semantically and/or for display. As we have show, the first level of indexing is by   demonstrated above, it allows data to be grouped by value as well as indexed to select invidual elements of the tree.\n",
      "\n",
      "\n",
      "(Note you can use the ``%pprint`` magic to toggle between repr and rich display)"
     ]
    },
    {
     "cell_type": "heading",
     "level": 2,
     "metadata": {},
     "source": [
      "Grouping into ``Overlays``"
     ]
    },
    {
     "cell_type": "markdown",
     "metadata": {},
     "source": [
      "Putting two Holoview ``Elements`` side-by-side is only one of the two main compositional operations. The other way of building complex visualizations is by overlaying elements on top of each other."
     ]
    },
    {
     "cell_type": "markdown",
     "metadata": {},
     "source": [
      "HoloViews supports a large number of components as listed in the [components reference](./HoloViews_Components.ipynb). In general, any of these components can be overlayed with any other (except for the ``Layout`` which always contains ``Overlays`` and never the other way around)."
     ]
    },
    {
     "cell_type": "heading",
     "level": 3,
     "metadata": {},
     "source": [
      "Pointing to our parrot"
     ]
    },
    {
     "cell_type": "markdown",
     "metadata": {},
     "source": [
      "\n",
      "One type of element designed specifically for overlaying is the annotation. Here we use the [Arrow Element](./HoloViews_Components.ipynb#Arrow) to label our parrot using the original ``RGB`` object with the overlay (``*``) operator:"
     ]
    },
    {
     "cell_type": "code",
     "collapsed": false,
     "input": [
      "from holoviews import Arrow\n",
      "extents = (-0.5, -0.5, 0.5, 0.5) # Image spatial extents\n",
      "o = rgb_parrot * Arrow(-0.1,0.2, 'Polly', '>', extents=extents)\n",
      "o"
     ],
     "language": "python",
     "metadata": {},
     "outputs": []
    },
    {
     "cell_type": "markdown",
     "metadata": {},
     "source": [
      "An overlay is a compositional datastructure, just like ``Layout`` (it is in fact a subclass!). This means the same indexing and grouping sematics apply. To illustrate we can index our overlay to pull it apart and lay the two components side-by-side:\n"
     ]
    },
    {
     "cell_type": "code",
     "collapsed": false,
     "input": [
      "o.RGB.Macaw + o.Arrow.I"
     ],
     "language": "python",
     "metadata": {},
     "outputs": []
    },
    {
     "cell_type": "markdown",
     "metadata": {},
     "source": [
      "Note that when there is no label available, HoloViews will generate an appropriate roman numeral identifier for indexing. In this case we index our arrow using ``Arrow.I``.\n",
      "\n",
      "Naturally, overlays may themselves be elements of a ``Layout``."
     ]
    },
    {
     "cell_type": "heading",
     "level": 3,
     "metadata": {},
     "source": [
      "Overlaying contours"
     ]
    },
    {
     "cell_type": "markdown",
     "metadata": {},
     "source": [
      "Overlays may be simple annotations as demonstrated above but often they can contain significant volumes of important data. To demonstrate, we will introduce the concept of **operations** and the [Contours Element](./HoloViews_Components.ipynb#Contours):"
     ]
    },
    {
     "cell_type": "code",
     "collapsed": false,
     "input": [
      "from holoviews.operation import contours"
     ],
     "language": "python",
     "metadata": {},
     "outputs": []
    },
    {
     "cell_type": "markdown",
     "metadata": {},
     "source": [
      "This operation takes a ``Matrix`` as input and generates an overlay for us, where our original input is returned with contour lines overlayed on top. Let's have a look at the ``50%`` level of our red channel:"
     ]
    },
    {
     "cell_type": "code",
     "collapsed": false,
     "input": [
      "contours(channels.RedChannel.Macaw,value='Red Level', levels=[0.5])"
     ],
     "language": "python",
     "metadata": {},
     "outputs": []
    },
    {
     "cell_type": "markdown",
     "metadata": {},
     "source": [
      "The start of the default colour cycle used by ``Contours`` is cyan, which is a confusing when visualizing the properties of a red color channel. We can now select a more appropriate style using the ``%%opts`` cell magic."
     ]
    },
    {
     "cell_type": "heading",
     "level": 2,
     "metadata": {},
     "source": [
      "The %%opts magic"
     ]
    },
    {
     "cell_type": "markdown",
     "metadata": {},
     "source": [
      "These thick black contours are rather hard against a grayscale image so we come back to the ``%opts`` magic in more detail this time. Lets repeat the operation above using the ``%opts`` (options) magic:"
     ]
    },
    {
     "cell_type": "code",
     "collapsed": false,
     "input": [
      "%%opts Contours (color='r' linewidth=1)\n",
      "rcontours = contours(channels.RedChannel.Macaw, value='Red Level', levels=[0.5])\n",
      "rcontours"
     ],
     "language": "python",
     "metadata": {},
     "outputs": []
    },
    {
     "cell_type": "markdown",
     "metadata": {},
     "source": [
      "The first token supplied to ``%%opts`` is ``Contours``. This specifies the HoloViews type that we want to style differently. Next we specify the type of option we want to change, in this case we do this with ``style(...)``. Finally, we supply the new keywords; these correspond to the matching matplotlib keywords with respect to drawing line artists (see matplotlib reference)\n",
      "\n",
      "Note that tab-completion is available wherever possible when specifying the magic."
     ]
    }
   ],
   "metadata": {}
  }
 ]
}