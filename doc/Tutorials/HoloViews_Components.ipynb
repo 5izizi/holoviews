{
 "metadata": {
  "name": "",
  "signature": "sha256:5f4a43bac664129af5fcdccc51a115be10869161c76b0fb6b2eec980247a114b"
 },
 "nbformat": 3,
 "nbformat_minor": 0,
 "worksheets": [
  {
   "cells": [
    {
     "cell_type": "heading",
     "level": 1,
     "metadata": {},
     "source": [
      "HoloViews Components"
     ]
    },
    {
     "cell_type": "markdown",
     "metadata": {},
     "source": [
      "This notebook serves as a reference for all the core components of HoloViews, with an extensive list of small, self-contained examples wherever possible, allowing each component to be understood and tested independently.  Further information is available in the docstrings for each component, generally available in IPython by typing the component name followed by \"``?``\".\n",
      "\n",
      "* ***[Section I: Elements](#Elements)*** -- the basic or fundamental types of data that can be visualized.\n",
      "* ***[Section II: Trees](#Trees)*** -- ``+`` and ``*`` operators to adjoin or overlay components\n",
      "* ***[Section III: Paths](#Paths)*** -- line-based components that can be overlaid onto other components\n",
      "* ***[Section IV: Annotations](#Annotations)*** -- other overlayable information\n",
      "* ***[Section V: Parameter Spaces](#Parameter Spaces)*** -- grids and other ways to visualize components covering parameter spaces\n",
      "\n",
      "\n",
      "All HoloViews components have extensive documentation built-in that can be viewed interactively using our [documentation system](./HoloViews_Introduction.ipynb#ParamDoc).\n",
      "\n",
      "\n",
      "Other Tutorials and Notebooks:\n",
      "\n",
      "* [Showcase](http://ioam.github.io/media/holoviews/HoloViews_Showcase.html): Introduction to the overall capabilities of HoloViews\n",
      "\n",
      "* [Introduction](http://ioam.github.io/media/holoviews/HoloViews_Tutorial.html): Step-by-step explanation of the basic concepts in HoloViews\n",
      "\n",
      "* [HoloMap Introduction](http://ioam.github.io/media/holoviews/HoloMap_Tutorial.html) and [HoloMap Advanced](http://ioam.github.io/media/holoviews/HoloMap_Advanced.html): Using a HoloMap to collect all your data so that it can be selected, combined, and visualized flexibly\n",
      "\n",
      "* [Pandas and Seaborn](http://ioam.github.io/media/holoviews/Pandas_and_Seaborn.html): Overview of components that link to third party libraries"
     ]
    },
    {
     "cell_type": "code",
     "collapsed": false,
     "input": [
      "%load_ext holoviews.ipython"
     ],
     "language": "python",
     "metadata": {},
     "outputs": []
    },
    {
     "cell_type": "heading",
     "level": 1,
     "metadata": {},
     "source": [
      "Section I: Elements <a id='Elements'/>"
     ]
    },
    {
     "cell_type": "markdown",
     "metadata": {},
     "source": [
      "The elements are the basic building blocks for any HoloViews visualization. Using the compositional tree operators [``+`` and ``*``](#Trees), you can compose all these elements together in a multitude of ways. \n",
      "Here in this tutorial, we show how to build these elements directly out of Python or Numpy data structures, but an even more powerful way to use them is via a \n",
      "[``HoloMap``](http://ioam.github.io/media/holoviews/HoloMap_Tutorial.html), documented separately, that allows you to explore, slice, and animate all these elements (and their tree compositions) easily and flexibly.\n",
      "\n",
      "### ``Elements``\n",
      "\n",
      "<dl class=\"dl-horizontal\">\n",
      "  <dt>[``Element``](#Element)</dt><dd>The base class of all ``Elements``.</dd>\n",
      "</dl>\n",
      "  \n",
      "### <a id='ChartIndex'/> [``Chart Elements:``](#Chart Elements) \n",
      "\n",
      "<dl class=\"dl-horizontal\">\n",
      "  <dt>[``Curve``](#Curve)</dt><dd>A continuous relation between a dependent and an independent variable.</dd>\n",
      "  <dt>[``Bars``](#Bars)</dt><dd>Data collected and binned into categories.</dd>\n",
      "  <dt>[``Histogram``](#Histogram)</dt><dd>Data collected and binned in a continuous space using specified bin edges.</dd>\n",
      "  <dt>[``Scatter``](#Scatter)</dt><dd>Discontinuous collection of points indexed over a single dimension.</dd>\n",
      "  <dt>[``Points``](#Points)</dt><dd>Discontinuous collection of points indexed over two dimensions.</dd>\n",
      "  <dt>[``VectorField``](#VectorField)</dt><dd>Cyclic variable (and optional auxillary data) distributed over two dimensional space.</dd>\n",
      "  <dt>[``SideHistogram``](#SideHistogram)</dt><dd>Histogram binning data contained by some other ``Element``.</dd>\n",
      "  </dl>\n",
      "\n",
      "### <a id='Chart3DIndex'/> [``Chart3D Elements:``](#Chart3D Elements)\n",
      "\n",
      "<dl class=\"dl-horizontal\">\n",
      "  <dt>[``Surface``](#Surface)</dt><dd>Continuous collection of points in a three-dimensional space.</dd>\n",
      "  <dt>[``Scatter3D``](#Scatter3D)</dt><dd>Discontinuous collection of points in a three-dimensional space.</dd>\n",
      "</dl>\n",
      "\n",
      "\n",
      "### <a id='RasterIndex'/>  [``Raster Elements:``](#Raster Elements)\n",
      "\n",
      "<dl class=\"dl-horizontal\">\n",
      "  <dt>[``Raster``](#Raster)</dt><dd>The base class of all rasters containing two-dimensional arrays (cannot be sliced).</dd>\n",
      "  <dt>[``HeatMap``](#HeatMap)</dt><dd>Raster displaying sparse data collected in a two-dimensional space.</dd>\n",
      "  <dt>[``Image``](#Image)</dt><dd>Raster containing two-dimensional array in continuous space (sliceable).</dd>\n",
      "  <dt>[``RGB``](#RGB)</dt><dd>Raster of 3 or 4 channels containing colour channel information.</dd>\n",
      "</dl>\n",
      "\n",
      "\n",
      "### <a id='TabularIndex'/>  [``Tabular Elements:``](#Tabular Elements)\n",
      "\n",
      "\n",
      "<dl class=\"dl-horizontal\">\n",
      "  <dt>[``ItemTable``](#ItemTable)</dt><dd>Ordered collection of key-value pairs (ordered dictionary).</dd>\n",
      "  <dt>[``Table``](#Table)</dt><dd>Collection of arbitrary data with arbitrary key and value dimensions.</dd>\n",
      "  </dl>"
     ]
    },
    {
     "cell_type": "heading",
     "level": 2,
     "metadata": {},
     "source": [
      "``Element`` <a id='Element'/>"
     ]
    },
    {
     "cell_type": "markdown",
     "metadata": {},
     "source": [
      "``Element`` is the base class for all the other HoloViews objects shown in this section.\n",
      "\n",
      "All ``Element`` objects accept data as the first argument to define the contents of that element. In addition to its implicit type, each element object has a ``value`` string and a ``label`` used to address it.\n",
      "\n",
      "When rich display is off, or if no visualization has been defined for that type of ``Element``, the ``Element`` is presented in ``{type}.{value}.{label}`` format:"
     ]
    },
    {
     "cell_type": "code",
     "collapsed": false,
     "input": [
      "from holoviews import Element\n",
      "Element(None, value='Value', label='Label')"
     ],
     "language": "python",
     "metadata": {},
     "outputs": []
    },
    {
     "cell_type": "markdown",
     "metadata": {},
     "source": [
      "In addition, ``Element`` has ``key_dimensions``, ``value_dimensions`` and ``constant_dimensions`` to describe the semantics of indexing within the ``Element``, the semantics of the underlying contained by the ``Element``, and any constant parameters associated with the object.\n",
      "For more information on ``value``, ``label``, and the use of dimensions, please see our [introductory tutorial](http://ioam.github.io/media/holoviews/HoloViews_Tutorial.html)."
     ]
    },
    {
     "cell_type": "heading",
     "level": 2,
     "metadata": {},
     "source": [
      "``Chart`` Elements <a id='Chart Elements'/>"
     ]
    },
    {
     "cell_type": "markdown",
     "metadata": {},
     "source": [
      "The first large class of ``Elements`` is the ``Chart`` elements. These are generally indexable/sliceable along the $x$-axis, but not the $y$-axis, because they are intended for data values $y$ measured for a given $x$ value."
     ]
    },
    {
     "cell_type": "heading",
     "level": 3,
     "metadata": {},
     "source": [
      "``Curve`` <a id='Curve'/>"
     ]
    },
    {
     "cell_type": "code",
     "collapsed": false,
     "input": [
      "import numpy as np\n",
      "from holoviews import Curve\n",
      "points = [(0.1*i, np.sin(0.1*i)) for i in range(100)]\n",
      "Curve(points)"
     ],
     "language": "python",
     "metadata": {},
     "outputs": []
    },
    {
     "cell_type": "heading",
     "level": 3,
     "metadata": {},
     "source": [
      "``Bars`` <a id='Bars'/>"
     ]
    },
    {
     "cell_type": "code",
     "collapsed": false,
     "input": [
      "import numpy as np\n",
      "from holoviews import Bars\n",
      "data = [('one',8),('two', 10), ('three', 16), ('four', 8), ('five', 4), ('six', 1)]\n",
      "Bars(data, key_dimensions=['Car occupants'], value_dimensions=['Frequency'])"
     ],
     "language": "python",
     "metadata": {},
     "outputs": []
    },
    {
     "cell_type": "heading",
     "level": 3,
     "metadata": {},
     "source": [
      "``Histogram`` <a id='Histogram'/>"
     ]
    },
    {
     "cell_type": "code",
     "collapsed": false,
     "input": [
      "import numpy as np\n",
      "from holoviews import Histogram\n",
      "data = [np.random.normal() for i in range(10000)]\n",
      "frequencies, edges = np.histogram(data, 20)\n",
      "Histogram(frequencies, edges)"
     ],
     "language": "python",
     "metadata": {},
     "outputs": []
    },
    {
     "cell_type": "heading",
     "level": 3,
     "metadata": {},
     "source": [
      "``Scatter`` <a id='Scatter'/>"
     ]
    },
    {
     "cell_type": "code",
     "collapsed": false,
     "input": [
      "%%opts Scatter (color='k', marker='s', s=50) \n",
      "import numpy as np # marker can e.g. be s,d,o; see http://matplotlib.org/api/markers_api.html\n",
      "np.random.seed(42)\n",
      "from holoviews import Scatter\n",
      "points = [(i, np.random.random()) for i in range(20)]\n",
      "Scatter(points) + Scatter(points)[12:20]"
     ],
     "language": "python",
     "metadata": {},
     "outputs": []
    },
    {
     "cell_type": "markdown",
     "metadata": {},
     "source": [
      "``Scatter`` is very similar to ``Points``, below, but it is intended for $y$ data measured given an independent value $x$, and thus a ``Scatter`` object can only be sliced along the $x$ axis. For instance, the right-hand plot above shows a slice that is the right side of the ``Scatter`` plot, while the right-hand plot of ``Points`` below shows a two-dimensional slice."
     ]
    },
    {
     "cell_type": "heading",
     "level": 3,
     "metadata": {},
     "source": [
      "``Points`` <a id='Points'/>"
     ]
    },
    {
     "cell_type": "code",
     "collapsed": false,
     "input": [
      "%opts Points {+groupwise}\n",
      "import numpy as np\n",
      "from holoviews import Points\n",
      "np.random.seed(12)\n",
      "points = np.random.rand(50,2)\n",
      "Points(points) + Points(points)[0.6:0.8,0.2:0.5]"
     ],
     "language": "python",
     "metadata": {},
     "outputs": []
    },
    {
     "cell_type": "markdown",
     "metadata": {},
     "source": [
      "Points are plotted and are sliceable in a two dimensional space, but they can actually be fairly high-dimensional (four in this example):"
     ]
    },
    {
     "cell_type": "code",
     "collapsed": false,
     "input": [
      "%%opts Points [color_index=2 size_index=3 scaling_factor=50]\n",
      "np.random.seed(10)\n",
      "data = np.random.rand(100,4)\n",
      "points = Points(data, value_dimensions=['z', 'alpha'])\n",
      "points + points[0.3:0.7, 0.3:0.7].hist()"
     ],
     "language": "python",
     "metadata": {},
     "outputs": []
    },
    {
     "cell_type": "heading",
     "level": 3,
     "metadata": {},
     "source": [
      "``VectorField`` <a id='VectorField'/>"
     ]
    },
    {
     "cell_type": "code",
     "collapsed": false,
     "input": [
      "import numpy as np\n",
      "from holoviews import VectorField\n",
      "\n",
      "x,y  = np.mgrid[-10:10,-10:10] * 0.25\n",
      "sine_rings  = np.sin(x**2+y**2)*np.pi+np.pi\n",
      "exp_falloff = 1/np.exp((x**2+y**2)/8)\n",
      "\n",
      "vector_data = np.array([x.flatten()/5.,           # X positions\n",
      "                        y.flatten()/5.,           # Y positions\n",
      "                        sine_rings.flatten(),     # Arrow angles\n",
      "                        exp_falloff.flatten()])   # Arrow sizes\n",
      "VectorField(vector_data.T)"
     ],
     "language": "python",
     "metadata": {},
     "outputs": []
    },
    {
     "cell_type": "markdown",
     "metadata": {},
     "source": [
      "As you can see above, the $x$ and $y$ positions are in a regular grid. The arrow angles follow a sinsoidal ring pattern and the arrow lengths fall off exponentially from the center, so this plot has four dimensions of data (direction and length for each $x,y$ position).\n",
      "\n",
      "Using the ``%%opts`` cell-magic (described in the [introductory tutorial](http://ioam.github.io/media/holoviews/HoloViews_Tutorial.html)), we can also use color as a redundant indicator to the direction or magnitude:"
     ]
    },
    {
     "cell_type": "code",
     "collapsed": false,
     "input": [
      "%%opts VectorField.A [color_dim='angle'] VectorField.M [color_dim='magnitude']\n",
      "VectorField(vector_data.T, value='A')"
     ],
     "language": "python",
     "metadata": {},
     "outputs": []
    },
    {
     "cell_type": "heading",
     "level": 3,
     "metadata": {},
     "source": [
      "``SideHistogram`` <a id='SideHistogram'/>"
     ]
    },
    {
     "cell_type": "markdown",
     "metadata": {},
     "source": [
      "The ``.hist`` method conveniently adjoins a histogram to the side of any ``Chart``, ``Surface``, or ``Raster`` component.  For a ``Raster`` using color or grayscale to show values (below), the side histogram doubles as a color bar or key."
     ]
    },
    {
     "cell_type": "code",
     "collapsed": false,
     "input": [
      "import numpy as np\n",
      "np.random.seed(42)\n",
      "from holoviews import Scatter\n",
      "points = [(i, np.random.normal()) for i in range(800)]\n",
      "Scatter(points).hist()"
     ],
     "language": "python",
     "metadata": {},
     "outputs": []
    },
    {
     "cell_type": "heading",
     "level": 2,
     "metadata": {},
     "source": [
      "``Chart3D`` Elements <a id='Chart3D Elements'/>"
     ]
    },
    {
     "cell_type": "heading",
     "level": 3,
     "metadata": {},
     "source": [
      "``Surface`` <a id='Surface'/>"
     ]
    },
    {
     "cell_type": "code",
     "collapsed": false,
     "input": [
      "%%opts Surface (cmap='jet' rstride=20, cstride=2)\n",
      "import numpy as np\n",
      "from holoviews import Surface\n",
      "Surface(np.sin(np.linspace(0,100*np.pi*2,10000)).reshape(100,100))"
     ],
     "language": "python",
     "metadata": {},
     "outputs": []
    },
    {
     "cell_type": "heading",
     "level": 3,
     "metadata": {},
     "source": [
      "``Scatter3D`` <a id='Scatter3D'/>"
     ]
    },
    {
     "cell_type": "code",
     "collapsed": false,
     "input": [
      "%%opts Scatter3D [azimuth=40 elevation=20]\n",
      "import numpy as np\n",
      "from holoviews import Scatter3D\n",
      "x,y = np.mgrid[-5:5, -5:5] * 0.1\n",
      "heights = np.sin(x**2+y**2)\n",
      "Scatter3D(np.array(zip(x.flat,y.flat,heights.flat)))"
     ],
     "language": "python",
     "metadata": {},
     "outputs": []
    },
    {
     "cell_type": "heading",
     "level": 2,
     "metadata": {},
     "source": [
      "``Raster`` Elements <a id='Raster Elements'/>"
     ]
    },
    {
     "cell_type": "markdown",
     "metadata": {},
     "source": [
      "The second large class of ``Elements`` is the raster elements. Unlike most ``Chart`` elements (apart from ``Points``), these live in a two dimensional space. For the ``Image`` and ``RGB`` elements, the coordinates of this two-dimensional space are defined in a continuous coordinate system."
     ]
    },
    {
     "cell_type": "heading",
     "level": 3,
     "metadata": {},
     "source": [
      "``Raster`` <a id='Raster'/>"
     ]
    },
    {
     "cell_type": "markdown",
     "metadata": {},
     "source": [
      "This is primarily the base class of all ``Raster elements``, but may be used directly to visualize 2D-arrays using a color map. However, unlike the ``Image`` subclass, ``Raster`` does not support slicing semantics (although you can always slice your input numpy array as required)."
     ]
    },
    {
     "cell_type": "code",
     "collapsed": false,
     "input": [
      "import numpy as np\n",
      "from holoviews import Raster\n",
      "x,y = np.mgrid[-50:51, -50:51] * 0.1\n",
      "Raster(np.sin(x**2+y**2))"
     ],
     "language": "python",
     "metadata": {},
     "outputs": []
    },
    {
     "cell_type": "markdown",
     "metadata": {},
     "source": [
      "The default extents of a ``Raster`` correspond to the shape of the input array."
     ]
    },
    {
     "cell_type": "heading",
     "level": 3,
     "metadata": {},
     "source": [
      "``HeatMap`` <a id='HeatMap'/>"
     ]
    },
    {
     "cell_type": "markdown",
     "metadata": {},
     "source": [
      "A ``HeatMap`` displays like a typical raster image, but the input is a dictionary indexed with two-dimensional keys, not a Numpy array. As many rows and columns as required will be created to display the values in an appropriate grid format.  Values unspecified are labeled ``nan``, and the keys can be any Python datatype (not necessarily numeric).  One typical usage is to show values from a set of experiments, such as a parameter space exploration, and other such visualizations are shown below in the [``Spaces``](#Spaces) section below. Each value is labeled explicitly , and so this component is not meant for very large numbers of samples."
     ]
    },
    {
     "cell_type": "code",
     "collapsed": false,
     "input": [
      "import numpy as np\n",
      "from holoviews import HeatMap\n",
      "data = {(chr(65+i),chr(97+j)):i*j for i in range(5) for j in range(5) if i!=j}\n",
      "HeatMap(data)"
     ],
     "language": "python",
     "metadata": {},
     "outputs": []
    },
    {
     "cell_type": "heading",
     "level": 3,
     "metadata": {},
     "source": [
      "``Image`` <a id='Image'/>"
     ]
    },
    {
     "cell_type": "markdown",
     "metadata": {},
     "source": [
      "Like ``Raster``, a HoloViews ``Image`` allows you to view 2D arrays using an arbitrary color map. Unlike ``Raster``, an ``Image`` is associated with a 2D coordinate system in continuous space.  The coordinate system allows slicing, which makes ``Image`` more useful than ``Raster`` in general."
     ]
    },
    {
     "cell_type": "code",
     "collapsed": false,
     "input": [
      "import numpy as np\n",
      "from holoviews import Image\n",
      "\n",
      "x,y = np.mgrid[-50:51, -50:51] * 0.1\n",
      "bounds=(-1,-1,1,1)   # Coordinate system: (left, bottom, top, right)\n",
      "\n",
      "(Image(np.sin(x**2+y**2),   bounds=bounds) \n",
      " + Image(np.sin(x**2+y**2), bounds=bounds)[-0.5:0.5, -0.5:0.5])"
     ],
     "language": "python",
     "metadata": {},
     "outputs": []
    },
    {
     "cell_type": "markdown",
     "metadata": {},
     "source": [
      "Note that because our declared coordinate system is continuous, we can slice with any floating-point value we choose. The appropriate range of the samples in the input numpy array will always be displayed, whether or not there are samples at those specific floating-point values.\n",
      "\n",
      "It is also worth noting that the name ``Image`` can clash with other common libraries, which is one reason to avoid unqualified imports like the ``from holoviews import *`` statement that we use in these tutorials for brevity. For instance, the Python Imaging Libray provides an ``Image`` module, and IPython itself supplies an ``Image`` class in ``IPython.display``.  Python namespaces allow you to avoid such problems, e.g. using ``from PIL import Image as PILImage`` or using ``import holoviews as hv`` and then ``hv.Image()``."
     ]
    },
    {
     "cell_type": "heading",
     "level": 3,
     "metadata": {},
     "source": [
      "``RGB`` <a id='RGB'/>"
     ]
    },
    {
     "cell_type": "markdown",
     "metadata": {},
     "source": [
      "The ``RGB`` element is a ``Raster`` that supports red, green, blue, and optionally an alpha channel."
     ]
    },
    {
     "cell_type": "code",
     "collapsed": false,
     "input": [
      "import numpy as np\n",
      "from holoviews import RGB\n",
      "\n",
      "x,y = np.mgrid[-50:51, -50:51] * 0.1\n",
      "r = 0.5*np.sin(np.pi  +x**2+y**2)+0.5\n",
      "g = 0.5*np.sin(np.pi/2+x**2+y**2)+0.5\n",
      "b = 0.5*np.sin(x**2+y**2)+0.5\n",
      "a = 0.5*np.sin(0.2*(x**2+y**2))+0.5\n",
      "\n",
      "RGB(np.dstack([r,g,b])) +  RGB(np.dstack([r,g,b,a]))"
     ],
     "language": "python",
     "metadata": {},
     "outputs": []
    },
    {
     "cell_type": "markdown",
     "metadata": {},
     "source": [
      "``RGB`` elements can be constructed using arrays for Hue, Saturation, and Value using the ``toHCS`` operator, as long as the Hue dimension is a cyclic quantity with a declared range:"
     ]
    },
    {
     "cell_type": "code",
     "collapsed": false,
     "input": [
      "from holoviews import Dimension\n",
      "from holoviews.operation import toHCS\n",
      "\n",
      "x,y = np.mgrid[-50:51, -50:51] * 0.1\n",
      "hue = np.sin(0.2*(x**2+y**2))\n",
      "exp_falloff = np.exp((x**2+y**2)/20) - 1.0\n",
      "\n",
      "Hue = Image(hue, value_dimensions=[Dimension('Hue', range=(-1,1), cyclic=True)])\n",
      "toHCS(Hue * Image(np.ones((101,101))) * Image(exp_falloff))"
     ],
     "language": "python",
     "metadata": {},
     "outputs": []
    },
    {
     "cell_type": "heading",
     "level": 1,
     "metadata": {},
     "source": [
      "``Tabular`` Elements <a id='Tabular Elements'/>"
     ]
    },
    {
     "cell_type": "markdown",
     "metadata": {},
     "source": [
      "The second category of ``Elements`` is the tabular elements."
     ]
    },
    {
     "cell_type": "heading",
     "level": 2,
     "metadata": {},
     "source": [
      "``ItemTable`` <a id='ItemTable'/>"
     ]
    },
    {
     "cell_type": "markdown",
     "metadata": {},
     "source": [
      "An ``ItemTable`` is an ordered collection of key, value pairs. It can be used to directly visualize items in a tabular format where the items may be supplied as an ``OrderedDict`` or a list of (key,value) pairs. A standard Python dictionary can be easily visualized using a call to the ``.items()`` method, though the entries in such a dictionary are not kept in any particular order, and so you may wish to sort them before display.  One typical usage for an ``ItemTable`` is to list parameter values or measurements associated with an adjacent plot."
     ]
    },
    {
     "cell_type": "code",
     "collapsed": false,
     "input": [
      "from holoviews import ItemTable\n",
      "ItemTable([('Age', 10), ('Weight',15), ('Height','0.8 meters')])"
     ],
     "language": "python",
     "metadata": {},
     "outputs": []
    },
    {
     "cell_type": "heading",
     "level": 2,
     "metadata": {},
     "source": [
      "``Table`` <a id='Table'/>"
     ]
    },
    {
     "cell_type": "markdown",
     "metadata": {},
     "source": [
      "A table is more general than an ``ItemTable``, as it allows multi-dimensional keys and multidimensional values."
     ]
    },
    {
     "cell_type": "code",
     "collapsed": false,
     "input": [
      "from holoviews import Table\n",
      "from collections import OrderedDict\n",
      "keys =   [('M',10), ('M',16), ('F',12)]\n",
      "values = [(15, 0.8), (18, 0.6), (10, 0.8)]\n",
      "table =Table(zip(keys,values), \n",
      "          key_dimensions = ['Gender', 'Age'], \n",
      "          value_dimensions=['Weight', 'Height'])\n",
      "table"
     ],
     "language": "python",
     "metadata": {},
     "outputs": []
    },
    {
     "cell_type": "markdown",
     "metadata": {},
     "source": [
      "Note that you can use select using tables, and once you select using a full, multidimensional key, you get an ``ItemTable`` (shown on the right):"
     ]
    },
    {
     "cell_type": "code",
     "collapsed": false,
     "input": [
      "table.select(Gender='M') + table.select(Gender='M', Age=10)"
     ],
     "language": "python",
     "metadata": {},
     "outputs": []
    },
    {
     "cell_type": "markdown",
     "metadata": {},
     "source": [
      "The ``Table`` is used as a common data structure that may be converted to any HoloViews datastructure using the ``TableConversion`` class. A similar principle holds when converting data from [Pandas](http://ioam.github.io/media/holoviews/Pandas_and_Seaborn.html) DataFrames to HoloViews objects.\n",
      "\n",
      "The functionality of the ``TableConversion`` class may be conveniently accessed using the ``.to`` property, which deserves its own tutorial but for now this will have to do:"
     ]
    },
    {
     "cell_type": "code",
     "collapsed": false,
     "input": [
      "table.select(Gender='M').to.curve(key_dimensions=[\"Age\"],value_dimensions=[\"Weight\"])"
     ],
     "language": "python",
     "metadata": {},
     "outputs": []
    },
    {
     "cell_type": "heading",
     "level": 1,
     "metadata": {},
     "source": [
      "Section II: Trees  <a id='Trees'/>"
     ]
    },
    {
     "cell_type": "markdown",
     "metadata": {},
     "source": [
      "<dl class=\"dl-horizontal\">\n",
      "  <dt>[``Layout``](#Layout)  </dt><dd>Collect components into a tree, displaying them side by side (``+`` operator) </dd>\n",
      "  <dt>[``Overlay``](#Overlay)</dt><dd>Collect components into a tree, displaying them on top of each other (``*`` operator)</dd>\n",
      "</dl>\n"
     ]
    },
    {
     "cell_type": "heading",
     "level": 2,
     "metadata": {},
     "source": [
      "``Layout``  <a id='Layout'/>"
     ]
    },
    {
     "cell_type": "markdown",
     "metadata": {},
     "source": [
      "``Layout`` places components alongside each other, as described in more detail in the [Introductory tutorial](http://ioam.github.io/media/holoviews/HoloViews_Tutorial.html).  The ``.cols()`` method of ``Layout`` can be used to regroup the components into the specified number of columns, if desired."
     ]
    },
    {
     "cell_type": "code",
     "collapsed": false,
     "input": [
      "import numpy as np\n",
      "from holoviews import Curve, ItemTable\n",
      "points = [(0.1*i, np.sin(0.1*i)) for i in range(100)]\n",
      "Curve(points) + ItemTable([('A',1),('B',2)])"
     ],
     "language": "python",
     "metadata": {},
     "outputs": []
    },
    {
     "cell_type": "heading",
     "level": 2,
     "metadata": {},
     "source": [
      "``Overlay``  <a id='Overlay'/>"
     ]
    },
    {
     "cell_type": "markdown",
     "metadata": {},
     "source": [
      "Using ``vector_data`` from the ``VectorField`` example above, we can overlay the vector field on top of a ``Image`` (or any other) component:"
     ]
    },
    {
     "cell_type": "code",
     "collapsed": false,
     "input": [
      "%%opts VectorField (color='r')\n",
      "import numpy as np\n",
      "from holoviews import Image, VectorField\n",
      "Image(sine_rings) * VectorField(vector_data.T)"
     ],
     "language": "python",
     "metadata": {},
     "outputs": []
    },
    {
     "cell_type": "heading",
     "level": 1,
     "metadata": {},
     "source": [
      "Section III: Paths  <a id='Paths'/>"
     ]
    },
    {
     "cell_type": "markdown",
     "metadata": {},
     "source": [
      "Paths are components designed to be overlaid on top of other ``Element`` objects."
     ]
    },
    {
     "cell_type": "markdown",
     "metadata": {},
     "source": [
      "<dl class=\"dl-horizontal\">\n",
      "  <dt>[``Path``](#Path)</dt><dd>Collection of paths.</dd>\n",
      "  <dt>[``Contours``](#Contours)</dt><dd>Collection of paths, each with an associated value.</dd>\n",
      "  <dt>[``Bounds``](#Bounds)</dt><dd>Box specified by corner positions.</dd>\n",
      "  <dt>[``Box``](#Bounds)</dt><dd>Box specified by width, height, and center position.</dd>\n",
      "  <dt>[``Ellipse``](#Ellipse)</dt><dd>Ellipse specified by center position, radius, and aspect ratio.</dd>\n",
      "</dl>"
     ]
    },
    {
     "cell_type": "markdown",
     "metadata": {},
     "source": [
      "  To demonstrate path elements, we will be drawing many of our path elements on top of an RGB Image:"
     ]
    },
    {
     "cell_type": "code",
     "collapsed": false,
     "input": [
      "from holoviews import RGB\n",
      "scene = RGB.load_image('../assets/penguins.png')"
     ],
     "language": "python",
     "metadata": {},
     "outputs": []
    },
    {
     "cell_type": "heading",
     "level": 2,
     "metadata": {},
     "source": [
      "``Path``  <a id='Path'/>"
     ]
    },
    {
     "cell_type": "markdown",
     "metadata": {},
     "source": [
      "A ``Path`` object is actually a collection of paths which can be arbitrarily specified. Although there may be multiple unconnected paths in a single ``Path`` object, they will all share the same style. Only by overlaying multiple ``Path`` objects do you iterate through the defined color cycle (or any other style options that have been defined)."
     ]
    },
    {
     "cell_type": "code",
     "collapsed": false,
     "input": [
      "from holoviews import Path\n",
      "import numpy as np\n",
      "\n",
      "angle = np.linspace(0, 2*np.pi, 100)\n",
      "baby = list(zip(0.15*np.sin(angle),  0.2*np.cos(angle)-0.2))\n",
      "\n",
      "adultR = [(0.25, 0.45), (0.35,0.35), (0.25, 0.25), (0.15, 0.35), (0.25, 0.45)]\n",
      "adultL = [(-0.3, 0.4), (-0.3, 0.3), (-0.2, 0.3), (-0.2, 0.4),(-0.3, 0.4)]\n",
      "\n",
      "scene * Path([adultL, adultR, baby]) * Path([baby])"
     ],
     "language": "python",
     "metadata": {},
     "outputs": []
    },
    {
     "cell_type": "heading",
     "level": 2,
     "metadata": {},
     "source": [
      "``Contours``  <a id='Contours'/>"
     ]
    },
    {
     "cell_type": "markdown",
     "metadata": {},
     "source": [
      "A ``Contours`` object is simlar to ``Path`` object except each of the path elements is associated with a numeric value, called the ``level``. Sadly, our penguins are too complicated to give a simple example so instead we will simply mark the first couple of rings of our earlier ring pattern:"
     ]
    },
    {
     "cell_type": "code",
     "collapsed": false,
     "input": [
      "from holoviews import Contours\n",
      "import numpy as np\n",
      "\n",
      "x,y = np.mgrid[-50:51, -50:51] * 0.1\n",
      "\n",
      "def circle(radius):\n",
      "    angles = np.linspace(0, 2*np.pi, 100)\n",
      "    return np.array( list(zip(radius*np.sin(angles), radius*np.cos(angles))))\n",
      "\n",
      "Image(np.sin(x**2+y**2)) * Contours([circle(0.22)], level=0) * Contours([circle(0.33)], level=1)"
     ],
     "language": "python",
     "metadata": {},
     "outputs": []
    },
    {
     "cell_type": "heading",
     "level": 2,
     "metadata": {},
     "source": [
      "``Bounds``  <a id='Bounds'/>"
     ]
    },
    {
     "cell_type": "markdown",
     "metadata": {},
     "source": [
      "A bounds is a rectangular area specified as a tuple in  ``(left, bottom, right, top)`` format. It is useful for denoting a region of interest defined by some bounds, whereas ``Box`` (below) is useful for drawing a box at a specific location."
     ]
    },
    {
     "cell_type": "code",
     "collapsed": false,
     "input": [
      "from holoviews import Bounds\n",
      "scene * Bounds(0.2)  * Bounds((0.45, 0.45, 0.2, 0.2))"
     ],
     "language": "python",
     "metadata": {},
     "outputs": []
    },
    {
     "cell_type": "heading",
     "level": 2,
     "metadata": {},
     "source": [
      "``Box`` <a id='Box'/> and ``Ellipse`` <a id='Ellipse'/>"
     ]
    },
    {
     "cell_type": "markdown",
     "metadata": {},
     "source": [
      "A ``Box`` is similar to a ``Bounds`` except you specify the box width, height and position instead of the coordinates of the box corners. If only the width is supplied, a centered square will be drawn.  An ``Ellipse`` is specified just as for ``Box``, but has a round shape."
     ]
    },
    {
     "cell_type": "code",
     "collapsed": false,
     "input": [
      "from holoviews import Box, Ellipse\n",
      "scene * Box(0.2)  * Box(0.2, 0.35, x=-0, y=-0.3) + \\\n",
      "scene * Ellipse(-0.25, 0.3, 0.1) * Ellipse(0,-0.3, 0.1,aspect=2)"
     ],
     "language": "python",
     "metadata": {},
     "outputs": []
    },
    {
     "cell_type": "heading",
     "level": 1,
     "metadata": {},
     "source": [
      "Section IV: ``Annotation`` Elements <a id='Annotations'/>"
     ]
    },
    {
     "cell_type": "markdown",
     "metadata": {},
     "source": [
      "<dl class=\"dl-horizontal\">\n",
      "  <dt>[``VLine``](#VLine)</dt><dd>Vertical line annotation.</dd>\n",
      "  <dt>[``HLine``](#HLine)</dt><dd>Horizontal line annotation.</dd>\n",
      "  <dt>[``Spline``](#Spline)</dt><dd>Arbitrary bezier spline annotation.</dd>\n",
      "  <dt>[``Text``](#Text)</dt><dd>Arbitrary text annotation.</dd>\n",
      "  <dt>[``Arrow``](#Arrow)</dt><dd>Arrow with optional text</dd>\n",
      "</dl>"
     ]
    },
    {
     "cell_type": "heading",
     "level": 3,
     "metadata": {},
     "source": [
      "``VLine`` <a id='VLine'/> and ``HLine``  <a id='HLine'/>"
     ]
    },
    {
     "cell_type": "code",
     "collapsed": false,
     "input": [
      "from holoviews import VLine, HLine\n",
      "scene * VLine(-0.05) + scene * HLine(-0.05)"
     ],
     "language": "python",
     "metadata": {},
     "outputs": []
    },
    {
     "cell_type": "heading",
     "level": 3,
     "metadata": {},
     "source": [
      "``Spline``  <a id='Spline'/>"
     ]
    },
    {
     "cell_type": "markdown",
     "metadata": {},
     "source": [
      "The ``Spline`` annotation is used to draw Bezier splines using the same semantics as matplotlib splines. In the overlay below, the spline is in dark blue and the control points are in light blue."
     ]
    },
    {
     "cell_type": "code",
     "collapsed": false,
     "input": [
      "from holoviews import Spline, Curve\n",
      "points = [(-0.3, -0.3), (0,0), (0.25, -0.25), (0.3, 0.3)]\n",
      "codes = [1,4,4,4]\n",
      "scene * Spline((points,codes)) * Curve(points)"
     ],
     "language": "python",
     "metadata": {},
     "outputs": []
    },
    {
     "cell_type": "heading",
     "level": 3,
     "metadata": {},
     "source": [
      "``Text`` <a id='Text'/> and ``Arrow`` <a id='Arrow'/>"
     ]
    },
    {
     "cell_type": "code",
     "collapsed": false,
     "input": [
      "from holoviews import Text, Arrow\n",
      "scene * Text(0, 0.2, 'Adult\\npenguins') + scene * Arrow(0,-0.1, 'Baby penguin', 'v')"
     ],
     "language": "python",
     "metadata": {},
     "outputs": []
    },
    {
     "cell_type": "heading",
     "level": 1,
     "metadata": {},
     "source": [
      "Section V: Parameter Spaces  <a id='Parameter Spaces'/>"
     ]
    },
    {
     "cell_type": "markdown",
     "metadata": {},
     "source": [
      "HoloViews supplies composite classes useful for visualizing parameter spaces or phase spaces, i.e. large collections of results for various combinations of parameters.\n",
      "\n",
      "<dl class=\"dl-horizontal\">\n",
      "<dt>[``GridSpace``](#GridSpace)</dt><dd>Parameter space in two dimensions laid out in a grid. </dd>\n",
      "  <dt>[``NdLayout``](#NdLayout)</dt><dd>Parameter space of any dimensionality in a layout with titles.</dd>\n",
      "  <dt>[``NdOverlay``](#NdOverlay)</dt><dd>Parameter space of any dimensionality in an overlay with a legend</dd>\n",
      "</dl>\n",
      "\n",
      "The [``HeatMap``](#HeatMap) is also useful for visualizing small two-dimensional parameter spaces that have a single value for each location in the space, and a\n",
      "[``HoloMap``](http://ioam.github.io/media/holoviews/HoloMap_Tutorial.html) can be used to explore a parameter space interactively."
     ]
    },
    {
     "cell_type": "heading",
     "level": 2,
     "metadata": {},
     "source": [
      "Specifying arbitrary parameter spaces"
     ]
    },
    {
     "cell_type": "markdown",
     "metadata": {},
     "source": [
      "First let us define some numpy arrays which we will use to define the two types of parameter space below."
     ]
    },
    {
     "cell_type": "code",
     "collapsed": false,
     "input": [
      "import numpy as np\n",
      "\n",
      "frequencies =  np.linspace(0.5,2.0,5)\n",
      "phases = np.linspace(0, np.pi*2, 5)\n",
      "x,y = np.mgrid[-50:51, -50:51] * 0.1"
     ],
     "language": "python",
     "metadata": {},
     "outputs": []
    },
    {
     "cell_type": "heading",
     "level": 3,
     "metadata": {},
     "source": [
      "A parameter space of ``Image`` elements"
     ]
    },
    {
     "cell_type": "code",
     "collapsed": false,
     "input": [
      "def sine_array(phase, freq):\n",
      "    return np.sin(phase + (freq*x**2+freq*y**2))\n",
      "\n",
      "matrices = {(p,f):Image(sine_array(p, f), label='Sinusoid Ring', value='Amplitude')\n",
      "          for f in [0.5, 1.0,  1.5,  2.0]    # Frequencies\n",
      "          for p in [0, np.pi/2, np.pi, 3*np.pi/2, 2*np.pi]}  # Phases"
     ],
     "language": "python",
     "metadata": {},
     "outputs": []
    },
    {
     "cell_type": "markdown",
     "metadata": {},
     "source": [
      "To illustrate that ``matrices`` is a dictionary indexed by (phase, frequency) here are two of the dictionary elements side by side:"
     ]
    },
    {
     "cell_type": "code",
     "collapsed": false,
     "input": [
      "%%opts Image (cmap='hot')\n",
      "matrices[0,0.5] + matrices[np.pi,0.5]"
     ],
     "language": "python",
     "metadata": {},
     "outputs": []
    },
    {
     "cell_type": "heading",
     "level": 3,
     "metadata": {},
     "source": [
      "A parameter space of ``Curve`` elements"
     ]
    },
    {
     "cell_type": "code",
     "collapsed": false,
     "input": [
      "def sine_curve(phase, freq, samples=102):\n",
      "    xvals = [0.1* i for i in range(samples)]\n",
      "    return [(x, np.sin(phase+freq*x)) for x in xvals]\n",
      "\n",
      "curves = {(round(p,2),f):Curve(sine_curve(p,f)) \n",
      "          for f in [1,2,3,4,5]                               # Frequencies\n",
      "          for p in [0, np.pi/2, np.pi, 3*np.pi/2, 2*np.pi]}  # Phases"
     ],
     "language": "python",
     "metadata": {},
     "outputs": []
    },
    {
     "cell_type": "markdown",
     "metadata": {},
     "source": [
      "Here we display two of our curves and then overlay them together with ``*`` (which chooses new colors for each new curve according to a predefined color cycle):"
     ]
    },
    {
     "cell_type": "code",
     "collapsed": false,
     "input": [
      "curves[0,1] + curves[3.14, 2] + curves[0,1] * curves[3.14, 2]"
     ],
     "language": "python",
     "metadata": {},
     "outputs": []
    },
    {
     "cell_type": "heading",
     "level": 3,
     "metadata": {},
     "source": [
      "``GridSpace``  <a id='GridSpace'/>"
     ]
    },
    {
     "cell_type": "markdown",
     "metadata": {},
     "source": [
      "When you have two-dimensional parameter spaces, a ``GridSpace`` offers a nice way to lay out your data with labelled axes:"
     ]
    },
    {
     "cell_type": "code",
     "collapsed": false,
     "input": [
      "%%opts Image (cmap='hot')\n",
      "from holoviews import GridSpace\n",
      "GridSpace(matrices, key_dimensions=['phase', 'frequency'])"
     ],
     "language": "python",
     "metadata": {},
     "outputs": []
    },
    {
     "cell_type": "markdown",
     "metadata": {},
     "source": [
      "``GridSpace`` works with any ``Element`` type, not just with a ``Raster``:"
     ]
    },
    {
     "cell_type": "code",
     "collapsed": false,
     "input": [
      "GridSpace(curves, key_dimensions=['phase', 'frequency'])"
     ],
     "language": "python",
     "metadata": {},
     "outputs": []
    },
    {
     "cell_type": "markdown",
     "metadata": {},
     "source": [
      "**Note:** Due to unfortunate limitations of matplotlib, you cannot put two ``GridSpaces`` together in a ``Layout`` unless both ``GridSpaces`` contain only ``Raster`` elements.\n",
      "\n",
      "If both ``GridSpaces`` do contain ``Raster`` objects then ``Layout`` works fine:"
     ]
    },
    {
     "cell_type": "code",
     "collapsed": false,
     "input": [
      "%%opts Image (cmap='hot')\n",
      "low_frequency = {(p,f):Image(sine_array(p, f), label='Sinusoid Ring', value='Amplitude')\n",
      "                     for f in [0.05, 0.1, 0.15,  0.2]    # Frequencies\n",
      "                     for p in [0, np.pi/2, np.pi, 3*np.pi/2, 2*np.pi]}  # Phases\n",
      "\n",
      "GridSpace(matrices, key_dimensions=['phase', 'frequency']) + \\\n",
      "GridSpace(low_frequency, key_dimensions=['phase', 'frequency'])"
     ],
     "language": "python",
     "metadata": {},
     "outputs": []
    },
    {
     "cell_type": "heading",
     "level": 2,
     "metadata": {},
     "source": [
      "``NdLayout``  <a id='NdLayout'/>"
     ]
    },
    {
     "cell_type": "markdown",
     "metadata": {},
     "source": [
      "``GridSpace`` is great when you have a two-dimensional parameter space, but fails to scale well beyond that. For higher dimensional parameter spaces, you can use an ``NdLayout``, where the varying key dimensions are shown in the titles of the elements:"
     ]
    },
    {
     "cell_type": "code",
     "collapsed": false,
     "input": [
      "from holoviews import NdLayout\n",
      "NdLayout(matrices, key_dimensions=['phase', 'frequency'])[0:1.6, 0:2].cols(3)"
     ],
     "language": "python",
     "metadata": {},
     "outputs": []
    },
    {
     "cell_type": "heading",
     "level": 2,
     "metadata": {},
     "source": [
      "``NdOverlay``  <a id='NdOverlay'/>"
     ]
    },
    {
     "cell_type": "markdown",
     "metadata": {},
     "source": [
      "``NdOverlay`` is to ``Overlay`` what ``NdLayout`` is to ``Layout``, in other words it is a way of looking at a parameter space as an ``Overlay``. This generally makes ``NdOverlay`` less useful than ``NdLayout`` as some element types don't overlay nicely over each other (e.g. multiple ``Image`` elements) and although more compact, it is easy for an ``NdOverlay`` to present too much data at once.\n",
      "\n",
      "Unlike a regular Overlay, the elements of an ``NdOverlay`` must always be of the same type.\n",
      "\n",
      "To demonstrate this, we will overlay several of the curves from our phase space. To make sure the result is legible, we filter our parameter space down to four curves:"
     ]
    },
    {
     "cell_type": "code",
     "collapsed": false,
     "input": [
      "%%view size=150\n",
      "import numpy as np\n",
      "from holoviews import Curve, NdOverlay\n",
      "four_curves = {(p,f):val for ((p,f), val) in curves.items() if p <=np.pi/2 and f<=2}\n",
      "NdOverlay(four_curves , key_dimensions=['Phase', 'Frequency'])"
     ],
     "language": "python",
     "metadata": {},
     "outputs": []
    },
    {
     "cell_type": "markdown",
     "metadata": {},
     "source": [
      "Note that ``NdOverlay`` ensures all the contained elements are of the same type, and can now supply a useful legend. As with everything in HoloViews, overlaying is a very general concept, and it works with any other type that can be meaningfully overlaid. Here is another example using ``Points``:"
     ]
    },
    {
     "cell_type": "code",
     "collapsed": false,
     "input": [
      "%%view size=150\n",
      "np.random.seed(10)\n",
      "extents = (-3, -3, 3, 3)\n",
      "NdOverlay({1:Points(np.random.normal(size=(50,2)), extents=extents),\n",
      "           2:Points(np.random.normal(size=(50,2)), extents=extents),\n",
      "           3:Points(np.random.normal(size=(50,2)), extents=extents)},\n",
      "          key_dimensions=['Cluster'])"
     ],
     "language": "python",
     "metadata": {},
     "outputs": []
    }
   ],
   "metadata": {}
  }
 ]
}