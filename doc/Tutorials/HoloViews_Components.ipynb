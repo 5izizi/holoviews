{
 "metadata": {
  "name": "",
  "signature": "sha256:ef1cec8788a081202302d3e3bacbde03f5aeca2332836e76d6207f928acb689c"
 },
 "nbformat": 3,
 "nbformat_minor": 0,
 "worksheets": [
  {
   "cells": [
    {
     "cell_type": "heading",
     "level": 1,
     "metadata": {},
     "source": [
      "HoloViews Components"
     ]
    },
    {
     "cell_type": "markdown",
     "metadata": {},
     "source": [
      "This notebook serves as a reference for all the core components of HoloViews with an extensive list of small, self-contained examples wherever possible, allowing each component to be understood and tested independently.\n",
      "\n",
      "* ***[Section I:](#Elements)***  Here we examine all the [``Elements``](#Elements).\n",
      "* ***[Section II:](#Trees)*** Here we examine composition with the two operators that build [``Trees``](#Trees)\n",
      "* ***[Section II:](#Paths)*** Here we examine how you can overlay [``Paths``](#Paths)\n",
      "* ***[Section IV:](#Annotations)*** Here we examine how you can overlay other information using [``Annotation Elements``](#Annotations)\n",
      "* ***[Section V:](#Phase Spaces)*** Here we look at ways of visualizing and defining [``Phase Spaces``](#Phase Spaces)\n",
      "\n",
      "\n",
      "All HoloViews components have extensive documentation built-in that can be viewed interactively using our [documentation system](#Docs)\n",
      "\n",
      "\n",
      "Other Tutorials and Notebooks:\n",
      "\n",
      "* For more an introduction to the capabilities of HoloViews, see our [showcase notebook]().\n",
      "\n",
      "* For an introductions to the basic concepts in HoloViews, see our [introductory tutorial]().\n",
      "\n",
      "* For an introduction to components that link to third party libraries see out [pandas and seaborn tutorial]()"
     ]
    },
    {
     "cell_type": "code",
     "collapsed": false,
     "input": [
      " %load_ext holoviews.ipython"
     ],
     "language": "python",
     "metadata": {},
     "outputs": []
    },
    {
     "cell_type": "heading",
     "level": 1,
     "metadata": {},
     "source": [
      "Section I: Elements <a id='Elements'/>"
     ]
    },
    {
     "cell_type": "markdown",
     "metadata": {},
     "source": [
      "The elements are the basic building-blocks for any HoloViews visualization. Together with the compositional tree operators (see the [``Trees``](#Trees) section) you can compose all these elements together in a multitude of ways. In addition, you can explore, slice and animate all these elements (and their tree compositions) using the ``HoloMap``. Although it is a core datastructure, the many capabilities and uses of the ``HoloMap`` make it a complete topic in its own right. \n",
      "\n",
      "For more information on using the ``HoloMap`` see this [introductory tutorial]() and this [advanced tutorial]().\n",
      "\n",
      "### ``Elements``\n",
      "\n",
      "<dl class=\"dl-horizontal\">\n",
      "  <dt>[``Element``](#Element)</dt><dd>The base class of all ``Elements``.</dd>\n",
      "</dl>\n",
      "  \n",
      "### <a id='ChartIndex'/> [``Chart Elements:``](#Chart Elements) \n",
      "\n",
      "<dl class=\"dl-horizontal\">\n",
      "  <dt>[``Curve``](#Curve)</dt><dd>A continuous relation between a dependent and independent variable.</dd>\n",
      "  <dt>[``Bars``](#Bars)</dt><dd>Data collected and binned into categories.</dd>\n",
      "  <dt>[``Histogram``](#Histogram)</dt><dd>Data collected and binned in a continuous space using specified bin edges.</dd>\n",
      "  <dt>[``Scatter``](#Scatter)</dt><dd>Discontinuous collection of points indexed over a single dimension.</dd>\n",
      "  <dt>[``Points``](#Points)</dt><dd>Discontinuous collection of points indexed over two dimension.</dd>\n",
      "  <dt>[``VectorField``](#VectorField)</dt><dd>Cyclic variable (and optional auxillary data) distributed over two dimensional space.</dd>\n",
      "  <dt>[``SideHistogram``](#SideHistogram)</dt><dd>Histogram binning data contained by some other ``Element``.</dd>\n",
      "  </dl>\n",
      "\n",
      "### <a id='Chart3DIndex'/> [``Chart3D Elements:``](#Chart3D Elements)\n",
      "\n",
      "<dl class=\"dl-horizontal\">\n",
      "  <dt>[``Surface``](#Surface)</dt><dd>Continuous collection of points in a three-dimensional space.</dd>\n",
      "  <dt>[``Scatter3D``](#Scatter3D)</dt><dd>Discontinuous collection of points in a three-dimensional space.</dd>\n",
      "</dl>\n",
      "\n",
      "\n",
      "### <a id='RasterIndex'/>  [``Raster Elements:``](#Raster Elements)\n",
      "\n",
      "<dl class=\"dl-horizontal\">\n",
      "  <dt>[``Raster``](#Raster)</dt><dd>The base class of all rasters containing two-dimensional arrays (cannot be sliced)</dd>\n",
      "  <dt>[``HeatMap``](#HeatMap)</dt><dd>Raster displaying data collected in sparse two-dimensional space.</dd>\n",
      "  <dt>[``Matrix``](#Matrix)</dt><dd>Raster containing two-dimensional array in continuous space (slicable)</dd>\n",
      "  <dt>[``RGB``](#RGB)</dt><dd>Raster of 3 or 4 channels containing colour channel information.</dd>\n",
      "</dl>\n",
      "\n",
      "\n",
      "### <a id='TabularIndex'/>  [``Tabular Elements:``](#Tabular Elements)\n",
      "\n",
      "\n",
      "<dl class=\"dl-horizontal\">\n",
      "  <dt>[``ItemTable``](#ItemTable)</dt><dd>Ordered collection of key-value pairs</dd>\n",
      "  <dt>[``Table``](#Table)</dt><dd>Collection of arbitrary data with arbitrary key and value dimensions.</dd>\n",
      "  </dl>"
     ]
    },
    {
     "cell_type": "heading",
     "level": 2,
     "metadata": {},
     "source": [
      "``Element`` <a id='Element'/>"
     ]
    },
    {
     "cell_type": "markdown",
     "metadata": {},
     "source": [
      "The ``Element`` is the base class for all the other HoloViews objects shown in this reference notebook.\n",
      "\n",
      "All ``Element`` objects accept data as the first argument to define the contents of that element. In addition to its implicit type, each element object has a ``value`` string and ``label`` use to address it.\n",
      "\n",
      "When rich display is off, an elements is presented in ``{type}.{value}.{label}`` format:"
     ]
    },
    {
     "cell_type": "code",
     "collapsed": false,
     "input": [
      "from holoviews import Element\n",
      "Element(None, value='Value', label='Label')"
     ],
     "language": "python",
     "metadata": {},
     "outputs": []
    },
    {
     "cell_type": "markdown",
     "metadata": {},
     "source": [
      "In addition, ``Element`` has ``key_dimensions``, ``value_dimensions`` and ``constant_dimensions`` to describe the semantics of indexing, the semantics of the contained data as well as information of constant parameters associated with the object.\n",
      "\n",
      "For more information on ``value``, ``label`` and the use of dimensions, please see our [introductory tutorial]()."
     ]
    },
    {
     "cell_type": "heading",
     "level": 2,
     "metadata": {},
     "source": [
      "``Chart`` Elements <a id='Chart Elements'/>"
     ]
    },
    {
     "cell_type": "markdown",
     "metadata": {},
     "source": [
      "The first large class of ``Elements`` are the ``Chart`` elements. These are generally indexable/sliceable along the $x$-axis but not the $y$-axis."
     ]
    },
    {
     "cell_type": "heading",
     "level": 3,
     "metadata": {},
     "source": [
      "``Curve`` <a id='Curve'/>"
     ]
    },
    {
     "cell_type": "code",
     "collapsed": false,
     "input": [
      "import numpy as np\n",
      "from holoviews import Curve\n",
      "points = [(0.1*i, np.sin(0.1*i)) for i in range(100)]\n",
      "Curve(points)"
     ],
     "language": "python",
     "metadata": {},
     "outputs": []
    },
    {
     "cell_type": "heading",
     "level": 3,
     "metadata": {},
     "source": [
      "``Bars`` <a id='Bars'/>"
     ]
    },
    {
     "cell_type": "code",
     "collapsed": false,
     "input": [
      "import numpy as np\n",
      "from holoviews import Bars\n",
      "data = [('one',8),('two', 10), ('three', 16), ('four', 8), ('five', 4), ('six', 1)]\n",
      "Bars(data, key_dimensions=['Car occupants'], value_dimensions=['Frequency'])"
     ],
     "language": "python",
     "metadata": {},
     "outputs": []
    },
    {
     "cell_type": "heading",
     "level": 3,
     "metadata": {},
     "source": [
      "``Histogram`` <a id='Histogram'/>"
     ]
    },
    {
     "cell_type": "code",
     "collapsed": false,
     "input": [
      "import numpy as np\n",
      "from holoviews import Histogram\n",
      "data = [np.random.normal() for i in range(10000)]\n",
      "frequencies, edges = np.histogram(data, 20)\n",
      "Histogram(frequencies, edges)"
     ],
     "language": "python",
     "metadata": {},
     "outputs": []
    },
    {
     "cell_type": "heading",
     "level": 3,
     "metadata": {},
     "source": [
      "``Scatter`` <a id='Scatter'/>"
     ]
    },
    {
     "cell_type": "code",
     "collapsed": false,
     "input": [
      "%%opts Scatter (color='k', marker='s')\n",
      "import numpy as np\n",
      "np.random.seed(42)\n",
      "from holoviews import Scatter\n",
      "points = [(i, np.random.random()) for i in range(20)]\n",
      "Scatter(points) + Scatter(points)[12:20]"
     ],
     "language": "python",
     "metadata": {},
     "outputs": []
    },
    {
     "cell_type": "markdown",
     "metadata": {},
     "source": [
      "Unlike ``Points`` a ``Scatter`` object can only be sliced along the x-axis. For instance, the right-hand plot above shows the right side of the leftmost plot."
     ]
    },
    {
     "cell_type": "heading",
     "level": 3,
     "metadata": {},
     "source": [
      "``Points`` <a id='Points'/>"
     ]
    },
    {
     "cell_type": "code",
     "collapsed": false,
     "input": [
      "import numpy as np\n",
      "from holoviews import Points\n",
      "np.random.seed(12)\n",
      "points = np.random.rand(50,2)\n",
      "Points(points)"
     ],
     "language": "python",
     "metadata": {},
     "outputs": []
    },
    {
     "cell_type": "markdown",
     "metadata": {},
     "source": [
      "Points are can actually by fairly high-dimensional:"
     ]
    },
    {
     "cell_type": "code",
     "collapsed": false,
     "input": [
      "%%opts Points [color_index=2 size_index=3 scaling_factor=50]\n",
      "np.random.seed(10)\n",
      "data = np.random.rand(100,4)\n",
      "points = Points(data, value_dimensions=['z', 'alpha'])\n",
      "points + points[0.3:0.7, 0.3:0.7]"
     ],
     "language": "python",
     "metadata": {},
     "outputs": []
    },
    {
     "cell_type": "heading",
     "level": 3,
     "metadata": {},
     "source": [
      "``VectorField`` <a id='VectorField'/>"
     ]
    },
    {
     "cell_type": "code",
     "collapsed": false,
     "input": [
      "import numpy as np\n",
      "from holoviews import VectorField\n",
      "\n",
      "steps = np.linspace(-2.5,2.5,20)\n",
      "x,y = np.meshgrid(steps, steps)\n",
      "sine_rings  = np.sin(x**2+y**2)*np.pi+np.pi\n",
      "exp_falloff = 1/np.exp((x**2+y**2)/15)\n",
      "\n",
      "vector_data = np.array([x.flatten()/5.,           # X positions\n",
      "                        y.flatten()/5.,           # Y Positions\n",
      "                        sine_rings.flatten(),     # Arrow angles\n",
      "                        exp_falloff.flatten()])   # Arrow sizes\n",
      "VectorField(vector_data.T)"
     ],
     "language": "python",
     "metadata": {},
     "outputs": []
    },
    {
     "cell_type": "markdown",
     "metadata": {},
     "source": [
      "As you can see above, the X and Y positions are in a regular grid. The arrow angles follow a sinsoidal ring pattern and the arrow lengths falloff from the center.\n",
      "\n",
      "Using the ``%%opts`` cell-magic (described in the [introductory tutorial]()), we can also use color as a redundant indicator to the angle angle or magnitude:"
     ]
    },
    {
     "cell_type": "code",
     "collapsed": false,
     "input": [
      "%%opts VectorField.A [color_dim='angle'] VectorField.M [color_dim='magnitude']\n",
      "VectorField(vector_data.T, value='A') + VectorField(vector_data.T, value='M')"
     ],
     "language": "python",
     "metadata": {},
     "outputs": []
    },
    {
     "cell_type": "heading",
     "level": 3,
     "metadata": {},
     "source": [
      "``SideHistogram`` <a id='SideHistogram'/>"
     ]
    },
    {
     "cell_type": "markdown",
     "metadata": {},
     "source": [
      "Using the ``.hist`` method"
     ]
    },
    {
     "cell_type": "code",
     "collapsed": false,
     "input": [
      "import numpy as np\n",
      "np.random.seed(42)\n",
      "from holoviews import Scatter\n",
      "points = [(i, np.random.normal()) for i in range(800)]\n",
      "Scatter(points).hist()"
     ],
     "language": "python",
     "metadata": {},
     "outputs": []
    },
    {
     "cell_type": "heading",
     "level": 2,
     "metadata": {},
     "source": [
      "``Chart3D`` Elements <a id='Chart3D Elements'/>"
     ]
    },
    {
     "cell_type": "heading",
     "level": 3,
     "metadata": {},
     "source": [
      "``Surface`` <a id='Surface'/>"
     ]
    },
    {
     "cell_type": "code",
     "collapsed": false,
     "input": [
      "%%opts Surface (cmap='jet' rstride=20, cstride=2)\n",
      "import numpy as np\n",
      "from holoviews import Surface\n",
      "Surface((np.sin(np.linspace(0,np.pi*2,100))*np.ones((100,100))))"
     ],
     "language": "python",
     "metadata": {},
     "outputs": []
    },
    {
     "cell_type": "heading",
     "level": 3,
     "metadata": {},
     "source": [
      "``Scatter3D`` <a id='Scatter3D'/>"
     ]
    },
    {
     "cell_type": "code",
     "collapsed": false,
     "input": [
      "%%opts Scatter3D [azimuth=40 elevation=20]\n",
      "import numpy as np\n",
      "from holoviews import Scatter3D\n",
      "dist = [0.1*i for i in range(0,10)]\n",
      "x,y = np.meshgrid(dist, dist)\n",
      "heights = np.sin(x**2+y**2)\n",
      "Scatter3D(np.array(zip(x.flat,y.flat,heights.flat)))"
     ],
     "language": "python",
     "metadata": {},
     "outputs": []
    },
    {
     "cell_type": "heading",
     "level": 2,
     "metadata": {},
     "source": [
      "``Raster`` Elements <a id='Raster Elements'/>"
     ]
    },
    {
     "cell_type": "markdown",
     "metadata": {},
     "source": [
      "The second large class of ``Elements`` are the raster elements. Unlike ``Chart`` elements these live in a two dimensional space. For the ``Matrix`` and ``RGB`` elements, the coordinates of this two-dimensional space are defined in a continuous coordinate system."
     ]
    },
    {
     "cell_type": "heading",
     "level": 3,
     "metadata": {},
     "source": [
      "``Raster`` <a id='Raster'/>"
     ]
    },
    {
     "cell_type": "markdown",
     "metadata": {},
     "source": [
      "This is the base class of all ``Raster elements`` but may be used directly to visualize 2D-arrays using a color map. However, unlike the ``Matrix`` subclass, ``Raster`` does not support slicing semantics (although you can always slice your input numpy array as required)."
     ]
    },
    {
     "cell_type": "code",
     "collapsed": false,
     "input": [
      "import numpy as np\n",
      "from holoviews import Raster\n",
      "dist = [0.1*i for i in range(-50,51)]\n",
      "x,y = np.meshgrid(dist, dist)\n",
      "Raster(np.sin(x**2+y**2))"
     ],
     "language": "python",
     "metadata": {},
     "outputs": []
    },
    {
     "cell_type": "heading",
     "level": 3,
     "metadata": {},
     "source": [
      "``HeatMap`` <a id='HeadMap'/>"
     ]
    },
    {
     "cell_type": "markdown",
     "metadata": {},
     "source": [
      "A ``HeatMap`` displays like a typical raster image although the input is not a numpy array but a dictionary indexed with two dimensional keys. As many rows and columns as required will be created to display the values in an appropriate grid format."
     ]
    },
    {
     "cell_type": "code",
     "collapsed": false,
     "input": [
      "import numpy as np\n",
      "from holoviews import HeatMap\n",
      "data = {(i,j):i*j for i in range(5) for j in range(5) if i!=j}\n",
      "HeatMap(data)"
     ],
     "language": "python",
     "metadata": {},
     "outputs": []
    },
    {
     "cell_type": "markdown",
     "metadata": {},
     "source": [
      "The ``HeatMap`` is good for visualizing values in abstract spaces or spaces with missing values. In the above examples, elements along the diagonal are missing. As ``HeatMaps`` label their values explicitly, they are not designed for situations with large numbers of samples."
     ]
    },
    {
     "cell_type": "heading",
     "level": 3,
     "metadata": {},
     "source": [
      "``Matrix`` <a id='Matrix'/>"
     ]
    },
    {
     "cell_type": "markdown",
     "metadata": {},
     "source": [
      "Like ``Raster``, a ``Matrix`` allows you to view 2D arrays using an arbitrary color map. Unlike ``Raster``, a ``Matrix`` is associated with a coordinate-system in continous space allowing slicing semantics, often making ``Matrix`` more useful than ``Raster``."
     ]
    },
    {
     "cell_type": "code",
     "collapsed": false,
     "input": [
      "import numpy as np\n",
      "from holoviews import Matrix\n",
      "\n",
      "dist = [0.1*i for i in range(-50,51)]\n",
      "x,y = np.meshgrid(dist, dist)\n",
      "bounds=(-1,-1,1,1)   # Coordinate system: (left, bottom, top, right)\n",
      "\n",
      "(Matrix(np.sin(x**2+y**2),   bounds=bounds) \n",
      " + Matrix(np.sin(x**2+y**2), bounds=bounds)[-0.5:0.5, -0.5:0.5])"
     ],
     "language": "python",
     "metadata": {},
     "outputs": []
    },
    {
     "cell_type": "markdown",
     "metadata": {},
     "source": [
      "Note that because our declared coordinate system is continuous, we can slice with any floating point value we choose. The appropiate samples of the input numpy array will always be displayed."
     ]
    },
    {
     "cell_type": "heading",
     "level": 3,
     "metadata": {},
     "source": [
      "``RGB`` <a id='RGB'/>"
     ]
    },
    {
     "cell_type": "markdown",
     "metadata": {},
     "source": [
      "The ``RGB`` element is a raster that supports red, green, blue and optionally an alpha channel."
     ]
    },
    {
     "cell_type": "code",
     "collapsed": false,
     "input": [
      "import numpy as np\n",
      "from holoviews import RGB\n",
      "\n",
      "dist = [0.1*i for i in range(-50,51)]\n",
      "x,y = np.meshgrid(dist, dist)\n",
      "r = 0.5*np.sin(np.pi  +x**2+y**2)+0.5\n",
      "g = 0.5*np.sin(np.pi/2+x**2+y**2)+0.5\n",
      "b = 0.5*np.sin(x**2+y**2)+0.5\n",
      "a = 0.5*np.sin(0.2*(x**2+y**2))+0.5\n",
      "\n",
      "RGB(np.dstack([r,g,b])) +  RGB(np.dstack([r,g,b,a]))"
     ],
     "language": "python",
     "metadata": {},
     "outputs": []
    },
    {
     "cell_type": "heading",
     "level": 1,
     "metadata": {},
     "source": [
      "``Tabular`` Elements <a id='Tabular Elements'/>"
     ]
    },
    {
     "cell_type": "markdown",
     "metadata": {},
     "source": [
      "The second large class of ``Elements`` are the tabular elements:"
     ]
    },
    {
     "cell_type": "heading",
     "level": 2,
     "metadata": {},
     "source": [
      "``ItemTable`` <a id='ItemTable'/>"
     ]
    },
    {
     "cell_type": "markdown",
     "metadata": {},
     "source": [
      "An ``ItemTable`` is an ordered collection of key, value pairs. It can be used to directly visualize items in a tabular format where the items may be supplied as an ``OrderedDict`` or a list of (key,value) pairs. A standard Python dictionary can be easily visualized using a call to the ``.items()`` method."
     ]
    },
    {
     "cell_type": "code",
     "collapsed": false,
     "input": [
      "from holoviews import ItemTable\n",
      "ItemTable([('Age', 10), ('Weight',15), ('Height','0.8 meters')])"
     ],
     "language": "python",
     "metadata": {},
     "outputs": []
    },
    {
     "cell_type": "heading",
     "level": 2,
     "metadata": {},
     "source": [
      "``Table`` <a id='Table'/>"
     ]
    },
    {
     "cell_type": "markdown",
     "metadata": {},
     "source": [
      "A table is more general than an ``ItemTable`` as it allows multi-dimensional keys and multidimensional values."
     ]
    },
    {
     "cell_type": "code",
     "collapsed": false,
     "input": [
      "from holoviews import Table\n",
      "from collections import OrderedDict\n",
      "keys =   [('M',10), ('F',10)]\n",
      "values = [(15, 0.8), (15, 0.8)]\n",
      "table =Table(zip(keys,values), \n",
      "          key_dimensions = ['Gender', 'Age'], \n",
      "          value_dimensions=['Weight', 'Height'])\n",
      "table"
     ],
     "language": "python",
     "metadata": {},
     "outputs": []
    },
    {
     "cell_type": "markdown",
     "metadata": {},
     "source": [
      "Note that you can use select using tables and once you select using a full, multidimensional key, you get an ``ItemTable`` (shown on the right):"
     ]
    },
    {
     "cell_type": "code",
     "collapsed": false,
     "input": [
      "table.select(Gender='M') + table.select(Gender='M', Age=10)"
     ],
     "language": "python",
     "metadata": {},
     "outputs": []
    },
    {
     "cell_type": "markdown",
     "metadata": {},
     "source": [
      "The ``Table`` is used as a common data-structure that may be converted to any HoloViews datastructure using the ``TableConversion`` class. A similar principle holds when converting data from Pandas DataFrames to HoloViews objects.\n",
      "\n",
      "The functionality of the ``TableConversion`` class may be conveniently access using the ``.to`` property:"
     ]
    },
    {
     "cell_type": "heading",
     "level": 1,
     "metadata": {},
     "source": [
      "Section II: Trees  <a id='Trees'/>"
     ]
    },
    {
     "cell_type": "markdown",
     "metadata": {},
     "source": [
      "<dl class=\"dl-horizontal\">\n",
      "  <dt>[``Layout``](#Layout)  </dt><dd>Collect elements into a tree that are displayed side-by-side (``+`` operator) </dd>\n",
      "  <dt>[``Overlay``](#Overlay)</dt><dd>Collect elements into a tree that are displayed on top of each other (``*`` operator)</dd>\n",
      "</dl>\n"
     ]
    },
    {
     "cell_type": "heading",
     "level": 2,
     "metadata": {},
     "source": [
      "``Layout``  <a id='Layout'/>"
     ]
    },
    {
     "cell_type": "markdown",
     "metadata": {},
     "source": [
      "See the Introductory tutorial"
     ]
    },
    {
     "cell_type": "code",
     "collapsed": false,
     "input": [
      "import numpy as np\n",
      "from holoviews import Curve, ItemTable\n",
      "points = [(0.1*i, np.sin(0.1*i)) for i in range(100)]\n",
      "Curve(points) + ItemTable([('A',1),('B',2)])"
     ],
     "language": "python",
     "metadata": {},
     "outputs": []
    },
    {
     "cell_type": "heading",
     "level": 2,
     "metadata": {},
     "source": [
      "``Overlay``  <a id='Overlay'/>"
     ]
    },
    {
     "cell_type": "markdown",
     "metadata": {},
     "source": [
      "Note that ``vector_data`` is defined in the VectorField example:"
     ]
    },
    {
     "cell_type": "code",
     "collapsed": false,
     "input": [
      "%%opts VectorField (color='r')\n",
      "import numpy as np\n",
      "from holoviews import Matrix, VectorField\n",
      "Matrix(sine_rings) * VectorField(vector_data.T)"
     ],
     "language": "python",
     "metadata": {},
     "outputs": []
    },
    {
     "cell_type": "heading",
     "level": 1,
     "metadata": {},
     "source": [
      "Section III: Paths  <a id='Paths'/>"
     ]
    },
    {
     "cell_type": "markdown",
     "metadata": {},
     "source": [
      "Paths are designed to be overlayed on top of other ``Element`` objects."
     ]
    },
    {
     "cell_type": "markdown",
     "metadata": {},
     "source": [
      "<dl class=\"dl-horizontal\">\n",
      "  <dt>[``Path``](#Path)</dt><dd>Collection of paths.</dd>\n",
      "  <dt>[``Contours``](#Contours)</dt><dd>Collection of paths with associated value.</dd>\n",
      "  <dt>[``Bounds``](#Bounds)</dt><dd>Box specified by corner positions.</dd>\n",
      "  <dt>[``Box``](#Bounds)</dt><dd>Box specified by width, height and center position.</dd>\n",
      "  <dt>[``Ellipse``](#Ellipse)</dt><dd>Ellipse specified by center position, radius and aspect ratio.</dd>\n",
      "</dl>"
     ]
    },
    {
     "cell_type": "markdown",
     "metadata": {},
     "source": [
      "  To demonstrate path elements, we shall draw be drawing many of our path elements on top of RGB Image:"
     ]
    },
    {
     "cell_type": "code",
     "collapsed": false,
     "input": [
      "from holoviews import RGB\n",
      "scene = RGB.load_image('../assets/penguins.png')"
     ],
     "language": "python",
     "metadata": {},
     "outputs": []
    },
    {
     "cell_type": "heading",
     "level": 2,
     "metadata": {},
     "source": [
      "``Path``  <a id='Path'/>"
     ]
    },
    {
     "cell_type": "markdown",
     "metadata": {},
     "source": [
      "A ``Path`` object is actually a collection of paths which can be arbitrarily specified. Although there may be multiple paths in a single ``Path`` object, they will all share the same style. Only by overlaying multiple ``Path`` objects do you iterate through the defined color cycle (or any other style options that have been defined)"
     ]
    },
    {
     "cell_type": "code",
     "collapsed": false,
     "input": [
      "from holoviews import Path\n",
      "import numpy as np\n",
      "\n",
      "angle = np.linspace(0, 2*np.pi, 100)\n",
      "baby = list(zip(0.15*np.sin(angle),  0.2*np.cos(angle)-0.2))\n",
      "\n",
      "adultR = [(0.25, 0.45), (0.35,0.35), (0.25, 0.25), (0.15, 0.35), (0.25, 0.45)]\n",
      "adultL = [(-0.3, 0.4), (-0.3, 0.3), (-0.2, 0.3), (-0.2, 0.4),(-0.3, 0.4)]\n",
      "\n",
      "scene * Path([adultL, adultR, baby]) * Path([baby])"
     ],
     "language": "python",
     "metadata": {},
     "outputs": []
    },
    {
     "cell_type": "heading",
     "level": 2,
     "metadata": {},
     "source": [
      "``Contours``  <a id='Contours'/>"
     ]
    },
    {
     "cell_type": "markdown",
     "metadata": {},
     "source": [
      "A ``Contours`` object is simlar to ``Path`` object except all the path elements are associated with a numeric value, called the ``level``. Sadly our penguins are too complicated to give a simple example so instead we will simply mark the first few rings of our earlier ring pattern:"
     ]
    },
    {
     "cell_type": "code",
     "collapsed": false,
     "input": [
      "from holoviews import Contours\n",
      "import numpy as np\n",
      "\n",
      "dist = [0.1*i for i in range(-50,51)]\n",
      "x,y = np.meshgrid(dist, dist)\n",
      "\n",
      "def circle(radius):\n",
      "    angles = np.linspace(0, 2*np.pi, 100)\n",
      "    return np.array( list(zip(radius*np.sin(angles), radius*np.cos(angles))))\n",
      "\n",
      "Matrix(np.sin(x**2+y**2)) * Contours([circle(0.22)], level=0) * Contours([circle(0.33)], level=1)"
     ],
     "language": "python",
     "metadata": {},
     "outputs": []
    },
    {
     "cell_type": "heading",
     "level": 2,
     "metadata": {},
     "source": [
      "``Bounds``  <a id='Bounds'/>"
     ]
    },
    {
     "cell_type": "markdown",
     "metadata": {},
     "source": [
      "A bounds is a rectangular area specified as a tuple in  ``(left, bottom, right, top)`` format. It may be useful in some circumstances (e.g. for visualizing element extents) but from a user perspective, ``Box`` is often more useful."
     ]
    },
    {
     "cell_type": "code",
     "collapsed": false,
     "input": [
      "from holoviews import Bounds\n",
      "scene * Bounds(0.2)  * Bounds((0.45, 0.45, 0.2, 0.2))"
     ],
     "language": "python",
     "metadata": {},
     "outputs": []
    },
    {
     "cell_type": "heading",
     "level": 2,
     "metadata": {},
     "source": [
      "``Box``  <a id='Box'/>"
     ]
    },
    {
     "cell_type": "markdown",
     "metadata": {},
     "source": [
      "A ``Box`` is similar to a ``Bounds`` except you specify the box width, height and position instead of the coordinates of the box corners. If only the width is supplies, a centered square will be drawn."
     ]
    },
    {
     "cell_type": "code",
     "collapsed": false,
     "input": [
      "from holoviews import Box\n",
      "scene * Box(0.2)  * Box(0.2, 0.35, x=-0, y=-0.3)"
     ],
     "language": "python",
     "metadata": {},
     "outputs": []
    },
    {
     "cell_type": "heading",
     "level": 2,
     "metadata": {},
     "source": [
      "``Ellipse``  <a id='Ellipse'/>"
     ]
    },
    {
     "cell_type": "code",
     "collapsed": false,
     "input": [
      "from holoviews import Ellipse\n",
      "scene * Ellipse(-0.25, 0.3, 0.1) * Ellipse(0,-0.3, 0.1,aspect=2)"
     ],
     "language": "python",
     "metadata": {},
     "outputs": []
    },
    {
     "cell_type": "heading",
     "level": 1,
     "metadata": {},
     "source": [
      "Section IV: ``Annotation`` Elements <a id='Annotations'/>"
     ]
    },
    {
     "cell_type": "markdown",
     "metadata": {},
     "source": [
      "<dl class=\"dl-horizontal\">\n",
      "  <dt>[``VLine``](#VLine)</dt><dd>Vertical line annotation.</dd>\n",
      "  <dt>[``HLine``](#HLine)</dt><dd>Horizontal line annotation.</dd>\n",
      "  <dt>[``Spline``](#Spline)</dt><dd>Arbitrary bezier spline annotation.</dd>\n",
      "  <dt>[``Text``](#Text)</dt><dd>Arbitrary text annotation.</dd>\n",
      "  <dt>[``Arrow``](#Arrow)</dt><dd>Arrow with optional text</dd>\n",
      "</dl>"
     ]
    },
    {
     "cell_type": "heading",
     "level": 3,
     "metadata": {},
     "source": [
      "``VLine``  <a id='VLine'/>"
     ]
    },
    {
     "cell_type": "code",
     "collapsed": false,
     "input": [
      "from holoviews import VLine\n",
      "scene * VLine(-0.05)"
     ],
     "language": "python",
     "metadata": {},
     "outputs": []
    },
    {
     "cell_type": "heading",
     "level": 3,
     "metadata": {},
     "source": [
      "``HLine``  <a id='HLine'/>"
     ]
    },
    {
     "cell_type": "code",
     "collapsed": false,
     "input": [
      "from holoviews import HLine\n",
      "scene * HLine(-0.05)"
     ],
     "language": "python",
     "metadata": {},
     "outputs": []
    },
    {
     "cell_type": "heading",
     "level": 3,
     "metadata": {},
     "source": [
      "``Spline``  <a id='Spline'/>"
     ]
    },
    {
     "cell_type": "markdown",
     "metadata": {},
     "source": [
      "The ``Spline`` annotation is used to draw Bezier splines using the same semantics as matplotlib splines. In the overlay below, the spline is in red and the control points are show in blue."
     ]
    },
    {
     "cell_type": "code",
     "collapsed": false,
     "input": [
      "from holoviews import Spline, Curve\n",
      "points = [(-0.3, -0.3), (0,0), (0.25, -0.25), (0.3, 0.3)]\n",
      "codes = [1,4,4,4]\n",
      "scene * Spline((points,codes)) * Curve(points)"
     ],
     "language": "python",
     "metadata": {},
     "outputs": []
    },
    {
     "cell_type": "heading",
     "level": 3,
     "metadata": {},
     "source": [
      "``Text``  <a id='Text'/>"
     ]
    },
    {
     "cell_type": "code",
     "collapsed": false,
     "input": [
      "from holoviews import Text\n",
      "scene * Text(0, 0.2, 'Adult\\npenguins')"
     ],
     "language": "python",
     "metadata": {},
     "outputs": []
    },
    {
     "cell_type": "heading",
     "level": 3,
     "metadata": {},
     "source": [
      "``Arrow``  <a id='Arrow'/>"
     ]
    },
    {
     "cell_type": "code",
     "collapsed": false,
     "input": [
      "from holoviews import Arrow\n",
      "scene * Arrow(0,-0.1, 'Baby penguin', 'v')"
     ],
     "language": "python",
     "metadata": {},
     "outputs": []
    },
    {
     "cell_type": "heading",
     "level": 1,
     "metadata": {},
     "source": [
      "Section V: Phase Spaces  <a id='Phase Spaces'/>"
     ]
    },
    {
     "cell_type": "markdown",
     "metadata": {},
     "source": [
      "HoloViews supplies composite classes used to visualize phase spaces.\n",
      "\n",
      "<dl class=\"dl-horizontal\">\n",
      "<dt>[``GridSpace``](#GridSpace)</dt><dd>Phase space in two dimensions layed out in a grid. </dd>\n",
      "  <dt>[``NdLayout``](#NdLayout)</dt><dd>Phase space of any dimensionality in a layout with titles.</dd>\n",
      "  <dt>[``NdOverlay``](#NdOverlay)</dt><dd>Phase space of any dimensionality in an overlay with a legend</dd>\n",
      "</dl>"
     ]
    },
    {
     "cell_type": "heading",
     "level": 2,
     "metadata": {},
     "source": [
      "Specifying arbitrary phase spaces"
     ]
    },
    {
     "cell_type": "markdown",
     "metadata": {},
     "source": [
      "First let us define some numpy arrays which we will use to define the two types of phase space below."
     ]
    },
    {
     "cell_type": "code",
     "collapsed": false,
     "input": [
      "import numpy as np\n",
      "frequencies =  np.linspace(0.5,2.0,5)\n",
      "phases = np.linspace(0, np.pi*2, 5)\n",
      "\n",
      "steps = np.linspace(-5,5,101)\n",
      "x,y = np.meshgrid(steps, steps)"
     ],
     "language": "python",
     "metadata": {},
     "outputs": []
    },
    {
     "cell_type": "heading",
     "level": 3,
     "metadata": {},
     "source": [
      "A phase space of ``Matrix`` elements"
     ]
    },
    {
     "cell_type": "code",
     "collapsed": false,
     "input": [
      "def sine_array(phase, freq):\n",
      "    return np.sin(phase + (freq*x**2+freq*y**2))\n",
      "\n",
      "matrices = {(p,f):Matrix(sine_array(p, f), label='Sinusoid Ring', value='Amplitude')\n",
      "          for f in [0.5, 1.0,  1.5,  2.0]    # Frequencies\n",
      "          for p in [0, np.pi/2, np.pi, 3*np.pi/2, 2*np.pi]}  # Phases"
     ],
     "language": "python",
     "metadata": {},
     "outputs": []
    },
    {
     "cell_type": "markdown",
     "metadata": {},
     "source": [
      "To illustrate that ``phase_space`` is a dictionary indexed by (phase, frequency) here are two elements side-by-side:"
     ]
    },
    {
     "cell_type": "code",
     "collapsed": false,
     "input": [
      "%%opts Matrix (cmap='hot')\n",
      "matrices[0,0.5] + matrices[np.pi,0.5]"
     ],
     "language": "python",
     "metadata": {},
     "outputs": []
    },
    {
     "cell_type": "heading",
     "level": 3,
     "metadata": {},
     "source": [
      "A phase space of ``Curve`` elements"
     ]
    },
    {
     "cell_type": "code",
     "collapsed": false,
     "input": [
      "def sine_curve(phase, freq, samples=102):\n",
      "    xvals = [0.1* i for i in range(samples)]\n",
      "    return [(x, np.sin(phase+freq*x)) for x in xvals]\n",
      "\n",
      "curves = {(round(p,2),f):Curve(sine_curve(p,f)) \n",
      "          for f in [1,2,3,4,5]                               # Frequencies\n",
      "          for p in [0, np.pi/2, np.pi, 3*np.pi/2, 2*np.pi]}  # Phases"
     ],
     "language": "python",
     "metadata": {},
     "outputs": []
    },
    {
     "cell_type": "markdown",
     "metadata": {},
     "source": [
      "Here we display two of our curves and then overlay them together with ``*``:"
     ]
    },
    {
     "cell_type": "code",
     "collapsed": false,
     "input": [
      "curves[0,1] + curves[3.14, 2] + curves[0,1] * curves[3.14, 2]"
     ],
     "language": "python",
     "metadata": {},
     "outputs": []
    },
    {
     "cell_type": "heading",
     "level": 3,
     "metadata": {},
     "source": [
      "``GridSpace``  <a id='GridSpace'/>"
     ]
    },
    {
     "cell_type": "markdown",
     "metadata": {},
     "source": [
      "When you have two-dimensional phase spaces, a ``GridSpace`` offers a nice way to layout your data with labelled axes:"
     ]
    },
    {
     "cell_type": "code",
     "collapsed": false,
     "input": [
      "%%opts Matrix (cmap='hot')\n",
      "from holoviews import GridSpace, Matrix\n",
      "GridSpace(matrices, key_dimensions=['phase', 'frequency'])"
     ],
     "language": "python",
     "metadata": {},
     "outputs": []
    },
    {
     "cell_type": "markdown",
     "metadata": {},
     "source": [
      "``GridSpace`` doesn't only work with ``Raster`` type elements, in fact it can be used with any ``Element`` type:"
     ]
    },
    {
     "cell_type": "code",
     "collapsed": false,
     "input": [
      "GridSpace(curves, key_dimensions=['phase', 'frequency'])"
     ],
     "language": "python",
     "metadata": {},
     "outputs": []
    },
    {
     "cell_type": "markdown",
     "metadata": {},
     "source": [
      "**Note:** Due to unfortunate limitations with matplotlib, you cannot put two ``GridSpaces`` together in a ``Layout`` unless both ``GridSpaces`` contain ``Raster`` elements.\n",
      "\n",
      "If both ``GridSpaces`` do contain ``Raster`` objects then ``Layout`` works fine:"
     ]
    },
    {
     "cell_type": "code",
     "collapsed": false,
     "input": [
      "%%opts Matrix (cmap='hot')\n",
      "low_frequency = {(p,f):Matrix(sine_array(p, f), label='Sinusoid Ring', value='Amplitude')\n",
      "                     for f in [0.05, 0.1, 0.15,  0.2]    # Frequencies\n",
      "                     for p in [0, np.pi/2, np.pi, 3*np.pi/2, 2*np.pi]}  # Phases\n",
      "\n",
      "GridSpace(matrices, key_dimensions=['phase', 'frequency']) + GridSpace(low_frequency, key_dimensions=['phase', 'frequency'])"
     ],
     "language": "python",
     "metadata": {},
     "outputs": []
    },
    {
     "cell_type": "heading",
     "level": 2,
     "metadata": {},
     "source": [
      "``NdLayout``  <a id='NdLayout'/>"
     ]
    },
    {
     "cell_type": "markdown",
     "metadata": {},
     "source": [
      "``GridSpace`` is great when you have a two-dimensional phase space but fails to scale well beyond that. For higher dimensional phases spaces, use the ``NdLayout`` where the varying key dimensions are shown in the titles of the elements:"
     ]
    },
    {
     "cell_type": "code",
     "collapsed": false,
     "input": [
      "from holoviews import NdLayout\n",
      "NdLayout(matrices, key_dimensions=['phase', 'frequency'])[0:1.6, 0:2].cols(3)"
     ],
     "language": "python",
     "metadata": {},
     "outputs": []
    },
    {
     "cell_type": "heading",
     "level": 2,
     "metadata": {},
     "source": [
      "``NdOverlay``  <a id='NdOverlay'/>"
     ]
    },
    {
     "cell_type": "markdown",
     "metadata": {},
     "source": [
      "``NdOverlay`` is to ``Overlay`` what ``NdLayout`` is to ``Layout``, in other words it is a way of looking at a parameter space as an ``Overlay``. This generally makes ``NdOverlay`` less useful than ``NdLayout`` as some element types don't overlay nicely over each other (e.g. multiple ``Matrix`` elements) and although more compact, it is easy for an ``NdOverlay`` to present too much data at once.\n",
      "\n",
      "Unlike a regular Overlay, the elements of an ``NdOverlay`` must always be of the same type.\n",
      "\n",
      "To demonstrate this, we will overlay several of the curves from our phase space. To make sure the result is legible, we filter our phase space down to four curves:"
     ]
    },
    {
     "cell_type": "code",
     "collapsed": false,
     "input": [
      "%%view size=150\n",
      "import numpy as np\n",
      "from holoviews import Curve, NdOverlay\n",
      "four_curves = {(p,f):val for ((p,f), val) in curves.items() if p <=np.pi/2 and f<=2}\n",
      "NdOverlay(four_curves , key_dimensions=['Phase', 'Frequency'])"
     ],
     "language": "python",
     "metadata": {},
     "outputs": []
    },
    {
     "cell_type": "markdown",
     "metadata": {},
     "source": [
      "Note that ``NdOverlay`` ensures all the contained elements are of the same type but can now supply a useful legend. As with everything in HoloView, the principle is quite general and works with any other type that can be meaningfully overlaid. Here is another example using ``Points``:"
     ]
    },
    {
     "cell_type": "code",
     "collapsed": false,
     "input": [
      "%%view size=150\n",
      "np.random.seed(10)\n",
      "extents = (-3, -3, 3, 3)\n",
      "NdOverlay({1:Points(np.random.normal(size=(50,2)), extents=extents),\n",
      "           2:Points(np.random.normal(size=(50,2)), extents=extents),\n",
      "           3:Points(np.random.normal(size=(50,2)), extents=extents)},\n",
      "          key_dimensions=['Cluster'])"
     ],
     "language": "python",
     "metadata": {},
     "outputs": []
    }
   ],
   "metadata": {}
  }
 ]
}