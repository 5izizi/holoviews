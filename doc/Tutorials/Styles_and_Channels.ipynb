{
 "metadata": {
  "name": "",
  "signature": "sha256:13e3dc3ad7ce3ba42a382c0afbce8f89ab5568a99cd1bd6a11aebf3369435a57"
 },
 "nbformat": 3,
 "nbformat_minor": 0,
 "worksheets": [
  {
   "cells": [
    {
     "cell_type": "heading",
     "level": 1,
     "metadata": {},
     "source": [
      "Styles and Channels"
     ]
    },
    {
     "cell_type": "markdown",
     "metadata": {},
     "source": [
      "Author: **Jean-Luc Stevens**\n",
      "\n",
      "In the [introductory tutorial](DataView_Tutorial.ipynb) the various DataView objects were introduced. Styling with the ``%%opts`` magic was briefly illustrated how easily display output can be customized but this was not explored in depth. This notebook explores how DataView may be styled in more detail and introduces the concept of ``channels``."
     ]
    },
    {
     "cell_type": "markdown",
     "metadata": {},
     "source": [
      "We will start by loading the DataViews IPython extension:"
     ]
    },
    {
     "cell_type": "code",
     "collapsed": false,
     "input": [
      "%load_ext dataviews.ipython"
     ],
     "language": "python",
     "metadata": {},
     "outputs": []
    },
    {
     "cell_type": "markdown",
     "metadata": {},
     "source": [
      "As importing a few components from the standard library:"
     ]
    },
    {
     "cell_type": "code",
     "collapsed": false,
     "input": [
      "import numpy as np\n",
      "from matplotlib.pyplot import imread\n",
      "from IPython.display import HTML\n",
      "try:    # Python 2\n",
      "    from urllib2 import urlopen\n",
      "    from StringIO import StringIO\n",
      "except: # Python 3\n",
      "    from urllib.request import urlopen\n",
      "    from io import BytesIO as StringIO"
     ],
     "language": "python",
     "metadata": {},
     "outputs": []
    },
    {
     "cell_type": "markdown",
     "metadata": {},
     "source": [
      "And the necessary imports from ``dataviews``:"
     ]
    },
    {
     "cell_type": "code",
     "collapsed": false,
     "input": [
      "from dataviews.sheetviews import BoundingBox\n",
      "from dataviews import SheetView, Annotation\n",
      "from dataviews.options import options, StyleOpts, PlotOpts\n",
      "from dataviews.options import channels, ChannelOpts\n",
      "import dataviews.operation"
     ],
     "language": "python",
     "metadata": {},
     "outputs": []
    },
    {
     "cell_type": "markdown",
     "metadata": {},
     "source": [
      "And finally here we regenerate the ``sin_rings`` data from the [DataView Tutorial](DataView_Tutorial.ipynb)"
     ]
    },
    {
     "cell_type": "code",
     "collapsed": false,
     "input": [
      "# Sine rings data from the DataViews Tutorial\n",
      "xs = np.linspace(-5,5,101)\n",
      "x,y = np.meshgrid(xs, xs)\n",
      "sin_rings = np.sin(x**2+y**2)\n",
      "cos_rings = np.cos(x**2+y**2)"
     ],
     "language": "python",
     "metadata": {},
     "outputs": []
    },
    {
     "cell_type": "markdown",
     "metadata": {},
     "source": [
      "And let's have a look at it:"
     ]
    },
    {
     "cell_type": "code",
     "collapsed": false,
     "input": [
      "SheetView(sin_rings)"
     ],
     "language": "python",
     "metadata": {},
     "outputs": []
    },
    {
     "cell_type": "heading",
     "level": 2,
     "metadata": {},
     "source": [
      "Fetching an Image"
     ]
    },
    {
     "cell_type": "markdown",
     "metadata": {},
     "source": [
      "We will fetch an image of a butterfly where the image has been split into the individual red, green and blue components:"
     ]
    },
    {
     "cell_type": "code",
     "collapsed": false,
     "input": [
      "channel_url = 'http://ioam.github.io/media/resources/butterfly_%s.png'\n",
      "imdata = dict((c, imread(StringIO(urlopen(channel_url % c).read()))[:,:,0]) for c in ['R','G','B'])"
     ],
     "language": "python",
     "metadata": {},
     "outputs": []
    },
    {
     "cell_type": "code",
     "collapsed": false,
     "input": [
      "for k, arr in sorted(imdata.items()):\n",
      "    print(\"The %r channel array has shape %s\" % (k, arr.shape))"
     ],
     "language": "python",
     "metadata": {},
     "outputs": []
    },
    {
     "cell_type": "markdown",
     "metadata": {},
     "source": [
      "As the image is non-square, we will set the bounding box as follows:"
     ]
    },
    {
     "cell_type": "markdown",
     "metadata": {},
     "source": [
      "Now let us look at the red channel data:"
     ]
    },
    {
     "cell_type": "code",
     "collapsed": false,
     "input": [
      "R = SheetView(imdata['R'])\n",
      "R"
     ],
     "language": "python",
     "metadata": {},
     "outputs": []
    },
    {
     "cell_type": "markdown",
     "metadata": {},
     "source": [
      "We can now see a grayscale image of the butterfly where light pixels have high intensity on the red channel and dark pixels have low intensity on the red channel. The overall image is rather boring in grey so let's fix this by styling our ``SheetView``."
     ]
    },
    {
     "cell_type": "heading",
     "level": 2,
     "metadata": {},
     "source": [
      "Introduction to Options"
     ]
    },
    {
     "cell_type": "markdown",
     "metadata": {},
     "source": [
      "The first important concept is that no DataViews objects directly contain any information about how they are plotted or displayed. Instead, they have a ``.style`` property which return the name of the style to use for that object:"
     ]
    },
    {
     "cell_type": "code",
     "collapsed": false,
     "input": [
      "R.style"
     ],
     "language": "python",
     "metadata": {},
     "outputs": []
    },
    {
     "cell_type": "markdown",
     "metadata": {},
     "source": [
      "This style key then refers to a global object ``options`` which can be conveniently accessed from all ``Views``:"
     ]
    },
    {
     "cell_type": "code",
     "collapsed": false,
     "input": [
      "R.options.style['SheetView']"
     ],
     "language": "python",
     "metadata": {},
     "outputs": []
    },
    {
     "cell_type": "markdown",
     "metadata": {},
     "source": [
      "Now we can see why the SheetView is grayscale by default. If you are familiar with matplotlib, you may recognise the ``cmap`` and ``interpolation`` settings as valid arguments for matplotlib's ``imshow`` command. As show above, this type of options can be accessed from the ``View`` object via ``options.style`` attribute. However, the recommended way to inspect the current options in to use the ``%%opts`` *cell* magic without arguments as follows:"
     ]
    },
    {
     "cell_type": "code",
     "collapsed": false,
     "input": [
      "%%opts\n",
      "R"
     ],
     "language": "python",
     "metadata": {},
     "outputs": []
    },
    {
     "cell_type": "markdown",
     "metadata": {},
     "source": [
      "You may wonder what the empty square brackets are about. All ``View`` objects have a second class of options in addition to ``StyleOpts`` which specify options for how to structure the plot. As we can see, ``SheetViews`` have no special plotting options by default which we can confirm by looking at ``'SheetView'`` via ``options.plotting``:"
     ]
    },
    {
     "cell_type": "code",
     "collapsed": false,
     "input": [
      "R.options.plotting['SheetView']"
     ],
     "language": "python",
     "metadata": {},
     "outputs": []
    },
    {
     "cell_type": "markdown",
     "metadata": {},
     "source": [
      "We see that the ``%%opts`` magic conveniently presents both the plotting and style options together where the style options correspond to matplotlib properties of a plot whereas the plotting options customize plotting options. We will see more examples shortly."
     ]
    },
    {
     "cell_type": "heading",
     "level": 3,
     "metadata": {},
     "source": [
      "Customizing style options globally"
     ]
    },
    {
     "cell_type": "markdown",
     "metadata": {},
     "source": [
      "Now if you customize the ``StyleOpts`` of ``SheetView``, you will affect how all ``SheetView`` objects are displayed. Instead of manipulating options through ``.options``, it is recommended that you use the ``%opts`` *line* magic (notice that keys and options are tab completable). For instance:"
     ]
    },
    {
     "cell_type": "code",
     "collapsed": false,
     "input": [
      "%opts SheetView cmap='hot'"
     ],
     "language": "python",
     "metadata": {},
     "outputs": []
    },
    {
     "cell_type": "heading",
     "level": 4,
     "metadata": {},
     "source": [
      "SheetViews are now displayed with cmap='hot':"
     ]
    },
    {
     "cell_type": "code",
     "collapsed": false,
     "input": [
      "example = R + SheetView(sin_rings)\n",
      "example"
     ],
     "language": "python",
     "metadata": {},
     "outputs": []
    },
    {
     "cell_type": "markdown",
     "metadata": {},
     "source": [
      "We can confirm this change of ``cmap`` across all SheetViews using the ``%%opts`` *cell* magic again:"
     ]
    },
    {
     "cell_type": "code",
     "collapsed": false,
     "input": [
      "%%opts\n",
      "example"
     ],
     "language": "python",
     "metadata": {},
     "outputs": []
    },
    {
     "cell_type": "markdown",
     "metadata": {},
     "source": [
      "Note that our ``example`` consists of two ``SheetViews`` in a ``GridLayout`` built with the ``+`` operator (introduced in the [DataView Tutorial](DataView_Tutorial.ipynb). A key feature of the options system and the ``%opts`` magic is that it allows you to easily customize options deep within composite objects."
     ]
    },
    {
     "cell_type": "heading",
     "level": 3,
     "metadata": {},
     "source": [
      "Customizing plotting options globally"
     ]
    },
    {
     "cell_type": "markdown",
     "metadata": {},
     "source": [
      "Plot options can also be set with the ``%opts`` magic by passing the necessary arguments in square brakets after the options key:"
     ]
    },
    {
     "cell_type": "code",
     "collapsed": false,
     "input": [
      "%opts SheetView [show_grid=True, show_yaxis='right', show_xaxis=None]"
     ],
     "language": "python",
     "metadata": {},
     "outputs": []
    },
    {
     "cell_type": "heading",
     "level": 4,
     "metadata": {},
     "source": [
      "Now with grid lines shown, the x-axis disabled and the y-axis on the right:"
     ]
    },
    {
     "cell_type": "code",
     "collapsed": false,
     "input": [
      "example"
     ],
     "language": "python",
     "metadata": {},
     "outputs": []
    },
    {
     "cell_type": "markdown",
     "metadata": {},
     "source": [
      "Here is the updated set of ``'SheetView'`` style and plot options:"
     ]
    },
    {
     "cell_type": "code",
     "collapsed": false,
     "input": [
      "%%opts\n",
      "example"
     ],
     "language": "python",
     "metadata": {},
     "outputs": []
    },
    {
     "cell_type": "heading",
     "level": 4,
     "metadata": {},
     "source": [
      "The %opts magic lets you set both plotting and style options together:"
     ]
    },
    {
     "cell_type": "code",
     "collapsed": false,
     "input": [
      "%opts SheetView [show_grid=True, show_yaxis='right', show_xaxis=None] cmap='gray'\n",
      "example"
     ],
     "language": "python",
     "metadata": {},
     "outputs": []
    },
    {
     "cell_type": "heading",
     "level": 3,
     "metadata": {},
     "source": [
      "Setting options locally"
     ]
    },
    {
     "cell_type": "markdown",
     "metadata": {},
     "source": [
      "You may be concerned that we have been manipulating global options which are stateful and difficult to manage. This is why it is recommended that the ``%opts`` line magic is only used once for commonly shared options at the start of your session. As we have now fiddled with ``PlotOpts``, let's first reset it back to the initial state:"
     ]
    },
    {
     "cell_type": "code",
     "collapsed": false,
     "input": [
      "R.options['SheetView'] = PlotOpts()"
     ],
     "language": "python",
     "metadata": {},
     "outputs": []
    },
    {
     "cell_type": "markdown",
     "metadata": {},
     "source": [
      "The ***correct*** way to customize the display of a particular DataView magic is *not* to use the ``%opts`` line magic but to use the ``%%opts`` cell magic with arguments as follows:"
     ]
    },
    {
     "cell_type": "code",
     "collapsed": false,
     "input": [
      "%%opts SheetView [show_grid=True] cmap='jet'\n",
      "example"
     ],
     "language": "python",
     "metadata": {},
     "outputs": []
    },
    {
     "cell_type": "markdown",
     "metadata": {},
     "source": [
      "Now if we use the ``%%opts`` magic to inspect our ``SheetView`` we see that we have only affected the display of ``SheetViews`` in only this particular ``GridLayout`` object:"
     ]
    },
    {
     "cell_type": "code",
     "collapsed": false,
     "input": [
      "%%opts\n",
      "example"
     ],
     "language": "python",
     "metadata": {},
     "outputs": []
    },
    {
     "cell_type": "markdown",
     "metadata": {},
     "source": [
      "As ``%%opts`` specified custom settings for our ``SheetViews`` in the above ``GridLayout``, the ``.style`` name has been changed from ``'SheetView'`` to a custom style name. You should not try to manipulate this autogenerated style name directly (but you can look at it if you like)."
     ]
    },
    {
     "cell_type": "heading",
     "level": 3,
     "metadata": {},
     "source": [
      "Labels and titles"
     ]
    },
    {
     "cell_type": "markdown",
     "metadata": {},
     "source": [
      "What if you have a complex plot with multiple SheetViews that you want to have *different* styles?\n",
      "\n",
      "We will then need to label each SheetView somehow so we can send the appropriate to the correct object. This is achieved by setting a ``label`` on our object. Revisiting the definition of our example and setting the label appropriately:"
     ]
    },
    {
     "cell_type": "code",
     "collapsed": false,
     "input": [
      "labelled_example = SheetView(imdata['R'],label='Red Channel') + SheetView(sin_rings, label='Sine Rings')\n",
      "labelled_example"
     ],
     "language": "python",
     "metadata": {},
     "outputs": []
    },
    {
     "cell_type": "markdown",
     "metadata": {},
     "source": [
      "As we see, an immediate advantage of adding labels is that our objects now have titles!\n",
      "\n",
      "Note that the label is **not** the title which is why labels are not allowed to have spaces in them. The default title does happen to correspond to the label (as ``title='{label}'``) so for completeness here is an example of how to set a title properly:"
     ]
    },
    {
     "cell_type": "code",
     "collapsed": false,
     "input": [
      "pair1 = (SheetView(imdata['R'], label='Red Channel', title=\"Image: {label}\")  \n",
      "       + SheetView(sin_rings, label='Sine Rings', title=\"Array: {label}\"))\n",
      "pair1"
     ],
     "language": "python",
     "metadata": {},
     "outputs": []
    },
    {
     "cell_type": "heading",
     "level": 3,
     "metadata": {},
     "source": [
      "Differentiating options by label"
     ]
    },
    {
     "cell_type": "markdown",
     "metadata": {},
     "source": [
      "Now that we have introduced labels, here is how they are used to differentiate styles. Let's say we want to keep image channels as grayscale but want to display our rings with an HSV color map. We do need to start by introducing two new global styles:"
     ]
    },
    {
     "cell_type": "code",
     "collapsed": false,
     "input": [
      "%opts Channel_SheetView cmap='gray'\n",
      "%opts Rings_SheetView cmap='hot'"
     ],
     "language": "python",
     "metadata": {},
     "outputs": []
    },
    {
     "cell_type": "markdown",
     "metadata": {},
     "source": [
      "Note that the prefix of these new style names only match *the end* of the labels given to our SheetViews above. Here is why:"
     ]
    },
    {
     "cell_type": "code",
     "collapsed": false,
     "input": [
      "pair2 = (SheetView(imdata['R'], label='Blue Channel', title=\"Image: {label}\")  \n",
      "       + SheetView(cos_rings, label='Cosine Rings', title=\"Array: {label}\"))\n",
      "(pair1 + pair2).cols(2)"
     ],
     "language": "python",
     "metadata": {},
     "outputs": []
    },
    {
     "cell_type": "markdown",
     "metadata": {},
     "source": [
      "We see that the *most* specific match by label is used to select the style. Our SheetViews with labels ``'SineRings'`` and ``'CosineRings'`` both match the style named ``'Rings_SheetView'`` and both our ``'RedChannel'`` and ``'BlueChannel'`` match the style named ``'Channel_SheetView'``.\n",
      "\n",
      "Now that the styles have been declared by the ``%opts`` lines magic, we can manipulate the display of this particular grid object with the ``%%opts`` cell magic as before:"
     ]
    },
    {
     "cell_type": "code",
     "collapsed": false,
     "input": [
      "%%opts Channel_SheetView cmap='jet' Rings_SheetView cmap='gray'\n",
      "(pair1 + pair2).cols(2)"
     ],
     "language": "python",
     "metadata": {},
     "outputs": []
    },
    {
     "cell_type": "code",
     "collapsed": false,
     "input": [
      "%%opts\n",
      "(pair1 + pair2).cols(2)"
     ],
     "language": "python",
     "metadata": {},
     "outputs": []
    },
    {
     "cell_type": "markdown",
     "metadata": {},
     "source": [
      "This example show how to individually customize styles within a collection of ``SheetViews`` held within a ``GridLayout``. Using the labelling system you can address components of complex visualizations containing ``Curve``, ``Points``, ``Contours``, ``Histogram``, ``Table`` or any other DataView object. And there is more! See the end of this notebook for the ``Style inheritance`` tutorial (advanced)."
     ]
    },
    {
     "cell_type": "heading",
     "level": 2,
     "metadata": {},
     "source": [
      "Channels"
     ]
    },
    {
     "cell_type": "markdown",
     "metadata": {},
     "source": [
      "What is the actual colour of this flower and butterfly?\n",
      "\n",
      "Although, we have visualized the red and blue channels using various color maps but we still have no idea what the butterfly looks like in color. What we would like to do is to use our individual channels to obtain an RGB image. This problem will be easily solved using the concept of ``ChanneOpts`` and the ``%%channels`` cell magic."
     ]
    },
    {
     "cell_type": "heading",
     "level": 3,
     "metadata": {},
     "source": [
      "Overlaying SheetViews"
     ]
    },
    {
     "cell_type": "markdown",
     "metadata": {},
     "source": [
      "As introduced in the [DataView Tutorial](DataView_Tutorial.ipynb), we can view all our channels next to each other in a ``GridLayout`` as we have already done in the sections above. The natural operation to try and view these channels together as an RGB image is using the Overlay operator (``*``):"
     ]
    },
    {
     "cell_type": "code",
     "collapsed": false,
     "input": [
      "R = SheetView(imdata['R'], label='Red Channel')\n",
      "G = SheetView(imdata['G'], label='Green Channel')\n",
      "B = SheetView(imdata['B'], label='Blue Channel')\n",
      "rgb_overlay = R * G * B\n",
      "rgb_overlay"
     ],
     "language": "python",
     "metadata": {},
     "outputs": []
    },
    {
     "cell_type": "markdown",
     "metadata": {},
     "source": [
      "Oops! As we have not specified how channels are to be processed, we see the last channel (The blue channel) covering the other two channels. Lets have a look at all three channels at once in a ``GridLayout`` to convince ourselves that the three channels are in the overlay:"
     ]
    },
    {
     "cell_type": "code",
     "collapsed": false,
     "input": [
      "rgb_overlay[0] + rgb_overlay[1] + rgb_overlay[2]"
     ],
     "language": "python",
     "metadata": {},
     "outputs": []
    },
    {
     "cell_type": "markdown",
     "metadata": {},
     "source": [
      "Ok, let's define a channel operations to automatically process RGB image color channels:"
     ]
    },
    {
     "cell_type": "code",
     "collapsed": false,
     "input": [
      "channels['RGB_Image'] = ChannelOpts('RGBA', 'Red Channel * Green Channel * Blue Channel')\n",
      "rgb_overlay"
     ],
     "language": "python",
     "metadata": {},
     "outputs": []
    },
    {
     "cell_type": "code",
     "collapsed": false,
     "input": [
      "(rgb_overlay[0] + rgb_overlay[1] + rgb_overlay[2] + rgb_overlay).cols(2)"
     ],
     "language": "python",
     "metadata": {},
     "outputs": []
    },
    {
     "cell_type": "markdown",
     "metadata": {},
     "source": [
      "Here is a demonstration that our channel definition works for any overlay containing SheetViews with the correct labels. Note that any array values outside unit range will be clipped into the interval [0,1]:"
     ]
    },
    {
     "cell_type": "code",
     "collapsed": false,
     "input": [
      "grad = np.linspace(1, 0,101)\n",
      "(SheetView(np.ones(sin_rings.shape)* 0.4, label='Red Channel')\n",
      " * SheetView(0.5+(sin_rings / 2.0),       label='Green Channel')\n",
      " * SheetView(0.5+(cos_rings / 5.0),       label='Blue Channel'))"
     ],
     "language": "python",
     "metadata": {},
     "outputs": []
    },
    {
     "cell_type": "heading",
     "level": 2,
     "metadata": {},
     "source": [
      "Channel operators"
     ]
    },
    {
     "cell_type": "markdown",
     "metadata": {},
     "source": [
      "So how does this work?\n",
      "\n",
      "Channel operators (such as 'RGBA' we have shown) are simply ``ViewOperations`` described in more detail in THIS TUTORIAL. In particular, a channel operator is a ``ViewOperation`` that accept an ``SheetOverlay`` and returns an atomic `RGBA` SheetView object:"
     ]
    },
    {
     "cell_type": "code",
     "collapsed": false,
     "input": [
      "from dataviews import operation"
     ],
     "language": "python",
     "metadata": {},
     "outputs": []
    },
    {
     "cell_type": "code",
     "collapsed": false,
     "input": [
      "rgb_example = operation.RGBA(rgb_overlay)\n",
      "rgb_example"
     ],
     "language": "python",
     "metadata": {},
     "outputs": []
    },
    {
     "cell_type": "code",
     "collapsed": false,
     "input": [
      "print(\"Mode: %r, Depth: %d, Shape: %s\" %  (rgb_example.mode, rgb_example.depth, rgb_example.shape))"
     ],
     "language": "python",
     "metadata": {},
     "outputs": []
    },
    {
     "cell_type": "markdown",
     "metadata": {},
     "source": [
      "By defining ``ChannelOpts``, we instructed the plotting code to automatically apply the ``RGBA`` operation before display if it ever encounters a ``SheetOverlay`` of ``SheetViews`` with labels in the order ``'RedChannel'``, ``'GreenChannel'`` and ``'BlueChannel'``. Note that the plotting code attempts to apply *all* available channel definition from most specific to least specific. So far, the ``'RGB_Image'`` channel operation has been applicable but we can define different operations:"
     ]
    },
    {
     "cell_type": "code",
     "collapsed": false,
     "input": [
      "channels['alpha_example'] = ChannelOpts('AlphaOverlay', 'Rings * alpha')"
     ],
     "language": "python",
     "metadata": {},
     "outputs": []
    },
    {
     "cell_type": "markdown",
     "metadata": {},
     "source": [
      "Here is an example of how to set the cosine rings as an alpha channel over the sine rings (using a 'summer' color map):"
     ]
    },
    {
     "cell_type": "code",
     "collapsed": false,
     "input": [
      "%%opts Rings_SheetView cmap='summer'\n",
      "(SheetView(0.5+(sin_rings / 2.0), label='Sine Rings') * SheetView(0.5+(cos_rings / 2.0), label='alpha'))"
     ],
     "language": "python",
     "metadata": {},
     "outputs": []
    },
    {
     "cell_type": "heading",
     "level": 2,
     "metadata": {},
     "source": [
      "The %%channels magic"
     ]
    },
    {
     "cell_type": "markdown",
     "metadata": {},
     "source": [
      "As before, you should only define global channels explicitly for visualization styles you expect to use often. For defining channels on a particular ``SheetOverlay`` use, the ``%%channels`` cell magic. First lets define a mask for our image:"
     ]
    },
    {
     "cell_type": "code",
     "collapsed": false,
     "input": [
      "R.data.shape"
     ],
     "language": "python",
     "metadata": {},
     "outputs": []
    },
    {
     "cell_type": "code",
     "collapsed": false,
     "input": [
      "# Time for some programmer 'art'!\n",
      "mask_data = np.ones((418, 418))\n",
      "mask_data[20:390,10:320] = 0.7\n",
      "mask_data[180:330,40:220] = 0.85\n",
      "mask_data[200:310,40:270] = 0.65\n",
      "mask_data[200:290,40:330] = 1.0\n",
      "mask_data[60:130,40:220] = 0.95"
     ],
     "language": "python",
     "metadata": {},
     "outputs": []
    },
    {
     "cell_type": "markdown",
     "metadata": {},
     "source": [
      "Now we can use the image channels for the R, G an B components and the sin_rings"
     ]
    },
    {
     "cell_type": "code",
     "collapsed": false,
     "input": [
      "%%channels Red Channel * Green Channel * Blue Channel * Alpha => RGBA []\n",
      "mask = SheetView(mask_data, label='Alpha')\n",
      "(rgb_overlay * mask) + mask"
     ],
     "language": "python",
     "metadata": {},
     "outputs": []
    },
    {
     "cell_type": "markdown",
     "metadata": {},
     "source": [
      "This section delves a little deeper into the options system for advanced DataViews users. In particular, we will discuss how you can build complex styles easily without repeating options using Style inheritance."
     ]
    },
    {
     "cell_type": "heading",
     "level": 2,
     "metadata": {},
     "source": [
      "Styling the output of ViewOperations"
     ]
    },
    {
     "cell_type": "markdown",
     "metadata": {},
     "source": [
      "We have already seen the ``RGBA ViewOperation``  as an example of a channel operator. There are of course many more types of ``ViewOperations`` as described in THIS TUTORIAL. Here we will only consider one example, the ``contours`` operation which plots the contours at the 0.5 level (by default).\n",
      "\n",
      "It is the job of ``ViewOperation``  to set an appropriate label for the output and to define some basic style options. In this example, ``contours`` defines a ``'Level_Contours'`` option key by default for the ``Contour`` objects it generates:"
     ]
    },
    {
     "cell_type": "code",
     "collapsed": false,
     "input": [
      "%%opts Level_Contours color='c' linewidth=2\n",
      "contour_example = operation.contours(rgb_overlay[0])\n",
      "contour_example"
     ],
     "language": "python",
     "metadata": {},
     "outputs": []
    },
    {
     "cell_type": "markdown",
     "metadata": {},
     "source": [
      "The label itself, however is more specific as it is prefixed with the label of the input SheetView:"
     ]
    },
    {
     "cell_type": "code",
     "collapsed": false,
     "input": [
      "print(\"The contours ViewOperation analysis set the SheetView label to %r\" % contour_example[1].label)"
     ],
     "language": "python",
     "metadata": {},
     "outputs": []
    },
    {
     "cell_type": "heading",
     "level": 1,
     "metadata": {},
     "source": [
      "Finale"
     ]
    },
    {
     "cell_type": "markdown",
     "metadata": {},
     "source": [
      "This gives us all the control we need to style our visualizations, even after processing with with ``ViewOperations``. Here is an example, which incorporate most of the material in this tutorial (defining styles, the ``%%opts`` cell magic, labels, titles and channels).\n",
      "\n",
      "First, lets compute the contour levels for the channels and set the title appropriately:"
     ]
    },
    {
     "cell_type": "code",
     "collapsed": false,
     "input": [
      "RContours = operation.contours(rgb_overlay[0])\n",
      "GContours = operation.contours(rgb_overlay[1])\n",
      "BContours = operation.contours(rgb_overlay[2]) \n",
      "\n",
      "# The title is set by the bottom layer of a SheetOverlay\n",
      "RContours[0].title = GContours[0].title = BContours[0].title = 'Mid-level contours of {label}'"
     ],
     "language": "python",
     "metadata": {},
     "outputs": []
    },
    {
     "cell_type": "markdown",
     "metadata": {},
     "source": [
      "And now, lets use ``%%opts`` cell magic to customize the filtering of the images (setting to 'bilinear') and ``%opts`` to customize the contour colors for channels globally:"
     ]
    },
    {
     "cell_type": "code",
     "collapsed": false,
     "input": [
      "%%opts Channel_SheetView interpolation='bilinear'\n",
      "%opts RedChannelLevel_Contours color='r'\n",
      "%opts GreenChannelLevel_Contours color='g'\n",
      "%opts BlueChannelLevel_Contours color='b'\n",
      "(RContours + GContours + BContours +  rgb_overlay).cols(2)"
     ],
     "language": "python",
     "metadata": {},
     "outputs": []
    },
    {
     "cell_type": "markdown",
     "metadata": {},
     "source": [
      "Of course, everything shown in this tutorial works with animation too!"
     ]
    }
   ],
   "metadata": {}
  }
 ]
}