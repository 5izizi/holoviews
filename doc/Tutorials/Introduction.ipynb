{
 "metadata": {
  "name": "",
  "signature": "sha256:cc1e4027096a03126256bf8c0164dfab791e1a91e7e75322014020c52af56780"
 },
 "nbformat": 3,
 "nbformat_minor": 0,
 "worksheets": [
  {
   "cells": [
    {
     "cell_type": "heading",
     "level": 1,
     "metadata": {},
     "source": [
      "Introduction"
     ]
    },
    {
     "cell_type": "markdown",
     "metadata": {},
     "source": [
      "Welcome to HoloViews!\n",
      "\n",
      "This tutorial explains the basics of how to use HoloViews to explore your data. If this is your first contact with HoloViews, you may want to start by looking at our [showcase](./Showcase.html) to get a quick idea of what can be achieved with HoloViews.  If this introduction does not cover the type of visualizations you need, you should check out our [Elements](./Elements.html) and [Containers](./Containers.html) overviews to see what else is available."
     ]
    },
    {
     "cell_type": "heading",
     "level": 2,
     "metadata": {},
     "source": [
      "What is HoloViews?"
     ]
    },
    {
     "cell_type": "markdown",
     "metadata": {},
     "source": [
      "HoloViews allows you to collect and annotate your data in a way that reveals it naturally, with a minimum of effort needed for you to see your data as it actually *is*.  HoloViews is not a plotting library -- it connects your data to plotting code implemented in other packages, such as [Matplotlib](http://matplotlib.org/).  HoloViews is also not primarily a mass storage or archival data format like [HDF5](http://www.h5py.org/) -- it is mainly designed to package your data to make it maximally visualizable and viewable interactively.\n",
      "\n",
      "If you supply just enough additional information to the data of interest, HoloViews allows you to store, index, slice, analyze, reduce, compose, display, and animate your data as naturally as possible.  HoloViews makes your numerical data come alive, revealing itself easily and without extensive coding. \n",
      "\n",
      "Here are a few of the things HoloViews allows you to associate with your data:\n",
      "\n",
      "* ***The [Element](Elements.html) type***. This encapsulates your data and is the most fundamental indicator of how your data can be analyzed and displayed. For instance, if you wrap a 2D numpy array in a ``Image`` it will be displayed with as an image with a colormap by default, a ``Curve`` will be presented as a line plot on an axis, and so on.  Once your data has been encapsulated in an ``Element`` object, other ``Elements`` can easily be created from it, such as obtaining a ``Curve`` by taking a slice of a ``Image``.\n",
      "\n",
      "\n",
      "* ***Dimensions of your data***. The ``key_dimensions`` describe how your data can be indexed. The ``value_dimensions`` describe what the resulting indexed data represents. A numerical ``Dimension`` can have a name, type, range, and unit. This information allows HoloViews to rescale and label axes and allows HoloViews be smart in how it processes your data.\n",
      "\n",
      "\n",
      "* ***The multi-dimensional space in which your data resides***. This may be space as we normally think of it (in $x$, $y$, and $z$ coordinates). It may be the spatial position of one component relative to another. Or it may be an entirely abstract space, such as a parameter space or a list of experiments done on different days.  Whatever multi-dimensional space characterizes how one chunk of your data relates to another chunk, you can embed your data in that space easily, sparsely populating whatever region of that space you want to analyze.\n",
      "\n",
      "\n",
      "* ***How your data should be grouped for display***. In short, how you want your data to be organized for visualization. If you have a collection of points that was computed from an image, you can easily overlay your points over the image. As a result you have something that both displays sensibly, and is grouped together in a semantically meaningful way.\n",
      "\n",
      "HoloViews can display your data even if it knows only the [Element](Elements.html) type, \n",
      "which lets HoloViews stay out your way when initially exploring your data, offering immediate feedback with reasonable default visualizations. As your analysis becomes more complex and your research progresses, you may offer more of the useful metadata above so that HoloViews will automatically improve your displayed figures accordingly.  Throughout, all you need to supply is this metadata plus optional plotting hints (such as choosing specific colors if you like), rather than having to write cumbersome code to put figures together or having to paste bits together in an external drawing or plotting program.\n",
      "\n",
      "Note that the HoloViews component types each have only minimal required dependencies (Numpy and Param, both with no required dependencies of their own).  This data format can thus be integrated directly into your research or development code if you wish (see e.g. the [ImaGen](http://ioam.github.io/imagen) library for an example).  The plotting is currently implemented using Matplotlib, but the components do not in any way depend on Matplotlib directly, so that other packages could be used for the same data in the future if needed.  Similarly, HoloViews provides strong support for the [IPython notebook](http://ipython.org/notebook.html) interface, and we recommend using the notebook for building reproducible yet interactive workflows, but none of the components require IPython either.  Thus HoloViews is designed to fit into your existing workflow, without adding complicated dependencies."
     ]
    },
    {
     "cell_type": "heading",
     "level": 2,
     "metadata": {},
     "source": [
      "Getting Started"
     ]
    },
    {
     "cell_type": "markdown",
     "metadata": {},
     "source": [
      "To enable IPython integration, you need to load the IPython extension as follows:"
     ]
    },
    {
     "cell_type": "code",
     "collapsed": false,
     "input": [
      "import holoviews\n",
      "%load_ext holoviews.ipython"
     ],
     "language": "python",
     "metadata": {},
     "outputs": []
    },
    {
     "cell_type": "markdown",
     "metadata": {},
     "source": [
      "As HoloViews makes extensive use of Numpy to hold raw data, a qualified numpy import is recommended:"
     ]
    },
    {
     "cell_type": "code",
     "collapsed": false,
     "input": [
      "import numpy as np"
     ],
     "language": "python",
     "metadata": {},
     "outputs": []
    },
    {
     "cell_type": "heading",
     "level": 2,
     "metadata": {},
     "source": [
      "Interactive Documentation <a id='ParamDoc'/>"
     ]
    },
    {
     "cell_type": "markdown",
     "metadata": {},
     "source": [
      "Holoviews has extremely well-documented and error-checked constructors for every class (provided by the [Param](https://ioam.github.io/param/) library). We have made sure to provide a number of convenient ways to access this information interactively. E.g. if you have imported ``Element``:\n",
      "\n",
      "```python\n",
      "from holoviews import Element\n",
      "```\n",
      "You can now access class and parameter documentation in the following ways:\n",
      "\n",
      "* IPython's help syntax: Type ``Element?`` (or mostly equivalently, ``help(Element)``) and then shift-Enter\n",
      "* Repeatedly press ``<Shift+TAB>`` to get more information after opening the constructor: ```Element(<Shift+TAB>```\n",
      "* Type the ``%params`` magic to view information in the pager for an object in the namespace: ``%params Element`` (and then shift-Enter)\n",
      "\n",
      "Lastly, you can tab-complete arguments to HoloViews classes, so if you try ```Element(va<TAB>``, \n",
      "you will see the available keyword arguments (``value``  and ``value_dimensions`` in this case)."
     ]
    },
    {
     "cell_type": "heading",
     "level": 2,
     "metadata": {},
     "source": [
      "A simple visualization"
     ]
    },
    {
     "cell_type": "markdown",
     "metadata": {},
     "source": [
      "To begin, let's see how HoloViews stays out your way when initially exploring some data. Let's view an image, selecting the appropriate [RGB Element](./Elements.html#RGB) to do so:"
     ]
    },
    {
     "cell_type": "code",
     "collapsed": false,
     "input": [
      "from holoviews import RGB"
     ],
     "language": "python",
     "metadata": {},
     "outputs": []
    },
    {
     "cell_type": "markdown",
     "metadata": {},
     "source": [
      "Now, although we could immediately load our image into the ``RGB`` object, we will first load it into a raw Numpy array:"
     ]
    },
    {
     "cell_type": "code",
     "collapsed": false,
     "input": [
      "parrot = RGB.load_image('../assets/macaw.png', array=True)\n",
      "print \"%s with shape %s\" % (type(parrot),parrot.shape)"
     ],
     "language": "python",
     "metadata": {},
     "outputs": []
    },
    {
     "cell_type": "markdown",
     "metadata": {},
     "source": [
      "As we can see this 400$\\times$400 image data array has four channels (the fourth being an unused alpha channel). Now let us make an ``RGB`` element to wrap up this Numpy array with its associated label:"
     ]
    },
    {
     "cell_type": "code",
     "collapsed": false,
     "input": [
      "rgb_parrot = RGB(parrot, label='Macaw')\n",
      "rgb_parrot"
     ],
     "language": "python",
     "metadata": {},
     "outputs": []
    },
    {
     "cell_type": "markdown",
     "metadata": {},
     "source": [
      "Here ``rgb_parrot`` is an ``RGB`` HoloViews element, which requires 3-4 dimensional data and can store an associated label.  ``rgb_parrot`` is *not* a plot -- it is just a data structure with some metadata.  The ``holoviews.ipython`` extension, in turn, makes sure that any ``RGB`` element is displayed appropriately, i.e. as a color image with an associated optional title, plotted using Matplotlib.  But the ``RGB`` object itself does not have any connection to the plotting library, and stores no data about the plot, just its own data, which is sufficient for the external plotting routines to visualize the data usefully and meaningfully.\n",
      "\n",
      "Because ``rgb_parrot`` is just our actual data, it can be composed with other objects, pickled, and analyzed as-is.  For instance, we can still access the underlying Numpy array easily via ``.data`` attribute, and can verify that it is indeed our actual data:"
     ]
    },
    {
     "cell_type": "code",
     "collapsed": false,
     "input": [
      "rgb_parrot.data is parrot"
     ],
     "language": "python",
     "metadata": {},
     "outputs": []
    },
    {
     "cell_type": "markdown",
     "metadata": {},
     "source": [
      "As you compose these objects together, you will see that a complex visualization is not simply a visual display, but a rich data structure containing all the raw data or analyzed data ready for further manipulation and analysis."
     ]
    },
    {
     "cell_type": "heading",
     "level": 3,
     "metadata": {},
     "source": [
      "Viewing individual color channels"
     ]
    },
    {
     "cell_type": "markdown",
     "metadata": {},
     "source": [
      "For many analysis purposes, working in RGB colour space is rather limiting: it is often more flexible to work with a single N$\\times$M array at a time and visualize the data in each channel using a colormap. To do this we need the [Image](./Elements.html#Image) ``Element`` instead of the ``RGB`` ``Element``.\n",
      "\n",
      "To illustrate, let's start by visualizing the total luminance across all the channels of the parrot image, choosing a specific colormap using the HoloViews ``%%opts`` IPython [cell magic](http://ipython.org/ipython-doc/dev/interactive/tutorial.html#magic-functions).  ``%%opts Image`` allows us to pass plotting hints to the underlying visualization code for ``Image`` objects:"
     ]
    },
    {
     "cell_type": "code",
     "collapsed": false,
     "input": [
      "%%opts Image style(cmap='jet')\n",
      "from holoviews import Image\n",
      "luminance = Image(parrot.sum(axis=2), label='Summed Luminance')\n",
      "luminance"
     ],
     "language": "python",
     "metadata": {},
     "outputs": []
    },
    {
     "cell_type": "markdown",
     "metadata": {},
     "source": [
      "This result is what we would expect: dark areas are shown in blue and bright areas are shown in red. Notice how the plotting hints (your desired colormap in this case) are kept separate from your actual data, so that the Image data structure contains only your actual data and the metadata that describes it, not incidental information like Matplotlib options.  We will be now using the default colormaps, but we will come back to the ``%%opts`` magic in more detail later in the tutorial.\n",
      "\n",
      "We will now look at a single color channel by building an appropriate ``Image`` element:"
     ]
    },
    {
     "cell_type": "code",
     "collapsed": false,
     "input": [
      "red = Image(parrot[:,:,0], label='Red')\n",
      "red"
     ],
     "language": "python",
     "metadata": {},
     "outputs": []
    },
    {
     "cell_type": "markdown",
     "metadata": {},
     "source": [
      "Here we created the red ``Image`` directly from numpy array ``parrot``.  You can also make a lower-dimensional HoloViews component by slicing a higher-dimensional one.  For instance, now we will combine this manually constructed red channel with green and blue channels constructed by slicing the ``rgb_parrot`` ``RGB`` Holoviews object to get the appropriate ``Image`` objects:"
     ]
    },
    {
     "cell_type": "code",
     "collapsed": false,
     "input": [
      "channels = red + rgb_parrot[:,:,'G'].relabel('Green') + rgb_parrot[:,:,'B'].relabel('Blue')\n",
      "channels"
     ],
     "language": "python",
     "metadata": {},
     "outputs": []
    },
    {
     "cell_type": "markdown",
     "metadata": {},
     "source": [
      "Here we have combined these three HoloViews objects using the compositional operator ``+`` to create a new object named ``channels``.  When ``channels`` is displayed by the IPython notebook, each ``Image`` is shown side by side, with appropriate labels.  In this format, you can see that the parrot looks quite distinctly different in the red channel than the green and blue channel.\n",
      "\n",
      "Note that the ``channels`` object isn't merely a *display* of three elements side by side, but a new composite object of type ``Layout`` containing our three ``Image`` objects:"
     ]
    },
    {
     "cell_type": "code",
     "collapsed": false,
     "input": [
      "print repr(channels)"
     ],
     "language": "python",
     "metadata": {},
     "outputs": []
    },
    {
     "cell_type": "markdown",
     "metadata": {},
     "source": [
      "This object offers very convenient (tab-completable) attribute access to the components using the semantically meaningful labels we have assigned:"
     ]
    },
    {
     "cell_type": "code",
     "collapsed": false,
     "input": [
      "channels.Image.Blue"
     ],
     "language": "python",
     "metadata": {},
     "outputs": []
    },
    {
     "cell_type": "markdown",
     "metadata": {},
     "source": [
      "This allows us to recompose our data, here to compare the Red and Blue channels together more directly:"
     ]
    },
    {
     "cell_type": "code",
     "collapsed": false,
     "input": [
      "channels.Image.Red + channels.Image.Blue"
     ],
     "language": "python",
     "metadata": {},
     "outputs": []
    },
    {
     "cell_type": "markdown",
     "metadata": {},
     "source": [
      "Notice how the labels we have set are useful for both the titles and for the indexing, and are thus not simply plotting-specific details -- they are semantically meaningful metadata describing this data."
     ]
    },
    {
     "cell_type": "heading",
     "level": 2,
     "metadata": {},
     "source": [
      "Grouping into ``Layouts`` <a id='Layouts'/> <a id='value'/>"
     ]
    },
    {
     "cell_type": "markdown",
     "metadata": {},
     "source": [
      "You may wonder what the \"``.Image``\" is doing in the middle of the indexing above. This is the ***value*** which, even though we haven't set it directly, is as important a concept as the label.  The value isn't the actual data (which is accessible as ``.data``), but a string description of the category or the semantic type of the data.  I.e., the value is what kind of thing this data is, and the label is your name for this particular piece of data.\n",
      "\n",
      "By default, the value is the same as the name of the HoloViews element type, in this case ``Image``:"
     ]
    },
    {
     "cell_type": "code",
     "collapsed": false,
     "input": [
      "channels.Image.Blue.value"
     ],
     "language": "python",
     "metadata": {},
     "outputs": []
    },
    {
     "cell_type": "markdown",
     "metadata": {},
     "source": [
      "The value is an extremely useful grouping mechanism that allows you to structure your data in meaningful ways. As we noted above, the red channel is the most clearly different from the other two, and we can make it special if we wish by grouping it separately using the value:"
     ]
    },
    {
     "cell_type": "code",
     "collapsed": false,
     "input": [
      "channels = ( Image(parrot[:,:,0], value='RedChannel', label='Macaw')\n",
      "           + Image(parrot[:,:,1], value='Channel', label='Green') \n",
      "           + Image(parrot[:,:,2], value='Channel',  label='Blue'))"
     ],
     "language": "python",
     "metadata": {},
     "outputs": []
    },
    {
     "cell_type": "markdown",
     "metadata": {},
     "source": [
      "The red channel is given its own special value ``'RedChannel'`` while the other two channels are grouped under the generic ``Channel``. Here are the two channels under ``Channel``, now easily accessible as a group:"
     ]
    },
    {
     "cell_type": "code",
     "collapsed": false,
     "input": [
      "channels.Channel"
     ],
     "language": "python",
     "metadata": {},
     "outputs": []
    },
    {
     "cell_type": "markdown",
     "metadata": {},
     "source": [
      "And now we can access the interesting red channel:"
     ]
    },
    {
     "cell_type": "code",
     "collapsed": false,
     "input": [
      "channels.RedChannel"
     ],
     "language": "python",
     "metadata": {},
     "outputs": []
    },
    {
     "cell_type": "markdown",
     "metadata": {},
     "source": [
      "Of course, you could also access the other two channels individually using ``channels.Channel.Green`` and ``channels.Channel.Blue`` respectively. We choose how much indexing we need to get at our elements and what groups are meaningful for us to manipulate together.\n",
      "\n",
      "Now let's look at the whole set together:"
     ]
    },
    {
     "cell_type": "code",
     "collapsed": false,
     "input": [
      "channels"
     ],
     "language": "python",
     "metadata": {},
     "outputs": []
    },
    {
     "cell_type": "markdown",
     "metadata": {},
     "source": [
      "Although visually very similar to what we had in ``Out [10]``, we now have a nested data structure (a tree data structure called a ``Layout``) with a different organization, as described in the next section."
     ]
    },
    {
     "cell_type": "heading",
     "level": 3,
     "metadata": {},
     "source": [
      "The ``Layout`` datastructure"
     ]
    },
    {
     "cell_type": "markdown",
     "metadata": {},
     "source": [
      "Here is the ``Layout`` object data structure we built using the ``+`` operator:"
     ]
    },
    {
     "cell_type": "code",
     "collapsed": false,
     "input": [
      "print repr(channels)"
     ],
     "language": "python",
     "metadata": {},
     "outputs": []
    },
    {
     "cell_type": "markdown",
     "metadata": {},
     "source": [
      "All the raw data we have used is stored inside the ``Image`` objects that are easily accessible in this tree. We index the tree by value and label e.g. ``RedChannel.Macaw``. or ``Channel.Green``.\n",
      "\n",
      "The elements themselves are identified according to the scheme ``{type}.{value}.{label}``. Note that the indexing of the tree follows the value and label of the contained elements. This is the default behaviour and almost always true unless you explicitly set otherwise.\n",
      "\n",
      "You may wonder what the string in parentheses ``(z)`` means. This the name of the default value dimension for our ``Image`` objects. Again, this can be set to whatever name is appropriate to describe the elements of the two-dimensional array."
     ]
    },
    {
     "cell_type": "code",
     "collapsed": false,
     "input": [
      "channels.RedChannel.Macaw.value_dimensions[0]"
     ],
     "language": "python",
     "metadata": {},
     "outputs": []
    },
    {
     "cell_type": "markdown",
     "metadata": {},
     "source": [
      "A ``Layout`` is an incredibly convenient and versatile way of collecting data together semantically in a way that conveys how to display it (i.e., as separate visualizations alongside each other). As we have seen, it allows data to be grouped by value as well as indexed to select individual elements of the tree.  Note that if you want to see the textual representation of this structure rather than plots, e.g. for debugging, you can use the IPython ``%pprint`` magic to toggle between repr and rich display, or you can print ``repr(``*object*``)``."
     ]
    },
    {
     "cell_type": "heading",
     "level": 2,
     "metadata": {},
     "source": [
      "Grouping into ``Overlays``"
     ]
    },
    {
     "cell_type": "markdown",
     "metadata": {},
     "source": [
      "Putting two components ([Elements](./Elements.html) or [Containers](./Containers.html)) side by side into a ``Layout`` using ``+`` is one of the most common operations in HoloViews, and works with any possible component type.  But there is another compositional operator ``*`` that is also very useful for creating complex visualizations, by overlaying components on top of each other.  Nearly all components can be overlaid as well, except for a ``Layout``; a ``Layout`` always contains ``Overlays`` and never the other way around."
     ]
    },
    {
     "cell_type": "heading",
     "level": 3,
     "metadata": {},
     "source": [
      "Pointing to our parrot"
     ]
    },
    {
     "cell_type": "markdown",
     "metadata": {},
     "source": [
      "\n",
      "One type of element designed specifically for overlaying is the [annotation](./Elements.html#Annotations). Here we use the [Arrow Element](./Elements.html#Arrow) to label our parrot using the original ``RGB`` object with the overlay (``*``) operator:"
     ]
    },
    {
     "cell_type": "code",
     "collapsed": false,
     "input": [
      "from holoviews import Arrow\n",
      "extents = (-0.5, -0.5, 0.5, 0.5) # Image spatial extents\n",
      "o = rgb_parrot * Arrow(-0.1,0.2, 'Polly', '>', extents=extents)\n",
      "o"
     ],
     "language": "python",
     "metadata": {},
     "outputs": []
    },
    {
     "cell_type": "markdown",
     "metadata": {},
     "source": [
      "An overlay is a compositional datastructure, just like ``Layout`` (it is in fact a subclass!). This means the same indexing and grouping sematics apply. To illustrate we can index our overlay to pull it apart and lay the two components side by side:\n"
     ]
    },
    {
     "cell_type": "code",
     "collapsed": false,
     "input": [
      "o + o.RGB.Macaw + o.Arrow.I"
     ],
     "language": "python",
     "metadata": {},
     "outputs": []
    },
    {
     "cell_type": "markdown",
     "metadata": {},
     "source": [
      "Note that when there is no label available for an object in a ``Layout`` or ``Overlay``, HoloViews will generate an appropriate Roman numeral identifier for indexing. In this case we index our arrow using ``Arrow.I``.  Naturally, overlays may themselves be elements of a ``Layout``, as at left above."
     ]
    },
    {
     "cell_type": "heading",
     "level": 3,
     "metadata": {},
     "source": [
      "Overlaying contours"
     ]
    },
    {
     "cell_type": "markdown",
     "metadata": {},
     "source": [
      "Overlays may be simple annotations as demonstrated above, but often they can contain significant volumes of important data. To demonstrate, we will introduce the concept of **operations** and the [``Contours``](Elements.html#Contours) ``Element``:"
     ]
    },
    {
     "cell_type": "code",
     "collapsed": false,
     "input": [
      "from holoviews.operation import contours"
     ],
     "language": "python",
     "metadata": {},
     "outputs": []
    },
    {
     "cell_type": "markdown",
     "metadata": {},
     "source": [
      "This operation takes an ``Image`` as input and generates an overlay for us, where our original input is returned with contour lines overlaid on top. Let's have a look at the 10% (darkest) and 80% (brightest) areas of the red channel:"
     ]
    },
    {
     "cell_type": "code",
     "collapsed": false,
     "input": [
      "contours(channels.RedChannel.Macaw, levels=[0.10,0.80])"
     ],
     "language": "python",
     "metadata": {},
     "outputs": []
    },
    {
     "cell_type": "markdown",
     "metadata": {},
     "source": [
      "The colors and the line widths here are using default values, in this case cyan for the 10% contour and red for the 80% contour.  If we want to change those, we can do so using the ``%%opts`` cell magic, described below."
     ]
    },
    {
     "cell_type": "heading",
     "level": 2,
     "metadata": {},
     "source": [
      "The %%opts magic"
     ]
    },
    {
     "cell_type": "markdown",
     "metadata": {},
     "source": [
      "If the line width seems too thick for our purposes, we can change it using the ``%opts`` (options) magic to pass hints to the plotting system:"
     ]
    },
    {
     "cell_type": "code",
     "collapsed": false,
     "input": [
      "%%opts Contours (linewidth=1.3)\n",
      "rcontours = contours(channels.RedChannel.Macaw, levels=[0.10,0.80])\n",
      "rcontours"
     ],
     "language": "python",
     "metadata": {},
     "outputs": []
    },
    {
     "cell_type": "markdown",
     "metadata": {},
     "source": [
      "The plotting system is entirely separate from all the Holoviews components discussed above and in the [Elements](./Elements.html) tutorial, and is accessed via this special mechanism to ensure that plotting-specific hints that are not semantic properties of your data do not get mixed up with the data itself.  Here, the first token supplied to ``%%opts`` is ``Contours``. This token specifies the HoloViews type that we want to style differently; we could have used ``Image`` if we wanted to change something about the underlying image instead. \n",
      "\n",
      "Next we specify the type of option we want to change, using ``style(keyword=``*value*``,...)`` (or more compactly ``(keyword=``*value*&nbsp;``...)``, as here) to indicate that we are supplying plotting styles, i.e. keywords to be passed directly to the underlying plotting system.  The keywords supported here are simply those provided by \n",
      "[Matplotlib](http://matplotlib.org/devdocs/api/matplotlib_configuration_api.html#matplotlib.rcParams) for the current implementation, but different keywords would be supported if the underlying backend changed (since HoloViews does not store any list of all the keywords that might be supported by a plotting library).  \n",
      "\n",
      "In addition to the style options, we can pass other plot options using \n",
      "``plot(keyword=``*value*``,...)`` (or simply ``[keyword=``*value*`` ...]`` for short, with square brackets).  These options are given as parameters to the objects in the plotting code of HoloViews itself, not to the underlying plotting library.  For instance, plot titles and sizes can be changed at this level.  The list of parameters supported for any given component is listed in the HoloViews\n",
      "[Reference Manual](http://ioam.github.io/holoviews/Reference_Manual/holoviews.plotting.html).\n",
      "\n",
      "A third type of options can be passed using \n",
      "``norm(-groupwise|-mapwise)`` (or simply ``{-groupwise|-mapwise}`` for short, with curly brackets).  These options are also passed to the Holoviews plotting system, but are a separate set of options that control normalization, enabling (with ``+``) or disabling (with ``-``) normalization within a Layout or between components of a given type.  Normalization is a major feature of Holoviews, with sizes, ranges, and values all being coordinated across Elements in a Layout, and these options allow this behavior to be controlled precisely to make sure that the important aspects of your data are visible.\n",
      "\n",
      "Note that tab-completion is available wherever possible when specifying the magic.  Also note that these options apply only to the specific IPython Notebook cell for which they are supplied, but you can replace the cell magic ``%%opts`` with the line magic ``%opts`` (with a single ``%``) to apply to all subsequent cells of your notebook as well."
     ]
    },
    {
     "cell_type": "heading",
     "level": 2,
     "metadata": {},
     "source": [
      "Animations and slider bars"
     ]
    },
    {
     "cell_type": "markdown",
     "metadata": {},
     "source": [
      "The final topic for the introduction is animations.  Animation relies on a powerful container component called a\n",
      "[HoloMap](./Exploring_Data.html), which has its own tutorial.  Here, as a brief illustration, we show how to construct a ``HoloMap`` from a set of ``Layout`` objects, such as a list of different threshold levels for the above image.\n",
      "\n",
      "As you can see in the above plot, having a large number of threshold levels would be very difficult to include in a single plot.  In such a case, one could lay them out side by side, but here we show how to combine them into a ``HoloMap`` as an animation:"
     ]
    },
    {
     "cell_type": "code",
     "collapsed": false,
     "input": [
      "%%opts Contours (color='k')\n",
      "from holoviews import Layout\n",
      "import numpy\n",
      "data = {lvl:contours(channels.RedChannel.Macaw, levels=[lvl]) for lvl in numpy.linspace(0.1,0.9,9)}\n",
      "Layout.collate(data, key_dimensions=['Levels'])[1]"
     ],
     "language": "python",
     "metadata": {},
     "outputs": []
    },
    {
     "cell_type": "markdown",
     "metadata": {},
     "source": [
      "Now that you understand the basic concepts of Holoviews, it's worth checking out the full features of the \n",
      "[HoloMap](./Exploring_Data.html) component, as well as all the other types of [elements](./Elements.html) and [containers](./Containers.html).  Have fun!"
     ]
    }
   ],
   "metadata": {}
  }
 ]
}