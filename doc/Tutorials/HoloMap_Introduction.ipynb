{
 "metadata": {
  "name": "",
  "signature": "sha256:e58992d60485bb8f8f3ac923d83af2bcabd58e6b9e15c8696c8b21b1038c4eb6"
 },
 "nbformat": 3,
 "nbformat_minor": 0,
 "worksheets": [
  {
   "cells": [
    {
     "cell_type": "heading",
     "level": 1,
     "metadata": {
      "forecast": {
       "Birmingham": {
        "city": {
         "coord": {
          "lat": 52.481419,
          "lon": -1.89983
         },
         "country": "GB",
         "id": 2655603,
         "name": "Birmingham",
         "population": 0,
         "sys": {
          "population": 0
         }
        },
        "cnt": 5,
        "cod": "200",
        "list": [
         {
          "clouds": 12,
          "deg": 336,
          "dt": 1400068800,
          "humidity": 77,
          "pressure": 1033.66,
          "speed": 3.11,
          "temp": {
           "day": 291.78,
           "eve": 290.98,
           "max": 291.78,
           "min": 283.24,
           "morn": 291.78,
           "night": 283.24
          },
          "weather": [
           {
            "description": "few clouds",
            "icon": "02d",
            "id": 801,
            "main": "Clouds"
           }
          ]
         },
         {
          "clouds": 0,
          "deg": 258,
          "dt": 1400155200,
          "humidity": 90,
          "pressure": 1037.82,
          "speed": 2.01,
          "temp": {
           "day": 291.98,
           "eve": 293,
           "max": 293.21,
           "min": 283.08,
           "morn": 283.08,
           "night": 286.96
          },
          "weather": [
           {
            "description": "sky is clear",
            "icon": "01d",
            "id": 800,
            "main": "Clear"
           }
          ]
         },
         {
          "clouds": 32,
          "deg": 256,
          "dt": 1400241600,
          "humidity": 88,
          "pressure": 1034.23,
          "speed": 2.18,
          "temp": {
           "day": 293.68,
           "eve": 293.05,
           "max": 293.68,
           "min": 285.28,
           "morn": 286.26,
           "night": 285.28
          },
          "weather": [
           {
            "description": "scattered clouds",
            "icon": "03d",
            "id": 802,
            "main": "Clouds"
           }
          ]
         },
         {
          "clouds": 36,
          "deg": 218,
          "dt": 1400328000,
          "humidity": 80,
          "pressure": 1027.47,
          "speed": 2.31,
          "temp": {
           "day": 292.02,
           "eve": 293.49,
           "max": 293.65,
           "min": 284.55,
           "morn": 284.55,
           "night": 287.78
          },
          "weather": [
           {
            "description": "scattered clouds",
            "icon": "03d",
            "id": 802,
            "main": "Clouds"
           }
          ]
         },
         {
          "clouds": 0,
          "deg": 180,
          "dt": 1400414400,
          "humidity": 74,
          "pressure": 1017.67,
          "speed": 5.81,
          "temp": {
           "day": 294.72,
           "eve": 293.96,
           "max": 295.08,
           "min": 285.95,
           "morn": 285.95,
           "night": 288.07
          },
          "weather": [
           {
            "description": "sky is clear",
            "icon": "01d",
            "id": 800,
            "main": "Clear"
           }
          ]
         }
        ],
        "message": 0.049
       },
       "Bristol": {
        "city": {
         "coord": {
          "lat": 51.455231,
          "lon": -2.59665
         },
         "country": "GB",
         "id": 2654675,
         "name": "Bristol",
         "population": 0,
         "sys": {
          "population": 0
         }
        },
        "cnt": 5,
        "cod": "200",
        "list": [
         {
          "clouds": 8,
          "deg": 325,
          "dt": 1400068800,
          "humidity": 69,
          "pressure": 1036.41,
          "speed": 4.36,
          "temp": {
           "day": 290.98,
           "eve": 290.03,
           "max": 290.98,
           "min": 283.28,
           "morn": 290.98,
           "night": 283.28
          },
          "weather": [
           {
            "description": "sky is clear",
            "icon": "02d",
            "id": 800,
            "main": "Clear"
           }
          ]
         },
         {
          "clouds": 12,
          "deg": 172,
          "dt": 1400155200,
          "humidity": 80,
          "pressure": 1040.25,
          "speed": 1.91,
          "temp": {
           "day": 291.96,
           "eve": 291.88,
           "max": 292.29,
           "min": 282.47,
           "morn": 282.47,
           "night": 283.89
          },
          "weather": [
           {
            "description": "few clouds",
            "icon": "02d",
            "id": 801,
            "main": "Clouds"
           }
          ]
         },
         {
          "clouds": 0,
          "deg": 350,
          "dt": 1400241600,
          "humidity": 78,
          "pressure": 1037.07,
          "speed": 1.78,
          "temp": {
           "day": 293.19,
           "eve": 292.91,
           "max": 293.68,
           "min": 283.62,
           "morn": 283.62,
           "night": 285.93
          },
          "weather": [
           {
            "description": "sky is clear",
            "icon": "01d",
            "id": 800,
            "main": "Clear"
           }
          ]
         },
         {
          "clouds": 36,
          "deg": 136,
          "dt": 1400328000,
          "humidity": 73,
          "pressure": 1029.65,
          "speed": 1.86,
          "temp": {
           "day": 293.27,
           "eve": 293.24,
           "max": 294.05,
           "min": 284.68,
           "morn": 285.1,
           "night": 284.68
          },
          "weather": [
           {
            "description": "scattered clouds",
            "icon": "03d",
            "id": 802,
            "main": "Clouds"
           }
          ]
         },
         {
          "clouds": 0,
          "deg": 177,
          "dt": 1400414400,
          "humidity": 66,
          "pressure": 1019.69,
          "speed": 5.46,
          "temp": {
           "day": 293.72,
           "eve": 292.86,
           "max": 294.33,
           "min": 284.55,
           "morn": 284.55,
           "night": 287.47
          },
          "weather": [
           {
            "description": "sky is clear",
            "icon": "01d",
            "id": 800,
            "main": "Clear"
           }
          ]
         }
        ],
        "message": 0.0303
       },
       "Cardiff": {
        "city": {
         "coord": {
          "lat": 51.48,
          "lon": -3.18
         },
         "country": "GB",
         "id": 2653822,
         "name": "Cardiff",
         "population": 0,
         "sys": {
          "population": 0
         }
        },
        "cnt": 5,
        "cod": "200",
        "list": [
         {
          "clouds": 8,
          "deg": 325,
          "dt": 1400068800,
          "humidity": 69,
          "pressure": 1036.41,
          "speed": 4.36,
          "temp": {
           "day": 290.98,
           "eve": 290.03,
           "max": 290.98,
           "min": 283.28,
           "morn": 290.98,
           "night": 283.28
          },
          "weather": [
           {
            "description": "sky is clear",
            "icon": "02d",
            "id": 800,
            "main": "Clear"
           }
          ]
         },
         {
          "clouds": 12,
          "deg": 172,
          "dt": 1400155200,
          "humidity": 80,
          "pressure": 1040.25,
          "speed": 1.91,
          "temp": {
           "day": 291.96,
           "eve": 291.88,
           "max": 292.29,
           "min": 282.47,
           "morn": 282.47,
           "night": 283.89
          },
          "weather": [
           {
            "description": "few clouds",
            "icon": "02d",
            "id": 801,
            "main": "Clouds"
           }
          ]
         },
         {
          "clouds": 0,
          "deg": 350,
          "dt": 1400241600,
          "humidity": 78,
          "pressure": 1037.07,
          "speed": 1.78,
          "temp": {
           "day": 293.19,
           "eve": 292.91,
           "max": 293.68,
           "min": 283.62,
           "morn": 283.62,
           "night": 285.93
          },
          "weather": [
           {
            "description": "sky is clear",
            "icon": "01d",
            "id": 800,
            "main": "Clear"
           }
          ]
         },
         {
          "clouds": 36,
          "deg": 136,
          "dt": 1400328000,
          "humidity": 73,
          "pressure": 1029.65,
          "speed": 1.86,
          "temp": {
           "day": 293.27,
           "eve": 293.24,
           "max": 294.05,
           "min": 284.68,
           "morn": 285.1,
           "night": 284.68
          },
          "weather": [
           {
            "description": "scattered clouds",
            "icon": "03d",
            "id": 802,
            "main": "Clouds"
           }
          ]
         },
         {
          "clouds": 0,
          "deg": 177,
          "dt": 1400414400,
          "humidity": 66,
          "pressure": 1019.69,
          "speed": 5.46,
          "temp": {
           "day": 293.72,
           "eve": 292.86,
           "max": 294.33,
           "min": 284.55,
           "morn": 284.55,
           "night": 287.47
          },
          "weather": [
           {
            "description": "sky is clear",
            "icon": "01d",
            "id": 800,
            "main": "Clear"
           }
          ]
         }
        ],
        "message": 0.034
       },
       "Edinburgh": {
        "city": {
         "coord": {
          "lat": 55.952061,
          "lon": -3.19648
         },
         "country": "GB",
         "id": 2650225,
         "name": "Edinburgh",
         "population": 0,
         "sys": {
          "population": 0
         }
        },
        "cnt": 5,
        "cod": "200",
        "list": [
         {
          "clouds": 68,
          "deg": 226,
          "dt": 1400068800,
          "humidity": 76,
          "pressure": 1034.39,
          "speed": 3.51,
          "temp": {
           "day": 289.66,
           "eve": 289.11,
           "max": 289.66,
           "min": 285.97,
           "morn": 289.66,
           "night": 285.97
          },
          "weather": [
           {
            "description": "broken clouds",
            "icon": "04d",
            "id": 803,
            "main": "Clouds"
           }
          ]
         },
         {
          "clouds": 64,
          "deg": 248,
          "dt": 1400155200,
          "humidity": 75,
          "pressure": 1036.85,
          "speed": 6.34,
          "temp": {
           "day": 290.6,
           "eve": 289.82,
           "max": 291.13,
           "min": 285.53,
           "morn": 285.65,
           "night": 285.53
          },
          "weather": [
           {
            "description": "broken clouds",
            "icon": "04d",
            "id": 803,
            "main": "Clouds"
           }
          ]
         },
         {
          "clouds": 64,
          "deg": 237,
          "dt": 1400241600,
          "humidity": 71,
          "pressure": 1031.48,
          "speed": 8.28,
          "temp": {
           "day": 288.39,
           "eve": 287.65,
           "max": 288.78,
           "min": 284.33,
           "morn": 285.72,
           "night": 284.33
          },
          "weather": [
           {
            "description": "broken clouds",
            "icon": "04d",
            "id": 803,
            "main": "Clouds"
           }
          ]
         },
         {
          "clouds": 0,
          "deg": 222,
          "dt": 1400328000,
          "humidity": 73,
          "pressure": 1025.12,
          "speed": 6.36,
          "temp": {
           "day": 288.17,
           "eve": 288.89,
           "max": 289.05,
           "min": 283.8,
           "morn": 283.8,
           "night": 285.53
          },
          "weather": [
           {
            "description": "sky is clear",
            "icon": "01d",
            "id": 800,
            "main": "Clear"
           }
          ]
         },
         {
          "clouds": 68,
          "deg": 200,
          "dt": 1400414400,
          "humidity": 69,
          "pressure": 1015.64,
          "speed": 7.96,
          "temp": {
           "day": 288.77,
           "eve": 288.51,
           "max": 289.18,
           "min": 285.45,
           "morn": 285.45,
           "night": 286.17
          },
          "weather": [
           {
            "description": "broken clouds",
            "icon": "04d",
            "id": 803,
            "main": "Clouds"
           }
          ]
         }
        ],
        "message": 2.494
       },
       "London": {
        "city": {
         "coord": {
          "lat": 51.50853,
          "lon": -0.12574
         },
         "country": "GB",
         "id": 2643743,
         "name": "London",
         "population": 0,
         "sys": {
          "population": 0
         }
        },
        "cnt": 5,
        "cod": "200",
        "list": [
         {
          "clouds": 8,
          "deg": 18,
          "dt": 1400065200,
          "humidity": 80,
          "pressure": 1039.57,
          "speed": 3.51,
          "temp": {
           "day": 288.62,
           "eve": 287.93,
           "max": 288.62,
           "min": 280.23,
           "morn": 288.62,
           "night": 280.23
          },
          "weather": [
           {
            "description": "sky is clear",
            "icon": "02d",
            "id": 800,
            "main": "Clear"
           }
          ]
         },
         {
          "clouds": 0,
          "deg": 316,
          "dt": 1400151600,
          "humidity": 82,
          "pressure": 1043.9,
          "speed": 2.11,
          "temp": {
           "day": 290.72,
           "eve": 291.83,
           "max": 292.13,
           "min": 281.35,
           "morn": 281.35,
           "night": 283.92
          },
          "weather": [
           {
            "description": "sky is clear",
            "icon": "01d",
            "id": 800,
            "main": "Clear"
           }
          ]
         },
         {
          "clouds": 12,
          "deg": 239,
          "dt": 1400238000,
          "humidity": 76,
          "pressure": 1040.23,
          "speed": 1.96,
          "temp": {
           "day": 293.8,
           "eve": 294.1,
           "max": 294.86,
           "min": 284.05,
           "morn": 284.05,
           "night": 289.86
          },
          "weather": [
           {
            "description": "few clouds",
            "icon": "02d",
            "id": 801,
            "main": "Clouds"
           }
          ]
         },
         {
          "clouds": 64,
          "deg": 208,
          "dt": 1400324400,
          "humidity": 75,
          "pressure": 1033.22,
          "speed": 1.76,
          "temp": {
           "day": 294.62,
           "eve": 294.29,
           "max": 294.62,
           "min": 288.55,
           "morn": 288.55,
           "night": 290.78
          },
          "weather": [
           {
            "description": "broken clouds",
            "icon": "04d",
            "id": 803,
            "main": "Clouds"
           }
          ]
         },
         {
          "clouds": 0,
          "deg": 161,
          "dt": 1400410800,
          "humidity": 61,
          "pressure": 1024.72,
          "speed": 5.51,
          "temp": {
           "day": 296.02,
           "eve": 296.11,
           "max": 297.28,
           "min": 287.2,
           "morn": 287.2,
           "night": 289.12
          },
          "weather": [
           {
            "description": "sky is clear",
            "icon": "01d",
            "id": 800,
            "main": "Clear"
           }
          ]
         }
        ],
        "message": 0.0024
       },
       "Newport": {
        "city": {
         "coord": {
          "lat": 51.587742,
          "lon": -2.99835
         },
         "country": "GB",
         "id": 2641598,
         "name": "Newport",
         "population": 0,
         "sys": {
          "population": 0
         }
        },
        "cnt": 5,
        "cod": "200",
        "list": [
         {
          "clouds": 64,
          "deg": 318,
          "dt": 1400068800,
          "humidity": 74,
          "pressure": 1020.85,
          "speed": 2.51,
          "temp": {
           "day": 291.91,
           "eve": 291.57,
           "max": 291.91,
           "min": 283.66,
           "morn": 291.91,
           "night": 283.66
          },
          "weather": [
           {
            "description": "broken clouds",
            "icon": "04d",
            "id": 803,
            "main": "Clouds"
           }
          ]
         },
         {
          "clouds": 0,
          "deg": 209,
          "dt": 1400155200,
          "humidity": 81,
          "pressure": 1024.53,
          "speed": 1.94,
          "temp": {
           "day": 293.1,
           "eve": 293.15,
           "max": 294.15,
           "min": 283.18,
           "morn": 283.18,
           "night": 286.64
          },
          "weather": [
           {
            "description": "sky is clear",
            "icon": "01d",
            "id": 800,
            "main": "Clear"
           }
          ]
         },
         {
          "clouds": 0,
          "deg": 281,
          "dt": 1400241600,
          "humidity": 77,
          "pressure": 1021.59,
          "speed": 2.63,
          "temp": {
           "day": 292.81,
           "eve": 291.16,
           "max": 292.82,
           "min": 283.01,
           "morn": 284.76,
           "night": 283.01
          },
          "weather": [
           {
            "description": "sky is clear",
            "icon": "01d",
            "id": 800,
            "main": "Clear"
           }
          ]
         },
         {
          "clouds": 0,
          "deg": 207,
          "dt": 1400328000,
          "humidity": 75,
          "pressure": 1014.33,
          "speed": 2.66,
          "temp": {
           "day": 291.57,
           "eve": 292.04,
           "max": 292.75,
           "min": 282.5,
           "morn": 282.5,
           "night": 285.78
          },
          "weather": [
           {
            "description": "sky is clear",
            "icon": "01d",
            "id": 800,
            "main": "Clear"
           }
          ]
         },
         {
          "clouds": 8,
          "deg": 184,
          "dt": 1400414400,
          "humidity": 72,
          "pressure": 1004.21,
          "speed": 5.56,
          "temp": {
           "day": 293.02,
           "eve": 292.46,
           "max": 293.68,
           "min": 285.2,
           "morn": 285.2,
           "night": 287.57
          },
          "weather": [
           {
            "description": "sky is clear",
            "icon": "02d",
            "id": 800,
            "main": "Clear"
           }
          ]
         }
        ],
        "message": 0.0399
       }
      }
     },
     "source": [
      "Dimensions and HoloMap Introduction - Hurricane Sandy"
     ]
    },
    {
     "cell_type": "markdown",
     "metadata": {},
     "source": [
      "In the [Introductory Tutorial](HoloViews_Introduction.ipynb) and the [Component Reference](HoloViews_Component.ipynb), we saw how HoloViews allows for quickly composing complex plot types and declare the dimensionality of your Elements. In this tutorial we will explore how you may specify sparse parameter spaces of your Elements by wrapping them in multi-dimensional data structures, the most central of which is the HoloMap."
     ]
    },
    {
     "cell_type": "code",
     "collapsed": false,
     "input": [
      "%load_ext holoviews.ipython"
     ],
     "language": "python",
     "metadata": {},
     "outputs": []
    },
    {
     "cell_type": "markdown",
     "metadata": {},
     "source": [
      "To start, here are some general imports we will be using:"
     ]
    },
    {
     "cell_type": "code",
     "collapsed": false,
     "input": [
      "import json\n",
      "import datetime as dt \n",
      "import urllib2\n",
      "import multiprocessing\n",
      "\n",
      "import numpy as np\n",
      "from matplotlib import pyplot as plt\n",
      "import matplotlib.dates as md\n",
      "\n",
      "from holoviews import Dimension, HoloMap, RGB, ItemTable"
     ],
     "language": "python",
     "metadata": {},
     "outputs": []
    },
    {
     "cell_type": "heading",
     "level": 2,
     "metadata": {},
     "source": [
      "HoloMap Basics"
     ]
    },
    {
     "cell_type": "markdown",
     "metadata": {},
     "source": [
      "Python users will be familiar with dictionaries as as way to collect data together in a conveniently accessible manner. Unlike arrays, dictionaries are sparse and heterogeneous and do not have to be declared with a fixed size.\n",
      "\n",
      "HoloMaps are a core part of HoloViews and are essential for generating animated visualizations. They also provide highly useful means of manipulating your data for display and have several useful properties:\n",
      "\n",
      "* HoloMaps are ordered (internally they use OrderedDictionary or if installed the optimized cyordereddict).\n",
      "* HoloMaps let you index your data with an arbitrary number of dimensions.\n",
      "* The dimensions used may be simple strings or objects recording the name, type and physical units of the dimension.\n",
      "* HoloMaps let you select portions of your data by slicing each available dimension independently.\n",
      "* HoloMaps also provide means of transforming the data by sampling, reducing and collapsing your data Elements.\n",
      "* Dimensions in a HoloMap may be mapped onto phase spaces."
     ]
    },
    {
     "cell_type": "heading",
     "level": 2,
     "metadata": {},
     "source": [
      "Generating simple animations"
     ]
    },
    {
     "cell_type": "markdown",
     "metadata": {},
     "source": [
      "In this notebook we will be exploring weather data from Hurricane Sandy, which swept across the Carribbean and Eastern US seaboard in late October 2012. We'll scrape our data from various online sources and explore not only how we can quickly generate animations using HoloMaps but also how we can deal with very high-dimensional data."
     ]
    },
    {
     "cell_type": "markdown",
     "metadata": {},
     "source": [
      "Let's start by getting a few frames of the satellite imagery based NASA wind speed models. Using urllib2 and multiprocessing we can quickly load and crop a number of frames. "
     ]
    },
    {
     "cell_type": "code",
     "collapsed": false,
     "input": [
      "frames = np.arange(1301,2001,50)\n",
      "timestamps=[1351123200+i*16*60*60 for i in range(14)]\n",
      "dates=md.date2num([dt.datetime.fromtimestamp(ts) for ts in timestamps])\n",
      "\n",
      "url=\"http://svs.gsfc.nasa.gov/vis/a030000/a030000/a030019/frames/1920x1080_16x9_30p/sandy_10m/1920_1080_FramesSandy10m{frame}.png\"\n",
      "def load_image(frame):\n",
      "    arr = plt.imread(urllib2.urlopen(url.format(frame=str(frame).zfill(4))))\n",
      "    return arr[200:900:2, 400:1200:2]"
     ],
     "language": "python",
     "metadata": {},
     "outputs": []
    },
    {
     "cell_type": "code",
     "collapsed": false,
     "input": [
      "pool = multiprocessing.Pool()\n",
      "result = pool.map(load_image, frames)"
     ],
     "language": "python",
     "metadata": {},
     "outputs": []
    },
    {
     "cell_type": "markdown",
     "metadata": {},
     "source": [
      "Now that we have loaded the data let's load the raw image arrays into some of our RGB Elements and create a HoloMap. We begin by declaring the key_dimensions of the HoloMap, in this case we will index our HoloMap both by the frame number and the date."
     ]
    },
    {
     "cell_type": "code",
     "collapsed": false,
     "input": [
      "date_dim = Dimension(\"Date\", formatter=md.DateFormatter('%h %d %Y %H:%M UTC'), type=float)\n",
      "key_dimensions = ['Frame', date_dim]"
     ],
     "language": "python",
     "metadata": {},
     "outputs": []
    },
    {
     "cell_type": "markdown",
     "metadata": {},
     "source": [
      "Dimensions can always be specified as either a simple string or a Dimension object with additional information to give HoloViews some hints about how to format and display values along that Dimension.\n",
      "\n",
      "Creating a HoloMap is just like creating a Python dictionary, either pass a dictionary type or a list of key and value pairs as a list. The keys can be a single value for a one-dimensional HoloMap or tuples when there are multiple Dimensions."
     ]
    },
    {
     "cell_type": "code",
     "collapsed": false,
     "input": [
      "data = [((frame, date), RGB(data, bounds=(0, 0)+data.shape[0:2][::-1], xdensity=1, value='Surface Wind Speed', label='Hurricane Sandy'))\n",
      "        for frame, date, data in zip(range(len(dates)), dates, result)]\n",
      "satellite_map = HoloMap(data, key_dimensions=key_dimensions)"
     ],
     "language": "python",
     "metadata": {},
     "outputs": []
    },
    {
     "cell_type": "markdown",
     "metadata": {},
     "source": [
      "HoloMaps have to be uniform in the type, value, label and key dimensions of its Elements, in essence defining a parameter space of identical Elements varying only in their n-dimensional index and data. This also allows HoloMaps to inherit the value and label of its Elements, which we can see by inspecting the HoloMaps repr:"
     ]
    },
    {
     "cell_type": "code",
     "collapsed": false,
     "input": [
      "print satellite_map"
     ],
     "language": "python",
     "metadata": {},
     "outputs": []
    },
    {
     "cell_type": "markdown",
     "metadata": {},
     "source": [
      "Since the RGB elements we have created are not square we can declare that all RGB Elements should be displayed with an aspect of 1.0 using the opts magic."
     ]
    },
    {
     "cell_type": "code",
     "collapsed": false,
     "input": [
      "%opts RGB [aspect=1]"
     ],
     "language": "python",
     "metadata": {},
     "outputs": []
    },
    {
     "cell_type": "markdown",
     "metadata": {},
     "source": [
      "To get a quick glimpse at the data we have collected access the ``.last`` property, which will return the last frame of the HoloMap."
     ]
    },
    {
     "cell_type": "code",
     "collapsed": false,
     "input": [
      "satellite_map.last"
     ],
     "language": "python",
     "metadata": {},
     "outputs": []
    },
    {
     "cell_type": "markdown",
     "metadata": {},
     "source": [
      "If you are unsure how large the HoloMap is or want to know a bit more about the Dimension ranges access the ``.info`` property, which will list the dimensions their ranges for the key_dimensions on the HoloMap and as well as the deep_dimensions, which will report any Dimensions contained within the Elements of the HoloMap."
     ]
    },
    {
     "cell_type": "code",
     "collapsed": false,
     "input": [
      "satellite_map.info"
     ],
     "language": "python",
     "metadata": {},
     "outputs": []
    },
    {
     "cell_type": "markdown",
     "metadata": {},
     "source": [
      "Having found out a bit about the HoloMap, we can look at a few frames, let's start selecting just the first three:"
     ]
    },
    {
     "cell_type": "code",
     "collapsed": false,
     "input": [
      "satellite_map[0:3]"
     ],
     "language": "python",
     "metadata": {},
     "outputs": []
    },
    {
     "cell_type": "markdown",
     "metadata": {},
     "source": [
      "HoloMaps support all the slicing semantics including steps, let's select every second frame in the second half of the animation:"
     ]
    },
    {
     "cell_type": "code",
     "collapsed": false,
     "input": [
      "satellite_map[7:14:2]"
     ],
     "language": "python",
     "metadata": {},
     "outputs": []
    },
    {
     "cell_type": "markdown",
     "metadata": {},
     "source": [
      "As you may have noticed the slices aren't by index like a numpy array, HoloMaps like all other Dimensioned objects are always slicable by the values along its key dimensions. Apart from simple slicing semantics you can select Elements by passing the Dimension values as a set. Since our Elements are guaranteed to be uniform, HoloMaps allow deep indexing into the key_dimensions of its Elements, allowing us to easily select a subregion of each satellite frame: "
     ]
    },
    {
     "cell_type": "code",
     "collapsed": false,
     "input": [
      "satellite_map[[0, 2, 3, 5], :, 150:350, 50:250]"
     ],
     "language": "python",
     "metadata": {},
     "outputs": []
    },
    {
     "cell_type": "markdown",
     "metadata": {},
     "source": [
      "HoloMaps provide the starting point to display your parameterized data in any number of ways. While HoloMap dimensions get displayed as frames of an animation you may transform HoloMaps into other n-D component types including NdLayouts, GridSpaces, and NdOverlays via the ``.layout``, ``.grid``, and ``.overlay`` methods. In our case it makes the most sense to simply display the frames of the satellite data side by side as a NdLayout.\n",
      "\n",
      "However, this is where we hit a snag in our indexing, the Frame and Date dimensions are redundant, or put another way, for each frame there is only one corresponding date, which means that any groupby operation will fail. We can easily solve this problem by reindexing the HoloMap."
     ]
    },
    {
     "cell_type": "code",
     "collapsed": false,
     "input": [
      "print \"Dimensions before reindex: %s\" % satellite_map.dimensions('key', label=True)\n",
      "reindexed_map = satellite_map.reindex(['Date'])\n",
      "print \"Dimensions after reindex: %s\" % reindexed_map.dimensions('key', label=True)"
     ],
     "language": "python",
     "metadata": {},
     "outputs": []
    },
    {
     "cell_type": "markdown",
     "metadata": {},
     "source": [
      "Now that we have removed the redundant Dimension we can create an NdLayout indexed by date."
     ]
    },
    {
     "cell_type": "code",
     "collapsed": false,
     "input": [
      "reindexed_map[::4].layout('Date')"
     ],
     "language": "python",
     "metadata": {},
     "outputs": []
    },
    {
     "cell_type": "code",
     "collapsed": false,
     "input": [
      "%view size=200 "
     ],
     "language": "python",
     "metadata": {},
     "outputs": []
    },
    {
     "cell_type": "markdown",
     "metadata": {},
     "source": [
      "For a more compact representation you may also create a GridSpace using ``.grid`` method. In a GridSpace each dimension maps onto an axis, which means that it is limited to a maximum of two Dimensions."
     ]
    },
    {
     "cell_type": "code",
     "collapsed": false,
     "input": [
      "%%opts GridSpace [xrotation=10]\n",
      "reindexed_map[::2].grid('Date')"
     ],
     "language": "python",
     "metadata": {},
     "outputs": []
    },
    {
     "cell_type": "markdown",
     "metadata": {},
     "source": [
      "Another powerful property of HoloMaps is that when combined into a Layout via ``+`` operator their Dimensions are coordinated across each frame, this means that when combining overlapping frames, HoloViews will blank out any frames with non-matching dimension values."
     ]
    },
    {
     "cell_type": "code",
     "collapsed": false,
     "input": [
      "%view size=100\n",
      "satellite_map[0:3] + satellite_map[2:4] + satellite_map[3:5]"
     ],
     "language": "python",
     "metadata": {},
     "outputs": []
    },
    {
     "cell_type": "code",
     "collapsed": false,
     "input": [
      "temp_dim = Dimension('Temperature', unit=\"deg C\")\n",
      "maxtemp = temp_dim('Max Temp.')\n",
      "mintemp = temp_dim('Min Temp.')\n",
      "humidity = Dimension('Humidity', unit='%')\n",
      "pressure = Dimension('Pressure', unit='hpa')\n",
      "wind = Dimension('Wind Speed', unit='km/h')\n",
      "\n",
      "value_dimensions = [temp_dim, maxtemp, mintemp, humidity, pressure, wind]\n",
      "\n",
      "cities = ['New York']\n",
      "main_cols = ['temp', 'temp_max', 'temp_min', 'humidity', 'pressure']\n",
      "tables = HoloMap(key_dimensions=['City', date_dim])\n",
      "for city in cities:\n",
      "    for ts, date in zip(timestamps, dates):\n",
      "        weather_url=\"http://api.openweathermap.org/data/2.5/history/city?q={city}&type=hour&start={start}&cnt=1\"\n",
      "        city_data = json.load(urllib2.urlopen(weather_url.format(city=city.replace(' ','_'), start=ts)))\n",
      "        for data in city_data.get('list', []):\n",
      "            main_data = [data['main'].get(c, 0)-(271.15 if 'temp' in c else 0) for c in main_cols]\n",
      "            wind = (data['wind'].get('speed', np.NaN) * 3.6,)\n",
      "            tables[city, date] = ItemTable(zip(value_dimensions, tuple(main_data)+wind))"
     ],
     "language": "python",
     "metadata": {},
     "outputs": []
    },
    {
     "cell_type": "code",
     "collapsed": false,
     "input": [
      "%%view dpi=120\n",
      "tables + reindexed_map"
     ],
     "language": "python",
     "metadata": {},
     "outputs": []
    }
   ],
   "metadata": {}
  }
 ]
}