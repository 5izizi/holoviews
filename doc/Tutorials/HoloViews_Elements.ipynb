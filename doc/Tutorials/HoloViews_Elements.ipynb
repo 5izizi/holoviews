{
 "metadata": {
  "name": "",
  "signature": "sha256:ce3000b93f82129b9a5a6b5703e0d0e32896737a9430d06d40a49750ec12bf34"
 },
 "nbformat": 3,
 "nbformat_minor": 0,
 "worksheets": [
  {
   "cells": [
    {
     "cell_type": "heading",
     "level": 1,
     "metadata": {},
     "source": [
      "HoloViews Elements"
     ]
    },
    {
     "cell_type": "markdown",
     "metadata": {},
     "source": [
      "This notebook serves as a reference for all the ``Element`` types in HoloViews. These are the basic blocks for building complex compositional visualizations and analyses.\n",
      "\n",
      "* For more an introduction to the capabilities of HoloViews, see our [showcase notebook]().\n",
      "\n",
      "* For an introductions to the basic concepts in HoloViews, see our [introductory tutorial]()."
     ]
    },
    {
     "cell_type": "code",
     "collapsed": false,
     "input": [
      " %load_ext holoviews.ipython"
     ],
     "language": "python",
     "metadata": {},
     "outputs": []
    },
    {
     "cell_type": "markdown",
     "metadata": {},
     "source": [
      "<a id='Docs'/>"
     ]
    },
    {
     "cell_type": "heading",
     "level": 1,
     "metadata": {},
     "source": [
      "Exploring the documentation"
     ]
    },
    {
     "cell_type": "markdown",
     "metadata": {},
     "source": [
      "Holoviews uses the [param]() project and thus includes extremely well-documented descriptions of all the parameters for every class. There are many convenient ways to access this information interactively:\n",
      "\n",
      "### Extensive documentation with ``help``\n",
      "\n",
      "```python\n",
      "from holoviews import Element\n",
      "help(Element)\n",
      "```\n",
      "\n",
      "###Parameter documentation\n",
      "\n",
      "You can access information about any HoloViews object by pressing ``<Shift+TAB>`` after the opening parenthesis of the constructor:\n",
      "\n",
      "```python\n",
      "from holoviews import Element\n",
      "Element(<Shift+TAB>\n",
      "```\n",
      "\n",
      "By repeatedly cyclic ``<SHIFT+TAB>`` you will see increasingly detailed information: first a short summary in a pop-up pane, then an expanded summary and finally the full sumamry expanded in the IPython pager.\n",
      "\n",
      "### The ``%params`` magic\n",
      "\n",
      "As an alternative to cycling through ``<SHIFT+TAB>`` you can use the ``%params``  line magic to immediately view information regarding the parameters of any object available in the namespace in the IPython pager:\n",
      "\n",
      "\n",
      "```python\n",
      "from holoviews import Element\n",
      "%params Element\n",
      "```\n",
      "\n",
      "\n",
      "### Tab-completion\n",
      "\n",
      "In addition, arguments to HoloViews classes are tab-completable:\n",
      "\n",
      "```python\n",
      "from holoviews import Element\n",
      "Element(va<TAB>\n",
      "```\n",
      "\n",
      "This will then suggest the available keyword arguments ``value`` as well as ``value_dimensions``.\n",
      "\n",
      "\n"
     ]
    },
    {
     "cell_type": "markdown",
     "metadata": {},
     "source": [
      "<a id='Element'/>"
     ]
    },
    {
     "cell_type": "heading",
     "level": 1,
     "metadata": {},
     "source": [
      "Element"
     ]
    },
    {
     "cell_type": "markdown",
     "metadata": {},
     "source": [
      "The ``Element`` is the base class for all the other HoloViews objects shown in this reference notebook.\n",
      "\n",
      "All ``Element`` objects accept data as the first argument to define the contents of that element. In addition to its implicit type, each element object has a ``value`` string and ``label`` use to address it.\n",
      "\n",
      "When rich display is off, an elements is presented in ``{type}.{value}.{label}`` format:"
     ]
    },
    {
     "cell_type": "code",
     "collapsed": false,
     "input": [
      "from holoviews import Element\n",
      "Element(None, value='Value', label='Label')"
     ],
     "language": "python",
     "metadata": {},
     "outputs": []
    },
    {
     "cell_type": "markdown",
     "metadata": {},
     "source": [
      "In addition, ``Element`` has ``key_dimensions``, ``value_dimensions`` and ``constant_dimensions`` to describe the semantics of indexing, the semantics of the contained data as well as information of constant parameters associated with the object.\n",
      "\n",
      "For more information on ``value``, ``label`` and the use of dimensions, please see our [introductory tutorial](). You can also read more about the available parameters using the [documentation system](#Docs)"
     ]
    },
    {
     "cell_type": "heading",
     "level": 2,
     "metadata": {},
     "source": [
      "Element Composition"
     ]
    },
    {
     "cell_type": "markdown",
     "metadata": {},
     "source": [
      "```\n",
      "<a id='Matrix'/>\n",
      "```"
     ]
    },
    {
     "cell_type": "heading",
     "level": 1,
     "metadata": {},
     "source": [
      "Chart Elements"
     ]
    },
    {
     "cell_type": "markdown",
     "metadata": {},
     "source": [
      "The first large class of ``Elements`` are the ``Chart`` elements. These are generally indexable/sliceable along the $x$-axis but not the $y$-axis."
     ]
    },
    {
     "cell_type": "heading",
     "level": 2,
     "metadata": {},
     "source": [
      "Curve"
     ]
    },
    {
     "cell_type": "code",
     "collapsed": false,
     "input": [
      "import numpy as np\n",
      "from holoviews import Curve\n",
      "points = [(0.1*i, np.sin(0.1*i)) for i in range(100)]\n",
      "Curve(points)"
     ],
     "language": "python",
     "metadata": {},
     "outputs": []
    },
    {
     "cell_type": "heading",
     "level": 2,
     "metadata": {},
     "source": [
      "Bars"
     ]
    },
    {
     "cell_type": "code",
     "collapsed": false,
     "input": [
      "import numpy as np\n",
      "from holoviews import Bars\n",
      "data = [('one',8),('two', 10), ('three', 16), ('four', 8), ('five', 4), ('six', 1)]\n",
      "Bars(data, key_dimensions=['Car occupants'], value_dimensions=['Frequency'])"
     ],
     "language": "python",
     "metadata": {},
     "outputs": []
    },
    {
     "cell_type": "heading",
     "level": 2,
     "metadata": {},
     "source": [
      "Histogram"
     ]
    },
    {
     "cell_type": "code",
     "collapsed": false,
     "input": [
      "import numpy as np\n",
      "from holoviews import Histogram\n",
      "data = [np.random.normal() for i in range(10000)]\n",
      "frequencies, edges = np.histogram(data, 20)\n",
      "Histogram(frequencies, edges)"
     ],
     "language": "python",
     "metadata": {},
     "outputs": []
    },
    {
     "cell_type": "heading",
     "level": 2,
     "metadata": {},
     "source": [
      "Scatter"
     ]
    },
    {
     "cell_type": "code",
     "collapsed": false,
     "input": [
      "import numpy as np\n",
      "np.random.seed(42)\n",
      "from holoviews import Scatter\n",
      "points = [(i, np.random.random()) for i in range(20)]\n",
      "Scatter(points) + Scatter(points)[12:20]"
     ],
     "language": "python",
     "metadata": {},
     "outputs": []
    },
    {
     "cell_type": "markdown",
     "metadata": {},
     "source": [
      "Unlike ``Points`` a ``Scatter`` object can only be sliced along the x-axis. For instance, the right-hand plot above shows the right side of the leftmost plot."
     ]
    },
    {
     "cell_type": "markdown",
     "metadata": {},
     "source": [
      "***BUG: Why isn't the y-axis common?***"
     ]
    },
    {
     "cell_type": "heading",
     "level": 2,
     "metadata": {},
     "source": [
      "Points"
     ]
    },
    {
     "cell_type": "code",
     "collapsed": false,
     "input": [
      "import numpy as np\n",
      "from holoviews import Points\n",
      "np.random.seed(42)\n",
      "points = [(np.random.random(), np.random.random()) for i in range(30)]\n",
      "Points(points)"
     ],
     "language": "python",
     "metadata": {},
     "outputs": []
    },
    {
     "cell_type": "heading",
     "level": 2,
     "metadata": {},
     "source": [
      "VectorField"
     ]
    },
    {
     "cell_type": "code",
     "collapsed": false,
     "input": [
      "import numpy as np\n",
      "from holoviews import VectorField\n",
      "\n",
      "steps = np.linspace(-2.5,2.5,20)\n",
      "x,y = np.meshgrid(steps, steps)\n",
      "sine_rings  = np.sin(x**2+y**2)*np.pi+np.pi\n",
      "exp_falloff = 1/np.exp((x**2+y**2)/15)\n",
      "\n",
      "vector_data = np.array([x.flatten()/5.,           # X positions\n",
      "                        y.flatten()/5.,           # Y Positions\n",
      "                        sine_rings.flatten(),     # Arrow angles\n",
      "                        exp_falloff.flatten()])   # Arrow sizes\n",
      "VectorField(vector_data.T)"
     ],
     "language": "python",
     "metadata": {},
     "outputs": []
    },
    {
     "cell_type": "markdown",
     "metadata": {},
     "source": [
      "As you can see above, the X and Y positions are in a regular grid. The arrow angles follow a sinsoidal ring pattern and the arrow lengths falloff from the center.\n",
      "\n",
      "Using the ``%%opts`` cell-magic (described in the [introductory tutorial]()), we can also use color as a redundant indicator to the angle angle or magnitude:"
     ]
    },
    {
     "cell_type": "code",
     "collapsed": false,
     "input": [
      "%%opts VectorField.A [color_dim='angle'] VectorField.M [color_dim='magnitude']\n",
      "VectorField(vector_data.T, value='A') + VectorField(vector_data.T, value='M')"
     ],
     "language": "python",
     "metadata": {},
     "outputs": []
    },
    {
     "cell_type": "heading",
     "level": 2,
     "metadata": {},
     "source": [
      "Side-Histogram"
     ]
    },
    {
     "cell_type": "code",
     "collapsed": false,
     "input": [
      "import numpy as np\n",
      "np.random.seed(42)\n",
      "from holoviews import Scatter\n",
      "points = [(i, np.random.normal()) for i in range(800)]\n",
      "Scatter(points).hist()"
     ],
     "language": "python",
     "metadata": {},
     "outputs": []
    },
    {
     "cell_type": "heading",
     "level": 1,
     "metadata": {},
     "source": [
      "Raster Elements"
     ]
    },
    {
     "cell_type": "markdown",
     "metadata": {},
     "source": [
      "The second large class of ``Elements`` are the raster elements. Unlike ``Chart`` elements these live in a two dimensional space. For the ``Matrix`` and ``RGB`` elements, the coordinates of this two-dimensional space are defined in a continuous coordinate system."
     ]
    },
    {
     "cell_type": "heading",
     "level": 2,
     "metadata": {},
     "source": [
      "Raster"
     ]
    },
    {
     "cell_type": "markdown",
     "metadata": {},
     "source": [
      "This is the base class of all ``Raster elements`` but may be used directly to visualize 2D-arrays using a color map. However, unlike the ``Matrix`` subclass, ``Raster`` does not support slicing semantics (although you can always slice your input numpy array as required)."
     ]
    },
    {
     "cell_type": "code",
     "collapsed": false,
     "input": [
      "import numpy as np\n",
      "from holoviews import Raster\n",
      "dist = [0.1*i for i in range(-50,51)]\n",
      "x,y = np.meshgrid(dist, dist)\n",
      "Raster(np.sin(x**2+y**2))"
     ],
     "language": "python",
     "metadata": {},
     "outputs": []
    },
    {
     "cell_type": "heading",
     "level": 2,
     "metadata": {},
     "source": [
      "HeatMap"
     ]
    },
    {
     "cell_type": "markdown",
     "metadata": {},
     "source": [
      "A ``HeatMap`` displays like a typical raster image although the input is not a numpy array but a dictionary indexed with two dimensional keys. As many rows and columns as required will be created to display the values in an appropriate grid format."
     ]
    },
    {
     "cell_type": "code",
     "collapsed": false,
     "input": [
      "import numpy as np\n",
      "from holoviews import HeatMap\n",
      "data = {(i,j):i*j for i in range(5) for j in range(5) if i!=j}\n",
      "HeatMap(data)"
     ],
     "language": "python",
     "metadata": {},
     "outputs": []
    },
    {
     "cell_type": "markdown",
     "metadata": {},
     "source": [
      "The ``HeatMap`` is good for visualizing values in abstract spaces or spaces with missing values. In the above examples, elements along the diagonal are missing. As ``HeatMaps`` label their values explicitly, they are not designed for situations with large numbers of samples."
     ]
    },
    {
     "cell_type": "heading",
     "level": 2,
     "metadata": {},
     "source": [
      "Matrix"
     ]
    },
    {
     "cell_type": "markdown",
     "metadata": {},
     "source": [
      "Like ``Raster``, a ``Matrix`` allows you to view 2D arrays using an arbitrary color map. Unlike ``Raster``, a ``Matrix`` is associated with a coordinate-system in continous space allowing slicing semantics, often making ``Matrix`` more useful than ``Raster``."
     ]
    },
    {
     "cell_type": "code",
     "collapsed": false,
     "input": [
      "import numpy as np\n",
      "from holoviews import Matrix\n",
      "\n",
      "dist = [0.1*i for i in range(-50,51)]\n",
      "x,y = np.meshgrid(dist, dist)\n",
      "bounds=(-1,-1,1,1)   # Coordinate system: (left, bottom, top, right)\n",
      "\n",
      "(Matrix(np.sin(x**2+y**2),   bounds=bounds) \n",
      " + Matrix(np.sin(x**2+y**2), bounds=bounds)[-0.5:0.5, -0.5:0.5])"
     ],
     "language": "python",
     "metadata": {},
     "outputs": []
    },
    {
     "cell_type": "markdown",
     "metadata": {},
     "source": [
      "Note that because our declared coordinate system is continuous, we can slice with any floating point value we choose. The appropiate samples of the input numpy array will always be displayed."
     ]
    },
    {
     "cell_type": "heading",
     "level": 2,
     "metadata": {},
     "source": [
      "RGB"
     ]
    },
    {
     "cell_type": "markdown",
     "metadata": {},
     "source": [
      "The ``RGB`` element is a raster that supports red, green, blue and optionally an alpha channel."
     ]
    },
    {
     "cell_type": "code",
     "collapsed": false,
     "input": [
      "import numpy as np\n",
      "from holoviews import RGB\n",
      "\n",
      "dist = [0.1*i for i in range(-50,51)]\n",
      "x,y = np.meshgrid(dist, dist)\n",
      "r = 0.5*np.sin(np.pi  +x**2+y**2)+0.5\n",
      "g = 0.5*np.sin(np.pi/2+x**2+y**2)+0.5\n",
      "b = 0.5*np.sin(x**2+y**2)+0.5\n",
      "a = 0.5*np.sin(0.2*(x**2+y**2))+0.5\n",
      "\n",
      "RGB(np.dstack([r,g,b])) +  RGB(np.dstack([r,g,b,a]))"
     ],
     "language": "python",
     "metadata": {},
     "outputs": []
    },
    {
     "cell_type": "heading",
     "level": 1,
     "metadata": {},
     "source": [
      "Annotation Elements"
     ]
    },
    {
     "cell_type": "markdown",
     "metadata": {},
     "source": [
      "Annotation elements are designed to be overlayed on top of other Elements. \n",
      "To demonstrate annotation elements, we shall fetch a public domain image from wikimedia commons to draw our annotations on top of:"
     ]
    },
    {
     "cell_type": "code",
     "collapsed": false,
     "input": [
      "from holoviews import RGB\n",
      "from holoviews.plotting import penguins"
     ],
     "language": "python",
     "metadata": {},
     "outputs": []
    },
    {
     "cell_type": "code",
     "collapsed": false,
     "input": [
      "scene = RGB(penguins)"
     ],
     "language": "python",
     "metadata": {},
     "outputs": []
    },
    {
     "cell_type": "heading",
     "level": 2,
     "metadata": {},
     "source": [
      "VLine"
     ]
    },
    {
     "cell_type": "code",
     "collapsed": false,
     "input": [
      "from holoviews import VLine\n",
      "scene * VLine(-0.05)"
     ],
     "language": "python",
     "metadata": {},
     "outputs": []
    },
    {
     "cell_type": "heading",
     "level": 2,
     "metadata": {},
     "source": [
      "HLine"
     ]
    },
    {
     "cell_type": "code",
     "collapsed": false,
     "input": [
      "from holoviews import HLine\n",
      "scene * HLine(-0.05)"
     ],
     "language": "python",
     "metadata": {},
     "outputs": []
    },
    {
     "cell_type": "heading",
     "level": 2,
     "metadata": {},
     "source": [
      "Spline"
     ]
    },
    {
     "cell_type": "markdown",
     "metadata": {},
     "source": [
      "The ``Spline`` annotation is used to draw Bezier splines using the same semantics as matplotlib splines. In the overlay below, the spline is in red and the control points are show in blue."
     ]
    },
    {
     "cell_type": "code",
     "collapsed": false,
     "input": [
      "%%opts Spline (lw=2 ec='r')\n",
      "from holoviews import Spline, Curve\n",
      "points = [(-0.3, -0.3), (0,0), (0.25, -0.25), (0.3, 0.3)]\n",
      "codes = [1,4,4,4]\n",
      "scene * Spline((points,codes)) * Curve(points)"
     ],
     "language": "python",
     "metadata": {},
     "outputs": []
    },
    {
     "cell_type": "markdown",
     "metadata": {},
     "source": [
      "**BUG: Spline default linewidth is too thin...**"
     ]
    },
    {
     "cell_type": "heading",
     "level": 2,
     "metadata": {},
     "source": [
      "Text"
     ]
    },
    {
     "cell_type": "code",
     "collapsed": false,
     "input": [
      "from holoviews import Text\n",
      "scene * Text(0,0.2, 'Adult\\npenguins')"
     ],
     "language": "python",
     "metadata": {},
     "outputs": []
    },
    {
     "cell_type": "heading",
     "level": 2,
     "metadata": {},
     "source": [
      "Arrow"
     ]
    },
    {
     "cell_type": "code",
     "collapsed": false,
     "input": [
      "from holoviews import Arrow\n",
      "scene * Arrow((0,-0.1), 'Baby penguin', 'v')"
     ],
     "language": "python",
     "metadata": {},
     "outputs": []
    },
    {
     "cell_type": "markdown",
     "metadata": {},
     "source": [
      "**BUG: Inconsistent x,y specification between Text and Arrow**"
     ]
    },
    {
     "cell_type": "heading",
     "level": 2,
     "metadata": {},
     "source": [
      "Contours"
     ]
    },
    {
     "cell_type": "code",
     "collapsed": false,
     "input": [
      "from holoviews import Contours\n",
      "import numpy as np\n",
      "\n",
      "angle = np.linspace(0, 2*np.pi, 100)\n",
      "baby = np.array(list(zip(0.15*np.sin(angle), \n",
      "                            0.2*np.cos(angle)-0.2)))\n",
      "adultR = np.array([(0.25, 0.45), (0.35,0.35), (0.25, 0.25), (0.15, 0.35), (0.25, 0.45)])\n",
      "adultL = np.array([(-0.3, 0.4), (-0.3, 0.3), (-0.2, 0.3), (-0.2, 0.4),(-0.3, 0.4)])\n",
      "\n",
      "scene * Contours([adultL, adultR]) * Contours([baby])"
     ],
     "language": "python",
     "metadata": {},
     "outputs": []
    },
    {
     "cell_type": "markdown",
     "metadata": {},
     "source": [
      "**BUG: Color cycle not working!**"
     ]
    },
    {
     "cell_type": "heading",
     "level": 1,
     "metadata": {},
     "source": [
      "Tabular Elements"
     ]
    },
    {
     "cell_type": "markdown",
     "metadata": {},
     "source": [
      "The second large class of ``Elements`` are the tabular elements:"
     ]
    },
    {
     "cell_type": "heading",
     "level": 2,
     "metadata": {},
     "source": [
      "ItemTable"
     ]
    },
    {
     "cell_type": "markdown",
     "metadata": {},
     "source": [
      "An ``ItemTable`` is a collection of key, value pairs. It can be used to directly visualize a dictionary in a tabular format. If an ``OrderedDict`` is used, the input ordering is respected."
     ]
    },
    {
     "cell_type": "code",
     "collapsed": false,
     "input": [
      "from holoviews import ItemTable\n",
      "ItemTable({'Weight':15, 'Height':'0.85 meters'})"
     ],
     "language": "python",
     "metadata": {},
     "outputs": []
    },
    {
     "cell_type": "heading",
     "level": 2,
     "metadata": {},
     "source": [
      "Table"
     ]
    },
    {
     "cell_type": "code",
     "collapsed": false,
     "input": [
      "from holoviews import Table\n",
      "from collections import OrderedDict\n",
      "keys =   [('M',10), ('F',10)]\n",
      "values = [(15, 0.8), (15, 0.8)]\n",
      "table =Table(zip(keys,values), \n",
      "          key_dimensions=['Gender', 'Age'], \n",
      "          value_dimensions=['Weight', 'Height'])\n",
      "table"
     ],
     "language": "python",
     "metadata": {},
     "outputs": []
    },
    {
     "cell_type": "markdown",
     "metadata": {},
     "source": [
      "Note that you can use select using tables and once you select using all the key dimensions, you get an ``ItemTable`` (right-side below). The ``ItemTable`` class is described next:"
     ]
    },
    {
     "cell_type": "code",
     "collapsed": false,
     "input": [
      "table.select(Gender='M') + table.select(Gender='M', Age=10)"
     ],
     "language": "python",
     "metadata": {},
     "outputs": []
    },
    {
     "cell_type": "markdown",
     "metadata": {},
     "source": [
      "The ``Table`` is used as a common data-structure that may be converted to any HoloViews datastructure using the ``TableConversion`` class. A similar principle holds when converting data from Pandas DataFrames to HoloViews objects.\n",
      "\n",
      "The functionality of the ``TableConversion`` class may be conveniently access using the ``.to`` property:"
     ]
    },
    {
     "cell_type": "markdown",
     "metadata": {},
     "source": [
      "# BUGS\n",
      "\n",
      "**DOESN'T WORK:**\n",
      "\n",
      "* 1\n",
      "\n",
      "```python\n",
      "Points(points)[0.0:0.4, 0.0:0.4]\n",
      "```\n",
      "\n",
      "* 2\n",
      "\n",
      "```python\n",
      "%%opts Points [size_index=2]  # Trying to show point sizes and/or cmap\n",
      "import numpy as np\n",
      "from holoviews import Points\n",
      "np.random.seed(42)\n",
      "points = [(np.random.random(), \n",
      "           np.random.random(),\n",
      "           10*np.random.random()) for i in range(30)]\n",
      "Points(points)\n",
      "\n",
      "```"
     ]
    }
   ],
   "metadata": {}
  }
 ]
}