{
 "metadata": {
  "name": "",
  "signature": "sha256:53846921d021880ed89420886a0dc9fb8dca444b9ca78c7ec1391e1c1c19f6be"
 },
 "nbformat": 3,
 "nbformat_minor": 0,
 "worksheets": [
  {
   "cells": [
    {
     "cell_type": "markdown",
     "metadata": {},
     "source": [
      "The sections above describe each of the container types in HoloViews.  These container types can also be combined with each other, in order to build data structures that can contain all of the data that you want to visualize or analyze, in an extremely flexible way.  For instance, you may have a large set of measurements of different types of data (numerical, image, textual notations, etc.) from different experiments done on different days, with various different parameter values associated with each one.  HoloViews can store all of this data together, which will allow you to select just the right bit of data for any particular analysis or visualization, by indexing, slicing, selecting, and sampling in this data structure.\n",
      "\n",
      "To illustrate this section, we will create the maximally nested object currently possible with HoloViews:"
     ]
    },
    {
     "cell_type": "code",
     "collapsed": false,
     "input": [
      "import holoviews\n",
      "%load_ext holoviews.ipython"
     ],
     "language": "python",
     "metadata": {},
     "outputs": []
    },
    {
     "cell_type": "code",
     "collapsed": false,
     "input": [
      "import numpy as np\n",
      "from holoviews import Curve, NdOverlay, HoloMap, GridSpace, Points, Histogram\n",
      "np.random.seed(10)\n",
      "\n",
      "def sine_curve(phase, freq, amp, power, samples=102):\n",
      "    xvals = [0.1* i for i in range(samples)]\n",
      "    return [(x, amp*np.sin(phase+freq*x)**power) for x in xvals]\n",
      "\n",
      "phases =      [0, np.pi/2, np.pi, 3*np.pi/2]\n",
      "powers =      [1,2,3]\n",
      "amplitudes =  [0.5,0.75, 1.0]\n",
      "frequencies = [0.5, 0.75, 1.0, 1.25, 1.5, 1.75]\n",
      "\n",
      "\n",
      "gridspace = GridSpace(key_dimensions=['Amplitude', 'Power'])\n",
      "gridspace = gridspace.relabel(group='Parameters', label='Sines')\n",
      "\n",
      "for power in powers:\n",
      "    for amplitude in amplitudes:\n",
      "        holomap = HoloMap(key_dimensions=['Frequency'])\n",
      "        for frequency in frequencies:\n",
      "            sines = {phase : Curve(sine_curve(phase, frequency, amplitude, power))\n",
      "                     for phase in phases}\n",
      "            ndoverlay = NdOverlay(sines , key_dimensions=['Phase']).relabel(group='Phases',\n",
      "                                                                            label='Sines')\n",
      "            overlay = ndoverlay * Points([(i,0) for i in range(0,10)]).relabel(group='Markers',\n",
      "                                                                               label='Dots')\n",
      "            holomap[frequency] = overlay\n",
      "        gridspace[amplitude, power] = holomap\n",
      "\n",
      "\n",
      "hist = Histogram(*np.histogram([np.random.normal() for i in range(10000)], 20))\n",
      "hist = hist.relabel(label='Distribution', group='Stats')\n",
      "\n",
      "layout = gridspace + hist\n",
      "layout"
     ],
     "language": "python",
     "metadata": {},
     "outputs": []
    },
    {
     "cell_type": "markdown",
     "metadata": {},
     "source": [
      "There are quite of few levels of data here so we will refer to this schematic as we unpack this object level-by-level:"
     ]
    },
    {
     "cell_type": "code",
     "collapsed": false,
     "input": [
      "from IPython.display import HTML\n",
      "HTML('https://450c41cb1db549c803e7d6ae62e398747f9e570a.googledrive.com/host/0B0ooIjat0Df2OEd1dDlxRGNHQVU/')"
     ],
     "language": "python",
     "metadata": {},
     "outputs": []
    },
    {
     "cell_type": "markdown",
     "metadata": {},
     "source": [
      "Note that every level of nesting shown above may be omitted entirely and that key access is used for containers that have homogeneous elements which attribute access is used when the elements may be heterogeneous in type. \n",
      "\n",
      "If you consider switching out the element types, all possible combinations can be expressed as a subset of our maximally nested example."
     ]
    },
    {
     "cell_type": "heading",
     "level": 3,
     "metadata": {},
     "source": [
      "Layout Level"
     ]
    },
    {
     "cell_type": "markdown",
     "metadata": {},
     "source": [
      "Above, we have already viewed the highest level of our datastructure as a layout. Here is the repr of entire layout object which reflects all the levels shown in the diagram:"
     ]
    },
    {
     "cell_type": "heading",
     "level": 3,
     "metadata": {},
     "source": [
      "GridSpace Level"
     ]
    },
    {
     "cell_type": "markdown",
     "metadata": {},
     "source": [
      "As shown in the Introductory tutorial, elements of a Layout are reached via attribute access:"
     ]
    },
    {
     "cell_type": "code",
     "collapsed": false,
     "input": [
      "%%opts Points style(color='k' marker='o' s=20)\n",
      "layout.Parameters.Sines  # Attribute access in the Layout to the GridSpace"
     ],
     "language": "python",
     "metadata": {},
     "outputs": []
    },
    {
     "cell_type": "heading",
     "level": 3,
     "metadata": {},
     "source": [
      "Holomap Level"
     ]
    },
    {
     "cell_type": "markdown",
     "metadata": {},
     "source": [
      "Let's now index the ``HoloMap`` with the lowest amplitude and power with an amplitude of *0.5* and a power of *1.0* using 2-dimensional key access to get to one particular ``HoloMap`` inside the ``GridLayout``:"
     ]
    },
    {
     "cell_type": "code",
     "collapsed": false,
     "input": [
      "layout.Parameters.Sines[0.5, 1]"
     ],
     "language": "python",
     "metadata": {},
     "outputs": []
    },
    {
     "cell_type": "heading",
     "level": 3,
     "metadata": {},
     "source": [
      "Overlay Level"
     ]
    },
    {
     "cell_type": "markdown",
     "metadata": {},
     "source": [
      "As shown in the schematic above, a ``HoloMap`` contains many elements with associated keys. In this example, these keys are over the ``Frequency`` dimension which is why in the cell above, the ``Frequency`` varies when you play the animation.\n",
      "\n",
      "Now let us access the first such element, an ``Overlay`` associated with the key with a ``Frequency`` of *1.0*:"
     ]
    },
    {
     "cell_type": "code",
     "collapsed": false,
     "input": [
      "layout.Parameters.Sines[0.5, 1][1.0] # Key access in the HoloMap to an Overlay"
     ],
     "language": "python",
     "metadata": {},
     "outputs": []
    },
    {
     "cell_type": "heading",
     "level": 3,
     "metadata": {},
     "source": [
      "NdOverlay Level"
     ]
    },
    {
     "cell_type": "markdown",
     "metadata": {},
     "source": [
      "Now to go one level deeper, we can access the ``Points`` or the ``NdOverlay`` inside our ``Overlay`` using attribute access:"
     ]
    },
    {
     "cell_type": "code",
     "collapsed": false,
     "input": [
      "# Attribute access in the Overlay to the NdOverlay\n",
      "(layout.Parameters.Sines[0.5, 1][1].Phases.Sines \n",
      " + layout.Parameters.Sines[0.5, 1][1].Markers.Dots)"
     ],
     "language": "python",
     "metadata": {},
     "outputs": []
    },
    {
     "cell_type": "heading",
     "level": 3,
     "metadata": {},
     "source": [
      "Curve Level"
     ]
    },
    {
     "cell_type": "markdown",
     "metadata": {},
     "source": [
      "There is one final level we can access, before reaching some raw data; we can index into our ``NdOverlay`` to pick an individual ``Curve``. Let's access the ``Curve`` with zero phase:"
     ]
    },
    {
     "cell_type": "code",
     "collapsed": false,
     "input": [
      "layout.Parameters.Sines[0.5, 1][1].Phases.Sines[0.0] # Key access into the NdOverlay"
     ],
     "language": "python",
     "metadata": {},
     "outputs": []
    },
    {
     "cell_type": "heading",
     "level": 3,
     "metadata": {},
     "source": [
      "Data Level"
     ]
    },
    {
     "cell_type": "markdown",
     "metadata": {},
     "source": [
      "Finally, we can check our numpy array is still there:"
     ]
    },
    {
     "cell_type": "code",
     "collapsed": false,
     "input": [
      "layout.Parameters.Sines[0.5, 1][1].Phases.Sines[0.0].data[:3] # Data access in the Curve"
     ],
     "language": "python",
     "metadata": {},
     "outputs": []
    },
    {
     "cell_type": "heading",
     "level": 3,
     "metadata": {},
     "source": [
      "Summary"
     ]
    },
    {
     "cell_type": "markdown",
     "metadata": {},
     "source": [
      "The curve displayed immediately above shows the final, deepest access possible on this object.\n",
      "\n",
      "```python\n",
      "layout.GridSpace.I[0.5, 1][1.0].NdOverlay.I[0.0]\n",
      "```\n",
      "\n",
      "Note that this is the curve with an amplitude of *0.5*, raised to a power of *1.0* with frequency of *1.0* and zero-phase. These are all the numbers (in order) used in the access shown above.\n",
      "\n",
      "The followed two ways of doing the access down to the overlay level are both more explicit and equivalent to each other:"
     ]
    },
    {
     "cell_type": "code",
     "collapsed": false,
     "input": [
      "o1 = layout.Parameters.Sines.select(Amplitude=0.5, Power=1.0).select(Frequency=1.0)\n",
      "o2 = layout.Parameters.Sines.select(Amplitude=0.5, Power=1.0, Frequency=1.0)\n",
      "o1 + o2"
     ],
     "language": "python",
     "metadata": {},
     "outputs": []
    },
    {
     "cell_type": "markdown",
     "metadata": {},
     "source": [
      "The second form demonstrates HoloViews **deep indexing** feature. This is as far as we can index before reaching a heterogeneous type (the overlay) where we need to use attribute access. Here is another, more explicit example of indexing down to a curve:"
     ]
    },
    {
     "cell_type": "code",
     "collapsed": false,
     "input": [
      "layout.Parameters.Sines.select(Amplitude=0.5, \n",
      "                               Power=1.0, \n",
      "                               Frequency=1.0).Phases.Sines.select(Phase=0.0)"
     ],
     "language": "python",
     "metadata": {},
     "outputs": []
    },
    {
     "cell_type": "markdown",
     "metadata": {},
     "source": [
      "### Old Text\n",
      "\n",
      "Any of the containers and ``Element``s here is optional, but if it is present, it must be in this order.  For instance, a bare ``Element`` can be used and displayed alone, or it can be combined withe other similar ``Element``s into an ``NdOverlay``, or with any other ``Element`` into an ``Overlay``.\n",
      "\n",
      "``Element``s, ``NdOverlay``s, and ``Overlay``s can each be combined into a ``HoloMap``, allowing any of these items (possibly nested as above) to be animated.  \n",
      "\n",
      "Similarly, ``Element``s, ``NdOverlay``s, and ``HoloMaps`` can all be combined into a ``GridSpace``, and if the ``HoloMaps`` would be animated individually, they still will be when they are embedded into a ``GridSpace``.  \n",
      "\n",
      "Finally, any (arbitrarily nested as above) object can be combined into a ``Layout`` (with no coordinate system defined) or an ``NdLayout`` (which defines a coordinate system).  The ``Layout`` or ``NdLayout`` object is then the top level HoloViews object defined.\n",
      "\n",
      "Obviously, it can be difficult to remember all of these relationships.  Moreover, it can be especially confusing that HoloViews can appear to violate some of these rules -- e.g. it *appears* to be possible to make a ``Layout`` of ``Layout`` objects, by doing ``(o1 + o2) + (o3 + o3)`` for some objects ``o1-4``.  In such a case, the result is actually a single layout ``o1 + o2 + o3 + o4``, not a nested ``Layout`` of ``Layout`` objects. Similarly, an ``Overlay`` of ``Overlay`` objects ``(o1 * o2) * (o3 * o4)`` will result in only a single ``Overlay`` object ``o1 * o2 * o3 * o4``.\n",
      "\n",
      "In practice, you can use the examples in the tutorials to guide you, especially the [Exploring Data](Exploring_Data.html) tutorial.  \n",
      "\n",
      "\n",
      "An important distinction to draw between the different container types is that the ``Tree`` structures (``Layout`` and ``Overlay``) accept key names using attribute-access notation (*object*.*key*), while the others all support bracket-style indexing of dimensions (*object*[*index1*,*index2*]).  This allows you to sort your objects by category or semantic type at the top (``Layout``) level or the ``Overlay`` level where they get combined together, but to index, slice, sample, etc. in whatever dimensions you like for any of the actual data objects or the parameter spaces in which they are embedded.  Again, the tutorials should help make all of this clear; it is difficult to express in words!"
     ]
    }
   ],
   "metadata": {}
  }
 ]
}