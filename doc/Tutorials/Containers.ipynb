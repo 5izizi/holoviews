{
 "metadata": {
  "name": "",
  "signature": "sha256:7941d502409ef01fb06172680814e6421c1b6887620562e5fe5fc8c20aa97088"
 },
 "nbformat": 3,
 "nbformat_minor": 0,
 "worksheets": [
  {
   "cells": [
    {
     "cell_type": "heading",
     "level": 1,
     "metadata": {},
     "source": [
      "Containers"
     ]
    },
    {
     "cell_type": "markdown",
     "metadata": {},
     "source": [
      "This notebook serves as a reference for all the container types in HoloViews, with an extensive list of small, self-contained examples wherever possible, allowing each container type to be understood and tested independently. The container types generally need to contain [Elements](Elements.html) to be useful, which are described separately.  Contents:\n",
      "\n",
      "### <a id='TreeIndex'/> [``Trees:``](#Trees)\n",
      "\n",
      "<dl class=\"dl-horizontal\">\n",
      "  <dt>[``Layout``](#Layout)</dt><dd>Collect components into a tree, displaying them side by side (``+`` operator)</dd>\n",
      "  <dt>[``Overlay``](#Overlay)</dt><dd>Collect components into a tree, displaying them on top of one another (``*`` operator)</dd>\n",
      "</dl>\n",
      "\n",
      "\n",
      "### <a id='ParameterSpaceIndex'/> [``Parameter Spaces:``](#Parameter Spaces) \n",
      "\n",
      "**Grids and other ways to visualize components covering parameter spaces**\n",
      "\n",
      "<dl class=\"dl-horizontal\">\n",
      "<dt>[``HoloMap``](#HoloMap)</dt><dd>Visualize N-dimensional spaces using sliders or as an animation. </dd>\n",
      "<dt>[``GridSpace``](#GridSpace)</dt><dd>Parameter space in two dimensions laid out in a grid. </dd>\n",
      "  <dt>[``NdLayout``](#NdLayout)</dt><dd>Parameter space of any dimensionality in a layout with titles.</dd>\n",
      "  <dt>[``NdOverlay``](#NdOverlay)</dt><dd>Parameter space of any dimensionality in an overlay with a legend</dd>\n",
      "</dl>\n",
      "\n",
      "### <a id='NestingContainersIndex'/> [``Nesting Containers``](#Nesting Containers) \n",
      "\n",
      "**The rules by which HoloViews containers may be nested.**\n"
     ]
    },
    {
     "cell_type": "heading",
     "level": 1,
     "metadata": {},
     "source": [
      "Trees  <a id='Trees'/>"
     ]
    },
    {
     "cell_type": "code",
     "collapsed": false,
     "input": [
      "import holoviews\n",
      "%load_ext holoviews.ipython"
     ],
     "language": "python",
     "metadata": {},
     "outputs": []
    },
    {
     "cell_type": "heading",
     "level": 2,
     "metadata": {},
     "source": [
      "``Layout``  <a id='Layout'/>"
     ]
    },
    {
     "cell_type": "markdown",
     "metadata": {},
     "source": [
      "``Layout`` places nearly any possible components alongside each other, as described in more detail in the [Introductory tutorial](Introduction.html).  The ``.cols()`` method of ``Layout`` can be used to regroup the components into the specified number of columns for display, if desired."
     ]
    },
    {
     "cell_type": "code",
     "collapsed": false,
     "input": [
      "import numpy as np\n",
      "from holoviews import Curve, ItemTable\n",
      "points = [(0.1*i, np.sin(0.1*i)) for i in range(100)]\n",
      "Curve(points) + ItemTable([('A',1),('B',2)])"
     ],
     "language": "python",
     "metadata": {},
     "outputs": []
    },
    {
     "cell_type": "heading",
     "level": 2,
     "metadata": {},
     "source": [
      "``Overlay``  <a id='Overlay'/>"
     ]
    },
    {
     "cell_type": "markdown",
     "metadata": {},
     "source": [
      "Using ``vector_data`` from the [``VectorField`` ``Element``](Elements.html#VectorField) example, we can overlay the vector field on top of an ``Image`` component (or any other component, though not all combinations will be useful or clear due to occlusion):"
     ]
    },
    {
     "cell_type": "code",
     "collapsed": false,
     "input": [
      "%%opts VectorField (color='r')\n",
      "import numpy as np\n",
      "from holoviews import Image, VectorField\n",
      "x,y  = np.mgrid[-10:10,-10:10] * 0.25\n",
      "sine_rings  = np.sin(x**2+y**2)*np.pi+np.pi\n",
      "exp_falloff = 1/np.exp((x**2+y**2)/8)\n",
      "\n",
      "vector_data = np.array([x.flatten()/5.,           # X positions\n",
      "                        y.flatten()/5.,           # Y positions\n",
      "                        sine_rings.flatten(),     # Arrow angles\n",
      "                        exp_falloff.flatten()])   # Arrow sizes\n",
      "\n",
      "Image(sine_rings) * VectorField(vector_data.T)"
     ],
     "language": "python",
     "metadata": {},
     "outputs": []
    },
    {
     "cell_type": "heading",
     "level": 1,
     "metadata": {},
     "source": [
      "Parameter Spaces  <a id='Parameter Spaces'/>"
     ]
    },
    {
     "cell_type": "markdown",
     "metadata": {},
     "source": [
      "HoloViews also supplies composite classes useful for visualizing parameter spaces or phase spaces, i.e. large collections of results for various combinations of parameters.\n",
      "\n",
      "In addition to these ``Container`` types, the [``HeatMap``](Elements.html#HeatMap) ``Element`` is also useful for visualizing small two-dimensional parameter spaces that have a single value for each location in the space."
     ]
    },
    {
     "cell_type": "heading",
     "level": 2,
     "metadata": {},
     "source": [
      "Specifying arbitrary parameter spaces"
     ]
    },
    {
     "cell_type": "markdown",
     "metadata": {},
     "source": [
      "First let us define some numpy arrays which we will use to define the two types of parameter space below."
     ]
    },
    {
     "cell_type": "code",
     "collapsed": false,
     "input": [
      "import numpy as np\n",
      "\n",
      "frequencies =  np.linspace(0.5,2.0,5)\n",
      "phases = np.linspace(0, np.pi*2, 5)\n",
      "x,y = np.mgrid[-50:51, -50:51] * 0.1"
     ],
     "language": "python",
     "metadata": {},
     "outputs": []
    },
    {
     "cell_type": "heading",
     "level": 3,
     "metadata": {},
     "source": [
      "A parameter space of ``Image`` elements"
     ]
    },
    {
     "cell_type": "code",
     "collapsed": false,
     "input": [
      "def sine_array(phase, freq):\n",
      "    return np.sin(phase + (freq*x**2+freq*y**2))\n",
      "\n",
      "matrices = {(p,f):Image(sine_array(p, f), label='Sinusoid Ring', group='Amplitude')\n",
      "          for f in [0.5, 1.0,  1.5,  2.0]    # Frequencies\n",
      "          for p in [0, np.pi/2, np.pi, 3*np.pi/2, 2*np.pi]}  # Phases"
     ],
     "language": "python",
     "metadata": {},
     "outputs": []
    },
    {
     "cell_type": "markdown",
     "metadata": {},
     "source": [
      "To illustrate that ``matrices`` is a dictionary indexed by (phase, frequency) here are two of the dictionary elements side by side:"
     ]
    },
    {
     "cell_type": "code",
     "collapsed": false,
     "input": [
      "matrices[0,0.5] + matrices[np.pi,0.5]"
     ],
     "language": "python",
     "metadata": {},
     "outputs": []
    },
    {
     "cell_type": "heading",
     "level": 3,
     "metadata": {},
     "source": [
      "A parameter space of ``Curve`` elements"
     ]
    },
    {
     "cell_type": "code",
     "collapsed": false,
     "input": [
      "def sine_curve(phase, freq, samples=102):\n",
      "    xvals = [0.1* i for i in range(samples)]\n",
      "    return [(x, np.sin(phase+freq*x)) for x in xvals]\n",
      "\n",
      "curves = {(round(p,2),f):Curve(sine_curve(p,f)) \n",
      "          for f in [1,2,3,4,5]                               # Frequencies\n",
      "          for p in [0, np.pi/2, np.pi, 3*np.pi/2, 2*np.pi]}  # Phases"
     ],
     "language": "python",
     "metadata": {},
     "outputs": []
    },
    {
     "cell_type": "markdown",
     "metadata": {},
     "source": [
      "Here we display two of our curves and then overlay them together with ``*`` (which chooses new colors for each new curve according to a predefined color cycle):"
     ]
    },
    {
     "cell_type": "code",
     "collapsed": false,
     "input": [
      "curves[0,1] + curves[3.14, 2] +   curves[0,1] * curves[3.14, 2]"
     ],
     "language": "python",
     "metadata": {},
     "outputs": []
    },
    {
     "cell_type": "heading",
     "level": 2,
     "metadata": {},
     "source": [
      "``HoloMap``  <a id='HoloMap'/>"
     ]
    },
    {
     "cell_type": "markdown",
     "metadata": {},
     "source": [
      "A ``HoloMap`` is a a very powerful multi-dimensional data structure that can hold a very large number of similar ``Element`` objects, e.g. those measured for different values in a parameter space, and then allows easy exploration, animation, and slicing of the parameter and value spaces.  Usage of this type is covered extensively in the [Exploring Data](Exploring_Data.html) tutorial.  Here we show how a ``HoloMap`` can be used to explore all of the different ``Image`` objects created for each combination of phase and frequency:"
     ]
    },
    {
     "cell_type": "code",
     "collapsed": false,
     "input": [
      "%%opts Image (cmap='gray')\n",
      "from holoviews import HoloMap\n",
      "HoloMap(matrices, key_dimensions=['phase', 'frequency'])"
     ],
     "language": "python",
     "metadata": {},
     "outputs": []
    },
    {
     "cell_type": "heading",
     "level": 2,
     "metadata": {},
     "source": [
      "``GridSpace``  <a id='GridSpace'/>"
     ]
    },
    {
     "cell_type": "markdown",
     "metadata": {},
     "source": [
      "Whenever a ``HoloMap`` has more than one item to display, it will be visualized as an animation or using slider widgets as above, displaying one item (e.g. one ``Element``) at any given time.  If you have up to a two-dimensional parameter space, you can see all your data items at once using a ``GridSpace`` to lay out your data with labelled axes:"
     ]
    },
    {
     "cell_type": "code",
     "collapsed": false,
     "input": [
      "from holoviews import GridSpace\n",
      "GridSpace(matrices, key_dimensions=['phase', 'frequency'])"
     ],
     "language": "python",
     "metadata": {},
     "outputs": []
    },
    {
     "cell_type": "markdown",
     "metadata": {},
     "source": [
      "``GridSpace`` works with any ``Element`` type, not just with a ``Raster``:"
     ]
    },
    {
     "cell_type": "code",
     "collapsed": false,
     "input": [
      "GridSpace(curves, key_dimensions=['phase', 'frequency'])"
     ],
     "language": "python",
     "metadata": {},
     "outputs": []
    },
    {
     "cell_type": "markdown",
     "metadata": {},
     "source": [
      "**Note:** Due to unfortunate limitations of matplotlib, you cannot put two ``GridSpaces`` together in a ``Layout`` unless both ``GridSpaces`` contain only ``Raster`` elements.\n",
      "\n",
      "If both ``GridSpaces`` do contain ``Raster`` objects then ``Layout`` works fine:"
     ]
    },
    {
     "cell_type": "code",
     "collapsed": false,
     "input": [
      "low_frequency = {(p,f):Image(sine_array(p, f), label='Sinusoid Ring', group='Amplitude')\n",
      "                     for f in [0.05, 0.1, 0.15,  0.2]    # Frequencies\n",
      "                     for p in [0, np.pi/2, np.pi, 3*np.pi/2, 2*np.pi]}  # Phases\n",
      "\n",
      "GridSpace(matrices, key_dimensions=['phase', 'frequency']) + \\\n",
      "GridSpace(low_frequency, key_dimensions=['phase', 'frequency'])"
     ],
     "language": "python",
     "metadata": {},
     "outputs": []
    },
    {
     "cell_type": "heading",
     "level": 2,
     "metadata": {},
     "source": [
      "``NdLayout``  <a id='NdLayout'/>"
     ]
    },
    {
     "cell_type": "markdown",
     "metadata": {},
     "source": [
      "``GridSpace`` is great when you have a two-dimensional parameter space, but fails to scale well beyond that. For higher-dimensional parameter spaces, you can use an ``NdLayout``, where the varying key dimensions are shown in the titles of the elements:"
     ]
    },
    {
     "cell_type": "code",
     "collapsed": false,
     "input": [
      "from holoviews import NdLayout\n",
      "NdLayout(matrices, key_dimensions=['phase', 'frequency'])[0:1.6, 0:2].cols(3)"
     ],
     "language": "python",
     "metadata": {},
     "outputs": []
    },
    {
     "cell_type": "heading",
     "level": 2,
     "metadata": {},
     "source": [
      "``NdOverlay``  <a id='NdOverlay'/>"
     ]
    },
    {
     "cell_type": "markdown",
     "metadata": {},
     "source": [
      "``NdOverlay`` is to ``Overlay`` what ``NdLayout`` is to ``Layout``, in other words it is a way of looking at a parameter space as an ``Overlay``. This generally makes ``NdOverlay`` less useful than ``NdLayout`` as some element types don't overlay nicely over each other (e.g. multiple ``Image`` elements) and although more compact, it is easy for an ``NdOverlay`` to present too much data at once.\n",
      "\n",
      "Unlike a regular Overlay, the elements of an ``NdOverlay`` must always be of the same type.\n",
      "\n",
      "To demonstrate this, we will overlay several of the curves from our phase space. To make sure the result is legible, we filter our parameter space down to four curves:"
     ]
    },
    {
     "cell_type": "code",
     "collapsed": false,
     "input": [
      "%%view size=150\n",
      "import numpy as np\n",
      "from holoviews import Curve, NdOverlay\n",
      "four_curves = {(p,f):val for ((p,f), val) in curves.items() if p <=np.pi/2 and f<=2}\n",
      "NdOverlay(four_curves , key_dimensions=['Phase', 'Frequency'])"
     ],
     "language": "python",
     "metadata": {},
     "outputs": []
    },
    {
     "cell_type": "markdown",
     "metadata": {},
     "source": [
      "Note that ``NdOverlay`` ensures all the contained elements are of the same type, and can now supply a useful legend. As with everything in HoloViews, overlaying is a very general concept, and it works with any other type that can be meaningfully overlaid. Here is another example using ``Points``:"
     ]
    },
    {
     "cell_type": "code",
     "collapsed": false,
     "input": [
      "%%view size=150\n",
      "import numpy as np\n",
      "from holoviews import Points\n",
      "np.random.seed(10)\n",
      "extents = (-3, -3, 3, 3)\n",
      "NdOverlay({1:Points(np.random.normal(size=(50,2)), extents=extents),\n",
      "           2:Points(np.random.normal(size=(50,2)), extents=extents),\n",
      "           3:Points(np.random.normal(size=(50,2)), extents=extents)},\n",
      "          key_dimensions=['Cluster'])"
     ],
     "language": "python",
     "metadata": {},
     "outputs": []
    },
    {
     "cell_type": "heading",
     "level": 1,
     "metadata": {},
     "source": [
      "Nesting Containers  <a id='Nesting Containers'/>"
     ]
    },
    {
     "cell_type": "markdown",
     "metadata": {},
     "source": [
      "The sections above describe each of the container types in HoloViews.  These container types can also be combined with each other, in order to build data structures that can contain all of the data that you want to visualize or analyze, in an extremely flexible way.  For instance, you may have a large set of measurements of different types of data (numerical, image, textual notations, etc.) from different experiments done on different days, with various different parameter values associated with each one.  HoloViews can store all of this data together, which will allow you to select just the right bit of data for any particular analysis or visualization, by indexing, slicing, selecting, and sampling in this data structure.\n",
      "\n",
      "For semantic reasons that can be difficult to explain, not all possible combinations of container and element types are possible.  All of the possible combinations can be expressed as a subset of the following maximally nested container:"
     ]
    },
    {
     "cell_type": "code",
     "collapsed": false,
     "input": [
      "from IPython.display import HTML\n",
      "HTML('https://ioam.github.io/media/resources/nesting.svg')"
     ],
     "language": "python",
     "metadata": {},
     "outputs": []
    },
    {
     "cell_type": "markdown",
     "metadata": {},
     "source": [
      "Any of the containers and ``Element``s here is optional, but if it is present, it must be in this order.  For instance, a bare ``Element`` can be used and displayed alone, or it can be combined withe other similar ``Element``s into an ``NdOverlay``, or with any other ``Element`` into an ``Overlay``.\n",
      "\n",
      "``Element``s, ``NdOverlay``s, and ``Overlay``s can each be combined into a ``HoloMap``, allowing any of these items (possibly nested as above) to be animated.  \n",
      "\n",
      "Similarly, ``Element``s, ``NdOverlay``s, and ``HoloMaps`` can all be combined into a ``GridSpace``, and if the ``HoloMaps`` would be animated individually, they still will be when they are embedded into a ``GridSpace``.  \n",
      "\n",
      "Finally, any (arbitrarily nested as above) object can be combined into a ``Layout`` (with no coordinate system defined) or an ``NdLayout`` (which defines a coordinate system).  The ``Layout`` or ``NdLayout`` object is then the top level HoloViews object defined.\n",
      "\n",
      "Obviously, it can be difficult to remember all of these relationships.  Moreover, it can be especially confusing that HoloViews can appear to violate some of these rules -- e.g. it *appears* to be possible to make a ``Layout`` of ``Layout`` objects, by doing ``(o1 + o2) + (o3 + o3)`` for some objects ``o1-4``.  In such a case, the result is actually a single layout ``o1 + o2 + o3 + o4``, not a nested ``Layout`` of ``Layout`` objects. Similarly, an ``Overlay`` of ``Overlay`` objects ``(o1 * o2) * (o3 * o4)`` will result in only a single ``Overlay`` object ``o1 * o2 * o3 * o4``.\n",
      "\n",
      "In practice, you can use the examples in the tutorials to guide you, especially the [Exploring Data](Exploring_Data.html) tutorial.  \n",
      "\n",
      "An important distinction to draw between the different container types is that the ``Tree`` structures (``Layout`` and ``Overlay``) accept key names using attribute-access notation (*object*.*key*), while the others all support bracket-style indexing of dimensions (*object*[*index1*,*index2*]).  This allows you to sort your objects by category or semantic type at the top (``Layout``) level or the ``Overlay`` level where they get combined together, but to index, slice, sample, etc. in whatever dimensions you like for any of the actual data objects or the parameter spaces in which they are embedded.  Again, the tutorials should help make all of this clear; it is difficult to express in words!"
     ]
    }
   ],
   "metadata": {}
  }
 ]
}