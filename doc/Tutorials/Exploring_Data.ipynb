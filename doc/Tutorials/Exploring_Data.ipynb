{
 "metadata": {
  "name": "",
  "signature": "sha256:faf694ea45f409f51ff4eb2f6de9252ab7781bc2eb32cce74df1418d11989024"
 },
 "nbformat": 3,
 "nbformat_minor": 0,
 "worksheets": [
  {
   "cells": [
    {
     "cell_type": "heading",
     "level": 1,
     "metadata": {
      "forecast": {
       "Birmingham": {
        "city": {
         "coord": {
          "lat": 52.481419,
          "lon": -1.89983
         },
         "country": "GB",
         "id": 2655603,
         "name": "Birmingham",
         "population": 0,
         "sys": {
          "population": 0
         }
        },
        "cnt": 5,
        "cod": "200",
        "list": [
         {
          "clouds": 12,
          "deg": 336,
          "dt": 1400068800,
          "humidity": 77,
          "pressure": 1033.66,
          "speed": 3.11,
          "temp": {
           "day": 291.78,
           "eve": 290.98,
           "max": 291.78,
           "min": 283.24,
           "morn": 291.78,
           "night": 283.24
          },
          "weather": [
           {
            "description": "few clouds",
            "icon": "02d",
            "id": 801,
            "main": "Clouds"
           }
          ]
         },
         {
          "clouds": 0,
          "deg": 258,
          "dt": 1400155200,
          "humidity": 90,
          "pressure": 1037.82,
          "speed": 2.01,
          "temp": {
           "day": 291.98,
           "eve": 293,
           "max": 293.21,
           "min": 283.08,
           "morn": 283.08,
           "night": 286.96
          },
          "weather": [
           {
            "description": "sky is clear",
            "icon": "01d",
            "id": 800,
            "main": "Clear"
           }
          ]
         },
         {
          "clouds": 32,
          "deg": 256,
          "dt": 1400241600,
          "humidity": 88,
          "pressure": 1034.23,
          "speed": 2.18,
          "temp": {
           "day": 293.68,
           "eve": 293.05,
           "max": 293.68,
           "min": 285.28,
           "morn": 286.26,
           "night": 285.28
          },
          "weather": [
           {
            "description": "scattered clouds",
            "icon": "03d",
            "id": 802,
            "main": "Clouds"
           }
          ]
         },
         {
          "clouds": 36,
          "deg": 218,
          "dt": 1400328000,
          "humidity": 80,
          "pressure": 1027.47,
          "speed": 2.31,
          "temp": {
           "day": 292.02,
           "eve": 293.49,
           "max": 293.65,
           "min": 284.55,
           "morn": 284.55,
           "night": 287.78
          },
          "weather": [
           {
            "description": "scattered clouds",
            "icon": "03d",
            "id": 802,
            "main": "Clouds"
           }
          ]
         },
         {
          "clouds": 0,
          "deg": 180,
          "dt": 1400414400,
          "humidity": 74,
          "pressure": 1017.67,
          "speed": 5.81,
          "temp": {
           "day": 294.72,
           "eve": 293.96,
           "max": 295.08,
           "min": 285.95,
           "morn": 285.95,
           "night": 288.07
          },
          "weather": [
           {
            "description": "sky is clear",
            "icon": "01d",
            "id": 800,
            "main": "Clear"
           }
          ]
         }
        ],
        "message": 0.049
       },
       "Bristol": {
        "city": {
         "coord": {
          "lat": 51.455231,
          "lon": -2.59665
         },
         "country": "GB",
         "id": 2654675,
         "name": "Bristol",
         "population": 0,
         "sys": {
          "population": 0
         }
        },
        "cnt": 5,
        "cod": "200",
        "list": [
         {
          "clouds": 8,
          "deg": 325,
          "dt": 1400068800,
          "humidity": 69,
          "pressure": 1036.41,
          "speed": 4.36,
          "temp": {
           "day": 290.98,
           "eve": 290.03,
           "max": 290.98,
           "min": 283.28,
           "morn": 290.98,
           "night": 283.28
          },
          "weather": [
           {
            "description": "sky is clear",
            "icon": "02d",
            "id": 800,
            "main": "Clear"
           }
          ]
         },
         {
          "clouds": 12,
          "deg": 172,
          "dt": 1400155200,
          "humidity": 80,
          "pressure": 1040.25,
          "speed": 1.91,
          "temp": {
           "day": 291.96,
           "eve": 291.88,
           "max": 292.29,
           "min": 282.47,
           "morn": 282.47,
           "night": 283.89
          },
          "weather": [
           {
            "description": "few clouds",
            "icon": "02d",
            "id": 801,
            "main": "Clouds"
           }
          ]
         },
         {
          "clouds": 0,
          "deg": 350,
          "dt": 1400241600,
          "humidity": 78,
          "pressure": 1037.07,
          "speed": 1.78,
          "temp": {
           "day": 293.19,
           "eve": 292.91,
           "max": 293.68,
           "min": 283.62,
           "morn": 283.62,
           "night": 285.93
          },
          "weather": [
           {
            "description": "sky is clear",
            "icon": "01d",
            "id": 800,
            "main": "Clear"
           }
          ]
         },
         {
          "clouds": 36,
          "deg": 136,
          "dt": 1400328000,
          "humidity": 73,
          "pressure": 1029.65,
          "speed": 1.86,
          "temp": {
           "day": 293.27,
           "eve": 293.24,
           "max": 294.05,
           "min": 284.68,
           "morn": 285.1,
           "night": 284.68
          },
          "weather": [
           {
            "description": "scattered clouds",
            "icon": "03d",
            "id": 802,
            "main": "Clouds"
           }
          ]
         },
         {
          "clouds": 0,
          "deg": 177,
          "dt": 1400414400,
          "humidity": 66,
          "pressure": 1019.69,
          "speed": 5.46,
          "temp": {
           "day": 293.72,
           "eve": 292.86,
           "max": 294.33,
           "min": 284.55,
           "morn": 284.55,
           "night": 287.47
          },
          "weather": [
           {
            "description": "sky is clear",
            "icon": "01d",
            "id": 800,
            "main": "Clear"
           }
          ]
         }
        ],
        "message": 0.0303
       },
       "Cardiff": {
        "city": {
         "coord": {
          "lat": 51.48,
          "lon": -3.18
         },
         "country": "GB",
         "id": 2653822,
         "name": "Cardiff",
         "population": 0,
         "sys": {
          "population": 0
         }
        },
        "cnt": 5,
        "cod": "200",
        "list": [
         {
          "clouds": 8,
          "deg": 325,
          "dt": 1400068800,
          "humidity": 69,
          "pressure": 1036.41,
          "speed": 4.36,
          "temp": {
           "day": 290.98,
           "eve": 290.03,
           "max": 290.98,
           "min": 283.28,
           "morn": 290.98,
           "night": 283.28
          },
          "weather": [
           {
            "description": "sky is clear",
            "icon": "02d",
            "id": 800,
            "main": "Clear"
           }
          ]
         },
         {
          "clouds": 12,
          "deg": 172,
          "dt": 1400155200,
          "humidity": 80,
          "pressure": 1040.25,
          "speed": 1.91,
          "temp": {
           "day": 291.96,
           "eve": 291.88,
           "max": 292.29,
           "min": 282.47,
           "morn": 282.47,
           "night": 283.89
          },
          "weather": [
           {
            "description": "few clouds",
            "icon": "02d",
            "id": 801,
            "main": "Clouds"
           }
          ]
         },
         {
          "clouds": 0,
          "deg": 350,
          "dt": 1400241600,
          "humidity": 78,
          "pressure": 1037.07,
          "speed": 1.78,
          "temp": {
           "day": 293.19,
           "eve": 292.91,
           "max": 293.68,
           "min": 283.62,
           "morn": 283.62,
           "night": 285.93
          },
          "weather": [
           {
            "description": "sky is clear",
            "icon": "01d",
            "id": 800,
            "main": "Clear"
           }
          ]
         },
         {
          "clouds": 36,
          "deg": 136,
          "dt": 1400328000,
          "humidity": 73,
          "pressure": 1029.65,
          "speed": 1.86,
          "temp": {
           "day": 293.27,
           "eve": 293.24,
           "max": 294.05,
           "min": 284.68,
           "morn": 285.1,
           "night": 284.68
          },
          "weather": [
           {
            "description": "scattered clouds",
            "icon": "03d",
            "id": 802,
            "main": "Clouds"
           }
          ]
         },
         {
          "clouds": 0,
          "deg": 177,
          "dt": 1400414400,
          "humidity": 66,
          "pressure": 1019.69,
          "speed": 5.46,
          "temp": {
           "day": 293.72,
           "eve": 292.86,
           "max": 294.33,
           "min": 284.55,
           "morn": 284.55,
           "night": 287.47
          },
          "weather": [
           {
            "description": "sky is clear",
            "icon": "01d",
            "id": 800,
            "main": "Clear"
           }
          ]
         }
        ],
        "message": 0.034
       },
       "Edinburgh": {
        "city": {
         "coord": {
          "lat": 55.952061,
          "lon": -3.19648
         },
         "country": "GB",
         "id": 2650225,
         "name": "Edinburgh",
         "population": 0,
         "sys": {
          "population": 0
         }
        },
        "cnt": 5,
        "cod": "200",
        "list": [
         {
          "clouds": 68,
          "deg": 226,
          "dt": 1400068800,
          "humidity": 76,
          "pressure": 1034.39,
          "speed": 3.51,
          "temp": {
           "day": 289.66,
           "eve": 289.11,
           "max": 289.66,
           "min": 285.97,
           "morn": 289.66,
           "night": 285.97
          },
          "weather": [
           {
            "description": "broken clouds",
            "icon": "04d",
            "id": 803,
            "main": "Clouds"
           }
          ]
         },
         {
          "clouds": 64,
          "deg": 248,
          "dt": 1400155200,
          "humidity": 75,
          "pressure": 1036.85,
          "speed": 6.34,
          "temp": {
           "day": 290.6,
           "eve": 289.82,
           "max": 291.13,
           "min": 285.53,
           "morn": 285.65,
           "night": 285.53
          },
          "weather": [
           {
            "description": "broken clouds",
            "icon": "04d",
            "id": 803,
            "main": "Clouds"
           }
          ]
         },
         {
          "clouds": 64,
          "deg": 237,
          "dt": 1400241600,
          "humidity": 71,
          "pressure": 1031.48,
          "speed": 8.28,
          "temp": {
           "day": 288.39,
           "eve": 287.65,
           "max": 288.78,
           "min": 284.33,
           "morn": 285.72,
           "night": 284.33
          },
          "weather": [
           {
            "description": "broken clouds",
            "icon": "04d",
            "id": 803,
            "main": "Clouds"
           }
          ]
         },
         {
          "clouds": 0,
          "deg": 222,
          "dt": 1400328000,
          "humidity": 73,
          "pressure": 1025.12,
          "speed": 6.36,
          "temp": {
           "day": 288.17,
           "eve": 288.89,
           "max": 289.05,
           "min": 283.8,
           "morn": 283.8,
           "night": 285.53
          },
          "weather": [
           {
            "description": "sky is clear",
            "icon": "01d",
            "id": 800,
            "main": "Clear"
           }
          ]
         },
         {
          "clouds": 68,
          "deg": 200,
          "dt": 1400414400,
          "humidity": 69,
          "pressure": 1015.64,
          "speed": 7.96,
          "temp": {
           "day": 288.77,
           "eve": 288.51,
           "max": 289.18,
           "min": 285.45,
           "morn": 285.45,
           "night": 286.17
          },
          "weather": [
           {
            "description": "broken clouds",
            "icon": "04d",
            "id": 803,
            "main": "Clouds"
           }
          ]
         }
        ],
        "message": 2.494
       },
       "London": {
        "city": {
         "coord": {
          "lat": 51.50853,
          "lon": -0.12574
         },
         "country": "GB",
         "id": 2643743,
         "name": "London",
         "population": 0,
         "sys": {
          "population": 0
         }
        },
        "cnt": 5,
        "cod": "200",
        "list": [
         {
          "clouds": 8,
          "deg": 18,
          "dt": 1400065200,
          "humidity": 80,
          "pressure": 1039.57,
          "speed": 3.51,
          "temp": {
           "day": 288.62,
           "eve": 287.93,
           "max": 288.62,
           "min": 280.23,
           "morn": 288.62,
           "night": 280.23
          },
          "weather": [
           {
            "description": "sky is clear",
            "icon": "02d",
            "id": 800,
            "main": "Clear"
           }
          ]
         },
         {
          "clouds": 0,
          "deg": 316,
          "dt": 1400151600,
          "humidity": 82,
          "pressure": 1043.9,
          "speed": 2.11,
          "temp": {
           "day": 290.72,
           "eve": 291.83,
           "max": 292.13,
           "min": 281.35,
           "morn": 281.35,
           "night": 283.92
          },
          "weather": [
           {
            "description": "sky is clear",
            "icon": "01d",
            "id": 800,
            "main": "Clear"
           }
          ]
         },
         {
          "clouds": 12,
          "deg": 239,
          "dt": 1400238000,
          "humidity": 76,
          "pressure": 1040.23,
          "speed": 1.96,
          "temp": {
           "day": 293.8,
           "eve": 294.1,
           "max": 294.86,
           "min": 284.05,
           "morn": 284.05,
           "night": 289.86
          },
          "weather": [
           {
            "description": "few clouds",
            "icon": "02d",
            "id": 801,
            "main": "Clouds"
           }
          ]
         },
         {
          "clouds": 64,
          "deg": 208,
          "dt": 1400324400,
          "humidity": 75,
          "pressure": 1033.22,
          "speed": 1.76,
          "temp": {
           "day": 294.62,
           "eve": 294.29,
           "max": 294.62,
           "min": 288.55,
           "morn": 288.55,
           "night": 290.78
          },
          "weather": [
           {
            "description": "broken clouds",
            "icon": "04d",
            "id": 803,
            "main": "Clouds"
           }
          ]
         },
         {
          "clouds": 0,
          "deg": 161,
          "dt": 1400410800,
          "humidity": 61,
          "pressure": 1024.72,
          "speed": 5.51,
          "temp": {
           "day": 296.02,
           "eve": 296.11,
           "max": 297.28,
           "min": 287.2,
           "morn": 287.2,
           "night": 289.12
          },
          "weather": [
           {
            "description": "sky is clear",
            "icon": "01d",
            "id": 800,
            "main": "Clear"
           }
          ]
         }
        ],
        "message": 0.0024
       },
       "Newport": {
        "city": {
         "coord": {
          "lat": 51.587742,
          "lon": -2.99835
         },
         "country": "GB",
         "id": 2641598,
         "name": "Newport",
         "population": 0,
         "sys": {
          "population": 0
         }
        },
        "cnt": 5,
        "cod": "200",
        "list": [
         {
          "clouds": 64,
          "deg": 318,
          "dt": 1400068800,
          "humidity": 74,
          "pressure": 1020.85,
          "speed": 2.51,
          "temp": {
           "day": 291.91,
           "eve": 291.57,
           "max": 291.91,
           "min": 283.66,
           "morn": 291.91,
           "night": 283.66
          },
          "weather": [
           {
            "description": "broken clouds",
            "icon": "04d",
            "id": 803,
            "main": "Clouds"
           }
          ]
         },
         {
          "clouds": 0,
          "deg": 209,
          "dt": 1400155200,
          "humidity": 81,
          "pressure": 1024.53,
          "speed": 1.94,
          "temp": {
           "day": 293.1,
           "eve": 293.15,
           "max": 294.15,
           "min": 283.18,
           "morn": 283.18,
           "night": 286.64
          },
          "weather": [
           {
            "description": "sky is clear",
            "icon": "01d",
            "id": 800,
            "main": "Clear"
           }
          ]
         },
         {
          "clouds": 0,
          "deg": 281,
          "dt": 1400241600,
          "humidity": 77,
          "pressure": 1021.59,
          "speed": 2.63,
          "temp": {
           "day": 292.81,
           "eve": 291.16,
           "max": 292.82,
           "min": 283.01,
           "morn": 284.76,
           "night": 283.01
          },
          "weather": [
           {
            "description": "sky is clear",
            "icon": "01d",
            "id": 800,
            "main": "Clear"
           }
          ]
         },
         {
          "clouds": 0,
          "deg": 207,
          "dt": 1400328000,
          "humidity": 75,
          "pressure": 1014.33,
          "speed": 2.66,
          "temp": {
           "day": 291.57,
           "eve": 292.04,
           "max": 292.75,
           "min": 282.5,
           "morn": 282.5,
           "night": 285.78
          },
          "weather": [
           {
            "description": "sky is clear",
            "icon": "01d",
            "id": 800,
            "main": "Clear"
           }
          ]
         },
         {
          "clouds": 8,
          "deg": 184,
          "dt": 1400414400,
          "humidity": 72,
          "pressure": 1004.21,
          "speed": 5.56,
          "temp": {
           "day": 293.02,
           "eve": 292.46,
           "max": 293.68,
           "min": 285.2,
           "morn": 285.2,
           "night": 287.57
          },
          "weather": [
           {
            "description": "sky is clear",
            "icon": "02d",
            "id": 800,
            "main": "Clear"
           }
          ]
         }
        ],
        "message": 0.0399
       }
      }
     },
     "source": [
      "Exploring Data"
     ]
    },
    {
     "cell_type": "markdown",
     "metadata": {},
     "source": [
      "In the [Introductory Tutorial](Introduction.html) and the [Element](Elements.html) and [Container](Containers.html) overviews you can see how HoloViews allows you to wrap your data into annotated ``Element``s that can be composed easily into complex visualizations.  \n",
      "\n",
      "In this tutorial, we will see how *all* of your data can be embedded as ``Elements`` into a nested, sparsely populated multi-dimensional data structure that gives you maximum flexibility to slice, select, and combine your data for visualization and analysis.  With the HoloViews data structures, you can visualize your multi-dimensional data as animations, images, charts, and parameter spaces with ease, allowing you to quickly discover the important features interactively and then prepare corresponding plots for reports or publications. \n",
      "\n",
      "We will first start with the very powerful ``HoloMap`` container, and then show how ``HoloMap`` objects can be nested inside the other [Container](Containers.html) objects to make all of your data available easily."
     ]
    },
    {
     "cell_type": "code",
     "collapsed": false,
     "input": [
      "import holoviews\n",
      "%load_ext holoviews.ipython"
     ],
     "language": "python",
     "metadata": {},
     "outputs": []
    },
    {
     "cell_type": "markdown",
     "metadata": {},
     "source": [
      "To start, here are some general imports we will be using, mainly from the Python standard library:"
     ]
    },
    {
     "cell_type": "code",
     "collapsed": false,
     "input": [
      "import json\n",
      "import datetime as dt \n",
      "import urllib2\n",
      "import multiprocessing\n",
      "\n",
      "import numpy as np\n",
      "from matplotlib import pyplot as plt\n",
      "import matplotlib.dates as md\n",
      "\n",
      "from holoviews import Dimension, HoloMap, RGB, ItemTable"
     ],
     "language": "python",
     "metadata": {},
     "outputs": []
    },
    {
     "cell_type": "heading",
     "level": 2,
     "metadata": {},
     "source": [
      "HoloMap Basics"
     ]
    },
    {
     "cell_type": "markdown",
     "metadata": {},
     "source": [
      "Python users will be familiar with dictionaries as a way to collect data together in a conveniently accessible manner. Unlike Numpy arrays, dictionaries are sparse and heterogeneous and do not have to be declared with a fixed size.\n",
      "\n",
      "``HoloMap``s are a core part of HoloViews and are essential for generating animated visualizations. They also provide highly useful ways to manipulate your data for display and have several useful properties:\n",
      "\n",
      "* ``HoloMap``s are ordered (internally they use OrderedDictionary, or if installed, the optimized cyordereddict).\n",
      "* ``HoloMap``s let you index your data with an arbitrary number of dimensions (e.g. ``date`` and `batch-number`), not just one like a Python dictionary.\n",
      "* The dimensions used may be simple strings, or objects recording the name, type and physical units of the dimension.\n",
      "* ``HoloMap``s let you select portions of your data by slicing each available dimension independently.\n",
      "* ``HoloMap``s also provide ways to transform your data by sampling, reducing and collapsing the data ``Elements``.\n",
      "* ``Dimension``s in a ``HoloMap`` may be mapped onto parameter spaces for easy visualization of a portion of your multidimensional data space."
     ]
    },
    {
     "cell_type": "heading",
     "level": 2,
     "metadata": {},
     "source": [
      "Loading data"
     ]
    },
    {
     "cell_type": "markdown",
     "metadata": {},
     "source": [
      "In this notebook we will be exploring weather data from Hurricane Sandy, which swept across the Carribbean and Eastern US seaboard in late October 2012. We will scrape our data from various online sources, exploring not only how we can quickly generate animations using HoloMaps, but also how we can deal with very high-dimensional data."
     ]
    },
    {
     "cell_type": "markdown",
     "metadata": {},
     "source": [
      "We will start by getting a few frames of the satellite-imagery-based wind speed models from NASA. Using urllib2 and multiprocessing we can quickly load and crop a number of frames. "
     ]
    },
    {
     "cell_type": "code",
     "collapsed": false,
     "input": [
      "frames = np.arange(1301,2001,50)\n",
      "timestamps=[1351123200+i*16*60*60 for i in range(14)]\n",
      "dates=md.date2num([dt.datetime.fromtimestamp(ts) for ts in timestamps])\n",
      "\n",
      "url=\"http://svs.gsfc.nasa.gov/vis/a030000/a030000/a030019/frames/1920x1080_16x9_30p/sandy_10m/1920_1080_FramesSandy10m{frame}.png\"\n",
      "url2=\"http://svs.gsfc.nasa.gov/vis/a030000/a030000/a030019/frames/1920x1080_16x9_30p/sandy_winds/1920_1080_Frames{frame}.png\"\n",
      "def load_image(frame):\n",
      "    arr = plt.imread(urllib2.urlopen(url.format(frame=str(frame).zfill(4))))\n",
      "    arr2 = plt.imread(urllib2.urlopen(url2.format(frame=str(frame).zfill(4))))\n",
      "    return arr[200:900:2, 400:1200:2], arr2[200:900:2, 400:1200:2]"
     ],
     "language": "python",
     "metadata": {},
     "outputs": []
    },
    {
     "cell_type": "code",
     "collapsed": false,
     "input": [
      "pool = multiprocessing.Pool()\n",
      "surface_data, nearsrfc_data = zip(*pool.map(load_image, frames))"
     ],
     "language": "python",
     "metadata": {},
     "outputs": []
    },
    {
     "cell_type": "heading",
     "level": 2,
     "metadata": {},
     "source": [
      "Constructing a HoloMap"
     ]
    },
    {
     "cell_type": "heading",
     "level": 4,
     "metadata": {},
     "source": [
      "Declaring Dimensions"
     ]
    },
    {
     "cell_type": "markdown",
     "metadata": {},
     "source": [
      "Now that we have loaded the data we can store the raw image arrays as RGB Elements and create a HoloMap. We begin by declaring the key_dimensions of the HoloMap, which determine how the data will be stored and thus how you will be able to index and select it most easily.  In this case we will index our HoloMap both by the frame number and the date:"
     ]
    },
    {
     "cell_type": "code",
     "collapsed": false,
     "input": [
      "date_dim = Dimension(\"Date\", formatter=md.DateFormatter('%h %d %Y %H:%M UTC'), type=float)\n",
      "key_dimensions = ['Frame', date_dim]"
     ],
     "language": "python",
     "metadata": {},
     "outputs": []
    },
    {
     "cell_type": "markdown",
     "metadata": {},
     "source": [
      "Dimensions can be specified as a simple string, or as a Dimension object with additional information to give HoloViews some hints about how to format and display values along that Dimension."
     ]
    },
    {
     "cell_type": "heading",
     "level": 4,
     "metadata": {},
     "source": [
      "Populating the HoloMap"
     ]
    },
    {
     "cell_type": "markdown",
     "metadata": {},
     "source": [
      "Creating a HoloMap is just like creating a Python dictionary, and so you can either pass a dictionary object or a list of (key,value) pairs. The keys can each be a single value for a one-dimensional HoloMap, or tuples for multiple Dimensions."
     ]
    },
    {
     "cell_type": "code",
     "collapsed": false,
     "input": [
      "srfc = [((frame, date), RGB(data, bounds=(0, 0)+data.shape[0:2][::-1], xdensity=1,\n",
      "                            label='Hurricane Sandy', value='Surface Wind Speed'))\n",
      "        for frame, date, data in zip(range(len(dates)), dates, surface_data)]\n",
      "\n",
      "nsrfc = [((frame, date), RGB(data, bounds=(0, 0)+data.shape[0:2][::-1], xdensity=1,\n",
      "                            label='Hurricane Sandy', value='Near Surface Wind Speed'))\n",
      "        for frame, date, data in zip(range(len(dates)), dates, nearsrfc_data)]\n",
      "\n",
      "surface_wind = HoloMap(srfc, key_dimensions=key_dimensions)\n",
      "nearsurface_wind = HoloMap(nsrfc, key_dimensions=key_dimensions)"
     ],
     "language": "python",
     "metadata": {},
     "outputs": []
    },
    {
     "cell_type": "markdown",
     "metadata": {},
     "source": [
      "Not only is the HoloMap constructor similar to Python dictionaries, HoloMaps also provide ``__getitem__``, ``__setitem__``, ``update``, ``get``, ``pop``, ``keys``, ``values`` and ``items`` just as for normal dictionaries. In addition, HoloMap provides a .clone method that will return a copy of the HoloMap containing the same data, where the data and all the parameters may now be overridden.  "
     ]
    },
    {
     "cell_type": "heading",
     "level": 2,
     "metadata": {},
     "source": [
      "Basic usage and attributes on HoloMaps"
     ]
    },
    {
     "cell_type": "markdown",
     "metadata": {},
     "source": [
      "A HoloMap must be uniform in the type, value, label, and key dimensions of its Elements, because it defines a parameter space of Elements varying only in their n-dimensional index and data. This also allows HoloMaps to inherit the value and label of its Elements, which we can see by inspecting the HoloMaps repr for ``satellite_map``:"
     ]
    },
    {
     "cell_type": "code",
     "collapsed": false,
     "input": [
      "print surface_wind"
     ],
     "language": "python",
     "metadata": {},
     "outputs": []
    },
    {
     "cell_type": "markdown",
     "metadata": {},
     "source": [
      "Since the RGB elements we have created are not square we can declare that RGB Elements should be displayed with an aspect ratio of 1.0 using the ``%opts`` line magic, which will apply to all subsequent cells:"
     ]
    },
    {
     "cell_type": "code",
     "collapsed": false,
     "input": [
      "%opts RGB [aspect=1]"
     ],
     "language": "python",
     "metadata": {},
     "outputs": []
    },
    {
     "cell_type": "markdown",
     "metadata": {},
     "source": [
      "To get a quick glimpse at the data we have collected, you can access the ``.last`` property, which will return the last Element in the HoloMap:"
     ]
    },
    {
     "cell_type": "code",
     "collapsed": false,
     "input": [
      "surface_wind.last"
     ],
     "language": "python",
     "metadata": {},
     "outputs": []
    },
    {
     "cell_type": "markdown",
     "metadata": {},
     "source": [
      "If you are unsure how large the ``HoloMap`` is or want to know a bit more about the ``Dimension`` ranges, you can use the ``.info`` property.  For a ``HoloMap``, ``.info`` will list the dimensions, their ranges for the key_dimensions on the ``HoloMap``, and even the ``deep_dimensions``, i.e. any ``Dimension``s contained within the Elements of the ``HoloMap``."
     ]
    },
    {
     "cell_type": "code",
     "collapsed": false,
     "input": [
      "surface_wind.info"
     ],
     "language": "python",
     "metadata": {},
     "outputs": []
    },
    {
     "cell_type": "heading",
     "level": 2,
     "metadata": {},
     "source": [
      "Indexing and slicing HoloMaps"
     ]
    },
    {
     "cell_type": "markdown",
     "metadata": {},
     "source": [
      "Having found out a bit about the HoloMap, we can look at a few frames, starting with selecting just the first three:"
     ]
    },
    {
     "cell_type": "code",
     "collapsed": false,
     "input": [
      "surface_wind[0:3]"
     ],
     "language": "python",
     "metadata": {},
     "outputs": []
    },
    {
     "cell_type": "markdown",
     "metadata": {},
     "source": [
      "Because HoloMaps support all the slicing semantics including steps, we can do things like select every second frame in the second half of the animation:"
     ]
    },
    {
     "cell_type": "code",
     "collapsed": false,
     "input": [
      "surface_wind[7:14:2]"
     ],
     "language": "python",
     "metadata": {},
     "outputs": []
    },
    {
     "cell_type": "markdown",
     "metadata": {},
     "source": [
      "As you may have noticed, the slices are not simply by whole-number index, as for a numpy array. A HoloMap, like all other Dimensioned objects (i.e., most HoloViews components), is always sliceable by the values along its key dimensions, in whatever units they are expressed.\n",
      "\n",
      "Apart from simple slicing semantics, you can also select Elements by passing the Dimension values as a set. Since our Elements are guaranteed to be uniform, a HoloMap also allows deep indexing into the key_dimensions of its Elements, allowing us to easily select a subregion of each satellite frame (where ``:`` alone means to select the entire range of that dimension)"
     ]
    },
    {
     "cell_type": "code",
     "collapsed": false,
     "input": [
      "surface_wind[[0, 2, 3, 5], :, 150:350, 50:250]"
     ],
     "language": "python",
     "metadata": {},
     "outputs": []
    },
    {
     "cell_type": "markdown",
     "metadata": {},
     "source": [
      "Finally let's put together everything we've learned about indexing and go one step further. So far we've been looking at just the surface wind speed plots, but now let's combine them into a Layout. Just like Elements, HoloMaps can be grouped into a Layout using the + operator. Since the Layout is a Tree based data structure it doesn't have any Dimensions of its own and we can't use ``__getitem__``, instead we may use ``select``, which can be found on all HoloViews components. The ``.select`` method may be supplied with any number of dimension and value slice pairs. Slices may be supplied either as explicit ``slice`` objects or as tuples. "
     ]
    },
    {
     "cell_type": "code",
     "collapsed": false,
     "input": [
      "(surface_wind + nearsurface_wind).select(Frame=slice(0, 10, 2), x=(150,350), y=(50, 250))"
     ],
     "language": "python",
     "metadata": {},
     "outputs": []
    },
    {
     "cell_type": "heading",
     "level": 2,
     "metadata": {},
     "source": [
      "Grouping HoloMaps"
     ]
    },
    {
     "cell_type": "markdown",
     "metadata": {},
     "source": [
      "HoloMaps provide the starting point to display your data in any number of ways. While HoloMap dimensions are displayed as frames of an animation by default, you can easily transform a HoloMap into another n-D component type, such as an ``NdLayout``, ``GridSpace``, or ``NdOverlay``, via the ``.layout``, ``.grid``, and ``.overlay`` methods. \n",
      "\n",
      "Each of these methods groups the data along the values of the dimensions you specify and return the newly grouped object. These methods are however just convenience methods around the ``.groupby`` method, which can split a HoloMap into whatever container and group types you specify.\n",
      "\n",
      "Before we can start grouping however, we hit a snag in our indexing: the Frame and Date dimensions we specified above are redundant, because for each frame there is only one corresponding date.  As a result, any ``groupby`` operation will fail. But we can easily solve this problem by reindexing the HoloMap:"
     ]
    },
    {
     "cell_type": "code",
     "collapsed": false,
     "input": [
      "print \"Dimensions before reindex: %s\" % surface_wind.dimensions('key', label=True)\n",
      "surface_reindexed = surface_wind.reindex(['Date'])\n",
      "print \"Dimensions after reindex:  %s\" % surface_reindexed.dimensions('key', label=True)"
     ],
     "language": "python",
     "metadata": {},
     "outputs": []
    },
    {
     "cell_type": "markdown",
     "metadata": {},
     "source": [
      "Now that we have removed the redundant Dimension we can create an NdLayout indexed just by the date:"
     ]
    },
    {
     "cell_type": "code",
     "collapsed": false,
     "input": [
      "surface_reindexed[::4].layout('Date')"
     ],
     "language": "python",
     "metadata": {},
     "outputs": []
    },
    {
     "cell_type": "code",
     "collapsed": false,
     "input": [
      "%view size=250 "
     ],
     "language": "python",
     "metadata": {},
     "outputs": []
    },
    {
     "cell_type": "markdown",
     "metadata": {},
     "source": [
      "For a more compact representation, you may also create a ``GridSpace`` using the ``.grid`` method. In a ``GridSpace``, each dimension maps onto an axis, which limits it to a maximum of two Dimensions, but redundant data like the shared axes and axis labels are suppressed. To avoid the tick labels overlapping we will also define a rotation of the tick marks by a few degrees."
     ]
    },
    {
     "cell_type": "code",
     "collapsed": false,
     "input": [
      "%opts GridSpace [xrotation=10]\n",
      "surface_reindexed[::2].grid('Date')"
     ],
     "language": "python",
     "metadata": {},
     "outputs": []
    },
    {
     "cell_type": "heading",
     "level": 2,
     "metadata": {},
     "source": [
      "Adding Dimensions"
     ]
    },
    {
     "cell_type": "markdown",
     "metadata": {},
     "source": [
      "Now how do we go about combining the two ``HoloMap``s into a single ``GridSPace``? First let us reindex the near-surface data as well."
     ]
    },
    {
     "cell_type": "code",
     "collapsed": false,
     "input": [
      "nearsurface_reindexed = nearsurface_wind.reindex(['Date'])"
     ],
     "language": "python",
     "metadata": {},
     "outputs": []
    },
    {
     "cell_type": "markdown",
     "metadata": {},
     "source": [
      "The two HoloMaps we have represent wind speed at different heights. Meteorologists state the height of different airmasses by their pressure. The near-surface imagery is at 850 hPa, while the surface level images are at 1000 hPa."
     ]
    },
    {
     "cell_type": "code",
     "collapsed": false,
     "input": [
      "height = Dimension('Layer Height', unit='hPa')"
     ],
     "language": "python",
     "metadata": {},
     "outputs": []
    },
    {
     "cell_type": "markdown",
     "metadata": {},
     "source": [
      "We can add this Dimension to the HoloMaps via the ``add_dimension`` method, which accepts the new dimension, the index position at which to insert that dimension and the dimension value as arguments:"
     ]
    },
    {
     "cell_type": "code",
     "collapsed": false,
     "input": [
      "surface = surface_reindexed.add_dimension(height, 1, 1000)\n",
      "near_surface = nearsurface_reindexed.add_dimension(height, 1, 850)"
     ],
     "language": "python",
     "metadata": {},
     "outputs": []
    },
    {
     "cell_type": "markdown",
     "metadata": {},
     "source": [
      "Now we can combine the two ``HoloMap``s by creating a clone and updating it with the other ``HoloMap``:"
     ]
    },
    {
     "cell_type": "code",
     "collapsed": false,
     "input": [
      "combined_hurricane = surface.clone()\n",
      "combined_hurricane.update(near_surface)"
     ],
     "language": "python",
     "metadata": {},
     "outputs": []
    },
    {
     "cell_type": "markdown",
     "metadata": {},
     "source": [
      "Using ``.info`` we can confirm the two HoloMaps have been successfully merged."
     ]
    },
    {
     "cell_type": "code",
     "collapsed": false,
     "input": [
      "combined_hurricane.info"
     ],
     "language": "python",
     "metadata": {},
     "outputs": []
    },
    {
     "cell_type": "markdown",
     "metadata": {},
     "source": [
      "Merging multiple HoloMaps in this step-by-step way would be cumbersome, and avoiding this complexity is why the Collator object (another instance of ``Dimensioned``) has been provided.  ``Collator`` is described in the [Transforming Data](./Transforming_Data.html) tutorial."
     ]
    },
    {
     "cell_type": "markdown",
     "metadata": {},
     "source": [
      "Now that both the Date and Layer Height are ``Dimension``s on the ``HoloMap`` we have various options for laying out our data. We can simply map each ``Dimension`` to an axis of a ``GridSpace``:"
     ]
    },
    {
     "cell_type": "code",
     "collapsed": false,
     "input": [
      "combined_hurricane.select(Date=(None, None, 2)).grid(['Date', 'Layer Height'])"
     ],
     "language": "python",
     "metadata": {},
     "outputs": []
    },
    {
     "cell_type": "markdown",
     "metadata": {},
     "source": [
      "Or we can choose to animate one ``Dimension`` but not the other:"
     ]
    },
    {
     "cell_type": "code",
     "collapsed": false,
     "input": [
      "%view size=300\n",
      "combined_hurricane.grid(['Date'])[::2]"
     ],
     "language": "python",
     "metadata": {},
     "outputs": []
    },
    {
     "cell_type": "heading",
     "level": 2,
     "metadata": {},
     "source": [
      "Handling missing data"
     ]
    },
    {
     "cell_type": "markdown",
     "metadata": {},
     "source": [
      "Another powerful property of ``HoloMap``s is that when combined into a ``Layout`` via the ``+`` operator, their ``Dimension``s are coordinated across each frame.  This allows you to handle missing values, because HoloViews will blank out any frames without matching dimension values when combining overlapping dimensions:"
     ]
    },
    {
     "cell_type": "code",
     "collapsed": false,
     "input": [
      "%view size=100\n",
      "surface_wind[0:4] + nearsurface_wind[3:6]"
     ],
     "language": "python",
     "metadata": {},
     "outputs": []
    },
    {
     "cell_type": "markdown",
     "metadata": {},
     "source": [
      "This feature becomes particularly important when combining data from different sources, which shares common dimensions but may not be sampled in precisely the same. To demonstrate this let's load some additional data."
     ]
    },
    {
     "cell_type": "heading",
     "level": 2,
     "metadata": {},
     "source": [
      "Combining heterogenous data"
     ]
    },
    {
     "cell_type": "markdown",
     "metadata": {},
     "source": [
      "With the existing timestamps we can look up weather data about different cities via the REST API provided by openweathermap.org.\n",
      "\n",
      "First we define the new dimensions we will be adding:"
     ]
    },
    {
     "cell_type": "code",
     "collapsed": false,
     "input": [
      "temp_dim = Dimension('Temperature', unit=\"$^o$C\")\n",
      "humidity = Dimension('Humidity', unit='%')\n",
      "pressure = Dimension('Pressure', unit='hpa')\n",
      "wind = Dimension('Wind Speed', unit='km/h')"
     ],
     "language": "python",
     "metadata": {},
     "outputs": []
    },
    {
     "cell_type": "markdown",
     "metadata": {},
     "source": [
      "Now we can load the data into a HoloMap of ItemTables. ItemTables simply associate a value with each of the value dimensions we defined above. We will collect data for a few cities on the East Coast at all the timestamps associated with the satellite wind imagery."
     ]
    },
    {
     "cell_type": "code",
     "collapsed": false,
     "input": [
      "value_dimensions = [temp_dim, humidity, pressure, wind]\n",
      "cities = ['New York', 'Washington DC', 'Santiago de Cuba']\n",
      "main_cols = ['temp', 'humidity', 'pressure']\n",
      "tables = HoloMap(key_dimensions=['City', date_dim])\n",
      "for city in cities:\n",
      "    for ts, date in zip(timestamps, dates):\n",
      "        weather_url=\"http://api.openweathermap.org/data/2.5/history/city?q={city}&type=hour&start={start}&cnt=1\"\n",
      "        city_data = json.load(urllib2.urlopen(weather_url.format(city=city.replace(' ','_'), start=ts)))\n",
      "        for data in city_data.get('list', []):\n",
      "            main_data = [data['main'].get(c, 0)-(271.15 if 'temp' in c else 0) for c in main_cols]\n",
      "            wind_data = (data['wind'].get('speed', np.NaN) * 3.6,)\n",
      "            tables[city, date] = ItemTable(zip(value_dimensions, tuple(main_data)+wind_data))"
     ],
     "language": "python",
     "metadata": {},
     "outputs": []
    },
    {
     "cell_type": "markdown",
     "metadata": {},
     "source": [
      "Since the two datasets share the same timestamps we can now combine them into a Layout."
     ]
    },
    {
     "cell_type": "code",
     "collapsed": false,
     "input": [
      "heterogenous = (surface_reindexed + tables).select(Date=(None,None,2))\n",
      "heterogenous"
     ],
     "language": "python",
     "metadata": {},
     "outputs": []
    },
    {
     "cell_type": "markdown",
     "metadata": {},
     "source": [
      "The Date dimension in the satellite data and the City and Date dimensions on the weather data combined seamlessly to give us this multi-dimensional selection widget. Since the satellite data is independent of the City it stays fixed when selecting a different city, while the Date, which is present on both, controls both components of the plot. You can play with the sliders a little bit and explore the data; once you've selected a slider you can also press ``R`` and ``P`` to play an animation back and forth respectively."
     ]
    },
    {
     "cell_type": "markdown",
     "metadata": {},
     "source": [
      "Now let's put together some of what we've learned. By making use of the slicing we can zoom in for each city on the satellite imagery and place the ItemTable containing the weather data next to it. Then we'll arrange the layout in three columns by calling the ``.cols`` method:"
     ]
    },
    {
     "cell_type": "code",
     "collapsed": false,
     "input": [
      "%%view size=120\n",
      "(surface_reindexed[:, 170:270, 200:300] +\\\n",
      "nearsurface_reindexed[:, 170:270, 200:300] +\\\n",
      "tables.select(City='New York').reindex(['Date']).relabel(label='New York') +\\\n",
      "surface_reindexed[:, 150:250, 150:250] +\\\n",
      "nearsurface_reindexed[:, 150:250, 150:250] +\\\n",
      "tables.select(City='Washington DC').reindex(['Date']).relabel(label='Washington DC') +\\\n",
      "surface_reindexed[:, 140:240, 50:150] +\\\n",
      "nearsurface_reindexed[:, 140:240, 50:150] +\\\n",
      "tables.select(City='Santiago de Cuba').reindex(['Date']).relabel(label='Santiago de Cuba')).cols(3)"
     ],
     "language": "python",
     "metadata": {},
     "outputs": []
    },
    {
     "cell_type": "markdown",
     "metadata": {},
     "source": [
      "Now that you see how to assemble your data into an organization that lets you explore and analyze it, you can study the various [Container](Containers.html) types that make this possible, especially the section on nested containers.  And then just try it out!"
     ]
    }
   ],
   "metadata": {}
  }
 ]
}