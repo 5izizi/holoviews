{
 "metadata": {
  "name": "",
  "signature": "sha256:9c1096a9ff5fd8c26335dc795205ac3363a532b81e5afdf840c07f588afc0015"
 },
 "nbformat": 3,
 "nbformat_minor": 0,
 "worksheets": [
  {
   "cells": [
    {
     "cell_type": "heading",
     "level": 1,
     "metadata": {},
     "source": [
      "Pandas and Seaborn"
     ]
    },
    {
     "cell_type": "markdown",
     "metadata": {},
     "source": [
      "The other tutorials cover the core functionality offered by HoloViews.\n",
      "\n",
      "HoloViews also offers a seamless (but optional) connection to [Pandas](http://pandas.pydata.org), so that you can use HoloViews to visualize any data you have in Pandas.\n",
      "\n",
      "HoloViews also offers additional (optional) ``Element`` types based on the 
[Seaborn](http://stanford.edu/~mwaskom/software/seaborn/) library for statistical graphics.\n",
      "\n",
      "*This tutorial is coming soon! (February 2015)*"
     ]
    }
   ],
   "metadata": {}
  }
 ]
}