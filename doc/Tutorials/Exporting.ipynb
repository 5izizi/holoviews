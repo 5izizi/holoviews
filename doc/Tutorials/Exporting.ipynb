{
 "metadata": {
  "name": "",
  "signature": "sha256:093d153e479d9a175d07a0db00cfe64d1d0e03f249ec3cf25338900a8bb72d63"
 },
 "nbformat": 3,
 "nbformat_minor": 0,
 "worksheets": [
  {
   "cells": [
    {
     "cell_type": "heading",
     "level": 1,
     "metadata": {},
     "source": [
      "Exporting from HoloViews"
     ]
    },
    {
     "cell_type": "markdown",
     "metadata": {},
     "source": [
      "Most of the other tutorials show you how to use HoloViews for interactive exploratory visualization of your data.  When used with IPython Notebook, HoloViews also helps you establish a fully reproducible scientific or engineering workflow for generating reports or publications.  That is, HoloViews can create and export figures that feed directly into your papers or web pages, along with records of how those figures were generated, providing a clear chain of provenance for your results.  This tutorial will describe how to export your results in a way that preserves the information about how those results were generated."
     ]
    },
    {
     "cell_type": "code",
     "collapsed": false,
     "input": [
      "import holoviews\n",
      "import numpy as np\n",
      "from holoviews import RGB, Arrow\n",
      "from holoviews.operation import contours\n",
      "%load_ext holoviews.ipython"
     ],
     "language": "python",
     "metadata": {},
     "outputs": []
    },
    {
     "cell_type": "heading",
     "level": 2,
     "metadata": {},
     "source": [
      "Exporting specific files"
     ]
    },
    {
     "cell_type": "markdown",
     "metadata": {},
     "source": [
      "During interactive exploration in the IPython Notebook, your results are always visible within the notebook itself, but you can explicitly request that any IPython cell is exported to an external file on disk:"
     ]
    },
    {
     "cell_type": "code",
     "collapsed": false,
     "input": [
      "%%output filename=\"macaw_plot\" fig=\"png\" holomap=\"gif\"\n",
      "parrot = RGB.load_image('../assets/macaw.png')\n",
      "parrot"
     ],
     "language": "python",
     "metadata": {},
     "outputs": []
    },
    {
     "cell_type": "markdown",
     "metadata": {},
     "source": [
      "You can now load the exported plot back into HoloViews, if you like:"
     ]
    },
    {
     "cell_type": "code",
     "collapsed": false,
     "input": [
      "RGB.load_image('macaw_plot.png')"
     ],
     "language": "python",
     "metadata": {},
     "outputs": []
    },
    {
     "cell_type": "markdown",
     "metadata": {},
     "source": [
      "The ``fig=\"png\"`` part of ``%%output`` magic above specified that the file should be saved in PNG format, which is useful for posting on web pages or editing in raster-based graphics programs.  It also specified that if the image contained a ``HoloMap`` (which this particular one does not), it would be saved in GIF format.  Objects containing a ``HoloMap`` are handled specially, because these are usually visualized as animations, which are not supported by PNG or many of the other image formats.\n",
      "\n",
      "For a publication, you will usually want to select SVG format, using ``fig=\"svg\"``, because this vector format preserves the full resolution of all text and drawing elements.  SVG files can be be used in some document preparation programs directly (e.g. [LibreOffice](http://www.libreoffice.org/)), and can easily be converted using e.g. [Inkscape](https://inkscape.org) to PDF for use with PDFLaTeX or to EMF for use with Microsoft Word.  They can also be edited using Inkscape or other vector drawing programs to move graphical elements around, add arbitrary text, etc., if you need to make final tweaks before using the figures in a document.  You can also embed them within other SVG figures in such a drawing program, e.g. by creating a larger figure as a template that automatically incorporates multiple SVG files you have exported separately."
     ]
    },
    {
     "cell_type": "heading",
     "level": 2,
     "metadata": {},
     "source": [
      "Exporting notebooks"
     ]
    },
    {
     "cell_type": "markdown",
     "metadata": {},
     "source": [
      "The ``%%output`` magic is useful when you want specific plots saved into specific files.  Often, however, a notebook will contain an entire suite of results contained in multiple different cells, and manually specifying these cells and their filenames is errorprone, with a high likelihood of accidentally creating multiple files with the same name or using different names in different notebooks for the same objects.\n",
      "\n",
      "To make the exporting process easier for large numbers of outputs, as well as more predictable, HoloViews also offers a powerful automatic notebook exporting facility.  Automatic export is very useful in the common case of having a notebook that contains a series of figures to be used in a report or publication, particularly if you are repeatedly re-running the notebook as you finalize your results, and want the full set of current outputs to be available to an external document preparation system.\n",
      "\n",
      "To enable automatic exporting, run ``holoviews.archive.auto()``, whose behavior can be customized extensively (try pressing shift-[tab] twice within the parentheses)."
     ]
    },
    {
     "cell_type": "code",
     "collapsed": false,
     "input": [
      "holoviews.archive.auto()"
     ],
     "language": "python",
     "metadata": {},
     "outputs": []
    },
    {
     "cell_type": "markdown",
     "metadata": {},
     "source": [
      "By default, the output will go into a directory with the same name as your notebook, and the names for each object will be generated from the groups and labels used by HoloViews.  Objects that contain HoloMaps are not exported by default, since those are usually rendered as animations that are not suitable for inclusion in publications, but you can add an argument ``holomap='gif'`` if you want those as well.  To see how the auto-exporting works, let's define a few HoloViews objects:"
     ]
    },
    {
     "cell_type": "code",
     "collapsed": false,
     "input": [
      "parrot[:,:,'R'].relabel(\"Red\") + parrot[:,:,'G'].relabel(\"Green\") + parrot[:,:,'B'].relabel(\"Blue\")"
     ],
     "language": "python",
     "metadata": {},
     "outputs": []
    },
    {
     "cell_type": "code",
     "collapsed": false,
     "input": [
      "parrot * Arrow(-0.1,0.2, 'Polly', '>')"
     ],
     "language": "python",
     "metadata": {},
     "outputs": []
    },
    {
     "cell_type": "code",
     "collapsed": false,
     "input": [
      "%%opts Contours (linewidth=1.3) Image (cmap=\"gray\")\n",
      "cs = contours(parrot[:,:,'R'], levels=[0.10,0.80])\n",
      "cs"
     ],
     "language": "python",
     "metadata": {},
     "outputs": []
    },
    {
     "cell_type": "markdown",
     "metadata": {},
     "source": [
      "We can now list what has been captured, along with the names that have been generated:"
     ]
    },
    {
     "cell_type": "code",
     "collapsed": false,
     "input": [
      "holoviews.archive.contents()"
     ],
     "language": "python",
     "metadata": {},
     "outputs": []
    },
    {
     "cell_type": "markdown",
     "metadata": {},
     "source": [
      "The name generation code is heavily customizable, but by default it consists of a list of dimension values and objects:\n",
      "\n",
      "  ``{dimension},{dimension},...{group}-{label},{group}-{label},...``.  \n",
      "\n",
      "The ``{dimension}`` shows what dimension values are included anywhere in this object, if it contains any high-level dimensioned objects like HoloMap, NdOverlay, and GridLayout.  In the last item in the contents list above, which is for the ``contours`` object, there is one dimension ``Levels``, and the name shows that dimension values included in this object range from 0.1 to 0.8 (as is visible in the contours specification above.)  Of course, nearly all HoloViews objects have dimensions, such as ``x`` and ``y`` in this case, but those dimensions are not used in the filenames because they are explicitly shown in the plots; only the top-level dimensions do (those that determine which plot this is, not those that are shown in the plot itself.)\n",
      "\n",
      "The ``{group}-{label}`` information lists the names HoloViews uses for default titles and for attribute access for the various objects that make up a given displayed object.  E.g. the first item in the list is a ``Layout`` of the three given ``Image`` objects, and the second one is an ``Overlay`` of an ``RGB`` object and an ``Arrow`` object.  This information usually helps distinguish one plot from another, because they will typically be plots of objects that have different labels.  \n",
      "\n",
      "If the generated names are not unique, a numerical suffix will be added to make them unique.  A maximum filename length is enforced, which can be set with ``holoviews.archive.max_filename=``_num_.\n",
      "\n",
      "If you prefer a fixed-width filename, you can use a hash for each name instead (or in addition), where ``:.8`` specifies how many characters to keep from the hash:"
     ]
    },
    {
     "cell_type": "code",
     "collapsed": false,
     "input": [
      "holoviews.archive.filename_formatter=\"{SHA:.8}\"\n",
      "cs"
     ],
     "language": "python",
     "metadata": {},
     "outputs": []
    },
    {
     "cell_type": "code",
     "collapsed": false,
     "input": [
      "holoviews.archive.contents()"
     ],
     "language": "python",
     "metadata": {},
     "outputs": []
    },
    {
     "cell_type": "markdown",
     "metadata": {},
     "source": [
      "You can see that the newest file added has the shorter, fixed-width format, though it is no longer meaningful.  If the ``filename_formatter`` had been set from the start, all filenames would have been of this type (which has both practical advantages and disadvantages)."
     ]
    },
    {
     "cell_type": "heading",
     "level": 3,
     "metadata": {},
     "source": [
      "Generated indexes"
     ]
    },
    {
     "cell_type": "markdown",
     "metadata": {},
     "source": [
      "In addition to the files that were added to the archive for each of the cell outputs above, the archive exporter also adds an ``index.html`` file with a static copy of the notebook, with each cell labelled with the filename used to save it.  This HTML file acts as a definitive index to your results, showing how they were generated and where they were exported on disk.  The exporter will also add a cleared, runnable copy of the notebook ``index.ipynb`` (with output deleted), so that you can later regenerate all of the output, with changes if necessary.  \n",
      "\n",
      "The exported archive will thus be a complete set of your results, along with a record of how they were generated, plus a recipe for regenerating them  -- i.e., reproducible research!"
     ]
    },
    {
     "cell_type": "heading",
     "level": 3,
     "metadata": {},
     "source": [
      "Adding your own data to the archive"
     ]
    },
    {
     "cell_type": "markdown",
     "metadata": {},
     "source": [
      "Of course, your results may depend on a lot of external packages, libraries, code files, and so on, which will not automatically be included or listed in the exported archive.\n",
      "\n",
      "But the archive support is very general, and you can add any object to it that you want to be exported along with your output.  For instance, you can store arbitrary metadata of your choosing, such as version control information, here as a JSON-format text file: "
     ]
    },
    {
     "cell_type": "code",
     "collapsed": false,
     "input": [
      "import json\n",
      "holoviews.archive.add(filename='metadata.json', \n",
      "    data=json.dumps({'repository':'git@github.com:ioam/holoviews.git',\n",
      "                     'commit':'437e8d69'}), info={'mime_type':'text/json'})"
     ],
     "language": "python",
     "metadata": {},
     "outputs": []
    },
    {
     "cell_type": "markdown",
     "metadata": {},
     "source": [
      "The new file can now be seen in the contents listing:"
     ]
    },
    {
     "cell_type": "code",
     "collapsed": false,
     "input": [
      "holoviews.archive.contents()"
     ],
     "language": "python",
     "metadata": {},
     "outputs": []
    },
    {
     "cell_type": "markdown",
     "metadata": {},
     "source": [
      "In this way, you should be able to automatically generate output files, with customizable filenames, storing any data or metadata you like along with them so that you can keep track of all the important information for reproducing these results later."
     ]
    },
    {
     "cell_type": "heading",
     "level": 3,
     "metadata": {},
     "source": [
      "Controlling the behavior of ``holoviews.archive``"
     ]
    },
    {
     "cell_type": "markdown",
     "metadata": {},
     "source": [
      "The ``holoviews.archive`` object provides numerous parameters that can be changed.  You can e.g.:\n",
      "\n",
      "- output the whole directory to a single compressed ZIP or tar archive file (e.g. ``archive.set_param(pack=False, archive_format='zip')`` or ``archive_format='tar'``)\n",
      "\n",
      "- generate a new directory or archive every time the notebook is run (``archive.uniq_name=True``), \n",
      "\n",
      "- choose your own name for the output directory or archive (e.g. ``archive.export_name=\"{timestamp}\"``)\n",
      "\n",
      "- change the format of the optional timestamp (e.g. to retain snapshots hourly, ``archive.set_param(export_name=\"{timestamp}\", timestamp_format=\"%Y_%m_%d-%H\")``)\n",
      "\n",
      "These options and any others listed above can all be set in the ``holoviews.archive.auto()`` call at the start, for convenience and to ensure that they apply to all of the files you add."
     ]
    },
    {
     "cell_type": "heading",
     "level": 3,
     "metadata": {},
     "source": [
      "Writing your files to disk"
     ]
    },
    {
     "cell_type": "markdown",
     "metadata": {},
     "source": [
      "To actually write the files you have stored in the archive to disk, you need to call ``export()`` as the last or nearly last cell in your notebook, after any cell that might contain computation-intensive code:"
     ]
    },
    {
     "cell_type": "code",
     "collapsed": false,
     "input": [
      "holoviews.archive.export()"
     ],
     "language": "python",
     "metadata": {},
     "outputs": []
    },
    {
     "cell_type": "markdown",
     "metadata": {},
     "source": [
      "Shortly after the ``export()`` command has been executed, the output should be available as a directory on disk, by default in the same directory as the notebook file, named with the name of the notebook:  "
     ]
    },
    {
     "cell_type": "code",
     "collapsed": false,
     "input": [
      "import os\n",
      "print(os.getcwd())\n",
      "os.listdir(\"Exporting\")"
     ],
     "language": "python",
     "metadata": {},
     "outputs": []
    },
    {
     "cell_type": "markdown",
     "metadata": {},
     "source": [
      "For technical reasons to do with how the IPython Notebook interacts with JavaScript, if you use the IPython command ``Run all``, the holoviews.archive.export() command is not actually executed when the cell with that call is encountered during the run.  Instead, the ``export()`` is queued until after the final cell in the notebook has been executed.  This asynchronous execution has several awkward but not serious consequences:\n",
      "\n",
      "- It is not possible for the ``export()`` cell to show whether any errors were encountered during exporting, because these will not occur until after the notebook has completed processing.  To see any errors, you can run  ``holoviews.archive.last_export_status()`` separately, *after* the ``Run all`` has completed.  E.g. just press shift-[Enter] in the following cell, which will tell you whether the previous export was successful.\n",
      "\n",
      "- If you use ``Run all``, the directory listing ``os.listdir()`` above will show the results from the *previous* time this notebook was run, since it executes before the export.  Again, you can use shift-[Enter] to update the data once complete.\n",
      "\n",
      "- The ``Export name:`` in the output of ``holoviews.archive.export()`` will not always show the actual name of the directory or archive that will be created.  In particular, it may say ``{notebook}``, which when saving will actually expand to the name of your IPython Notebook."
     ]
    },
    {
     "cell_type": "code",
     "collapsed": false,
     "input": [
      "holoviews.archive.last_export_status()"
     ],
     "language": "python",
     "metadata": {},
     "outputs": []
    },
    {
     "cell_type": "heading",
     "level": 2,
     "metadata": {},
     "source": [
      "Reproducible research"
     ]
    },
    {
     "cell_type": "markdown",
     "metadata": {},
     "source": [
      "Once you have gotten used to these small caveats, these tools should help you establish a feasible workflow for doing reproducible research: starting from interactive exploration, either export specific files with ``%%output``, or enable ``holoviews.archive.auto()``, which will store a copy of your notebook and its output ready for inclusion in a document but retaining the complete recipe for reproducing the results later.  \n",
      "\n",
      "HoloViews also works very well with the [Lancet](http://ioam.github.io/lancet) tool for exploring large parameter spaces, and Lancet provides an interface to Holoviews that makes Lancet output directly available for use in HoloViews.  Lancet, when used with IPython Notebook and HoloViews, makes it feasible to work with large numbers of computation-intensive processes that generate heterogenous data that needs to be collated, analyzed, and visualized. For more background and a suggested workflow, see our [2013 paper on using Lancet](http://dx.doi.org/10.3389/fninf.2013.00044) with IPython Notebook, though that paper was written before the release of HoloViews and thus does not discuss how HoloViews helps in this process."
     ]
    }
   ],
   "metadata": {}
  }
 ]
}