{
 "cells": [
  {
   "cell_type": "markdown",
   "metadata": {},
   "source": [
    "Most of the other tutorials show you how to use HoloViews for interactive exploratory visualization of your data.  When used with IPython Notebook, HoloViews also helps you establish a fully reproducible scientific or engineering workflow for generating reports or publications.  That is, HoloViews can create and export figures that feed directly into your papers or web pages, along with records of how those figures were generated and even the actual data, providing a clear chain of provenance for your results.  This tutorial will describe how to export your results in a way that preserves the information about how those results were generated."
   ]
  },
  {
   "cell_type": "code",
   "execution_count": 1,
   "metadata": {
    "collapsed": false
   },
   "outputs": [
    {
     "data": {
      "text/html": [
       "<script type=\"text/javascript\">\n",
       "function HoloViewsWidget(){\n",
       "        }\n",
       "        \n",
       "        HoloViewsWidget.prototype.init_slider = function(init_val){\n",
       "            if(this.cached) {\n",
       "        \tthis.update_cache();\n",
       "        \tthis.update(0);\n",
       "            } else {\n",
       "        \tthis.dynamic_update(0);\n",
       "            }\n",
       "        }\n",
       "        \n",
       "        HoloViewsWidget.prototype.populate_cache = function(idx){\n",
       "            if(this.load_json) {\n",
       "        \tvar data_url = this.server + this.fig_id + \"/\" + idx;\n",
       "        \tthis.cache[idx].load(data_url);\n",
       "            } else {\n",
       "        \tthis.cache[idx].html(this.frames[idx]);\n",
       "        \tif (this.embed) {\n",
       "        \t    delete this.frames[idx];\n",
       "        \t}\n",
       "            }\n",
       "        }\n",
       "        \n",
       "        HoloViewsWidget.prototype.dynamic_update = function(current){\n",
       "            function callback(msg){\n",
       "        \t/* This callback receives data from Python as a string\n",
       "        \t   in order to parse it correctly quotes are sliced off*/\n",
       "        \tvar data = msg.content.data['text/plain'].slice(1, -1);\n",
       "        \tthis.frames[current] = data;\n",
       "        \tthis.update_cache();\n",
       "        \tthis.update(current);\n",
       "            }\n",
       "            if(!(current in this.cache)) {\n",
       "        \tvar kernel = IPython.notebook.kernel;\n",
       "        \tcallbacks = {iopub: {output: $.proxy(callback, this)}};\n",
       "        \tvar cmd = \"holoviews.plotting.widgets.NdWidget.widgets['\" + this.id + \"'].update(\" + current + \")\";\n",
       "        \tkernel.execute(\"import holoviews;\" + cmd, callbacks, {silent : false});\n",
       "            } else {\n",
       "        \tthis.update(current);\n",
       "            }\n",
       "        }\n",
       "        \n",
       "        HoloViewsWidget.prototype.update_cache = function(){\n",
       "            if(this.load_json) {\n",
       "        \tvar frame_len = Object.keys(this.keyMap).length;\n",
       "            } else {\n",
       "        \tvar frame_len = Object.keys(this.frames).length;\n",
       "            }\n",
       "            for (var i=0; i<frame_len; i++) {\n",
       "        \tif(!this.load_json) {\n",
       "        \t    i = Object.keys(this.frames)[i];\n",
       "        \t}\n",
       "        \tif(!(i in this.cache)) {\n",
       "        \t    this.cache[i] = $('<div />').appendTo(\"#\" + this.img_id).hide();\n",
       "        \t    var cache_id = this.img_id+\"_\"+i;\n",
       "        \t    this.cache[i].attr(\"id\", cache_id);\n",
       "        \t    this.populate_cache(i);\n",
       "        \t}\n",
       "            }\n",
       "        }\n",
       "        \n",
       "        HoloViewsWidget.prototype.update = function(current){\n",
       "            if(current in this.cache) {\n",
       "        \t$.each(this.cache, function(index, value) {\n",
       "        \t    value.hide();\n",
       "        \t});\n",
       "        \tthis.cache[current].show();\n",
       "            }\n",
       "        }\n",
       "        \n",
       "        \n",
       "        function SelectionWidget(frames, id, slider_ids, keyMap, dim_vals, notFound, load_json, mode, cached, server){\n",
       "            this.frames = frames;\n",
       "            this.fig_id = \"fig_\" + id;\n",
       "            this.img_id = \"_anim_img\" + id;\n",
       "            this.id = id;\n",
       "            this.server = server;\n",
       "            this.slider_ids = slider_ids;\n",
       "            this.keyMap = keyMap\n",
       "            this.current_frame = 0;\n",
       "            this.current_vals = dim_vals;\n",
       "            this.load_json = load_json;\n",
       "            this.mode = mode;\n",
       "            this.notFound = notFound;\n",
       "            this.cached = cached;\n",
       "            this.cache = {};\n",
       "            this.init_slider(this.current_vals[0]);\n",
       "        }\n",
       "        \n",
       "        SelectionWidget.prototype = new HoloViewsWidget;\n",
       "        \n",
       "        SelectionWidget.prototype.set_frame = function(dim_val, dim_idx){\n",
       "            this.current_vals[dim_idx] = dim_val;\n",
       "            var key = \"(\";\n",
       "            for (var i=0; i<this.slider_ids.length; i++)\n",
       "            {\n",
       "                val = this.current_vals[i];\n",
       "                if (!(isNaN(val))) {\n",
       "                    if (val % 1 === 0) { var fixed = 1;}\n",
       "                    else { var fixed = 10;}\n",
       "                    val = val.toFixed(fixed)\n",
       "                }\n",
       "                key += \"'\" + val + \"'\";\n",
       "                if(i != this.slider_ids.length-1) { key += ', ';}\n",
       "                else if(this.slider_ids.length == 1) { key += ',';}\n",
       "            }\n",
       "            key += \")\";\n",
       "            var current = this.keyMap[key];\n",
       "            this.current_frame = current;\n",
       "            if(this.cached) {\n",
       "        \tthis.update(current)\n",
       "            } else {\n",
       "                this.dynamic_update(current)\n",
       "            }\n",
       "        }\n",
       "        \n",
       "        \n",
       "        /* Define the ScrubberWidget class */\n",
       "        function ScrubberWidget(frames, num_frames, id, interval, load_json, mode, cached){\n",
       "            this.img_id = \"_anim_img\" + id;\n",
       "            this.slider_id = \"_anim_slider\" + id;\n",
       "            this.loop_select_id = \"_anim_loop_select\" + id;\n",
       "            this.id = id;\n",
       "            this.fig_id = \"fig_\" + id;\n",
       "            this.interval = interval;\n",
       "            this.current_frame = 0;\n",
       "            this.direction = 0;\n",
       "            this.timer = null;\n",
       "            this.load_json = load_json;\n",
       "            this.mode = mode;\n",
       "            this.cached = cached;\n",
       "            this.frames = frames;\n",
       "            this.cache = {};\n",
       "            this.length = num_frames;\n",
       "            document.getElementById(this.slider_id).max = this.length - 1;\n",
       "            this.init_slider(0);\n",
       "        }\n",
       "        \n",
       "        ScrubberWidget.prototype = new HoloViewsWidget;\n",
       "        \n",
       "        ScrubberWidget.prototype.set_frame = function(frame){\n",
       "            this.current_frame = frame;\n",
       "            document.getElementById(this.slider_id).value = this.current_frame;\n",
       "            if(this.cached) {\n",
       "        \tthis.update(frame)\n",
       "            } else {\n",
       "                this.dynamic_update(frame)\n",
       "            }\n",
       "        }\n",
       "        \n",
       "        ScrubberWidget.prototype.get_loop_state = function(){\n",
       "            var button_group = document[this.loop_select_id].state;\n",
       "            for (var i = 0; i < button_group.length; i++) {\n",
       "                var button = button_group[i];\n",
       "                if (button.checked) {\n",
       "                    return button.value;\n",
       "                }\n",
       "            }\n",
       "            return undefined;\n",
       "        }\n",
       "        \n",
       "        ScrubberWidget.prototype.update = function(current){\n",
       "            if(current in this.cache) {\n",
       "        \t$.each(this.cache, function(index, value) {\n",
       "        \t    value.hide();\n",
       "        \t});\n",
       "        \tthis.cache[current].show();\n",
       "            }\n",
       "        }\n",
       "        \n",
       "        ScrubberWidget.prototype.next_frame = function() {\n",
       "            this.set_frame(Math.min(this.length - 1, this.current_frame + 1));\n",
       "        }\n",
       "        \n",
       "        ScrubberWidget.prototype.previous_frame = function() {\n",
       "            this.set_frame(Math.max(0, this.current_frame - 1));\n",
       "        }\n",
       "        \n",
       "        ScrubberWidget.prototype.first_frame = function() {\n",
       "            this.set_frame(0);\n",
       "        }\n",
       "        \n",
       "        ScrubberWidget.prototype.last_frame = function() {\n",
       "            this.set_frame(this.length - 1);\n",
       "        }\n",
       "        \n",
       "        ScrubberWidget.prototype.slower = function() {\n",
       "            this.interval /= 0.7;\n",
       "            if(this.direction > 0){this.play_animation();}\n",
       "            else if(this.direction < 0){this.reverse_animation();}\n",
       "        }\n",
       "        \n",
       "        ScrubberWidget.prototype.faster = function() {\n",
       "            this.interval *= 0.7;\n",
       "            if(this.direction > 0){this.play_animation();}\n",
       "            else if(this.direction < 0){this.reverse_animation();}\n",
       "        }\n",
       "        \n",
       "        ScrubberWidget.prototype.anim_step_forward = function() {\n",
       "            this.current_frame += 1;\n",
       "            if(this.current_frame < this.length){\n",
       "                this.set_frame(this.current_frame);\n",
       "            }else{\n",
       "                var loop_state = this.get_loop_state();\n",
       "                if(loop_state == \"loop\"){\n",
       "                    this.first_frame();\n",
       "                }else if(loop_state == \"reflect\"){\n",
       "                    this.last_frame();\n",
       "                    this.reverse_animation();\n",
       "                }else{\n",
       "                    this.pause_animation();\n",
       "                    this.last_frame();\n",
       "                }\n",
       "            }\n",
       "        }\n",
       "        \n",
       "        ScrubberWidget.prototype.anim_step_reverse = function() {\n",
       "            this.current_frame -= 1;\n",
       "            if(this.current_frame >= 0){\n",
       "                this.set_frame(this.current_frame);\n",
       "            } else {\n",
       "                var loop_state = this.get_loop_state();\n",
       "                if(loop_state == \"loop\"){\n",
       "                    this.last_frame();\n",
       "                }else if(loop_state == \"reflect\"){\n",
       "                    this.first_frame();\n",
       "                    this.play_animation();\n",
       "                }else{\n",
       "                    this.pause_animation();\n",
       "                    this.first_frame();\n",
       "                }\n",
       "            }\n",
       "        }\n",
       "        \n",
       "        ScrubberWidget.prototype.pause_animation = function() {\n",
       "            this.direction = 0;\n",
       "            if (this.timer){\n",
       "                clearInterval(this.timer);\n",
       "                this.timer = null;\n",
       "            }\n",
       "        }\n",
       "        \n",
       "        ScrubberWidget.prototype.play_animation = function() {\n",
       "            this.pause_animation();\n",
       "            this.direction = 1;\n",
       "            var t = this;\n",
       "            if (!this.timer) this.timer = setInterval(function(){t.anim_step_forward();}, this.interval);\n",
       "        }\n",
       "        \n",
       "        ScrubberWidget.prototype.reverse_animation = function() {\n",
       "            this.pause_animation();\n",
       "            this.direction = -1;\n",
       "            var t = this;\n",
       "            if (!this.timer) this.timer = setInterval(function(){t.anim_step_reverse();}, this.interval);\n",
       "        }\n",
       "        \n",
       "        function extend(destination, source) {\n",
       "          for (var k in source) {\n",
       "            if (source.hasOwnProperty(k)) {\n",
       "              destination[k] = source[k];\n",
       "            }\n",
       "          }\n",
       "          return destination;\n",
       "        }\n",
       "        \n",
       "        // Define Bokeh specific subclasses\n",
       "        function BokehSelectionWidget() {\n",
       "            SelectionWidget.apply(this, arguments);\n",
       "        }\n",
       "        \n",
       "        function BokehScrubberWidget() {\n",
       "            ScrubberWidget.apply(this, arguments);\n",
       "        }\n",
       "        \n",
       "        // Let them inherit from the baseclasses\n",
       "        BokehSelectionWidget.prototype = Object.create(SelectionWidget.prototype);\n",
       "        BokehScrubberWidget.prototype = Object.create(ScrubberWidget.prototype);\n",
       "        \n",
       "        // Define methods to override on widgets\n",
       "        var BokehMethods = {\n",
       "            init_slider : function(init_val){\n",
       "        \t$.each(this.frames, $.proxy(function(index, frame) {\n",
       "        \t    this.frames[index] = JSON.parse(frame);\n",
       "        \t}, this));\n",
       "            },\n",
       "            update : function(current){\n",
       "        \tvar data = this.frames[current];\n",
       "        \n",
       "        \t$.each(data, function(id, value) {\n",
       "            \t    var ds = Bokeh.Collections(value.type).get(id);\n",
       "            \t    if (ds != undefined) {\n",
       "            \t\tds.set(value.data);\n",
       "            \t    }\n",
       "        \t});\n",
       "            },\n",
       "            dynamic_update : function(current){\n",
       "        \tfunction callback(initialized, msg){\n",
       "        \t    /* This callback receives data from Python as a string\n",
       "        \t       in order to parse it correctly quotes are sliced off*/\n",
       "        \t    if (msg.msg_type == \"execute_result\") {\n",
       "        \t\tvar data = msg.content.data['text/plain'].slice(1, -1);\n",
       "        \t\tthis.frames[current] = JSON.parse(data);\n",
       "        \t\tthis.update(current);\n",
       "        \t    }\n",
       "        \t}\n",
       "        \tif(!(current in this.frames)) {\n",
       "        \t    var kernel = IPython.notebook.kernel;\n",
       "        \t    callbacks = {iopub: {output: $.proxy(callback, this, this.initialized)}};\n",
       "        \t    var cmd = \"holoviews.plotting.widgets.NdWidget.widgets['\" + this.id + \"'].update(\" + current + \")\";\n",
       "        \t    kernel.execute(\"import holoviews;\" + cmd, callbacks, {silent : false});\n",
       "        \t} else {\n",
       "        \t    this.update(current);\n",
       "        \t}\n",
       "            }\n",
       "        }\n",
       "        \n",
       "        // Extend Bokeh widgets with backend specific methods\n",
       "        extend(BokehSelectionWidget.prototype, BokehMethods);\n",
       "        extend(BokehScrubberWidget.prototype, BokehMethods);\n",
       "        \n",
       "        // Define MPL specific subclasses\n",
       "        function MPLSelectionWidget() {\n",
       "            SelectionWidget.apply(this, arguments);\n",
       "        }\n",
       "        \n",
       "        function MPLScrubberWidget() {\n",
       "            ScrubberWidget.apply(this, arguments);\n",
       "        }\n",
       "        \n",
       "        // Let them inherit from the baseclasses\n",
       "        MPLSelectionWidget.prototype = Object.create(SelectionWidget.prototype);\n",
       "        MPLScrubberWidget.prototype = Object.create(ScrubberWidget.prototype);\n",
       "        \n",
       "        // Define methods to override on widgets\n",
       "        var MPLMethods = {\n",
       "            init_slider : function(init_val){\n",
       "        \tif(this.mode == 'nbagg') {\n",
       "        \t    this.update_cache();\n",
       "        \t    this.update(0);\n",
       "        \t    this.set_frame(init_val, 0);\n",
       "        \t} else if(this.cached) {\n",
       "        \t    this.update_cache();\n",
       "        \t    this.update(0);\n",
       "        \t} else {\n",
       "        \t    this.dynamic_update(0);\n",
       "        \t}\n",
       "            },\n",
       "            populate_cache : function(idx){\n",
       "        \tvar cache_id = this.img_id+\"_\"+idx;\n",
       "        \tif(this.load_json) {\n",
       "        \t    var data_url = \"{{ server }}/\" + this.fig_id + \"/\" + idx;\n",
       "        \t    if(this.mode == 'mpld3') {\n",
       "        \t\t$.getJSON(data_url, (function(cache_id) {\n",
       "        \t\t    return function(data) {\n",
       "        \t\t\tmpld3.draw_figure(cache_id, data);\n",
       "        \t\t    };\n",
       "        \t\t}(cache_id)));\n",
       "        \t    } else {\n",
       "        \t\tthis.cache[idx].load(data_url);\n",
       "        \t    }\n",
       "        \t} else {\n",
       "        \t    if(this.mode == 'mpld3') {\n",
       "        \t\tmpld3.draw_figure(cache_id, this.frames[idx]);\n",
       "        \t    } else {\n",
       "        \t\tthis.cache[idx].html(this.frames[idx]);\n",
       "        \t    }\n",
       "        \t}\n",
       "            },\n",
       "            dynamic_update : function(current){\n",
       "        \tfunction callback(msg){\n",
       "        \t    /* This callback receives data from Python as a string\n",
       "        \t       in order to parse it correctly quotes are sliced off*/\n",
       "        \t    if (!(this.mode == 'nbagg')) {\n",
       "        \t\tif(!(current in this.cache)) {\n",
       "        \t\t    var data = msg.content.data['text/plain'].slice(1, -1);\n",
       "        \t\t    if(this.mode == 'mpld3'){\n",
       "        \t\t\tdata = JSON.parse(data)[0];\n",
       "        \t\t    }\n",
       "        \t\t    this.frames[current] = data;\n",
       "        \t\t    this.update_cache();\n",
       "        \t\t}\n",
       "        \t\tthis.update(current);\n",
       "        \t    }\n",
       "        \t}\n",
       "        \tif((this.mode == 'nbagg') || !(current in this.cache)) {\n",
       "        \t    var kernel = IPython.notebook.kernel;\n",
       "        \t    callbacks = {iopub: {output: $.proxy(callback, this)}};\n",
       "        \t    var cmd = \"holoviews.plotting.widgets.NdWidget.widgets['\" + this.id + \"'].update(\" + current + \")\";\n",
       "        \t    kernel.execute(\"import holoviews;\" + cmd, callbacks, {silent : false});\n",
       "        \t} else {\n",
       "        \t    this.update(current);\n",
       "        \t}\n",
       "            }\n",
       "        }\n",
       "        \n",
       "        // Extend MPL widgets with backend specific methods\n",
       "        extend(MPLSelectionWidget.prototype, MPLMethods);\n",
       "        extend(MPLScrubberWidget.prototype, MPLMethods);\n",
       "</script>\n",
       "\n",
       "<style>\n",
       "div.hololayout {\n",
       "            display: flex;\n",
       "            align-items: center;\n",
       "            margin: 0;\n",
       "        }\n",
       "        \n",
       "        form.holoform {\n",
       "            background-color: #fafafa;\n",
       "            border-radius: 5px;\n",
       "            overflow: hidden;\n",
       "            padding: 0.8em;\n",
       "        }\n",
       "        \n",
       "        div.holoslider {\n",
       "            min-height: 0 !important;\n",
       "            height: 0.8em;\n",
       "        }\n",
       "        \n",
       "        div.holoformgroup {\n",
       "            padding-right: 0.5em;\n",
       "            padding-top: 0.5em;\n",
       "            margin-bottom: 0.5em;\n",
       "        }\n",
       "        \n",
       "        div.hologroup {\n",
       "            padding-left: 0;\n",
       "            padding-right: 0.6em;\n",
       "        }\n",
       "        \n",
       "        .holoselect {\n",
       "            width: 92%;\n",
       "            margin-left: 0;\n",
       "            margin-right: 0;\n",
       "        }\n",
       "        \n",
       "        .holotext {\n",
       "            width: 100%;\n",
       "            padding-left:  0.5em;\n",
       "            padding-right: 0;\n",
       "        }\n",
       "        \n",
       "        div.bk-hbox {\n",
       "            display: flex;\n",
       "            justify-content: center;\n",
       "        }\n",
       "        \n",
       "        div.bk-hbox div.bk-plot {\n",
       "            padding: 8px;\n",
       "        }\n",
       "        \n",
       "        div.bk-hbox div.bk-data-table {\n",
       "            padding: 20px;\n",
       "        }\n",
       "</style>\n",
       "\n",
       "<div>\n",
       "<img src='data:image/png;base64,iVBORw0KGgoAAAANSUhEUgAAABkAAAAZCAIAAABLixI0AAAACXBIWXMAAAsTAAALEwEAmpwYAAAAB3RJTUUH3wkCDDIOi3cusgAABT1JREFUOMtVlclvG2UYh3/fMovHe53FThySNHZomrRJl6QR0AJdpVblQBEHJC4ciipxAgmO3PgPEP8BQkIsRUJUSF1oqGih0JY2CtnjOLGz2Em8xPbMeL6Pw9RJOprLjPT+5tH7Pu83JE7pqeHh8wMD2evfyXMXf/nxB2FZo6dPNzVHvvr6GxMQeOEigARswNzzUgK6x8NagPzS0nqxODQ62nLn1xMnX99/eLC3sGVROj2/IBxHABKgANlzM4ACTuMRAOecNREiAWtzc0NIEu/M37zVMTWeqlrpUDg1M7NTVgdkowwvxqGRRV1CE8jOznq7uhYAi2CpXtdVVQE4QAAdCAAGwAAJyEa9Amh7PsAihBBAABrg1XUfpe3bxTXb8XR0WJa1VSzWGyAcUAEVoIAARIMOQH2HC4AA6lKW8/n9Pm/Ahl4zV8fGTg0PtzQ3K3tA3GId8AO+BqZLt8sFQKE0GouRSkWtFM63KV0Vy1rJhN44k56cFFI6exJ3MBWANACVHS63aw5QtutVVT/4xWfHv/0ylytmHvx56sIFLxACfIABGIAf8ANRn++9y5evXrkS0XWXd5dLJWRfOHwspA1tr4iFtP3gD8/apjCtSDiyQYhZKNA94wOQTCQPhfzm9FTJH8jn84Tz3SyPlEQ4vf0Dt5/MPE5vpVObzQbxqvaDdL731MnWnh5pmsxxdE3rTCZfO3u2FbL6+2+hzpcKwXA2ldrNUgAVII7TMXhkZnzcAQTgAWI6sgV7YmKivLra1tFxMJk4Ho/r5fLy3btsYS7JHL1YoeHQKldKhcLzLNcdlRDOWDgczuVyOtDt4yN9gRYVmc161TTLmYw9P9e8OHcU5dG2fa3EmhNyKjGwROmzZ8+YqlIAKsDd9jtOenIy1t8vgDJQtuvYrjRT0kMQBRIUQxqSXkSDUIO0YAulvdfxGk/u33eVZs2EeBvu6gCjtKW7Oz81xQBhI73mtATQn/BuZ6wTrezsYX+1Jn+aNR8sl9Zb47l4/O+HD2u27QDgnHUQwhvKuFmRaLS2tkZsmwJSQpqIUzHYyynndx5t/1Vy5gXyhMhorEJIKpViQB0QnFNlZzkbdExRhBAckIAFbFXFetkpg94er004WK6jCniamrRAYHlmxhXFtWTXVfW50SQYDjvVKm+YHVMR10G5VAGrcWAohkEVpbC1RRo7QN2mS0BzuQiJHziwMTurAwrgBTo95NVjnshb3XaF9q1MTM7VeWNv6kJQgAISYAAHuARUQAHA2NCZM35KJ27c6KA4YiBXJlpVro5bkaGN2mStsCy8gAXobpyU7iFhAgxQAB40jMHh4WhnJ6nVpsfGVjOZUQMhi40k9K1FqQZI4ogffd3k33GPobTb5kCIFmriEYjgnABao60KwD68eCnz5PH0vXsr4+OsVIpRvNmpnLvQEozRpm5vxAP107dx+RMlvGTcmw7Xle6DwZlsdbZY05qbAq2ta9msCkhAcM4+yv+3uFZWAA+gA5pEaUOUnpaMohb+/BK7+j76r4IliFoyAv9EjsZ4ZbMmyOKqmdvciiWTL4+OUsY8mkY554d7okGyciuHqgQFVIABlkJ9fV44FLFrz8ecuIZ3u6offzD1fSnFmJSgle35mzcdVQ1Eo23B4Eh7lJdWNgZGohM/r5QAjZEoaDzi0TfKPlFDV/KF35mqs0NN1v3iRrqqAT7Xbdti6UXPImKZaf5SQiUBtAIG0OVXXnmnDUJWb9nET7D8VPba7pAJTKRnxPUpI+v0BXlApZPrlgDaCTke1VqaaLZC/wesjSVVF5Ac7QAAAABJRU5ErkJggg=='\n",
       "style='width:25px;height:25px; border-radius:12px;'/>\n",
       "HoloViewsJS successfully loaded.\n",
       "</div>"
      ],
      "text/plain": [
       "<IPython.core.display.HTML object>"
      ]
     },
     "metadata": {},
     "output_type": "display_data"
    }
   ],
   "source": [
    "import numpy as np\n",
    "import holoviews as hv\n",
    "from holoviews.operation import contours\n",
    "%reload_ext holoviews.ipython"
   ]
  },
  {
   "cell_type": "markdown",
   "metadata": {},
   "source": [
    "## Exporting specific files"
   ]
  },
  {
   "cell_type": "markdown",
   "metadata": {},
   "source": [
    "During interactive exploration in the IPython Notebook, your results are always visible within the notebook itself, but you can explicitly request that any IPython cell is exported to an external file on disk:"
   ]
  },
  {
   "cell_type": "code",
   "execution_count": 2,
   "metadata": {
    "collapsed": false
   },
   "outputs": [
    {
     "data": {
      "text/html": [
       "<img src='data:image/png;base64,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' style='max-width:100%; margin: auto; display: block; '/>"
      ],
      "text/plain": [
       ":RGB   [x,y]   (R,G,B,A)"
      ]
     },
     "execution_count": 2,
     "metadata": {},
     "output_type": "execute_result"
    }
   ],
   "source": [
    "%%output filename=\"macaw_plot\" fig=\"png\" holomap=\"gif\"\n",
    "parrot = hv.RGB.load_image('../assets/macaw.png')\n",
    "parrot"
   ]
  },
  {
   "cell_type": "markdown",
   "metadata": {},
   "source": [
    "You can now load the exported plot back into HoloViews, if you like, though the result would be a bit confusing:"
   ]
  },
  {
   "cell_type": "code",
   "execution_count": null,
   "metadata": {
    "collapsed": false
   },
   "outputs": [],
   "source": [
    "hv.RGB.load_image('macaw_plot.png')"
   ]
  },
  {
   "cell_type": "markdown",
   "metadata": {},
   "source": [
    "The ``fig=\"png\"`` part of the ``%%output`` magic above specified that the file should be saved in PNG format, which is useful for posting on web pages or editing in raster-based graphics programs.  It also specified that if the object contained a ``HoloMap`` (which this particular one does not), it would be saved in GIF format.  Objects containing a ``HoloMap`` are handled specially, because these are usually visualized as animations, which are not supported by the common PNG or SVG formats.\n",
    "\n",
    "For a publication, you will usually want to select SVG format, using ``fig=\"svg\"``, because this vector format preserves the full resolution of all text and drawing elements.  SVG files can be be used in some document preparation programs directly (e.g. [LibreOffice](http://www.libreoffice.org/)), and can easily be converted using e.g. [Inkscape](https://inkscape.org) to PDF for use with PDFLaTeX or to EMF for use with Microsoft Word.  They can also be edited using Inkscape or other vector drawing programs to move graphical elements around, add arbitrary text, etc., if you need to make final tweaks before using the figures in a document.  You can also embed them within other SVG figures in such a drawing program, e.g. by creating a larger figure as a template that automatically incorporates multiple SVG files you have exported separately."
   ]
  },
  {
   "cell_type": "markdown",
   "metadata": {},
   "source": [
    "## Exporting notebooks"
   ]
  },
  {
   "cell_type": "markdown",
   "metadata": {},
   "source": [
    "The ``%%output`` magic is useful when you want specific plots saved into specific files.  Often, however, a notebook will contain an entire suite of results contained in multiple different cells, and manually specifying these cells and their filenames is error-prone, with a high likelihood of accidentally creating multiple files with the same name or using different names in different notebooks for the same objects.\n",
    "\n",
    "To make the exporting process easier for large numbers of outputs, as well as more predictable, HoloViews also offers a powerful automatic notebook exporting facility, creating an archive of all your results.  Automatic export is very useful in the common case of having a notebook that contains a series of figures to be used in a report or publication, particularly if you are repeatedly re-running the notebook as you finalize your results, and want the full set of current outputs to be available to an external document preparation system."
   ]
  },
  {
   "cell_type": "markdown",
   "metadata": {},
   "source": [
    "### Adding files to an archive"
   ]
  },
  {
   "cell_type": "markdown",
   "metadata": {},
   "source": [
    "To turn on automatic adding of your files to the export archive, run ``holoviews.archive.auto()``:"
   ]
  },
  {
   "cell_type": "code",
   "execution_count": null,
   "metadata": {
    "collapsed": false
   },
   "outputs": [],
   "source": [
    "hv.archive.auto()"
   ]
  },
  {
   "cell_type": "markdown",
   "metadata": {},
   "source": [
    "This object's behavior can be customized extensively; try pressing shift-[tab] twice within the parentheses for a list of options, which are described more fully below.\n",
    "\n",
    "By default, the output will go into a directory with the same name as your notebook, and the names for each object will be generated from the groups and labels used by HoloViews.  Objects that contain HoloMaps are not exported by default, since those are usually rendered as animations that are not suitable for inclusion in publications, but you can add an argument ``holomap='gif'`` if you want those as well.  To see how the auto-exporting works, let's define a few HoloViews objects:"
   ]
  },
  {
   "cell_type": "code",
   "execution_count": null,
   "metadata": {
    "collapsed": false
   },
   "outputs": [],
   "source": [
    "parrot[:,:,'R'].relabel(\"Red\") + parrot[:,:,'G'].relabel(\"Green\") + parrot[:,:,'B'].relabel(\"Blue\")"
   ]
  },
  {
   "cell_type": "code",
   "execution_count": null,
   "metadata": {
    "collapsed": false
   },
   "outputs": [],
   "source": [
    "parrot * hv.Arrow(-0.1, 0.2, 'Polly', '>')"
   ]
  },
  {
   "cell_type": "code",
   "execution_count": null,
   "metadata": {
    "collapsed": false
   },
   "outputs": [],
   "source": [
    "%%opts Contours (linewidth=1.3) Image (cmap=\"gray\")\n",
    "cs = contours(parrot[:,:,'R'], levels=[0.10,0.80])\n",
    "cs"
   ]
  },
  {
   "cell_type": "markdown",
   "metadata": {},
   "source": [
    "We can now list what has been captured, along with the names that have been generated:"
   ]
  },
  {
   "cell_type": "code",
   "execution_count": null,
   "metadata": {
    "collapsed": false
   },
   "outputs": [],
   "source": [
    "hv.archive.contents()"
   ]
  },
  {
   "cell_type": "markdown",
   "metadata": {},
   "source": [
    "Here each object has resulted in two files, one in SVG format and one in Python \"pickle\" format.  We'll ignore the pickle files for now, focusing on the SVG images.\n",
    "\n",
    "The name generation code for these files is heavily customizable, but by default it consists of a list of dimension values and objects:\n",
    "\n",
    "  ``{dimension},{dimension},...{group}-{label},{group}-{label},...``.  \n",
    "\n",
    "The ``{dimension}`` shows what dimension values are included anywhere in this object, if it contains any high-level ``Dimensioned`` objects like ``HoloMap``, ``NdOverlay``, and ``GridLayout``.  In the last SVG image in the contents list above, which is for the ``contours`` object, there is one dimension ``Levels``, and the name shows that dimension values included in this object range from 0.1 to 0.8 (as is visible in the contours specification above.)  Of course, nearly all HoloViews objects have dimensions, such as ``x`` and ``y`` in this case, but those dimensions are not used in the filenames because they are explicitly shown in the plots; only the top-level dimensions are used (those that determine which plot this is, not those that are shown in the plot itself.)\n",
    "\n",
    "The ``{group}-{label}`` information lists the names HoloViews uses for default titles and for attribute access for the various objects that make up a given displayed object.  E.g. the first SVG image in the list is a ``Layout`` of the three given ``Image`` objects, and the second one is an ``Overlay`` of an ``RGB`` object and an ``Arrow`` object.  This information usually helps distinguish one plot from another, because they will typically be plots of objects that have different labels.  \n",
    "\n",
    "If the generated names are not unique, a numerical suffix will be added to make them unique.  A maximum filename length is enforced, which can be set with ``holoviews.archive.max_filename=``_num_.\n",
    "\n",
    "If you prefer a fixed-width filename, you can use a hash for each name instead (or in addition), where ``:.8`` specifies how many characters to keep from the hash:"
   ]
  },
  {
   "cell_type": "code",
   "execution_count": null,
   "metadata": {
    "collapsed": false
   },
   "outputs": [],
   "source": [
    "hv.archive.filename_formatter=\"{SHA:.8}\"\n",
    "cs"
   ]
  },
  {
   "cell_type": "code",
   "execution_count": null,
   "metadata": {
    "collapsed": false
   },
   "outputs": [],
   "source": [
    "hv.archive.contents()"
   ]
  },
  {
   "cell_type": "markdown",
   "metadata": {},
   "source": [
    "You can see that the newest files added have the shorter, fixed-width format, though the names are no longer meaningful.  If the ``filename_formatter`` had been set from the start, all filenames would have been of this type, which has both practical advantages and disadvantages."
   ]
  },
  {
   "cell_type": "markdown",
   "metadata": {},
   "source": [
    "### Generated indexes"
   ]
  },
  {
   "cell_type": "markdown",
   "metadata": {},
   "source": [
    "In addition to the files that were added to the archive for each of the cell outputs above, the archive exporter also adds an ``index.html`` file with a static copy of the notebook, with each cell labelled with the filename used to save it.  This HTML file acts as a definitive index to your results, showing how they were generated and where they were exported on disk.  \n",
    "\n",
    "The exporter will also add a cleared, runnable copy of the notebook ``index.ipynb`` (with output deleted), so that you can later regenerate all of the output, with changes if necessary.  \n",
    "\n",
    "The exported archive will thus be a complete set of your results, along with a record of how they were generated, plus a recipe for regenerating them  -- i.e., reproducible research!"
   ]
  },
  {
   "cell_type": "markdown",
   "metadata": {},
   "source": [
    "### Adding your own data to the archive"
   ]
  },
  {
   "cell_type": "markdown",
   "metadata": {},
   "source": [
    "Of course, your results may depend on a lot of external packages, libraries, code files, and so on, which will not automatically be included or listed in the exported archive.\n",
    "\n",
    "But the archive support is very general, and you can add any object to it that you want to be exported along with your output.  For instance, you can store arbitrary metadata of your choosing, such as version control information, here as a JSON-format text file: "
   ]
  },
  {
   "cell_type": "code",
   "execution_count": null,
   "metadata": {
    "collapsed": false
   },
   "outputs": [],
   "source": [
    "import json\n",
    "hv.archive.add(filename='metadata.json', \n",
    "               data=json.dumps({'repository':'git@github.com:ioam/holoviews.git',\n",
    "                                'commit':'437e8d69'}), info={'mime_type':'text/json'})"
   ]
  },
  {
   "cell_type": "markdown",
   "metadata": {},
   "source": [
    "The new file can now be seen in the contents listing:"
   ]
  },
  {
   "cell_type": "code",
   "execution_count": null,
   "metadata": {
    "collapsed": false
   },
   "outputs": [],
   "source": [
    "hv.archive.contents()"
   ]
  },
  {
   "cell_type": "markdown",
   "metadata": {},
   "source": [
    "In this way, you should be able to automatically generate output files, with customizable filenames, storing any data or metadata you like along with them so that you can keep track of all the important information for reproducing these results later."
   ]
  },
  {
   "cell_type": "markdown",
   "metadata": {},
   "source": [
    "### Controlling the behavior of ``holoviews.archive``"
   ]
  },
  {
   "cell_type": "markdown",
   "metadata": {},
   "source": [
    "The ``holoviews.archive`` object provides numerous parameters that can be changed.  You can e.g.:\n",
    "\n",
    "- output the whole directory to a single compressed ZIP or tar archive file (e.g. ``archive.set_param(pack=False, archive_format='zip')`` or ``archive_format='tar'``)\n",
    "\n",
    "- generate a new directory or archive every time the notebook is run (``archive.uniq_name=True``); otherwise the output directory is erased each time \n",
    "\n",
    "- choose your own name for the output directory or archive (e.g. ``archive.export_name=\"{timestamp}\"``)\n",
    "\n",
    "- change the format of the optional timestamp (e.g. to retain snapshots hourly, ``archive.set_param(export_name=\"{timestamp}\", timestamp_format=\"%Y_%m_%d-%H\")``)\n",
    "\n",
    "These options and any others listed above can all be set in the ``holoviews.archive.auto()`` call at the start, for convenience and to ensure that they apply to all of the files that are added."
   ]
  },
  {
   "cell_type": "markdown",
   "metadata": {},
   "source": [
    "### Writing the archive to disk"
   ]
  },
  {
   "cell_type": "markdown",
   "metadata": {},
   "source": [
    "To actually write the files you have stored in the archive to disk, you need to call ``export()`` after any cell that might contain computation-intensive code.  Usually it's best to do so as the last or nearly last cell in your notebook, though here we do it earlier because we want to show how to use the exported files."
   ]
  },
  {
   "cell_type": "code",
   "execution_count": null,
   "metadata": {
    "collapsed": false
   },
   "outputs": [],
   "source": [
    "hv.archive.export()"
   ]
  },
  {
   "cell_type": "markdown",
   "metadata": {},
   "source": [
    "Shortly after the ``export()`` command has been executed, the output should be available as a directory on disk, by default in the same directory as the notebook file, named with the name of the notebook:  "
   ]
  },
  {
   "cell_type": "code",
   "execution_count": null,
   "metadata": {
    "collapsed": false
   },
   "outputs": [],
   "source": [
    "import os\n",
    "os.getcwd()\n",
    "if os.path.exists(\"Exporting\"):\n",
    "    print(sorted(os.listdir(\"Exporting\")))"
   ]
  },
  {
   "cell_type": "markdown",
   "metadata": {},
   "source": [
    "For technical reasons to do with how the IPython Notebook interacts with JavaScript, if you use the IPython command ``Run all``, the holoviews.archive.export() command is not actually executed when the cell with that call is encountered during the run.  Instead, the ``export()`` is queued until after the final cell in the notebook has been executed.  This asynchronous execution has several awkward but not serious consequences:\n",
    "\n",
    "- It is not possible for the ``export()`` cell to show whether any errors were encountered during exporting, because these will not occur until after the notebook has completed processing.  To see any errors, you can run  ``holoviews.archive.last_export_status()`` separately, *after* the ``Run all`` has completed.  E.g. just press shift-[Enter] in the following cell, which will tell you whether the previous export was successful.\n",
    "\n",
    "- If you use ``Run all``, the directory listing ``os.listdir()`` above will show the results from the *previous* time this notebook was run, since it executes before the export.  Again, you can use shift-[Enter] to update the data once complete.\n",
    "\n",
    "- The ``Export name:`` in the output of ``holoviews.archive.export()`` will not always show the actual name of the directory or archive that will be created.  In particular, it may say ``{notebook}``, which when saving will actually expand to the name of your IPython Notebook."
   ]
  },
  {
   "cell_type": "code",
   "execution_count": null,
   "metadata": {
    "collapsed": false
   },
   "outputs": [],
   "source": [
    "hv.archive.last_export_status()"
   ]
  },
  {
   "cell_type": "markdown",
   "metadata": {},
   "source": [
    "### Accessing your saved data"
   ]
  },
  {
   "cell_type": "markdown",
   "metadata": {},
   "source": [
    "By default, HoloViews saves not only your rendered plots (PNG, SVG, etc.), but also the actual HoloViews objects that the plots visualize, which contain all your actual data.  The objects are stored in Python pickle files (``.pkl``), which are visible in the directory listings above but have been ignored until now.  The plots are what you need for writing a document, but the raw data is is a crucial record to keep as well.  For instance, you now can load in the HoloViews object, and manipulate it just as you could when it was originally defined.  E.g. we can re-load our ``Levels`` ``Overlay`` file, which has the contours overlaid on top of the image, and easily pull out the underlying ``Image`` object:"
   ]
  },
  {
   "cell_type": "code",
   "execution_count": null,
   "metadata": {
    "collapsed": false
   },
   "outputs": [],
   "source": [
    "import os\n",
    "from holoviews.core.io import Unpickler\n",
    "c, a = None,None\n",
    "path = \"Exporting/Levels_0.1-0.8,Overlay,Image,Level.hvz\"\n",
    "\n",
    "if os.path.isfile(path):\n",
    "    o = Unpickler.load(open(path,\"r\"))\n",
    "    c = o.Image\n",
    "print(repr(c))"
   ]
  },
  {
   "cell_type": "markdown",
   "metadata": {},
   "source": [
    "Given the ``Image``, you can also access the underlying array data, because HoloViews objects are simply containers for your data and associated metadata. This means that years from now, as long as you can still run HoloViews, you can now easily re-load and explore your data, plotting it entirely different ways or running different analyses, even if you no longer have any of the original code you used to generate the data.  All you need is HoloViews, which is permanently archived on GitHub and is fully open source and thus should always remain available.  Because the data is stored conveniently in the archive alongside the figure that was published, you can see immediately which file corresponds to the data underlying any given plot in your paper, and immediately start working with the data, rather than e.g. laboriously trying to reconstruct the data from a saved figure.\n",
    "\n",
    "If you do not want the pickle files, you can of course turn them off if you prefer, e.g. by changing ``holoviews.archive.auto()`` to:\n",
    "\n",
    "```python\n",
    "from holoviews import Store\n",
    "holoviews.archive.auto(exporters=[Store.PlotRenderer.instance(holomap=None)])\n",
    "```"
   ]
  },
  {
   "cell_type": "markdown",
   "metadata": {},
   "source": [
    "## Reproducible research"
   ]
  },
  {
   "cell_type": "markdown",
   "metadata": {},
   "source": [
    "The export options from HoloViews help you establish a feasible workflow for doing reproducible research: starting from interactive exploration, either export specific files with ``%%output``, or enable ``holoviews.archive.auto()``, which will store a copy of your notebook and its output ready for inclusion in a document but retaining the complete recipe for reproducing the results later.  \n",
    "\n",
    "HoloViews also works very well with the [Lancet](http://ioam.github.io/lancet) tool for exploring large parameter spaces, and Lancet provides an interface to HoloViews that makes Lancet output directly available for use in HoloViews.  Lancet, when used with IPython Notebook and HoloViews, makes it feasible to work with large numbers of computation-intensive processes that generate heterogeneous data that needs to be collated, analyzed, and visualized. For more background and a suggested workflow, see our [2013 paper on using Lancet](http://dx.doi.org/10.3389/fninf.2013.00044) with IPython Notebook, though that paper was written before the release of HoloViews and thus does not discuss how HoloViews helps in this process."
   ]
  }
 ],
 "metadata": {
  "kernelspec": {
   "display_name": "Python 2",
   "language": "python",
   "name": "python2"
  },
  "language_info": {
   "codemirror_mode": {
    "name": "ipython",
    "version": 2
   },
   "file_extension": ".py",
   "mimetype": "text/x-python",
   "name": "python",
   "nbconvert_exporter": "python",
   "pygments_lexer": "ipython2",
   "version": "2.7.10"
  }
 },
 "nbformat": 4,
 "nbformat_minor": 0
}
