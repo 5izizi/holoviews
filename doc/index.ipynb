{
 "metadata": {
  "name": "",
  "signature": "sha256:dcf48549b623ad9935fedb582474748327b8fd65e1d450c62310b8ff84872199"
 },
 "nbformat": 3,
 "nbformat_minor": 0,
 "worksheets": [
  {
   "cells": [
    {
     "cell_type": "heading",
     "level": 1,
     "metadata": {},
     "source": [
      "HoloViews"
     ]
    },
    {
     "cell_type": "markdown",
     "metadata": {},
     "source": [
      "**Composable, declarative data structures for building even complex visualizations easily.**"
     ]
    },
    {
     "cell_type": "heading",
     "level": 2,
     "metadata": {},
     "source": [
      "Introduction"
     ]
    },
    {
     "cell_type": "markdown",
     "metadata": {},
     "source": [
      "Holoviews is a [Python](http://python.org) library that makes\n",
      "analyzing and visualizing scientific or engineering data much simpler,\n",
      "more intuitive, and more reproducible.  Here is a simple example of loading a file and displaying it as an image with a histogram, a line marking the x axis, and the value of the data along that line:"
     ]
    },
    {
     "cell_type": "code",
     "collapsed": false,
     "input": [
      "from holoviews import *\n",
      "fractal = Image(np.load('mandelbrot.npy'))\n",
      "((fractal * HLine(y=0)).hist() + fractal.sample(y=0))"
     ],
     "language": "python",
     "metadata": {},
     "outputs": []
    },
    {
     "cell_type": "markdown",
     "metadata": {},
     "source": [
      "You can see that HoloViews can create even quite sophisticated visualizations with a minimum of specification beyond your data itself.  If you wrap your data in a HoloViews component and supply a small amount of metadata describing it, you can then display it immediately on its own or in combination with any other HoloViews object.  The plotting is done by the \n",
      "[Matplotlib](http://matplotlib.org) library, but none of the data structures depend on this plotting code, so that you can easily create, store, and manipulate your data objects as needed.  HoloViews objects support arbitrary combination, selection, slicing, sorting, sampling, and animation, to allow you to focus on whatever aspect of your data you wish, and the result will simply display itself without further coding. With Holoviews, you can see precisely what you are interested in exploring,\n",
      "without spending time on writing or maintaining plotting code.  \n",
      "\n",
      "Here you can see how even extremely complex relationships between data elements can be expressed very easily in HoloViews:"
     ]
    },
    {
     "cell_type": "code",
     "collapsed": false,
     "input": [
      "%%opts Points [scaling_factor=50] Contours (color='w')\n",
      "from holoviews.operation import threshold, contours\n",
      "dots, ys = np.linspace(-0.45,0.45,19), np.linspace(-0.3, 0.3, 21)\n",
      "\n",
      "data = {\n",
      "  y: (fractal * fractal.sample([(i,y) for i in dots]).to.points(['x','y'], 'z')\n",
      "   + fractal.sample(y=y)\n",
      "   + threshold(fractal,  level=np.percentile(fractal.sample(y=y).data, 90))\n",
      "   + contours(fractal, levels=[np.percentile(fractal.sample(y=y).data, 50)]))\n",
      "     for y in ys }\n",
      "\n",
      "Layout.collate(data, key_dimensions=['Y']).cols(2)"
     ],
     "language": "python",
     "metadata": {},
     "outputs": []
    },
    {
     "cell_type": "markdown",
     "metadata": {},
     "source": [
      "In this plot, the same data is shown with a set of dots overlaid, with sizes proportional to the underlying data, alongside a curve plot of the values along that cross section, and with threshold and contour plots whose levels are set as a function of the 90th or 50th percentile of the values along the cross section (which can be moved with the slider bar).  Even quite elaborate relationships like these can be expressed succinctly and naturally, in a way that can be adapted easily to a new analysis task. \n",
      "\n",
      "This functionality is designed to complement the [IPython Notebook](http://ipython.org/notebook/) interface.  As shown in the [Tutorials](Tutorials/), the notebook allows you to interleave code, output, and graphics easily.  With HoloViews, you can just put a minimum of code in the notebook (typically one or two lines per subfigure), specifying what you would like to see rather than the details of how it should be plotted.  This makes the IPython Notebook a practical solution for both exploratory research (since viewing nearly any chunk of data just takes a line or two of code) and for long-term reproducibility of the work (because both the code and the resulting figure are preserved in the notebook file forever).  See the [Tutorials](Tutorials/) for detailed examples, and then start enjoying working with your data!"
     ]
    }
   ],
   "metadata": {}
  }
 ]
}