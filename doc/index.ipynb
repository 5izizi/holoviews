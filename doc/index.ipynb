{
 "metadata": {
  "name": "",
  "signature": "sha256:797a0b213088b37b8dbbb95cdb26b4b740b4201aa5ee009670a78d8d85734d27"
 },
 "nbformat": 3,
 "nbformat_minor": 0,
 "worksheets": [
  {
   "cells": [
    {
     "cell_type": "heading",
     "level": 1,
     "metadata": {},
     "source": [
      "HoloViews"
     ]
    },
    {
     "cell_type": "markdown",
     "metadata": {},
     "source": [
      "**Composable, declarative data structures for building even complex visualizations easily.**"
     ]
    },
    {
     "cell_type": "heading",
     "level": 2,
     "metadata": {},
     "source": [
      "Introduction"
     ]
    },
    {
     "cell_type": "markdown",
     "metadata": {},
     "source": [
      "Holoviews is a [Python](http://python.org) library that makes\n",
      "analyzing and visualizing scientific or engineering data much simpler,\n",
      "more intuitive, and more reproducible.  Holoviews is based on\n",
      "[Matplotlib](http://matplotlib.org) and [IPython Notebook](http://ipython.org/notebook.html), making the combination of these two packages vastly more usable and powerful.\n"
     ]
    },
    {
     "cell_type": "code",
     "collapsed": false,
     "input": [
      "%%opts Image (cmap='hot')\n",
      "from holoviews import *\n",
      "fractal = Image(np.load('mandelbrot.npy'))\n",
      "((fractal * HLine(y=0)).hist(0) + fractal.sample(y=0))"
     ],
     "language": "python",
     "metadata": {},
     "outputs": []
    },
    {
     "cell_type": "markdown",
     "metadata": {},
     "source": [
      "First, Holoviews provides a set of completely general sparse\n",
      "hierarchical data structures for incrementally collecting results,\n",
      "images, etc. from measurements or simulations.  It then defines a set\n",
      "of Matplotlib-based visualizations for any data\n",
      "available in that data structure. The data can be sliced, selected,\n",
      "combined, re-sorted, sampled, etc. very easily, and whatever you come\n",
      "up with will just display itself with no further work from you.  For\n",
      "instance, if what you have selected turns out to be a 2D array, it\n",
      "will display as an image, but if it is 3D or 4D, it would be an\n",
      "animation (automatically), and if you then sliced the 2D array along\n",
      "the x axis you'd get a line plot (since you've reduced 2D to 1D).\n",
      "I.e., the data just displays itself, in whatever form it is.\n",
      "These visualizations can then easily be customized for specific\n",
      "purposes, and can be grouped into any\n",
      "combination to create even complex visualizations with ease.  With\n",
      "Holoviews, you can see precisely what you are interested in exploring,\n",
      "without spending time on writing or maintaining plotting code.  Check out\n",
      "how it works in our [Tutorials](https://ioam.github.io/holoviews/Tutorials/index.html)!"
     ]
    },
    {
     "cell_type": "code",
     "collapsed": false,
     "input": [
      "%%opts Matrix (cmap='hot') Points [scaling_factor=50] Contours (color='w')\n",
      "from holoviews.operation import threshold, contours\n",
      "dots, ys = np.linspace(-0.45,0.45,19), np.linspace(-0.3, 0.3, 21)\n",
      "\n",
      "data = {\n",
      "  y: (fractal * fractal.sample([(i,y) for i in dots]).to.points(['x','y'], 'z')\n",
      "   + fractal.sample(y=y)\n",
      "   + threshold(fractal, level=np.percentile(fractal.sample(y=y).data, 90))\n",
      "   + contours(fractal, levels=[np.percentile(fractal.sample(y=y).data, 50)]))\n",
      "     for y in ys }\n",
      "\n",
      "Layout.collate(data, key_dimensions=['Y']).cols(2)"
     ],
     "language": "python",
     "metadata": {},
     "outputs": []
    },
    {
     "cell_type": "markdown",
     "metadata": {},
     "source": [
      "Although this functionality can be utilized without IPython Notebook,\n",
      "it is most powerful when combined with the notebook interface.  As\n",
      "shown in the [Tutorials](https://ioam.github.io/holoviews/Tutorials/index.html), the notebook allows you to interleave code,\n",
      "output, and graphics easily.  With holoviews, you can just put a\n",
      "minimum of code in the notebook (typically one or two lines per\n",
      "visualization), specifying what you would like to see rather than the\n",
      "details of how it should be plotted.  This makes the IPython Notebook\n",
      "a practical solution for both exploratory research (since viewing\n",
      "nearly anything just takes a line or two of code) and for long-term\n",
      "reproducibility of the work (because both the line or two of code and\n",
      "the resulting figure are preserved in the notebook file forever).\n",
      "\n",
      "Without Holoviews, notebooks can become filled with long and detailed\n",
      "listings of Matplotlib-based code, which obscures the meaning of what\n",
      "is being plotted and makes it much harder to explore the results.\n",
      "This code is also locked into very specific types of visualizations,\n",
      "which again make it harder to explore different aspects of the\n",
      "results.  With Holoviews, nearly everything is very easily\n",
      "visualizable as-is, with customization needed only when you want to\n",
      "change specific aspects of each figure.  See the [Tutorials](https://ioam.github.io/holoviews/Tutorials/index.html) for\n",
      "detailed examples, and then start enjoying working with your data!"
     ]
    },
    {
     "cell_type": "heading",
     "level": 2,
     "metadata": {},
     "source": [
      "Installation"
     ]
    },
    {
     "cell_type": "markdown",
     "metadata": {},
     "source": [
      "holoviews requires [Param](http://ioam.github.com/param/) and\n",
      "[Matplotlib](http://http://matplotlib.org/), and is designed to work\n",
      "with [IPython Notebook](http://ipython.org/notebook/).  Most\n",
      "scientists and engineers using Python will already have Matplotlib\n",
      "installed, and Param has no dependencies apart from the Python\n",
      "standard library, and so Holoviews should be very straightforward to\n",
      "add to any project.\n",
      "\n",
      "Param, Matplotlib, and IPython Notebook can be installed using your\n",
      "operating system's package manager, or by using pip:\n",
      "\n",
      "``\n",
      "  pip install matplotlib ipython[notebook]\n",
      "  pip install --user https://github.com/ioam/param/archive/master.zip\n",
      "``\n",
      "\n",
      "You can then obtain the latest version of holoviews by cloning the git\n",
      "repository:\n",
      "\n",
      "``\n",
      "  git clone git://github.com/ioam/holoviews.git\n",
      "``\n",
      "\n",
      "\n",
      "<div style=\"float:left;margin:0 10px 10px 0\" markdown=\"1\">\n",
      "<br>\n",
      "  [![alt text][2]][1]\n",
      "</div>\n",
      "\n",
      "[1]: https://travis-ci.org/ioam/holoviews\n",
      "[2]: https://travis-ci.org/ioam/holoviews.svg?branch=master (Build Status)\n",
      "\n",
      "\n",
      "\n",
      "  "
     ]
    },
    {
     "cell_type": "heading",
     "level": 2,
     "metadata": {},
     "source": [
      "Contributors"
     ]
    },
    {
     "cell_type": "markdown",
     "metadata": {},
     "source": [
      "HoloViews was developed by [Jean-Luc R. Stevens](https://github.com/jlstevens)\n",
      "and [Philipp Rudiger](https://github.com/philippjfr), in collaboration with [James A. Bednar](https://github.com/jbednar).\n",
      "\n",
      "HoloViews is completely open source, available under a BSD license\n",
      "freely for both commercial and non-commercial use.  Contributions from\n",
      "users are welcome and encouraged.  In particular, HoloViews components\n",
      "can be combined in an infinite number of ways, and so it is impossible\n",
      "for us to test all conceivable combinations.  Thus we welcome bug\n",
      "reports, particularly if they come with pull requests showing how to\n",
      "fix the bug!\n",
      ".. _Tutorials: Tutorials/\n"
     ]
    }
   ],
   "metadata": {}
  }
 ]
}