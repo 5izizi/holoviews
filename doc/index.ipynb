{
 "metadata": {
  "name": "",
  "signature": "sha256:2bb296e2120a5f6a4c1263c88bb9d5c10ab71c79ad8f96203b27f63b3e1a78ab"
 },
 "nbformat": 3,
 "nbformat_minor": 0,
 "worksheets": [
  {
   "cells": [
    {
     "cell_type": "heading",
     "level": 2,
     "metadata": {},
     "source": [
      "Homepage"
     ]
    },
    {
     "cell_type": "code",
     "collapsed": false,
     "input": [
      "%load_ext holoviews.ipython"
     ],
     "language": "python",
     "metadata": {},
     "outputs": []
    },
    {
     "cell_type": "code",
     "collapsed": false,
     "input": [
      "from holoviews import *\n",
      "import numpy\n",
      "%view holomap='webm'"
     ],
     "language": "python",
     "metadata": {},
     "outputs": []
    },
    {
     "cell_type": "code",
     "collapsed": false,
     "input": [
      "%%opts Image (cmap='hot')\n",
      "from holoviews import *\n",
      "fractal = Image(numpy.load('mandlebrot.npy'))\n",
      "((fractal * HLine(0)).hist(0) + fractal.sample(y=0))  # Add side histogram"
     ],
     "language": "python",
     "metadata": {},
     "outputs": []
    },
    {
     "cell_type": "code",
     "collapsed": false,
     "input": [
      "%%opts Matrix (cmap='hot') Points [scaling_factor=50] Contours (color='w')\n",
      "from holoviews.operation import threshold, contours\n",
      "dots = numpy.linspace(-0.45,0.45,19)\n",
      "y_positions = numpy.linspace(-0.3, 0.3, 21)\n",
      "\n",
      "data = {yp: (fractal * fractal.sample([(i,yp) for i in dots]).to.points(['x','y'], 'Data')\n",
      "             + fractal.sample(y=yp)\n",
      "             + threshold(fractal,  level=np.percentile(fractal.sample(y=yp).data, 90))\n",
      "             + contours(fractal, levels=[np.percentile(fractal.sample(y=yp).data, 50)]))\n",
      "        for yp in y_positions}\n",
      "\n",
      "Layout.collate(data, key_dimensions=['YPosition']).cols(2).display('all')"
     ],
     "language": "python",
     "metadata": {},
     "outputs": []
    }
   ],
   "metadata": {}
  }
 ]
}