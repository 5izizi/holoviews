{
 "metadata": {
  "name": "",
  "signature": "sha256:74591bd536cf83fa41558bcc8ec30524e6df1bf272c89868bf0e2e2af5e48384"
 },
 "nbformat": 3,
 "nbformat_minor": 0,
 "worksheets": [
  {
   "cells": [
    {
     "cell_type": "markdown",
     "metadata": {},
     "source": [
      "Holoviews is a [Python](http://python.org) library that makes analyzing and visualizing scientific or engineering data much simpler, more intuitive, and more reproducible.  For instance, if you have a two-dimensional dataset like the fractal below, you might want to view it, its histogram, and the value along a horizontal cross section.  It only takes one line of HoloViews code to add a line annotation, generate the histogram, and display the result alongside the cross section:"
     ]
    },
    {
     "cell_type": "code",
     "collapsed": false,
     "input": [
      "from holoviews import *\n",
      "fractal = Image(np.load('mandelbrot.npy'))\n",
      "((fractal * HLine(y=0)).hist() + fractal.sample(y=0))"
     ],
     "language": "python",
     "metadata": {},
     "outputs": []
    },
    {
     "cell_type": "markdown",
     "metadata": {},
     "source": [
      "To use HoloViews, you first wrap your data in a HoloViews component along with optional metadata describing it.  It will then display itself automatically on its own or in combination with any other HoloViews component.  The separate [Matplotlib](http://matplotlib.org) library does the plotting, but none of the data structures depend on the plotting code, so that you can easily create, save, load, and manipulate HoloViews objects from within your own programs.  HoloViews objects support arbitrary combination, selection, slicing, sorting, sampling, and animation, to allow you to focus on whatever aspect of your data you wish. Instead of writing or maintaining complex plotting code, just declare what data you want to see, and Holoviews will handle the rest.\n",
      "\n",
      "Even extremely complex relationships between data elements can be expressed succinctly in HoloViews:"
     ]
    },
    {
     "cell_type": "code",
     "collapsed": false,
     "input": [
      "%%opts Points [scaling_factor=50] Contours (color='w')\n",
      "dots = np.linspace(-0.45, 0.45, 19)\n",
      "\n",
      "d={y: (fractal * fractal.sample([(i,y) for i in dots]).to.points(['x','y'], 'z') +\n",
      "       fractal.sample(y=y) +\n",
      "       operation.threshold(fractal,  level=np.percentile(fractal.sample(y=y).data, 90)) +\n",
      "       operation.contours(fractal, levels=[np.percentile(fractal.sample(y=y).data, 60)]))\n",
      "     for y in np.linspace(-0.3, 0.3, 21)}\n",
      "\n",
      "Layout.collate(d, key_dimensions=['Y']).cols(2)"
     ],
     "language": "python",
     "metadata": {},
     "outputs": []
    },
    {
     "cell_type": "markdown",
     "metadata": {},
     "source": [
      "Here we have taken the same fractal data and indicated a horizontal cross section using a set of dots with sizes proportional to the underlying data values, illustrating how even a simple annotation can be used to reflect other data of interest.  We then add a cross section curve, a thresholded version of the data, and a version of the data with a contour outline overlaid.  Here the threshold and contour levels are not fixed, but are calculated as the 90th or 60th percentile of the data values along that cross section.  All of this data is then packaged into a single data structure for a range of cross sections, allowing the data for a particular cross section to be revealed by moving the y-value slider at right.  As you can see, even quite elaborate relationships like these can be expressed naturally, in a general way that can be adapted easily to a new analysis task. \n",
      "\n",
      "This functionality is designed to complement the [IPython Notebook](http://ipython.org/notebook/) interface.  This web page and all the [HoloViews Tutorials](Tutorials/) are runnable notebooks, which allow you to interleave text, Python code, and graphical results easily.  With HoloViews, you can just put a minimum of code in the notebook (typically one or two lines per subfigure), specifying what you would like to see rather than the details of how it should be plotted.  HoloViews makes the IPython Notebook a practical solution for both exploratory research (since viewing nearly any chunk of data just takes a line or two of code) and for long-term reproducibility of the work (because both the code and the resulting figure are preserved in the notebook file forever).  See the [Tutorials](Tutorials/) for detailed examples, and then start enjoying working with your data!"
     ]
    }
   ],
   "metadata": {}
  }
 ]
}